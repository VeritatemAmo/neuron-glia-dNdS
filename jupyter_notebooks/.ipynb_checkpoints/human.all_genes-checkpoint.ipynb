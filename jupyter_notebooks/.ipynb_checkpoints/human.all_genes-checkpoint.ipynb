{
 "cells": [
  {
   "cell_type": "code",
   "execution_count": 1,
   "metadata": {},
   "outputs": [],
   "source": [
    "import numpy as np\n",
    "import pandas as pd\n",
    "import glob\n",
    "from IPython.core.interactiveshell import InteractiveShell\n",
    "InteractiveShell.ast_node_interactivity = \"all\"\n",
    "pd.set_option('display.max_rows', 10)"
   ]
  },
  {
   "cell_type": "markdown",
   "metadata": {},
   "source": [
    "# Average dN/dS"
   ]
  },
  {
   "cell_type": "code",
   "execution_count": 2,
   "metadata": {},
   "outputs": [],
   "source": [
    "# Define a function for calculating dN/dS when both dN and dS is zero. \n",
    "def weird_division(df):\n",
    "    if df[5]==0 and df[6]==0:\n",
    "        return 0\n",
    "    elif df[5]==0:\n",
    "        return 0\n",
    "    elif df[6]==0:\n",
    "        return np.NaN\n",
    "    return df[5] / df[6]"
   ]
  },
  {
   "cell_type": "markdown",
   "metadata": {},
   "source": [
    "Import ortholog information, including dN and dS, which was downloaded from Ensembl 98. "
   ]
  },
  {
   "cell_type": "code",
   "execution_count": 3,
   "metadata": {},
   "outputs": [],
   "source": [
    "df_list = []\n",
    "for file in sorted(glob.glob('../results/Ensembl98_human/human_protein_coding_genes.*.txt')):\n",
    "    species_code_name = (file[29:-4])\n",
    "    # print(species_code_name)\n",
    "    df = pd.read_csv(file, sep='\\t', header=None, na_values=('ortholog_one2many', 'ortholog_many2many') ,index_col=0)\n",
    "    df = pd.DataFrame(df.dropna().drop_duplicates().apply(weird_division, axis=1),columns=[species_code_name+'_dNdS'])\n",
    "    df_list.append(df.dropna().drop_duplicates())"
   ]
  },
  {
   "cell_type": "code",
   "execution_count": 4,
   "metadata": {},
   "outputs": [],
   "source": [
    "# information of all human protein coding genes, which was downloaded from Ensembl98 \n",
    "info_df = pd.read_csv('../data/info.human_protein_coding_genes.tsv',sep='\\t',header=0,index_col=0)"
   ]
  },
  {
   "cell_type": "code",
   "execution_count": 5,
   "metadata": {},
   "outputs": [],
   "source": [
    "info_df.drop_duplicates(subset='Gene name',inplace=True) # Drop the duplicated gene names"
   ]
  },
  {
   "cell_type": "markdown",
   "metadata": {},
   "source": [
    "Now merge each of the mammalian species' dN/dS values against human onto the information of human protein-coding genes. "
   ]
  },
  {
   "cell_type": "code",
   "execution_count": 7,
   "metadata": {},
   "outputs": [],
   "source": [
    "integrate_df = info_df.copy(deep=True)\n",
    "for df in df_list:\n",
    "    integrate_df = pd.merge(integrate_df,df, left_index=True, right_index=True, how='left')\n",
    "integrate_df = integrate_df.iloc[:,2:].dropna(how='all') # delete genes with no dN/dS scores #Feb 1 2020 bug fix\n",
    "integrate_df = pd.merge(info_df,integrate_df,left_index=True,right_index=True,how='right')"
   ]
  },
  {
   "cell_type": "markdown",
   "metadata": {},
   "source": [
    "Calculate the statistics of each human protein-coding gene."
   ]
  },
  {
   "cell_type": "code",
   "execution_count": 8,
   "metadata": {},
   "outputs": [],
   "source": [
    "stats_df = integrate_df.iloc[:,2:].apply(pd.DataFrame.describe, axis=1)"
   ]
  },
  {
   "cell_type": "markdown",
   "metadata": {},
   "source": [
    "Save the tables. "
   ]
  },
  {
   "cell_type": "code",
   "execution_count": 10,
   "metadata": {},
   "outputs": [],
   "source": [
    "integrate_df.to_csv('../results/Ensembl98_human/human.92_species_dNdS.all_genes.tsv',sep='\\t')"
   ]
  },
  {
   "cell_type": "code",
   "execution_count": 11,
   "metadata": {},
   "outputs": [],
   "source": [
    "stats_df.to_csv('../results/Ensembl98_human/human.dNdS_stats.all_genes.tsv',sep='\\t')"
   ]
  },
  {
   "cell_type": "markdown",
   "metadata": {},
   "source": [
    "# Statistics"
   ]
  },
  {
   "cell_type": "code",
   "execution_count": 14,
   "metadata": {},
   "outputs": [],
   "source": [
    "import heapq\n",
    "import scipy.stats as stats"
   ]
  },
  {
   "cell_type": "code",
   "execution_count": 16,
   "metadata": {},
   "outputs": [],
   "source": [
    "arr = stats_df['mean'].dropna().values"
   ]
  },
  {
   "cell_type": "markdown",
   "metadata": {},
   "source": [
    "Calculate the confidence interval of the median dN/dS score"
   ]
  },
  {
   "cell_type": "code",
   "execution_count": 17,
   "metadata": {},
   "outputs": [],
   "source": [
    "low = stats.binom.interval(alpha=.95,n=arr.shape[0],p=.5)[0]\n",
    "high = stats.binom.interval(alpha=.95,n=arr.shape[0],p=.5)[1]\n",
    "CI_low = heapq.nsmallest(low.astype(int),arr)[-1]\n",
    "CI_high = heapq.nsmallest(high.astype(int),arr)[-1]"
   ]
  },
  {
   "cell_type": "code",
   "execution_count": 18,
   "metadata": {},
   "outputs": [
    {
     "data": {
      "text/plain": [
       "0.15518286287639288"
      ]
     },
     "execution_count": 18,
     "metadata": {},
     "output_type": "execute_result"
    }
   ],
   "source": [
    "CI_low #lower bound of confidence interval "
   ]
  },
  {
   "cell_type": "code",
   "execution_count": 19,
   "metadata": {},
   "outputs": [
    {
     "data": {
      "text/plain": [
       "0.1600582979928002"
      ]
     },
     "execution_count": 19,
     "metadata": {},
     "output_type": "execute_result"
    }
   ],
   "source": [
    "CI_high #higher bound of confidence interval"
   ]
  },
  {
   "cell_type": "code",
   "execution_count": 20,
   "metadata": {},
   "outputs": [
    {
     "data": {
      "text/plain": [
       "(17866,)"
      ]
     },
     "execution_count": 20,
     "metadata": {},
     "output_type": "execute_result"
    }
   ],
   "source": [
    "arr.shape #number of protein-coding genes with at least one species with valid dN/dS against human"
   ]
  },
  {
   "cell_type": "code",
   "execution_count": 22,
   "metadata": {},
   "outputs": [
    {
     "data": {
      "text/plain": [
       "0.15763431379873702"
      ]
     },
     "execution_count": 22,
     "metadata": {},
     "output_type": "execute_result"
    }
   ],
   "source": [
    "stats_df['mean'].median() # median of all human protein coding genes' average mammalian dN/dS"
   ]
  },
  {
   "cell_type": "markdown",
   "metadata": {},
   "source": [
    "# Plotting"
   ]
  },
  {
   "cell_type": "code",
   "execution_count": 23,
   "metadata": {},
   "outputs": [],
   "source": [
    "import matplotlib\n",
    "import matplotlib.pyplot as plt\n",
    "import statsmodels.api as sm\n",
    "import seaborn as sns"
   ]
  },
  {
   "cell_type": "code",
   "execution_count": 24,
   "metadata": {},
   "outputs": [],
   "source": [
    "matplotlib.rcParams['figure.dpi']= 300 #make high quality figure"
   ]
  },
  {
   "cell_type": "code",
   "execution_count": 25,
   "metadata": {},
   "outputs": [
    {
     "data": {
      "text/plain": [
       "Text(0.5, 0.98, 'Distribution of dN/dS of All Human Protein-coding Genes')"
      ]
     },
     "execution_count": 25,
     "metadata": {},
     "output_type": "execute_result"
    },
    {
     "data": {
      "text/plain": [
       "[<matplotlib.lines.Line2D at 0x1288e5490>]"
      ]
     },
     "execution_count": 25,
     "metadata": {},
     "output_type": "execute_result"
    },
    {
     "data": {
      "text/plain": [
       "Text(0.5, 0, 'dN/dS')"
      ]
     },
     "execution_count": 25,
     "metadata": {},
     "output_type": "execute_result"
    },
    {
     "data": {
      "text/plain": [
       "Text(0, 0.5, 'number of genes')"
      ]
     },
     "execution_count": 25,
     "metadata": {},
     "output_type": "execute_result"
    },
    {
     "data": {
      "text/plain": [
       "<matplotlib.legend.Legend at 0x12922d390>"
      ]
     },
     "execution_count": 25,
     "metadata": {},
     "output_type": "execute_result"
    },
    {
     "name": "stderr",
     "output_type": "stream",
     "text": [
      "The PostScript backend does not support transparency; partially transparent artists will be rendered opaque.\n",
      "The PostScript backend does not support transparency; partially transparent artists will be rendered opaque.\n",
      "The PostScript backend does not support transparency; partially transparent artists will be rendered opaque.\n",
      "The PostScript backend does not support transparency; partially transparent artists will be rendered opaque.\n"
     ]
    }
   ],
   "source": [
    "# Creating a figure \n",
    "fig = plt.figure(figsize=(10,7.5)) # Size of a letter size paper in horizontal\n",
    "fig.suptitle('Distribution of dN/dS of All Human Protein-coding Genes', fontsize=14)\n",
    "\n",
    "# Setting subplot space\n",
    "grid = plt.GridSpec(nrows=1,ncols=1)\n",
    "\n",
    "# The subplot for distribution histogram \n",
    "distr_plot = fig.add_subplot(grid[:,:])\n",
    "\n",
    "# Set up the bins for log scale x-axis, and get the centers\n",
    "bins=np.logspace(np.log10(0.001),np.log10(10), 100)\n",
    "bins_cntr = (bins[1:] + bins[:-1]) / 2\n",
    "\n",
    "# Distribution Histograms\n",
    "counts, bin_edges, ignored = distr_plot.hist(arr, bins, histtype='stepfilled', alpha=0.3, \n",
    "                                           label='dN/dS of protein-coding genes (med={0:.3f})'.format(np.median(arr)))\n",
    "# Log-normal Curve for Late Development Genes\n",
    "try:\n",
    "    # calculate area of histograms (area under PDF should be 1)\n",
    "    area_hist = ((bin_edges[1:] - bin_edges[:-1]) * counts).sum()\n",
    "    shape, loc, scale = stats.lognorm.fit(arr)\n",
    "    # pdf-values using cdf \n",
    "    fit_log_cntr_ = stats.lognorm.cdf(bins, shape, loc=loc, scale=scale)\n",
    "    fit_log_cntr = np.diff(fit_log_cntr_)\n",
    "    # plot fitted and scaled PDFs into histogram\n",
    "    distr_plot.plot(bins_cntr, fit_log_cntr * counts.sum(),'b-', \n",
    "                    label='lognormal fit of dN/dS distribution', linewidth=2)\n",
    "except ValueError:\n",
    "    pass\n",
    "\n",
    "# Axis labels\n",
    "distr_plot.set_xlabel(xlabel='dN/dS')\n",
    "distr_plot.set_ylabel(ylabel='number of genes')\n",
    "distr_plot.set_xscale('log')\n",
    "distr_plot.legend(loc='best')\n",
    "\n",
    "fig.savefig('../figures/human.all_genes.pdf')\n",
    "fig.savefig('../figures/human.all_genes.eps')\n",
    "fig.savefig('../figures/human.all_genes.png')\n",
    "plt.close()"
   ]
  }
 ],
 "metadata": {
  "kernelspec": {
   "display_name": "Python 3",
   "language": "python",
   "name": "python3"
  },
  "language_info": {
   "codemirror_mode": {
    "name": "ipython",
    "version": 3
   },
   "file_extension": ".py",
   "mimetype": "text/x-python",
   "name": "python",
   "nbconvert_exporter": "python",
   "pygments_lexer": "ipython3",
   "version": "3.7.4"
  }
 },
 "nbformat": 4,
 "nbformat_minor": 2
}
