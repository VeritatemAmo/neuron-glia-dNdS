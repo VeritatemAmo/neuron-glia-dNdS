{
 "cells": [
  {
   "cell_type": "markdown",
   "metadata": {},
   "source": [
    "This script is to determine celltype-specific genes solely based on Barres mouse expression data. "
   ]
  },
  {
   "cell_type": "code",
   "execution_count": 1,
   "metadata": {},
   "outputs": [],
   "source": [
    "import numpy as np\n",
    "import pandas as pd\n",
    "import glob"
   ]
  },
  {
   "cell_type": "code",
   "execution_count": 2,
   "metadata": {},
   "outputs": [],
   "source": [
    "from IPython.core.interactiveshell import InteractiveShell\n",
    "InteractiveShell.ast_node_interactivity = \"all\""
   ]
  },
  {
   "cell_type": "code",
   "execution_count": 3,
   "metadata": {},
   "outputs": [],
   "source": [
    "pd.set_option('display.max_rows', 10)"
   ]
  },
  {
   "cell_type": "code",
   "execution_count": 6,
   "metadata": {},
   "outputs": [],
   "source": [
    "# Import expression level data\n",
    "raw_df=pd.read_csv('../results/mouse.celltype-expression.tsv',sep='\\t',index_col='Gene symbol')"
   ]
  },
  {
   "cell_type": "code",
   "execution_count": 7,
   "metadata": {},
   "outputs": [
    {
     "data": {
      "text/html": [
       "<div>\n",
       "<style scoped>\n",
       "    .dataframe tbody tr th:only-of-type {\n",
       "        vertical-align: middle;\n",
       "    }\n",
       "\n",
       "    .dataframe tbody tr th {\n",
       "        vertical-align: top;\n",
       "    }\n",
       "\n",
       "    .dataframe thead th {\n",
       "        text-align: right;\n",
       "    }\n",
       "</style>\n",
       "<table border=\"1\" class=\"dataframe\">\n",
       "  <thead>\n",
       "    <tr style=\"text-align: right;\">\n",
       "      <th></th>\n",
       "      <th>Neuron</th>\n",
       "      <th>Endothelial Cells</th>\n",
       "      <th>Oligodendrocyte</th>\n",
       "      <th>Astrocytes</th>\n",
       "      <th>Microglia</th>\n",
       "      <th>Glial Cells</th>\n",
       "    </tr>\n",
       "    <tr>\n",
       "      <th>Gene symbol</th>\n",
       "      <th></th>\n",
       "      <th></th>\n",
       "      <th></th>\n",
       "      <th></th>\n",
       "      <th></th>\n",
       "      <th></th>\n",
       "    </tr>\n",
       "  </thead>\n",
       "  <tbody>\n",
       "    <tr>\n",
       "      <td>0610005C13Rik</td>\n",
       "      <td>0.100000</td>\n",
       "      <td>0.100000</td>\n",
       "      <td>0.100000</td>\n",
       "      <td>0.150958</td>\n",
       "      <td>0.100000</td>\n",
       "      <td>0.116986</td>\n",
       "    </tr>\n",
       "    <tr>\n",
       "      <td>0610007C21Rik</td>\n",
       "      <td>34.185493</td>\n",
       "      <td>63.561108</td>\n",
       "      <td>61.071109</td>\n",
       "      <td>44.891260</td>\n",
       "      <td>89.145033</td>\n",
       "      <td>65.035801</td>\n",
       "    </tr>\n",
       "    <tr>\n",
       "      <td>0610007L01Rik</td>\n",
       "      <td>12.028727</td>\n",
       "      <td>13.521373</td>\n",
       "      <td>11.161263</td>\n",
       "      <td>11.015039</td>\n",
       "      <td>18.462418</td>\n",
       "      <td>13.546240</td>\n",
       "    </tr>\n",
       "    <tr>\n",
       "      <td>0610007P08Rik</td>\n",
       "      <td>2.020408</td>\n",
       "      <td>4.693264</td>\n",
       "      <td>4.455001</td>\n",
       "      <td>7.144110</td>\n",
       "      <td>0.446900</td>\n",
       "      <td>4.015337</td>\n",
       "    </tr>\n",
       "    <tr>\n",
       "      <td>0610007P14Rik</td>\n",
       "      <td>24.370482</td>\n",
       "      <td>10.569456</td>\n",
       "      <td>62.335636</td>\n",
       "      <td>48.935667</td>\n",
       "      <td>10.411304</td>\n",
       "      <td>40.560869</td>\n",
       "    </tr>\n",
       "    <tr>\n",
       "      <td>...</td>\n",
       "      <td>...</td>\n",
       "      <td>...</td>\n",
       "      <td>...</td>\n",
       "      <td>...</td>\n",
       "      <td>...</td>\n",
       "      <td>...</td>\n",
       "    </tr>\n",
       "    <tr>\n",
       "      <td>Zyg11a</td>\n",
       "      <td>0.100000</td>\n",
       "      <td>0.100000</td>\n",
       "      <td>0.100000</td>\n",
       "      <td>0.100000</td>\n",
       "      <td>0.100000</td>\n",
       "      <td>0.100000</td>\n",
       "    </tr>\n",
       "    <tr>\n",
       "      <td>Zyg11b</td>\n",
       "      <td>14.748427</td>\n",
       "      <td>7.883384</td>\n",
       "      <td>5.880200</td>\n",
       "      <td>7.196140</td>\n",
       "      <td>2.513958</td>\n",
       "      <td>5.196766</td>\n",
       "    </tr>\n",
       "    <tr>\n",
       "      <td>Zyx</td>\n",
       "      <td>12.732355</td>\n",
       "      <td>35.416643</td>\n",
       "      <td>17.037024</td>\n",
       "      <td>12.443373</td>\n",
       "      <td>74.185894</td>\n",
       "      <td>34.555430</td>\n",
       "    </tr>\n",
       "    <tr>\n",
       "      <td>Zzef1</td>\n",
       "      <td>4.842996</td>\n",
       "      <td>4.443834</td>\n",
       "      <td>4.460314</td>\n",
       "      <td>9.346479</td>\n",
       "      <td>2.433903</td>\n",
       "      <td>5.413566</td>\n",
       "    </tr>\n",
       "    <tr>\n",
       "      <td>Zzz3</td>\n",
       "      <td>5.624916</td>\n",
       "      <td>7.543416</td>\n",
       "      <td>6.111705</td>\n",
       "      <td>7.886449</td>\n",
       "      <td>1.621927</td>\n",
       "      <td>5.206694</td>\n",
       "    </tr>\n",
       "  </tbody>\n",
       "</table>\n",
       "<p>22458 rows × 6 columns</p>\n",
       "</div>"
      ],
      "text/plain": [
       "                  Neuron  Endothelial Cells  Oligodendrocyte  Astrocytes  \\\n",
       "Gene symbol                                                                \n",
       "0610005C13Rik   0.100000           0.100000         0.100000    0.150958   \n",
       "0610007C21Rik  34.185493          63.561108        61.071109   44.891260   \n",
       "0610007L01Rik  12.028727          13.521373        11.161263   11.015039   \n",
       "0610007P08Rik   2.020408           4.693264         4.455001    7.144110   \n",
       "0610007P14Rik  24.370482          10.569456        62.335636   48.935667   \n",
       "...                  ...                ...              ...         ...   \n",
       "Zyg11a          0.100000           0.100000         0.100000    0.100000   \n",
       "Zyg11b         14.748427           7.883384         5.880200    7.196140   \n",
       "Zyx            12.732355          35.416643        17.037024   12.443373   \n",
       "Zzef1           4.842996           4.443834         4.460314    9.346479   \n",
       "Zzz3            5.624916           7.543416         6.111705    7.886449   \n",
       "\n",
       "               Microglia  Glial Cells  \n",
       "Gene symbol                            \n",
       "0610005C13Rik   0.100000     0.116986  \n",
       "0610007C21Rik  89.145033    65.035801  \n",
       "0610007L01Rik  18.462418    13.546240  \n",
       "0610007P08Rik   0.446900     4.015337  \n",
       "0610007P14Rik  10.411304    40.560869  \n",
       "...                  ...          ...  \n",
       "Zyg11a          0.100000     0.100000  \n",
       "Zyg11b          2.513958     5.196766  \n",
       "Zyx            74.185894    34.555430  \n",
       "Zzef1           2.433903     5.413566  \n",
       "Zzz3            1.621927     5.206694  \n",
       "\n",
       "[22458 rows x 6 columns]"
      ]
     },
     "execution_count": 7,
     "metadata": {},
     "output_type": "execute_result"
    }
   ],
   "source": [
    "raw_df"
   ]
  },
  {
   "cell_type": "code",
   "execution_count": 10,
   "metadata": {},
   "outputs": [],
   "source": [
    "# define celltype-specific genes--astrocyte, neuron, microglia, endothelial cells, oligodendrocyte, glial cells (general)\n",
    "a_df = raw_df.loc[raw_df['Astrocytes']>4*raw_df[['Neuron','Microglia','Endothelial Cells','Oligodendrocyte']].mean(axis=1)].copy(deep=True)\n",
    "n_df = raw_df.loc[raw_df['Neuron']>4*raw_df[['Astrocytes','Microglia','Endothelial Cells','Oligodendrocyte']].mean(axis=1)].copy(deep=True)\n",
    "m_df = raw_df.loc[raw_df['Microglia']>4*raw_df[['Astrocytes','Neuron','Endothelial Cells','Oligodendrocyte']].mean(axis=1)].copy(deep=True)\n",
    "e_df = raw_df.loc[raw_df['Endothelial Cells']>4*raw_df[['Astrocytes','Microglia','Neuron','Oligodendrocyte']].mean(axis=1)].copy(deep=True)\n",
    "o_df = raw_df.loc[raw_df['Oligodendrocyte']>4*raw_df[['Astrocytes','Microglia','Endothelial Cells','Neuron']].mean(axis=1)].copy(deep=True)\n",
    "g_df = raw_df.loc[raw_df['Glial Cells']>4*raw_df[['Endothelial Cells','Neuron']].mean(axis=1)].copy(deep=True)"
   ]
  },
  {
   "cell_type": "code",
   "execution_count": 20,
   "metadata": {},
   "outputs": [],
   "source": [
    "# Output list of astrocyte-specific genes\n",
    "MyFile=open('../results/mouse.celltype-specific_genes/all_barres/astrocyte.list.txt','w')\n",
    "MyList=map(lambda x:x+'\\n', a_df.index.to_list())\n",
    "MyFile.writelines(MyList)\n",
    "MyFile.close()"
   ]
  },
  {
   "cell_type": "code",
   "execution_count": 21,
   "metadata": {},
   "outputs": [],
   "source": [
    "# Output list of neuron-specific genes\n",
    "MyFile=open('../results/mouse.celltype-specific_genes/all_barres/neuron.list.txt','w')\n",
    "MyList=map(lambda x:x+'\\n', n_df.index.to_list())\n",
    "MyFile.writelines(MyList)\n",
    "MyFile.close()"
   ]
  },
  {
   "cell_type": "code",
   "execution_count": 22,
   "metadata": {},
   "outputs": [],
   "source": [
    "# Output list of microglia-specific genes\n",
    "MyFile=open('../results/mouse.celltype-specific_genes/all_barres/microglia.list.txt','w')\n",
    "MyList=map(lambda x:x+'\\n', m_df.index.to_list())\n",
    "MyFile.writelines(MyList)\n",
    "MyFile.close()"
   ]
  },
  {
   "cell_type": "code",
   "execution_count": 23,
   "metadata": {},
   "outputs": [],
   "source": [
    "# Output list of endothelia-specific genes\n",
    "MyFile=open('../results/mouse.celltype-specific_genes/all_barres/endothelia.list.txt','w')\n",
    "MyList=map(lambda x:x+'\\n', e_df.index.to_list())\n",
    "MyFile.writelines(MyList)\n",
    "MyFile.close()"
   ]
  },
  {
   "cell_type": "code",
   "execution_count": 24,
   "metadata": {},
   "outputs": [],
   "source": [
    "# Output list of oligodendrocyte-specific genes\n",
    "MyFile=open('../results/mouse.celltype-specific_genes/all_barres/oligodendrocyte.list.txt','w')\n",
    "MyList=map(lambda x:x+'\\n', o_df.index.to_list())\n",
    "MyFile.writelines(MyList)\n",
    "MyFile.close()"
   ]
  },
  {
   "cell_type": "code",
   "execution_count": 25,
   "metadata": {},
   "outputs": [],
   "source": [
    "# Output list of glia-specific genes\n",
    "MyFile=open('../results/mouse.celltype-specific_genes/all_barres/glia.list.txt','w')\n",
    "MyList=map(lambda x:x+'\\n', g_df.index.to_list())\n",
    "MyFile.writelines(MyList)\n",
    "MyFile.close()"
   ]
  },
  {
   "cell_type": "markdown",
   "metadata": {},
   "source": [
    "### Visualize overlap between glial cell-specific genes and subtypes"
   ]
  },
  {
   "cell_type": "markdown",
   "metadata": {},
   "source": [
    "Figures saved to figures/Venn_Diagrams/"
   ]
  },
  {
   "cell_type": "code",
   "execution_count": 28,
   "metadata": {},
   "outputs": [],
   "source": [
    "import matplotlib.pyplot as plt\n",
    "from matplotlib_venn import venn2"
   ]
  },
  {
   "cell_type": "code",
   "execution_count": 40,
   "metadata": {},
   "outputs": [
    {
     "data": {
      "text/plain": [
       "<matplotlib_venn._common.VennDiagram at 0x7fa7c6d01b90>"
      ]
     },
     "execution_count": 40,
     "metadata": {},
     "output_type": "execute_result"
    },
    {
     "data": {
      "image/png": "[encoded data removed]",
      "text/plain": [
       "<Figure size 432x288 with 1 Axes>"
      ]
     },
     "metadata": {},
     "output_type": "display_data"
    }
   ],
   "source": [
    "venn2([set(g_df.index.to_list()), set(a_df.index.to_list())],set_labels = ('Glia-specific', 'Astrocyte-specific'), set_colors=('forestgreen','limegreen'), alpha=0.5)"
   ]
  },
  {
   "cell_type": "code",
   "execution_count": 41,
   "metadata": {},
   "outputs": [
    {
     "data": {
      "text/plain": [
       "<matplotlib_venn._common.VennDiagram at 0x7fa7c6d19e90>"
      ]
     },
     "execution_count": 41,
     "metadata": {},
     "output_type": "execute_result"
    },
    {
     "data": {
      "image/png": "[encoded data removed]",
      "text/plain": [
       "<Figure size 432x288 with 1 Axes>"
      ]
     },
     "metadata": {},
     "output_type": "display_data"
    }
   ],
   "source": [
    "venn2([set(g_df.index.to_list()), set(m_df.index.to_list())],set_labels = ('Glia-specific', 'microglia-specific'), set_colors=('forestgreen','orange'), alpha=0.5)"
   ]
  },
  {
   "cell_type": "code",
   "execution_count": 42,
   "metadata": {},
   "outputs": [
    {
     "data": {
      "text/plain": [
       "<matplotlib_venn._common.VennDiagram at 0x7fa7c6da5ad0>"
      ]
     },
     "execution_count": 42,
     "metadata": {},
     "output_type": "execute_result"
    },
    {
     "data": {
      "image/png": "[encoded data removed]",
      "text/plain": [
       "<Figure size 432x288 with 1 Axes>"
      ]
     },
     "metadata": {},
     "output_type": "display_data"
    }
   ],
   "source": [
    "venn2([set(g_df.index.to_list()), set(o_df.index.to_list())],set_labels = ('Glia-specific', 'Oligodendrocyte-specific'), set_colors=('forestgreen','blue'), alpha=0.5)"
   ]
  },
  {
   "cell_type": "code",
   "execution_count": 48,
   "metadata": {},
   "outputs": [
    {
     "data": {
      "text/plain": [
       "<matplotlib_venn._common.VennDiagram at 0x7fa7c71673d0>"
      ]
     },
     "execution_count": 48,
     "metadata": {},
     "output_type": "execute_result"
    },
    {
     "data": {
      "image/png": "[encoded data removed]",
      "text/plain": [
       "<Figure size 432x288 with 1 Axes>"
      ]
     },
     "metadata": {},
     "output_type": "display_data"
    }
   ],
   "source": [
    "venn2([set(g_df.index.to_list()), set(o_df.index.to_list()+m_df.index.to_list()+a_df.index.to_list())],set_labels = ('Glia-specific', 'Glia_subtypes-specific'), set_colors=('forestgreen','pink'), alpha=0.5)"
   ]
  },
  {
   "cell_type": "code",
   "execution_count": 43,
   "metadata": {},
   "outputs": [],
   "source": [
    "from matplotlib_venn import venn3"
   ]
  },
  {
   "cell_type": "code",
   "execution_count": 46,
   "metadata": {},
   "outputs": [
    {
     "data": {
      "text/plain": [
       "<matplotlib_venn._common.VennDiagram at 0x7fa7c6f02b10>"
      ]
     },
     "execution_count": 46,
     "metadata": {},
     "output_type": "execute_result"
    },
    {
     "data": {
      "image/png": "[encoded data removed]",
      "text/plain": [
       "<Figure size 432x288 with 1 Axes>"
      ]
     },
     "metadata": {},
     "output_type": "display_data"
    }
   ],
   "source": [
    "# Showing there is no overlap between the three glia subtypes\n",
    "venn3([set(a_df.index.to_list()), set(o_df.index.to_list()), set(m_df.index.to_list())],set_labels = ('Astrocyte-specific', 'Oligodendrocyte-specific', 'Microglia-specific'), set_colors=('limegreen','blue','orange'), alpha=0.5)"
   ]
  },
  {
   "cell_type": "code",
   "execution_count": 47,
   "metadata": {},
   "outputs": [
    {
     "data": {
      "text/plain": [
       "<matplotlib_venn._common.VennDiagram at 0x7fa7c6f953d0>"
      ]
     },
     "execution_count": 47,
     "metadata": {},
     "output_type": "execute_result"
    },
    {
     "data": {
      "image/png": "[encoded data removed]",
      "text/plain": [
       "<Figure size 432x288 with 1 Axes>"
      ]
     },
     "metadata": {},
     "output_type": "display_data"
    }
   ],
   "source": [
    "# Showing there is no overlap between the three glia subtypes\n",
    "venn3([set(n_df.index.to_list()), set(g_df.index.to_list()), set(e_df.index.to_list())],set_labels = ('Neuron-specific', 'Glia-specific', 'Endothelia-specific'), set_colors=('red','forestgreen','darkblue'), alpha=0.5)"
   ]
  },
  {
   "cell_type": "code",
   "execution_count": null,
   "metadata": {},
   "outputs": [],
   "source": []
  }
 ],
 "metadata": {
  "kernelspec": {
   "display_name": "Python 3",
   "language": "python",
   "name": "python3"
  },
  "language_info": {
   "codemirror_mode": {
    "name": "ipython",
    "version": 3
   },
   "file_extension": ".py",
   "mimetype": "text/x-python",
   "name": "python",
   "nbconvert_exporter": "python",
   "pygments_lexer": "ipython3",
   "version": "3.7.4"
  }
 },
 "nbformat": 4,
 "nbformat_minor": 2
}
