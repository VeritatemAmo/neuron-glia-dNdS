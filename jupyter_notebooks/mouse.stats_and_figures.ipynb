{
 "cells": [
  {
   "cell_type": "markdown",
   "metadata": {},
   "source": [
    "I have identified mouse brain cell type-specific protein coding genes with pairwise dN/dS calculated from 92 mammalian species against human reference genome. Now I want to know which cell types have significantly higher dN/dS. This script calcuated these statistics. "
   ]
  },
  {
   "cell_type": "code",
   "execution_count": 1,
   "metadata": {},
   "outputs": [
    {
     "name": "stderr",
     "output_type": "stream",
     "text": [
      "/opt/anaconda3/lib/python3.8/site-packages/outdated/utils.py:14: OutdatedPackageWarning: The package pingouin is out of date. Your version is 0.3.8, the latest is 0.3.9.\n",
      "Set the environment variable OUTDATED_IGNORE=1 to disable these warnings.\n",
      "  return warn(\n"
     ]
    }
   ],
   "source": [
    "import numpy as np\n",
    "import pandas as pd\n",
    "import pingouin as pg\n",
    "import glob\n",
    "from IPython.core.interactiveshell import InteractiveShell\n",
    "InteractiveShell.ast_node_interactivity = \"all\"\n",
    "pd.set_option('display.max_rows', 10)\n",
    "from scipy import stats\n",
    "import heapq"
   ]
  },
  {
   "cell_type": "code",
   "execution_count": 2,
   "metadata": {},
   "outputs": [],
   "source": [
    "celltype_list=['neuron','endothelia','glia','astrocyte','microglia','oligodendrocyte']"
   ]
  },
  {
   "cell_type": "code",
   "execution_count": 3,
   "metadata": {},
   "outputs": [],
   "source": [
    "# load dN/dS data\n",
    "df_dict={}\n",
    "for celltype in celltype_list:\n",
    "    df_dict[celltype]=pd.read_csv('../results/mouse.celltype-specific_genes/protein-coding_w_dNdS/all_92species/'\n",
    "                                  +celltype+'.tsv',index_col=0, sep='\\t')"
   ]
  },
  {
   "cell_type": "code",
   "execution_count": 4,
   "metadata": {},
   "outputs": [
    {
     "data": {
      "text/html": [
       "<div>\n",
       "<style scoped>\n",
       "    .dataframe tbody tr th:only-of-type {\n",
       "        vertical-align: middle;\n",
       "    }\n",
       "\n",
       "    .dataframe tbody tr th {\n",
       "        vertical-align: top;\n",
       "    }\n",
       "\n",
       "    .dataframe thead th {\n",
       "        text-align: right;\n",
       "    }\n",
       "</style>\n",
       "<table border=\"1\" class=\"dataframe\">\n",
       "  <thead>\n",
       "    <tr style=\"text-align: right;\">\n",
       "      <th></th>\n",
       "      <th>amelanoleuca_dNdS</th>\n",
       "      <th>anancymaae_dNdS</th>\n",
       "      <th>bbbison_dNdS</th>\n",
       "      <th>bmutus_dNdS</th>\n",
       "      <th>btaurus_dNdS</th>\n",
       "      <th>capalliatus_dNdS</th>\n",
       "      <th>caperea_dNdS</th>\n",
       "      <th>catys_dNdS</th>\n",
       "      <th>ccanadensis_dNdS</th>\n",
       "      <th>ccapucinus_dNdS</th>\n",
       "      <th>...</th>\n",
       "      <th>sscrofa_dNdS</th>\n",
       "      <th>tbelangeri_dNdS</th>\n",
       "      <th>tgelada_dNdS</th>\n",
       "      <th>ttruncatus_dNdS</th>\n",
       "      <th>uamericanus_dNdS</th>\n",
       "      <th>umaritimus_dNdS</th>\n",
       "      <th>uparryii_dNdS</th>\n",
       "      <th>vpacos_dNdS</th>\n",
       "      <th>vursinus_dNdS</th>\n",
       "      <th>vvulpes_dNdS</th>\n",
       "    </tr>\n",
       "    <tr>\n",
       "      <th>Gene name</th>\n",
       "      <th></th>\n",
       "      <th></th>\n",
       "      <th></th>\n",
       "      <th></th>\n",
       "      <th></th>\n",
       "      <th></th>\n",
       "      <th></th>\n",
       "      <th></th>\n",
       "      <th></th>\n",
       "      <th></th>\n",
       "      <th></th>\n",
       "      <th></th>\n",
       "      <th></th>\n",
       "      <th></th>\n",
       "      <th></th>\n",
       "      <th></th>\n",
       "      <th></th>\n",
       "      <th></th>\n",
       "      <th></th>\n",
       "      <th></th>\n",
       "      <th></th>\n",
       "    </tr>\n",
       "  </thead>\n",
       "  <tbody>\n",
       "    <tr>\n",
       "      <th>1500009L16Rik</th>\n",
       "      <td>NaN</td>\n",
       "      <td>0.146464</td>\n",
       "      <td>NaN</td>\n",
       "      <td>NaN</td>\n",
       "      <td>NaN</td>\n",
       "      <td>NaN</td>\n",
       "      <td>0.130144</td>\n",
       "      <td>0.120498</td>\n",
       "      <td>0.136314</td>\n",
       "      <td>0.140044</td>\n",
       "      <td>...</td>\n",
       "      <td>0.124107</td>\n",
       "      <td>NaN</td>\n",
       "      <td>0.122453</td>\n",
       "      <td>NaN</td>\n",
       "      <td>NaN</td>\n",
       "      <td>NaN</td>\n",
       "      <td>0.228487</td>\n",
       "      <td>NaN</td>\n",
       "      <td>0.156414</td>\n",
       "      <td>0.313078</td>\n",
       "    </tr>\n",
       "    <tr>\n",
       "      <th>1700001L19Rik</th>\n",
       "      <td>0.210556</td>\n",
       "      <td>0.185317</td>\n",
       "      <td>NaN</td>\n",
       "      <td>NaN</td>\n",
       "      <td>NaN</td>\n",
       "      <td>0.198950</td>\n",
       "      <td>0.122481</td>\n",
       "      <td>0.218690</td>\n",
       "      <td>NaN</td>\n",
       "      <td>0.160872</td>\n",
       "      <td>...</td>\n",
       "      <td>NaN</td>\n",
       "      <td>NaN</td>\n",
       "      <td>0.203604</td>\n",
       "      <td>NaN</td>\n",
       "      <td>0.258322</td>\n",
       "      <td>0.215824</td>\n",
       "      <td>0.150904</td>\n",
       "      <td>NaN</td>\n",
       "      <td>0.145022</td>\n",
       "      <td>0.110891</td>\n",
       "    </tr>\n",
       "    <tr>\n",
       "      <th>4930444P10Rik</th>\n",
       "      <td>NaN</td>\n",
       "      <td>0.409015</td>\n",
       "      <td>0.315946</td>\n",
       "      <td>0.326234</td>\n",
       "      <td>0.316695</td>\n",
       "      <td>0.348993</td>\n",
       "      <td>NaN</td>\n",
       "      <td>0.367046</td>\n",
       "      <td>0.290463</td>\n",
       "      <td>0.394530</td>\n",
       "      <td>...</td>\n",
       "      <td>0.284890</td>\n",
       "      <td>NaN</td>\n",
       "      <td>0.377320</td>\n",
       "      <td>NaN</td>\n",
       "      <td>0.442945</td>\n",
       "      <td>0.285058</td>\n",
       "      <td>0.333066</td>\n",
       "      <td>NaN</td>\n",
       "      <td>NaN</td>\n",
       "      <td>NaN</td>\n",
       "    </tr>\n",
       "    <tr>\n",
       "      <th>4930447C04Rik</th>\n",
       "      <td>0.306745</td>\n",
       "      <td>0.288215</td>\n",
       "      <td>0.290376</td>\n",
       "      <td>0.285083</td>\n",
       "      <td>NaN</td>\n",
       "      <td>0.302765</td>\n",
       "      <td>NaN</td>\n",
       "      <td>0.286950</td>\n",
       "      <td>0.357752</td>\n",
       "      <td>0.273928</td>\n",
       "      <td>...</td>\n",
       "      <td>0.285087</td>\n",
       "      <td>NaN</td>\n",
       "      <td>0.285519</td>\n",
       "      <td>0.281480</td>\n",
       "      <td>NaN</td>\n",
       "      <td>NaN</td>\n",
       "      <td>0.266246</td>\n",
       "      <td>NaN</td>\n",
       "      <td>0.346056</td>\n",
       "      <td>0.286567</td>\n",
       "    </tr>\n",
       "    <tr>\n",
       "      <th>4930452B06Rik</th>\n",
       "      <td>0.252119</td>\n",
       "      <td>0.210142</td>\n",
       "      <td>NaN</td>\n",
       "      <td>NaN</td>\n",
       "      <td>0.237885</td>\n",
       "      <td>0.255776</td>\n",
       "      <td>0.301566</td>\n",
       "      <td>0.266231</td>\n",
       "      <td>0.259158</td>\n",
       "      <td>0.225319</td>\n",
       "      <td>...</td>\n",
       "      <td>0.244310</td>\n",
       "      <td>NaN</td>\n",
       "      <td>0.235612</td>\n",
       "      <td>NaN</td>\n",
       "      <td>NaN</td>\n",
       "      <td>0.255673</td>\n",
       "      <td>0.205110</td>\n",
       "      <td>NaN</td>\n",
       "      <td>0.204127</td>\n",
       "      <td>0.228056</td>\n",
       "    </tr>\n",
       "    <tr>\n",
       "      <th>...</th>\n",
       "      <td>...</td>\n",
       "      <td>...</td>\n",
       "      <td>...</td>\n",
       "      <td>...</td>\n",
       "      <td>...</td>\n",
       "      <td>...</td>\n",
       "      <td>...</td>\n",
       "      <td>...</td>\n",
       "      <td>...</td>\n",
       "      <td>...</td>\n",
       "      <td>...</td>\n",
       "      <td>...</td>\n",
       "      <td>...</td>\n",
       "      <td>...</td>\n",
       "      <td>...</td>\n",
       "      <td>...</td>\n",
       "      <td>...</td>\n",
       "      <td>...</td>\n",
       "      <td>...</td>\n",
       "      <td>...</td>\n",
       "      <td>...</td>\n",
       "    </tr>\n",
       "    <tr>\n",
       "      <th>Zim1</th>\n",
       "      <td>0.006937</td>\n",
       "      <td>NaN</td>\n",
       "      <td>NaN</td>\n",
       "      <td>NaN</td>\n",
       "      <td>NaN</td>\n",
       "      <td>NaN</td>\n",
       "      <td>NaN</td>\n",
       "      <td>NaN</td>\n",
       "      <td>0.360649</td>\n",
       "      <td>NaN</td>\n",
       "      <td>...</td>\n",
       "      <td>NaN</td>\n",
       "      <td>NaN</td>\n",
       "      <td>NaN</td>\n",
       "      <td>NaN</td>\n",
       "      <td>0.041359</td>\n",
       "      <td>NaN</td>\n",
       "      <td>NaN</td>\n",
       "      <td>0.006681</td>\n",
       "      <td>0.135717</td>\n",
       "      <td>NaN</td>\n",
       "    </tr>\n",
       "    <tr>\n",
       "      <th>Zkscan16</th>\n",
       "      <td>NaN</td>\n",
       "      <td>0.351751</td>\n",
       "      <td>NaN</td>\n",
       "      <td>0.340327</td>\n",
       "      <td>NaN</td>\n",
       "      <td>0.355999</td>\n",
       "      <td>NaN</td>\n",
       "      <td>0.348691</td>\n",
       "      <td>0.331307</td>\n",
       "      <td>0.366090</td>\n",
       "      <td>...</td>\n",
       "      <td>0.293102</td>\n",
       "      <td>NaN</td>\n",
       "      <td>0.349349</td>\n",
       "      <td>0.341637</td>\n",
       "      <td>NaN</td>\n",
       "      <td>0.339294</td>\n",
       "      <td>0.374028</td>\n",
       "      <td>0.458960</td>\n",
       "      <td>NaN</td>\n",
       "      <td>0.356438</td>\n",
       "    </tr>\n",
       "    <tr>\n",
       "      <th>Zmat4</th>\n",
       "      <td>0.053008</td>\n",
       "      <td>0.032676</td>\n",
       "      <td>0.035883</td>\n",
       "      <td>0.035889</td>\n",
       "      <td>0.035482</td>\n",
       "      <td>0.041024</td>\n",
       "      <td>0.028862</td>\n",
       "      <td>0.053054</td>\n",
       "      <td>NaN</td>\n",
       "      <td>0.034377</td>\n",
       "      <td>...</td>\n",
       "      <td>0.044406</td>\n",
       "      <td>NaN</td>\n",
       "      <td>0.117155</td>\n",
       "      <td>NaN</td>\n",
       "      <td>NaN</td>\n",
       "      <td>0.051398</td>\n",
       "      <td>0.040253</td>\n",
       "      <td>NaN</td>\n",
       "      <td>0.093579</td>\n",
       "      <td>0.051676</td>\n",
       "    </tr>\n",
       "    <tr>\n",
       "      <th>Zpbp</th>\n",
       "      <td>0.223777</td>\n",
       "      <td>0.257910</td>\n",
       "      <td>0.294435</td>\n",
       "      <td>0.246154</td>\n",
       "      <td>0.162598</td>\n",
       "      <td>0.264674</td>\n",
       "      <td>0.200577</td>\n",
       "      <td>0.264298</td>\n",
       "      <td>0.286695</td>\n",
       "      <td>0.234763</td>\n",
       "      <td>...</td>\n",
       "      <td>0.185035</td>\n",
       "      <td>NaN</td>\n",
       "      <td>0.262373</td>\n",
       "      <td>0.285495</td>\n",
       "      <td>NaN</td>\n",
       "      <td>0.221856</td>\n",
       "      <td>0.333535</td>\n",
       "      <td>NaN</td>\n",
       "      <td>0.265079</td>\n",
       "      <td>0.300414</td>\n",
       "    </tr>\n",
       "    <tr>\n",
       "      <th>Zwint</th>\n",
       "      <td>0.209868</td>\n",
       "      <td>0.193628</td>\n",
       "      <td>NaN</td>\n",
       "      <td>NaN</td>\n",
       "      <td>NaN</td>\n",
       "      <td>0.248779</td>\n",
       "      <td>0.242868</td>\n",
       "      <td>0.254463</td>\n",
       "      <td>0.412200</td>\n",
       "      <td>0.208320</td>\n",
       "      <td>...</td>\n",
       "      <td>0.138561</td>\n",
       "      <td>NaN</td>\n",
       "      <td>0.282686</td>\n",
       "      <td>0.202058</td>\n",
       "      <td>0.215925</td>\n",
       "      <td>0.219966</td>\n",
       "      <td>0.202996</td>\n",
       "      <td>0.161032</td>\n",
       "      <td>NaN</td>\n",
       "      <td>0.146496</td>\n",
       "    </tr>\n",
       "  </tbody>\n",
       "</table>\n",
       "<p>1298 rows × 92 columns</p>\n",
       "</div>"
      ],
      "text/plain": [
       "               amelanoleuca_dNdS  anancymaae_dNdS  bbbison_dNdS  bmutus_dNdS  \\\n",
       "Gene name                                                                      \n",
       "1500009L16Rik                NaN         0.146464           NaN          NaN   \n",
       "1700001L19Rik           0.210556         0.185317           NaN          NaN   \n",
       "4930444P10Rik                NaN         0.409015      0.315946     0.326234   \n",
       "4930447C04Rik           0.306745         0.288215      0.290376     0.285083   \n",
       "4930452B06Rik           0.252119         0.210142           NaN          NaN   \n",
       "...                          ...              ...           ...          ...   \n",
       "Zim1                    0.006937              NaN           NaN          NaN   \n",
       "Zkscan16                     NaN         0.351751           NaN     0.340327   \n",
       "Zmat4                   0.053008         0.032676      0.035883     0.035889   \n",
       "Zpbp                    0.223777         0.257910      0.294435     0.246154   \n",
       "Zwint                   0.209868         0.193628           NaN          NaN   \n",
       "\n",
       "               btaurus_dNdS  capalliatus_dNdS  caperea_dNdS  catys_dNdS  \\\n",
       "Gene name                                                                 \n",
       "1500009L16Rik           NaN               NaN      0.130144    0.120498   \n",
       "1700001L19Rik           NaN          0.198950      0.122481    0.218690   \n",
       "4930444P10Rik      0.316695          0.348993           NaN    0.367046   \n",
       "4930447C04Rik           NaN          0.302765           NaN    0.286950   \n",
       "4930452B06Rik      0.237885          0.255776      0.301566    0.266231   \n",
       "...                     ...               ...           ...         ...   \n",
       "Zim1                    NaN               NaN           NaN         NaN   \n",
       "Zkscan16                NaN          0.355999           NaN    0.348691   \n",
       "Zmat4              0.035482          0.041024      0.028862    0.053054   \n",
       "Zpbp               0.162598          0.264674      0.200577    0.264298   \n",
       "Zwint                   NaN          0.248779      0.242868    0.254463   \n",
       "\n",
       "               ccanadensis_dNdS  ccapucinus_dNdS  ...  sscrofa_dNdS  \\\n",
       "Gene name                                         ...                 \n",
       "1500009L16Rik          0.136314         0.140044  ...      0.124107   \n",
       "1700001L19Rik               NaN         0.160872  ...           NaN   \n",
       "4930444P10Rik          0.290463         0.394530  ...      0.284890   \n",
       "4930447C04Rik          0.357752         0.273928  ...      0.285087   \n",
       "4930452B06Rik          0.259158         0.225319  ...      0.244310   \n",
       "...                         ...              ...  ...           ...   \n",
       "Zim1                   0.360649              NaN  ...           NaN   \n",
       "Zkscan16               0.331307         0.366090  ...      0.293102   \n",
       "Zmat4                       NaN         0.034377  ...      0.044406   \n",
       "Zpbp                   0.286695         0.234763  ...      0.185035   \n",
       "Zwint                  0.412200         0.208320  ...      0.138561   \n",
       "\n",
       "               tbelangeri_dNdS  tgelada_dNdS  ttruncatus_dNdS  \\\n",
       "Gene name                                                       \n",
       "1500009L16Rik              NaN      0.122453              NaN   \n",
       "1700001L19Rik              NaN      0.203604              NaN   \n",
       "4930444P10Rik              NaN      0.377320              NaN   \n",
       "4930447C04Rik              NaN      0.285519         0.281480   \n",
       "4930452B06Rik              NaN      0.235612              NaN   \n",
       "...                        ...           ...              ...   \n",
       "Zim1                       NaN           NaN              NaN   \n",
       "Zkscan16                   NaN      0.349349         0.341637   \n",
       "Zmat4                      NaN      0.117155              NaN   \n",
       "Zpbp                       NaN      0.262373         0.285495   \n",
       "Zwint                      NaN      0.282686         0.202058   \n",
       "\n",
       "               uamericanus_dNdS  umaritimus_dNdS  uparryii_dNdS  vpacos_dNdS  \\\n",
       "Gene name                                                                      \n",
       "1500009L16Rik               NaN              NaN       0.228487          NaN   \n",
       "1700001L19Rik          0.258322         0.215824       0.150904          NaN   \n",
       "4930444P10Rik          0.442945         0.285058       0.333066          NaN   \n",
       "4930447C04Rik               NaN              NaN       0.266246          NaN   \n",
       "4930452B06Rik               NaN         0.255673       0.205110          NaN   \n",
       "...                         ...              ...            ...          ...   \n",
       "Zim1                   0.041359              NaN            NaN     0.006681   \n",
       "Zkscan16                    NaN         0.339294       0.374028     0.458960   \n",
       "Zmat4                       NaN         0.051398       0.040253          NaN   \n",
       "Zpbp                        NaN         0.221856       0.333535          NaN   \n",
       "Zwint                  0.215925         0.219966       0.202996     0.161032   \n",
       "\n",
       "               vursinus_dNdS  vvulpes_dNdS  \n",
       "Gene name                                   \n",
       "1500009L16Rik       0.156414      0.313078  \n",
       "1700001L19Rik       0.145022      0.110891  \n",
       "4930444P10Rik            NaN           NaN  \n",
       "4930447C04Rik       0.346056      0.286567  \n",
       "4930452B06Rik       0.204127      0.228056  \n",
       "...                      ...           ...  \n",
       "Zim1                0.135717           NaN  \n",
       "Zkscan16                 NaN      0.356438  \n",
       "Zmat4               0.093579      0.051676  \n",
       "Zpbp                0.265079      0.300414  \n",
       "Zwint                    NaN      0.146496  \n",
       "\n",
       "[1298 rows x 92 columns]"
      ]
     },
     "execution_count": 4,
     "metadata": {},
     "output_type": "execute_result"
    }
   ],
   "source": [
    "df_dict['neuron']"
   ]
  },
  {
   "cell_type": "markdown",
   "metadata": {},
   "source": [
    "# All species cell type-specific genes' pairwise dN/dS against mouse genome pooled together without averaging"
   ]
  },
  {
   "cell_type": "code",
   "execution_count": 4,
   "metadata": {},
   "outputs": [
    {
     "data": {
      "text/plain": [
       "(86260,)"
      ]
     },
     "execution_count": 4,
     "metadata": {},
     "output_type": "execute_result"
    },
    {
     "data": {
      "text/plain": [
       "(61687,)"
      ]
     },
     "execution_count": 4,
     "metadata": {},
     "output_type": "execute_result"
    },
    {
     "data": {
      "text/plain": [
       "(80131,)"
      ]
     },
     "execution_count": 4,
     "metadata": {},
     "output_type": "execute_result"
    },
    {
     "data": {
      "text/plain": [
       "(56301,)"
      ]
     },
     "execution_count": 4,
     "metadata": {},
     "output_type": "execute_result"
    },
    {
     "data": {
      "text/plain": [
       "(68157,)"
      ]
     },
     "execution_count": 4,
     "metadata": {},
     "output_type": "execute_result"
    },
    {
     "data": {
      "text/plain": [
       "(35624,)"
      ]
     },
     "execution_count": 4,
     "metadata": {},
     "output_type": "execute_result"
    }
   ],
   "source": [
    "# pool dN/dS from 92 species into 1D array\n",
    "arr_dict={}\n",
    "for celltype in celltype_list:\n",
    "    arr=df_dict[celltype].to_numpy()\n",
    "    arr=arr[~np.isnan(arr)]\n",
    "    arr_dict[celltype]=arr\n",
    "    arr_dict[celltype].shape"
   ]
  },
  {
   "cell_type": "code",
   "execution_count": 6,
   "metadata": {},
   "outputs": [
    {
     "data": {
      "text/plain": [
       "'endothelia'"
      ]
     },
     "execution_count": 6,
     "metadata": {},
     "output_type": "execute_result"
    },
    {
     "data": {
      "text/plain": [
       "MannwhitneyuResult(statistic=1843208704.5, pvalue=0.0)"
      ]
     },
     "execution_count": 6,
     "metadata": {},
     "output_type": "execute_result"
    },
    {
     "data": {
      "text/plain": [
       "'glia'"
      ]
     },
     "execution_count": 6,
     "metadata": {},
     "output_type": "execute_result"
    },
    {
     "data": {
      "text/plain": [
       "MannwhitneyuResult(statistic=2401686399.0, pvalue=0.0)"
      ]
     },
     "execution_count": 6,
     "metadata": {},
     "output_type": "execute_result"
    },
    {
     "data": {
      "text/plain": [
       "'astrocyte'"
      ]
     },
     "execution_count": 6,
     "metadata": {},
     "output_type": "execute_result"
    },
    {
     "data": {
      "text/plain": [
       "MannwhitneyuResult(statistic=1933844695.0, pvalue=0.0)"
      ]
     },
     "execution_count": 6,
     "metadata": {},
     "output_type": "execute_result"
    },
    {
     "data": {
      "text/plain": [
       "'microglia'"
      ]
     },
     "execution_count": 6,
     "metadata": {},
     "output_type": "execute_result"
    },
    {
     "data": {
      "text/plain": [
       "MannwhitneyuResult(statistic=1882912853.0, pvalue=0.0)"
      ]
     },
     "execution_count": 6,
     "metadata": {},
     "output_type": "execute_result"
    },
    {
     "data": {
      "text/plain": [
       "'oligodendrocyte'"
      ]
     },
     "execution_count": 6,
     "metadata": {},
     "output_type": "execute_result"
    },
    {
     "data": {
      "text/plain": [
       "MannwhitneyuResult(statistic=1348618487.0, pvalue=7.702811370580747e-248)"
      ]
     },
     "execution_count": 6,
     "metadata": {},
     "output_type": "execute_result"
    }
   ],
   "source": [
    "# Mann Whitney U test between neuron and each non-neuronal celltype\n",
    "for celltype in ['endothelia','glia','astrocyte','microglia','oligodendrocyte']:\n",
    "    celltype\n",
    "    stats.mannwhitneyu(arr_dict['neuron'],arr_dict[celltype],alternative=\"two-sided\")"
   ]
  },
  {
   "cell_type": "markdown",
   "metadata": {},
   "source": [
    "The p values were lower than the smallest number representable with numpy float numbers, so there were simply written as 0.0"
   ]
  },
  {
   "cell_type": "code",
   "execution_count": 59,
   "metadata": {},
   "outputs": [
    {
     "data": {
      "text/plain": [
       "2.2250738585072014e-308"
      ]
     },
     "execution_count": 59,
     "metadata": {},
     "output_type": "execute_result"
    }
   ],
   "source": [
    "np.finfo('float').tiny"
   ]
  },
  {
   "cell_type": "markdown",
   "metadata": {},
   "source": [
    "Our array had a large number of data:"
   ]
  },
  {
   "cell_type": "code",
   "execution_count": 62,
   "metadata": {},
   "outputs": [
    {
     "data": {
      "text/plain": [
       "(80131,)"
      ]
     },
     "execution_count": 62,
     "metadata": {},
     "output_type": "execute_result"
    }
   ],
   "source": [
    "arr_dict['glia'].shape"
   ]
  },
  {
   "cell_type": "markdown",
   "metadata": {},
   "source": [
    "While with just a couple hundred data it is possible to reach such a low p value with Mann Whitney U test: "
   ]
  },
  {
   "cell_type": "code",
   "execution_count": 73,
   "metadata": {},
   "outputs": [
    {
     "data": {
      "text/plain": [
       "MannwhitneyuResult(statistic=0.0, pvalue=3.475138136748824e-306)"
      ]
     },
     "execution_count": 73,
     "metadata": {},
     "output_type": "execute_result"
    }
   ],
   "source": [
    "stats.mannwhitneyu(np.full((700,),0),np.full((700,),0.1),alternative=\"two-sided\")"
   ]
  },
  {
   "cell_type": "code",
   "execution_count": 7,
   "metadata": {},
   "outputs": [
    {
     "data": {
      "text/plain": [
       "KruskalResult(statistic=15068.010565252689, pvalue=0.0)"
      ]
     },
     "execution_count": 7,
     "metadata": {},
     "output_type": "execute_result"
    }
   ],
   "source": [
    "# Kruskal Wallis H test for neuron, endothelia, glia three cell types\n",
    "stats.kruskal(arr_dict['neuron'],arr_dict['endothelia'],arr_dict['glia'])"
   ]
  },
  {
   "cell_type": "code",
   "execution_count": 8,
   "metadata": {},
   "outputs": [
    {
     "data": {
      "text/plain": [
       "KruskalResult(statistic=19080.63760123451, pvalue=0.0)"
      ]
     },
     "execution_count": 8,
     "metadata": {},
     "output_type": "execute_result"
    }
   ],
   "source": [
    "# Kruskal Wallis H test for NEAMO five cell types\n",
    "stats.kruskal(arr_dict['neuron'],arr_dict['endothelia'],arr_dict['astrocyte'],arr_dict['microglia'],arr_dict['oligodendrocyte'])"
   ]
  },
  {
   "cell_type": "code",
   "execution_count": 9,
   "metadata": {},
   "outputs": [
    {
     "data": {
      "text/html": [
       "<div>\n",
       "<style scoped>\n",
       "    .dataframe tbody tr th:only-of-type {\n",
       "        vertical-align: middle;\n",
       "    }\n",
       "\n",
       "    .dataframe tbody tr th {\n",
       "        vertical-align: top;\n",
       "    }\n",
       "\n",
       "    .dataframe thead th {\n",
       "        text-align: right;\n",
       "    }\n",
       "</style>\n",
       "<table border=\"1\" class=\"dataframe\">\n",
       "  <thead>\n",
       "    <tr style=\"text-align: right;\">\n",
       "      <th></th>\n",
       "      <th>Median_dNdS</th>\n",
       "      <th>Confidence_Interval_Low</th>\n",
       "      <th>Confidence_Interval_High</th>\n",
       "    </tr>\n",
       "    <tr>\n",
       "      <th>Celltype</th>\n",
       "      <th></th>\n",
       "      <th></th>\n",
       "      <th></th>\n",
       "    </tr>\n",
       "  </thead>\n",
       "  <tbody>\n",
       "    <tr>\n",
       "      <th>neuron</th>\n",
       "      <td>0.070163</td>\n",
       "      <td>0.069543</td>\n",
       "      <td>0.070742</td>\n",
       "    </tr>\n",
       "    <tr>\n",
       "      <th>endothelia</th>\n",
       "      <td>0.118995</td>\n",
       "      <td>0.118036</td>\n",
       "      <td>0.119894</td>\n",
       "    </tr>\n",
       "    <tr>\n",
       "      <th>glia</th>\n",
       "      <td>0.120077</td>\n",
       "      <td>0.119231</td>\n",
       "      <td>0.120914</td>\n",
       "    </tr>\n",
       "    <tr>\n",
       "      <th>astrocyte</th>\n",
       "      <td>0.103976</td>\n",
       "      <td>0.102941</td>\n",
       "      <td>0.104970</td>\n",
       "    </tr>\n",
       "    <tr>\n",
       "      <th>microglia</th>\n",
       "      <td>0.131917</td>\n",
       "      <td>0.130960</td>\n",
       "      <td>0.132936</td>\n",
       "    </tr>\n",
       "    <tr>\n",
       "      <th>oligodendrocyte</th>\n",
       "      <td>0.088088</td>\n",
       "      <td>0.087188</td>\n",
       "      <td>0.089008</td>\n",
       "    </tr>\n",
       "  </tbody>\n",
       "</table>\n",
       "</div>"
      ],
      "text/plain": [
       "                 Median_dNdS  Confidence_Interval_Low  \\\n",
       "Celltype                                                \n",
       "neuron              0.070163                 0.069543   \n",
       "endothelia          0.118995                 0.118036   \n",
       "glia                0.120077                 0.119231   \n",
       "astrocyte           0.103976                 0.102941   \n",
       "microglia           0.131917                 0.130960   \n",
       "oligodendrocyte     0.088088                 0.087188   \n",
       "\n",
       "                 Confidence_Interval_High  \n",
       "Celltype                                   \n",
       "neuron                           0.070742  \n",
       "endothelia                       0.119894  \n",
       "glia                             0.120914  \n",
       "astrocyte                        0.104970  \n",
       "microglia                        0.132936  \n",
       "oligodendrocyte                  0.089008  "
      ]
     },
     "execution_count": 9,
     "metadata": {},
     "output_type": "execute_result"
    }
   ],
   "source": [
    "stats_df = pd.DataFrame(\n",
    "    columns=['Celltype','Median_dNdS',\n",
    "             'Confidence_Interval_Low','Confidence_Interval_High'])\n",
    "\n",
    "for celltype in celltype_list:\n",
    "    arr=arr_dict[celltype]\n",
    "    med=np.median(arr)\n",
    "    low = stats.binom.interval(alpha=.95,n=arr.shape[0],p=.5)[0]\n",
    "    high = stats.binom.interval(alpha=.95,n=arr.shape[0],p=.5)[1]\n",
    "    CI_low = heapq.nsmallest(low.astype(int),arr)[-1]\n",
    "    CI_high = heapq.nsmallest(high.astype(int),arr)[-1]\n",
    "    stats_df = stats_df.append(\n",
    "        {'Celltype':celltype,'Median_dNdS':med,\n",
    "         'Confidence_Interval_Low':CI_low,'Confidence_Interval_High':CI_high},\n",
    "        ignore_index=True)\n",
    "\n",
    "stats_df.set_index('Celltype',inplace=True)\n",
    "    \n",
    "stats_df"
   ]
  },
  {
   "cell_type": "markdown",
   "metadata": {},
   "source": [
    "# Now one species at a time"
   ]
  },
  {
   "cell_type": "code",
   "execution_count": 6,
   "metadata": {},
   "outputs": [],
   "source": [
    "# add average of 92 species as a \"species\"\n",
    "# so statistical analysis looped through \"species\" \n",
    "# would also be calculated on the averaged value\n",
    "for celltype in celltype_list:\n",
    "    df=df_dict[celltype]\n",
    "    df['average_dNdS']=df.mean(axis=1)"
   ]
  },
  {
   "cell_type": "code",
   "execution_count": 7,
   "metadata": {},
   "outputs": [],
   "source": [
    "# Get a list of species name (including 'average' at the end of the list)\n",
    "species_list=[]\n",
    "for species in df_dict['neuron'].columns:\n",
    "    species_list.append(species[:-5])"
   ]
  },
  {
   "cell_type": "code",
   "execution_count": 8,
   "metadata": {},
   "outputs": [
    {
     "name": "stdout",
     "output_type": "stream",
     "text": [
      "eeuropaeus\n"
     ]
    }
   ],
   "source": [
    "# Find the rare cases where neuron-specific genes don't have the lowest dN/dS\n",
    "for species in species_list:\n",
    "    if np.median(df_dict['neuron'][[species+'_dNdS']].iloc[:,0].dropna().values) > np.median(df_dict['oligodendrocyte'][[species+'_dNdS']].iloc[:,0].dropna().values):\n",
    "        print(species) # Hedgehog \n"
   ]
  },
  {
   "cell_type": "markdown",
   "metadata": {},
   "source": [
    "##### Descriptive Statistics: median and confidence interval"
   ]
  },
  {
   "cell_type": "code",
   "execution_count": 9,
   "metadata": {},
   "outputs": [],
   "source": [
    "full_dict = {} # This dictionary stores dataframes for later use \n",
    "descriptive_stats_df = pd.DataFrame(\n",
    "    columns=['Species','Celltype','Median_dNdS',\n",
    "             'Confidence_Interval_Low','Confidence_Interval_High',\n",
    "             'Median_Absolute_Deviation'])\n",
    "for species in species_list:\n",
    "    full_dict[species] = {}\n",
    "    for celltype in celltype_list:\n",
    "        df=df_dict[celltype][[species+'_dNdS']]\n",
    "        full_dict[species][celltype]=df.dropna().values\n",
    "        arr=df.iloc[:,0].dropna().values\n",
    "        med=np.median(arr)\n",
    "        mad=pg.mad(arr,normalize=False)\n",
    "        low = stats.binom.interval(alpha=.95,n=arr.shape[0],p=.5)[0]\n",
    "        high = stats.binom.interval(alpha=.95,n=arr.shape[0],p=.5)[1]\n",
    "        CI_low = heapq.nsmallest(low.astype(int),arr)[-1]\n",
    "        CI_high = heapq.nsmallest(high.astype(int),arr)[-1]\n",
    "        descriptive_stats_df = descriptive_stats_df.append(\n",
    "            {'Species':species,'Celltype':celltype,'Median_dNdS':med,\n",
    "             'Confidence_Interval_Low':CI_low,'Confidence_Interval_High':CI_high,\n",
    "            'Median_Absolute_Deviation':mad},\n",
    "            ignore_index=True)"
   ]
  },
  {
   "cell_type": "code",
   "execution_count": 10,
   "metadata": {},
   "outputs": [],
   "source": [
    "common_name_df=pd.read_excel('../data/species.xlsx',index_col=0)\n",
    "common_name_df=common_name_df.append(pd.Series(['average','average','average'],name='average',index=common_name_df.columns))"
   ]
  },
  {
   "cell_type": "code",
   "execution_count": 15,
   "metadata": {},
   "outputs": [],
   "source": [
    "descriptive_stats_df=pd.merge(left=common_name_df,right=descriptive_stats_df,left_index=True,right_on='Species',how='right')\n",
    "descriptive_stats_df.set_index('SpeciesCommonName',inplace=True)\n",
    "descriptive_stats_df.drop(['SpeciesLatinName','Order','Species'],axis=1,inplace=True)"
   ]
  },
  {
   "cell_type": "code",
   "execution_count": 16,
   "metadata": {},
   "outputs": [
    {
     "data": {
      "text/html": [
       "<div>\n",
       "<style scoped>\n",
       "    .dataframe tbody tr th:only-of-type {\n",
       "        vertical-align: middle;\n",
       "    }\n",
       "\n",
       "    .dataframe tbody tr th {\n",
       "        vertical-align: top;\n",
       "    }\n",
       "\n",
       "    .dataframe thead th {\n",
       "        text-align: right;\n",
       "    }\n",
       "</style>\n",
       "<table border=\"1\" class=\"dataframe\">\n",
       "  <thead>\n",
       "    <tr style=\"text-align: right;\">\n",
       "      <th></th>\n",
       "      <th>Celltype</th>\n",
       "      <th>Median_dNdS</th>\n",
       "      <th>Confidence_Interval_Low</th>\n",
       "      <th>Confidence_Interval_High</th>\n",
       "      <th>Median_Absolute_Deviation</th>\n",
       "    </tr>\n",
       "    <tr>\n",
       "      <th>SpeciesCommonName</th>\n",
       "      <th></th>\n",
       "      <th></th>\n",
       "      <th></th>\n",
       "      <th></th>\n",
       "      <th></th>\n",
       "    </tr>\n",
       "  </thead>\n",
       "  <tbody>\n",
       "    <tr>\n",
       "      <th>average</th>\n",
       "      <td>neuron</td>\n",
       "      <td>0.073001</td>\n",
       "      <td>0.068361</td>\n",
       "      <td>0.076786</td>\n",
       "      <td>0.039584</td>\n",
       "    </tr>\n",
       "    <tr>\n",
       "      <th>average</th>\n",
       "      <td>endothelia</td>\n",
       "      <td>0.125274</td>\n",
       "      <td>0.117180</td>\n",
       "      <td>0.135850</td>\n",
       "      <td>0.066218</td>\n",
       "    </tr>\n",
       "    <tr>\n",
       "      <th>average</th>\n",
       "      <td>glia</td>\n",
       "      <td>0.127601</td>\n",
       "      <td>0.121065</td>\n",
       "      <td>0.134291</td>\n",
       "      <td>0.067144</td>\n",
       "    </tr>\n",
       "    <tr>\n",
       "      <th>average</th>\n",
       "      <td>astrocyte</td>\n",
       "      <td>0.110885</td>\n",
       "      <td>0.101351</td>\n",
       "      <td>0.117072</td>\n",
       "      <td>0.059529</td>\n",
       "    </tr>\n",
       "    <tr>\n",
       "      <th>average</th>\n",
       "      <td>microglia</td>\n",
       "      <td>0.142691</td>\n",
       "      <td>0.134883</td>\n",
       "      <td>0.152953</td>\n",
       "      <td>0.080206</td>\n",
       "    </tr>\n",
       "    <tr>\n",
       "      <th>average</th>\n",
       "      <td>oligodendrocyte</td>\n",
       "      <td>0.087372</td>\n",
       "      <td>0.081122</td>\n",
       "      <td>0.097106</td>\n",
       "      <td>0.044336</td>\n",
       "    </tr>\n",
       "  </tbody>\n",
       "</table>\n",
       "</div>"
      ],
      "text/plain": [
       "                          Celltype  Median_dNdS  Confidence_Interval_Low  \\\n",
       "SpeciesCommonName                                                          \n",
       "average                     neuron     0.073001                 0.068361   \n",
       "average                 endothelia     0.125274                 0.117180   \n",
       "average                       glia     0.127601                 0.121065   \n",
       "average                  astrocyte     0.110885                 0.101351   \n",
       "average                  microglia     0.142691                 0.134883   \n",
       "average            oligodendrocyte     0.087372                 0.081122   \n",
       "\n",
       "                   Confidence_Interval_High  Median_Absolute_Deviation  \n",
       "SpeciesCommonName                                                       \n",
       "average                            0.076786                   0.039584  \n",
       "average                            0.135850                   0.066218  \n",
       "average                            0.134291                   0.067144  \n",
       "average                            0.117072                   0.059529  \n",
       "average                            0.152953                   0.080206  \n",
       "average                            0.097106                   0.044336  "
      ]
     },
     "execution_count": 16,
     "metadata": {},
     "output_type": "execute_result"
    }
   ],
   "source": [
    "descriptive_stats_df.loc['average',:]"
   ]
  },
  {
   "cell_type": "code",
   "execution_count": 19,
   "metadata": {},
   "outputs": [],
   "source": [
    "# create an excel file to write descriptive stats\n",
    "\n",
    "path = '../results/celltype-specific_descriptive_stats.xlsx'\n",
    "writer = pd.ExcelWriter(path, engine = 'xlsxwriter')\n",
    "\n",
    "descriptive_stats_df.to_excel(writer, sheet_name = 'mouse reference genome',index=True)\n",
    "\n",
    "writer.save()\n",
    "writer.close()\n"
   ]
  },
  {
   "cell_type": "code",
   "execution_count": 47,
   "metadata": {},
   "outputs": [],
   "source": [
    "# # if I want to add tab to existing excel file\n",
    "\n",
    "# from openpyxl import load_workbook\n",
    "\n",
    "# path = '../results/celltype-specific_descriptive_stats.xlsx'\n",
    "# book = load_workbook(path)\n",
    "# writer = pd.ExcelWriter(path, engine = 'openpyxl') # note the engine\n",
    "# # writer = pd.ExcelWriter(path, engine = 'xlsxwriter') # use this engine if creating a new file\n",
    "# writer.book = book\n",
    "\n",
    "# descriptive_stats_df.to_excel(writer, sheet_name = 'mouse reference genome',index=True)\n",
    "\n",
    "# writer.save()\n",
    "# writer.close()"
   ]
  },
  {
   "cell_type": "markdown",
   "metadata": {},
   "source": [
    "### Inferential statistics: Kruskal Wallis H and Mann Whitney U between celltypes and benchmarks"
   ]
  },
  {
   "cell_type": "code",
   "execution_count": 62,
   "metadata": {},
   "outputs": [],
   "source": [
    "# create a dictionary to store average dN/dS of benchmark genes\n",
    "bm_dict={}\n",
    "\n",
    "# import from excel file work sheets \n",
    "hk_df = pd.read_excel('../data/benchmarks.xlsx',sheet_name='House Keeping Genes',index_col=0)\n",
    "bm_dict['hk']=hk_df.dropna().values\n",
    "mhc_df = pd.read_excel('../data/benchmarks.xlsx',sheet_name='MHC',index_col=0)\n",
    "bm_dict['mhc']=mhc_df.dropna().values\n",
    "atpase_df = pd.read_excel('../data/benchmarks.xlsx',sheet_name='ATPase',index_col=0)\n",
    "bm_dict['atpase']=atpase_df.dropna().values\n",
    "immune_df = pd.read_excel('../data/benchmarks.xlsx',sheet_name='Immune System Genes',index_col=0)\n",
    "bm_dict['immune']=immune_df.dropna().values\n",
    "\n",
    "# import all genes' dN/dS\n",
    "all_df = pd.read_csv('../results/Ensembl98_mouse/mouse.dNdS_stats.all_genes.tsv',sep='\\t')\n",
    "all_arr=all_df.loc[:,'mean'].dropna().values\n",
    "bm_dict['all']=all_arr.reshape((len(all_arr),1))\n"
   ]
  },
  {
   "cell_type": "code",
   "execution_count": 63,
   "metadata": {},
   "outputs": [
    {
     "data": {
      "text/plain": [
       "(3265, 1)"
      ]
     },
     "execution_count": 63,
     "metadata": {},
     "output_type": "execute_result"
    },
    {
     "data": {
      "text/plain": [
       "(26, 1)"
      ]
     },
     "execution_count": 63,
     "metadata": {},
     "output_type": "execute_result"
    },
    {
     "data": {
      "text/plain": [
       "(116, 1)"
      ]
     },
     "execution_count": 63,
     "metadata": {},
     "output_type": "execute_result"
    },
    {
     "data": {
      "text/plain": [
       "(683, 1)"
      ]
     },
     "execution_count": 63,
     "metadata": {},
     "output_type": "execute_result"
    },
    {
     "data": {
      "text/plain": [
       "(19388, 1)"
      ]
     },
     "execution_count": 63,
     "metadata": {},
     "output_type": "execute_result"
    }
   ],
   "source": [
    "for value in bm_dict.values():\n",
    "    value.shape"
   ]
  },
  {
   "cell_type": "code",
   "execution_count": 64,
   "metadata": {},
   "outputs": [
    {
     "data": {
      "text/html": [
       "<div>\n",
       "<style scoped>\n",
       "    .dataframe tbody tr th:only-of-type {\n",
       "        vertical-align: middle;\n",
       "    }\n",
       "\n",
       "    .dataframe tbody tr th {\n",
       "        vertical-align: top;\n",
       "    }\n",
       "\n",
       "    .dataframe thead th {\n",
       "        text-align: right;\n",
       "    }\n",
       "</style>\n",
       "<table border=\"1\" class=\"dataframe\">\n",
       "  <thead>\n",
       "    <tr style=\"text-align: right;\">\n",
       "      <th></th>\n",
       "      <th>Median_dNdS</th>\n",
       "      <th>Confidence_Interval_Low</th>\n",
       "      <th>Confidence_Interval_High</th>\n",
       "    </tr>\n",
       "    <tr>\n",
       "      <th>Benchmark</th>\n",
       "      <th></th>\n",
       "      <th></th>\n",
       "      <th></th>\n",
       "    </tr>\n",
       "  </thead>\n",
       "  <tbody>\n",
       "    <tr>\n",
       "      <th>hk</th>\n",
       "      <td>0.086212</td>\n",
       "      <td>[0.0833990353536832]</td>\n",
       "      <td>[0.089668482209337]</td>\n",
       "    </tr>\n",
       "    <tr>\n",
       "      <th>mhc</th>\n",
       "      <td>0.442520</td>\n",
       "      <td>[0.336932240967922]</td>\n",
       "      <td>[0.511041009463722]</td>\n",
       "    </tr>\n",
       "    <tr>\n",
       "      <th>atpase</th>\n",
       "      <td>0.066155</td>\n",
       "      <td>[0.0558833038513241]</td>\n",
       "      <td>[0.0806013091323478]</td>\n",
       "    </tr>\n",
       "    <tr>\n",
       "      <th>immune</th>\n",
       "      <td>0.143419</td>\n",
       "      <td>[0.128522782808735]</td>\n",
       "      <td>[0.159698081571992]</td>\n",
       "    </tr>\n",
       "    <tr>\n",
       "      <th>all</th>\n",
       "      <td>0.129408</td>\n",
       "      <td>[0.12735527061240987]</td>\n",
       "      <td>[0.13149618323475998]</td>\n",
       "    </tr>\n",
       "  </tbody>\n",
       "</table>\n",
       "</div>"
      ],
      "text/plain": [
       "           Median_dNdS Confidence_Interval_Low Confidence_Interval_High\n",
       "Benchmark                                                              \n",
       "hk            0.086212    [0.0833990353536832]      [0.089668482209337]\n",
       "mhc           0.442520     [0.336932240967922]      [0.511041009463722]\n",
       "atpase        0.066155    [0.0558833038513241]     [0.0806013091323478]\n",
       "immune        0.143419     [0.128522782808735]      [0.159698081571992]\n",
       "all           0.129408   [0.12735527061240987]    [0.13149618323475998]"
      ]
     },
     "execution_count": 64,
     "metadata": {},
     "output_type": "execute_result"
    }
   ],
   "source": [
    "# descriptive stats of benchmarks\n",
    "bm_stats_df = pd.DataFrame(\n",
    "    columns=['Benchmark','Median_dNdS',\n",
    "             'Confidence_Interval_Low','Confidence_Interval_High'])\n",
    "\n",
    "for key, arr in bm_dict.items():\n",
    "    med=np.median(arr)\n",
    "    low = stats.binom.interval(alpha=.95,n=arr.shape[0],p=.5)[0]\n",
    "    high = stats.binom.interval(alpha=.95,n=arr.shape[0],p=.5)[1]\n",
    "    CI_low = heapq.nsmallest(low.astype(int),arr)[-1]\n",
    "    CI_high = heapq.nsmallest(high.astype(int),arr)[-1]\n",
    "    bm_stats_df = bm_stats_df.append(\n",
    "        {'Benchmark':key,'Median_dNdS':med,\n",
    "         'Confidence_Interval_Low':CI_low,'Confidence_Interval_High':CI_high},\n",
    "        ignore_index=True)\n",
    "\n",
    "bm_stats_df.set_index('Benchmark',inplace=True)\n",
    "    \n",
    "bm_stats_df"
   ]
  },
  {
   "cell_type": "code",
   "execution_count": 69,
   "metadata": {},
   "outputs": [
    {
     "data": {
      "text/plain": [
       "0.1426914760460037"
      ]
     },
     "execution_count": 69,
     "metadata": {},
     "output_type": "execute_result"
    }
   ],
   "source": [
    "np.median(full_dict['average']['microglia'])"
   ]
  },
  {
   "cell_type": "code",
   "execution_count": 49,
   "metadata": {},
   "outputs": [
    {
     "data": {
      "text/plain": [
       "(683,)"
      ]
     },
     "execution_count": 49,
     "metadata": {},
     "output_type": "execute_result"
    },
    {
     "data": {
      "text/plain": [
       "(1062, 1)"
      ]
     },
     "execution_count": 49,
     "metadata": {},
     "output_type": "execute_result"
    }
   ],
   "source": [
    "bm_dict['immune'].shape\n",
    "full_dict['average']['microglia'].shape"
   ]
  },
  {
   "cell_type": "markdown",
   "metadata": {},
   "source": [
    "immune system processing genes have a slightly higher median dN/dS than microglia-specific genes. Interestingly, from a ranking perspective, microglia is slightly higher (not significant) than immune system processing: "
   ]
  },
  {
   "cell_type": "code",
   "execution_count": 71,
   "metadata": {},
   "outputs": [
    {
     "data": {
      "text/html": [
       "<div>\n",
       "<style scoped>\n",
       "    .dataframe tbody tr th:only-of-type {\n",
       "        vertical-align: middle;\n",
       "    }\n",
       "\n",
       "    .dataframe tbody tr th {\n",
       "        vertical-align: top;\n",
       "    }\n",
       "\n",
       "    .dataframe thead th {\n",
       "        text-align: right;\n",
       "    }\n",
       "</style>\n",
       "<table border=\"1\" class=\"dataframe\">\n",
       "  <thead>\n",
       "    <tr style=\"text-align: right;\">\n",
       "      <th></th>\n",
       "      <th>U-val</th>\n",
       "      <th>tail</th>\n",
       "      <th>p-val</th>\n",
       "      <th>RBC</th>\n",
       "      <th>CLES</th>\n",
       "    </tr>\n",
       "  </thead>\n",
       "  <tbody>\n",
       "    <tr>\n",
       "      <th>MWU</th>\n",
       "      <td>359076.0</td>\n",
       "      <td>greater</td>\n",
       "      <td>0.6369</td>\n",
       "      <td>0.009918</td>\n",
       "      <td>0.495041</td>\n",
       "    </tr>\n",
       "  </tbody>\n",
       "</table>\n",
       "</div>"
      ],
      "text/plain": [
       "        U-val     tail   p-val       RBC      CLES\n",
       "MWU  359076.0  greater  0.6369  0.009918  0.495041"
      ]
     },
     "execution_count": 71,
     "metadata": {},
     "output_type": "execute_result"
    }
   ],
   "source": [
    "pg.mwu(bm_dict['immune'],full_dict['average']['microglia'],tail=\"one-sided\")"
   ]
  },
  {
   "cell_type": "code",
   "execution_count": 70,
   "metadata": {},
   "outputs": [
    {
     "data": {
      "text/html": [
       "<div>\n",
       "<style scoped>\n",
       "    .dataframe tbody tr th:only-of-type {\n",
       "        vertical-align: middle;\n",
       "    }\n",
       "\n",
       "    .dataframe tbody tr th {\n",
       "        vertical-align: top;\n",
       "    }\n",
       "\n",
       "    .dataframe thead th {\n",
       "        text-align: right;\n",
       "    }\n",
       "</style>\n",
       "<table border=\"1\" class=\"dataframe\">\n",
       "  <thead>\n",
       "    <tr style=\"text-align: right;\">\n",
       "      <th></th>\n",
       "      <th>U-val</th>\n",
       "      <th>tail</th>\n",
       "      <th>p-val</th>\n",
       "      <th>RBC</th>\n",
       "      <th>CLES</th>\n",
       "    </tr>\n",
       "  </thead>\n",
       "  <tbody>\n",
       "    <tr>\n",
       "      <th>MWU</th>\n",
       "      <td>366270.0</td>\n",
       "      <td>less</td>\n",
       "      <td>0.6369</td>\n",
       "      <td>-0.009918</td>\n",
       "      <td>0.495041</td>\n",
       "    </tr>\n",
       "  </tbody>\n",
       "</table>\n",
       "</div>"
      ],
      "text/plain": [
       "        U-val  tail   p-val       RBC      CLES\n",
       "MWU  366270.0  less  0.6369 -0.009918  0.495041"
      ]
     },
     "execution_count": 70,
     "metadata": {},
     "output_type": "execute_result"
    }
   ],
   "source": [
    "pg.mwu(full_dict['average']['microglia'],bm_dict['immune'],tail=\"one-sided\")"
   ]
  },
  {
   "cell_type": "code",
   "execution_count": 16,
   "metadata": {},
   "outputs": [
    {
     "data": {
      "text/plain": [
       "array([[0.45306513],\n",
       "       [0.73359041],\n",
       "       [0.29008031],\n",
       "       ...,\n",
       "       [0.13371906],\n",
       "       [0.09212271],\n",
       "       [0.06421655]])"
      ]
     },
     "execution_count": 16,
     "metadata": {},
     "output_type": "execute_result"
    }
   ],
   "source": [
    "full_dict['average']['glia']"
   ]
  },
  {
   "cell_type": "code",
   "execution_count": 11,
   "metadata": {},
   "outputs": [
    {
     "data": {
      "text/plain": [
       "(1211, 1)"
      ]
     },
     "execution_count": 11,
     "metadata": {},
     "output_type": "execute_result"
    },
    {
     "data": {
      "text/plain": [
       "(1298, 1)"
      ]
     },
     "execution_count": 11,
     "metadata": {},
     "output_type": "execute_result"
    }
   ],
   "source": [
    "full_dict['average']['glia'].shape\n",
    "full_dict['average']['neuron'].shape"
   ]
  },
  {
   "cell_type": "markdown",
   "metadata": {},
   "source": [
    "pingouin and scipy.stats calculate U statistics in the same way. If you are testing if glia is higher than neuron, then you need to list glia before neruon: "
   ]
  },
  {
   "cell_type": "code",
   "execution_count": 12,
   "metadata": {},
   "outputs": [
    {
     "data": {
      "text/plain": [
       "MannwhitneyuResult(statistic=536949.0, pvalue=6.554592649494534e-43)"
      ]
     },
     "execution_count": 12,
     "metadata": {},
     "output_type": "execute_result"
    }
   ],
   "source": [
    "stats.mannwhitneyu(full_dict[species]['neuron'],\n",
    "        full_dict[species]['glia'],alternative=\"two-sided\")"
   ]
  },
  {
   "cell_type": "code",
   "execution_count": 13,
   "metadata": {},
   "outputs": [
    {
     "data": {
      "text/plain": [
       "U-val         536949\n",
       "tail       two-sided\n",
       "p-val    6.55459e-43\n",
       "RBC         0.316806\n",
       "CLES        0.341597\n",
       "Name: MWU, dtype: object"
      ]
     },
     "execution_count": 13,
     "metadata": {},
     "output_type": "execute_result"
    }
   ],
   "source": [
    "pg.mwu(\n",
    "        full_dict[species]['neuron'],\n",
    "        full_dict[species]['glia'],\n",
    "        tail=\"two-sided\").iloc[0,:]"
   ]
  },
  {
   "cell_type": "code",
   "execution_count": 14,
   "metadata": {},
   "outputs": [
    {
     "data": {
      "text/plain": [
       "MannwhitneyuResult(statistic=1034929.0, pvalue=6.554592649494534e-43)"
      ]
     },
     "execution_count": 14,
     "metadata": {},
     "output_type": "execute_result"
    }
   ],
   "source": [
    "stats.mannwhitneyu(full_dict[species]['glia'],\n",
    "        full_dict[species]['neuron'],alternative=\"two-sided\")"
   ]
  },
  {
   "cell_type": "code",
   "execution_count": 15,
   "metadata": {},
   "outputs": [
    {
     "data": {
      "text/plain": [
       "U-val    1.03493e+06\n",
       "tail       two-sided\n",
       "p-val    6.55459e-43\n",
       "RBC        -0.316806\n",
       "CLES        0.658403\n",
       "Name: MWU, dtype: object"
      ]
     },
     "execution_count": 15,
     "metadata": {},
     "output_type": "execute_result"
    }
   ],
   "source": [
    "pg.mwu(\n",
    "        full_dict[species]['glia'],\n",
    "        full_dict[species]['neuron'],\n",
    "        tail=\"two-sided\").iloc[0,:]"
   ]
  },
  {
   "cell_type": "code",
   "execution_count": 73,
   "metadata": {},
   "outputs": [],
   "source": [
    "inferential_stats_df=pd.DataFrame(\n",
    "    columns=['Species','Kruskal H NEG','Kruskal p NEG',\n",
    "             'Kruskal H NEAMO','Kruskal p NEAMO',\n",
    "             'Mann U GN','Mann p GN','Mann CLES GN',\n",
    "             'Mann U EN','Mann p EN','Mann CLES EN',\n",
    "             'Mann U GE','Mann p GE','Mann CLES GE',\n",
    "             'Mann U AN','Mann p AN','Mann CLES AN',\n",
    "             'Mann U MN','Mann p MN','Mann CLES MN',\n",
    "             'Mann U ON','Mann p ON','Mann CLES ON'])\n",
    "\n",
    "for species in species_list:\n",
    "\n",
    "    h_NEG,kp_NEG=stats.kruskal(\n",
    "        full_dict[species]['neuron'],\n",
    "        full_dict[species]['endothelia'],\n",
    "        full_dict[species]['glia'])\n",
    "\n",
    "    h_NEAMO,kp_NEAMO=stats.kruskal(\n",
    "        full_dict[species]['neuron'],\n",
    "        full_dict[species]['endothelia'],\n",
    "        full_dict[species]['astrocyte'],\n",
    "        full_dict[species]['microglia'],\n",
    "        full_dict[species]['oligodendrocyte'])\n",
    "    \n",
    "    # June 18, 2020: debug on Jan_20_2020-Confirming_w_Couple_Species-Ensembl98Mouse\n",
    "    # June 24, 2020: debug stats.mannwhitneyu(), include alternative=\"two-sided\", \n",
    "    # default \"None\" is deprecated and generate a smaller p value\n",
    "    # Now avoid nan values influencing test results.\n",
    "    # U statistics and p values from Mann Whitney's U test \n",
    "    # comparing Neuron-specific genes and Glia-specific genes' dN/dS ratios\n",
    "    # Dec 7, 2020: Use pingouin instead of scipy, now have common language effect size\n",
    "    \n",
    "    u_GN,_,mp_GN,_,cles_GN=pg.mwu(\n",
    "        full_dict[species]['glia'],\n",
    "        full_dict[species]['neuron'],\n",
    "        tail=\"two-sided\").iloc[0,:]\n",
    "    \n",
    "    # similarly, compare neuron-specific genes and endothelia-specific genes\n",
    "    u_EN,_,mp_EN,_,cles_EN=pg.mwu(\n",
    "        full_dict[species]['endothelia'],\n",
    "        full_dict[species]['neuron'],\n",
    "        tail=\"two-sided\").iloc[0,:]\n",
    "    \n",
    "    # and endothelia vs glia\n",
    "    u_GE,_,mp_GE,_,cles_GE=pg.mwu(\n",
    "        full_dict[species]['glia'],\n",
    "        full_dict[species]['endothelia'],\n",
    "        tail=\"two-sided\").iloc[0,:]\n",
    "    \n",
    "    # and neuron vs the three glial subtypes\n",
    "    u_AN,_,mp_AN,_,cles_AN=pg.mwu(\n",
    "        full_dict[species]['astrocyte'],\n",
    "        full_dict[species]['neuron'],\n",
    "        tail=\"two-sided\").iloc[0,:]\n",
    "    \n",
    "    u_MN,_,mp_MN,_,cles_MN=pg.mwu(\n",
    "        full_dict[species]['microglia'],\n",
    "        full_dict[species]['neuron'],\n",
    "        tail=\"two-sided\").iloc[0,:]\n",
    "    \n",
    "    u_ON,_,mp_ON,_,cles_ON=pg.mwu(\n",
    "        full_dict[species]['oligodendrocyte'],\n",
    "        full_dict[species]['neuron'],\n",
    "        tail=\"two-sided\").iloc[0,:]\n",
    "    \n",
    "    inferential_stats_df = inferential_stats_df.append(\n",
    "            {'Species':species,'Kruskal H NEG':h_NEG,'Kruskal p NEG':kp_NEG,\n",
    "            'Kruskal H NEAMO':h_NEAMO,'Kruskal p NEAMO':kp_NEAMO,\n",
    "            'Mann U GN':u_GN,'Mann p GN':mp_GN,'Mann CLES GN':cles_GN,\n",
    "            'Mann U EN':u_EN,'Mann p EN':mp_EN,'Mann CLES EN':cles_EN,\n",
    "            'Mann U GE':u_GE,'Mann p GE':mp_GE,'Mann CLES GE':cles_GE,\n",
    "            'Mann U AN':u_AN,'Mann p AN':mp_AN,'Mann CLES AN':cles_AN,\n",
    "            'Mann U MN':u_MN,'Mann p MN':mp_MN,'Mann CLES MN':cles_MN,\n",
    "            'Mann U ON':u_ON,'Mann p ON':mp_ON,'Mann CLES ON':cles_ON},\n",
    "            ignore_index=True)\n",
    "\n",
    "inferential_stats_df=pd.merge(left=common_name_df,right=inferential_stats_df,left_index=True,right_on='Species',how='right')\n",
    "inferential_stats_df.set_index('SpeciesCommonName',inplace=True)\n",
    "inferential_stats_df.drop(['SpeciesLatinName','Order','Species'],axis=1,inplace=True)"
   ]
  },
  {
   "cell_type": "code",
   "execution_count": 74,
   "metadata": {},
   "outputs": [
    {
     "data": {
      "text/html": [
       "<div>\n",
       "<style scoped>\n",
       "    .dataframe tbody tr th:only-of-type {\n",
       "        vertical-align: middle;\n",
       "    }\n",
       "\n",
       "    .dataframe tbody tr th {\n",
       "        vertical-align: top;\n",
       "    }\n",
       "\n",
       "    .dataframe thead th {\n",
       "        text-align: right;\n",
       "    }\n",
       "</style>\n",
       "<table border=\"1\" class=\"dataframe\">\n",
       "  <thead>\n",
       "    <tr style=\"text-align: right;\">\n",
       "      <th></th>\n",
       "      <th>Kruskal H NEG</th>\n",
       "      <th>Kruskal p NEG</th>\n",
       "      <th>Kruskal H NEAMO</th>\n",
       "      <th>Kruskal p NEAMO</th>\n",
       "      <th>Mann U GN</th>\n",
       "      <th>Mann p GN</th>\n",
       "      <th>Mann CLES GN</th>\n",
       "      <th>Mann U EN</th>\n",
       "      <th>Mann p EN</th>\n",
       "      <th>Mann CLES EN</th>\n",
       "      <th>...</th>\n",
       "      <th>Mann CLES GE</th>\n",
       "      <th>Mann U AN</th>\n",
       "      <th>Mann p AN</th>\n",
       "      <th>Mann CLES AN</th>\n",
       "      <th>Mann U MN</th>\n",
       "      <th>Mann p MN</th>\n",
       "      <th>Mann CLES MN</th>\n",
       "      <th>Mann U ON</th>\n",
       "      <th>Mann p ON</th>\n",
       "      <th>Mann CLES ON</th>\n",
       "    </tr>\n",
       "    <tr>\n",
       "      <th>SpeciesCommonName</th>\n",
       "      <th></th>\n",
       "      <th></th>\n",
       "      <th></th>\n",
       "      <th></th>\n",
       "      <th></th>\n",
       "      <th></th>\n",
       "      <th></th>\n",
       "      <th></th>\n",
       "      <th></th>\n",
       "      <th></th>\n",
       "      <th></th>\n",
       "      <th></th>\n",
       "      <th></th>\n",
       "      <th></th>\n",
       "      <th></th>\n",
       "      <th></th>\n",
       "      <th></th>\n",
       "      <th></th>\n",
       "      <th></th>\n",
       "      <th></th>\n",
       "      <th></th>\n",
       "    </tr>\n",
       "  </thead>\n",
       "  <tbody>\n",
       "    <tr>\n",
       "      <th>Panda</th>\n",
       "      <td>210.041102</td>\n",
       "      <td>2.455580e-46</td>\n",
       "      <td>247.194656</td>\n",
       "      <td>2.617407e-52</td>\n",
       "      <td>672529.0</td>\n",
       "      <td>2.545612e-37</td>\n",
       "      <td>0.664423</td>\n",
       "      <td>525765.0</td>\n",
       "      <td>2.263768e-32</td>\n",
       "      <td>0.663217</td>\n",
       "      <td>...</td>\n",
       "      <td>0.497284</td>\n",
       "      <td>426394.0</td>\n",
       "      <td>2.705061e-14</td>\n",
       "      <td>0.608830</td>\n",
       "      <td>588307.0</td>\n",
       "      <td>1.447538e-41</td>\n",
       "      <td>0.681621</td>\n",
       "      <td>257265.0</td>\n",
       "      <td>0.000122</td>\n",
       "      <td>0.563251</td>\n",
       "    </tr>\n",
       "    <tr>\n",
       "      <th>Ma's night monkey</th>\n",
       "      <td>231.025530</td>\n",
       "      <td>6.814649e-51</td>\n",
       "      <td>289.788044</td>\n",
       "      <td>1.727282e-61</td>\n",
       "      <td>716195.0</td>\n",
       "      <td>1.297535e-36</td>\n",
       "      <td>0.659999</td>\n",
       "      <td>558395.0</td>\n",
       "      <td>1.773999e-39</td>\n",
       "      <td>0.679933</td>\n",
       "      <td>...</td>\n",
       "      <td>0.481631</td>\n",
       "      <td>471727.0</td>\n",
       "      <td>6.711266e-15</td>\n",
       "      <td>0.608476</td>\n",
       "      <td>621387.0</td>\n",
       "      <td>2.173369e-47</td>\n",
       "      <td>0.692890</td>\n",
       "      <td>271503.0</td>\n",
       "      <td>0.000019</td>\n",
       "      <td>0.569995</td>\n",
       "    </tr>\n",
       "    <tr>\n",
       "      <th>American bison</th>\n",
       "      <td>156.872780</td>\n",
       "      <td>8.620027e-35</td>\n",
       "      <td>191.462284</td>\n",
       "      <td>2.570749e-40</td>\n",
       "      <td>443633.0</td>\n",
       "      <td>1.974700e-28</td>\n",
       "      <td>0.657602</td>\n",
       "      <td>350038.0</td>\n",
       "      <td>6.436258e-25</td>\n",
       "      <td>0.656524</td>\n",
       "      <td>...</td>\n",
       "      <td>0.498561</td>\n",
       "      <td>291953.0</td>\n",
       "      <td>3.790698e-12</td>\n",
       "      <td>0.608741</td>\n",
       "      <td>404161.0</td>\n",
       "      <td>2.324427e-34</td>\n",
       "      <td>0.680097</td>\n",
       "      <td>174890.0</td>\n",
       "      <td>0.000021</td>\n",
       "      <td>0.577206</td>\n",
       "    </tr>\n",
       "    <tr>\n",
       "      <th>Wild yak</th>\n",
       "      <td>156.987769</td>\n",
       "      <td>8.138400e-35</td>\n",
       "      <td>200.750491</td>\n",
       "      <td>2.591293e-42</td>\n",
       "      <td>488638.0</td>\n",
       "      <td>1.349891e-29</td>\n",
       "      <td>0.657125</td>\n",
       "      <td>388288.0</td>\n",
       "      <td>1.048678e-23</td>\n",
       "      <td>0.647924</td>\n",
       "      <td>...</td>\n",
       "      <td>0.505908</td>\n",
       "      <td>325898.0</td>\n",
       "      <td>7.797933e-13</td>\n",
       "      <td>0.609110</td>\n",
       "      <td>439819.0</td>\n",
       "      <td>1.034526e-35</td>\n",
       "      <td>0.679992</td>\n",
       "      <td>184025.0</td>\n",
       "      <td>0.001595</td>\n",
       "      <td>0.556168</td>\n",
       "    </tr>\n",
       "    <tr>\n",
       "      <th>Cow</th>\n",
       "      <td>198.450180</td>\n",
       "      <td>8.074041e-44</td>\n",
       "      <td>259.249882</td>\n",
       "      <td>6.616519e-55</td>\n",
       "      <td>676463.0</td>\n",
       "      <td>6.005384e-35</td>\n",
       "      <td>0.658279</td>\n",
       "      <td>532333.0</td>\n",
       "      <td>5.492733e-31</td>\n",
       "      <td>0.658805</td>\n",
       "      <td>...</td>\n",
       "      <td>0.498598</td>\n",
       "      <td>439432.0</td>\n",
       "      <td>4.211320e-14</td>\n",
       "      <td>0.607106</td>\n",
       "      <td>605994.0</td>\n",
       "      <td>2.415733e-46</td>\n",
       "      <td>0.691575</td>\n",
       "      <td>265018.0</td>\n",
       "      <td>0.000051</td>\n",
       "      <td>0.566309</td>\n",
       "    </tr>\n",
       "    <tr>\n",
       "      <th>...</th>\n",
       "      <td>...</td>\n",
       "      <td>...</td>\n",
       "      <td>...</td>\n",
       "      <td>...</td>\n",
       "      <td>...</td>\n",
       "      <td>...</td>\n",
       "      <td>...</td>\n",
       "      <td>...</td>\n",
       "      <td>...</td>\n",
       "      <td>...</td>\n",
       "      <td>...</td>\n",
       "      <td>...</td>\n",
       "      <td>...</td>\n",
       "      <td>...</td>\n",
       "      <td>...</td>\n",
       "      <td>...</td>\n",
       "      <td>...</td>\n",
       "      <td>...</td>\n",
       "      <td>...</td>\n",
       "      <td>...</td>\n",
       "      <td>...</td>\n",
       "    </tr>\n",
       "    <tr>\n",
       "      <th>Arctic ground squirrel</th>\n",
       "      <td>248.258430</td>\n",
       "      <td>1.234147e-54</td>\n",
       "      <td>313.693014</td>\n",
       "      <td>1.204100e-66</td>\n",
       "      <td>747128.0</td>\n",
       "      <td>2.103225e-42</td>\n",
       "      <td>0.671661</td>\n",
       "      <td>574206.0</td>\n",
       "      <td>2.410950e-39</td>\n",
       "      <td>0.678022</td>\n",
       "      <td>...</td>\n",
       "      <td>0.492211</td>\n",
       "      <td>483960.0</td>\n",
       "      <td>5.630397e-17</td>\n",
       "      <td>0.616155</td>\n",
       "      <td>658822.0</td>\n",
       "      <td>4.643431e-54</td>\n",
       "      <td>0.704064</td>\n",
       "      <td>280902.0</td>\n",
       "      <td>0.000014</td>\n",
       "      <td>0.570298</td>\n",
       "    </tr>\n",
       "    <tr>\n",
       "      <th>Alpaca</th>\n",
       "      <td>37.164058</td>\n",
       "      <td>8.509958e-09</td>\n",
       "      <td>53.885406</td>\n",
       "      <td>5.561619e-11</td>\n",
       "      <td>19772.0</td>\n",
       "      <td>3.451595e-07</td>\n",
       "      <td>0.658408</td>\n",
       "      <td>19903.0</td>\n",
       "      <td>8.378094e-08</td>\n",
       "      <td>0.666812</td>\n",
       "      <td>...</td>\n",
       "      <td>0.492387</td>\n",
       "      <td>18634.0</td>\n",
       "      <td>1.946911e-03</td>\n",
       "      <td>0.595259</td>\n",
       "      <td>16203.0</td>\n",
       "      <td>9.605730e-11</td>\n",
       "      <td>0.717963</td>\n",
       "      <td>7237.0</td>\n",
       "      <td>0.001928</td>\n",
       "      <td>0.631170</td>\n",
       "    </tr>\n",
       "    <tr>\n",
       "      <th>Common wombat</th>\n",
       "      <td>113.226073</td>\n",
       "      <td>2.589827e-25</td>\n",
       "      <td>125.245555</td>\n",
       "      <td>4.044696e-26</td>\n",
       "      <td>498907.0</td>\n",
       "      <td>8.993294e-19</td>\n",
       "      <td>0.620763</td>\n",
       "      <td>403139.0</td>\n",
       "      <td>3.091230e-20</td>\n",
       "      <td>0.634315</td>\n",
       "      <td>...</td>\n",
       "      <td>0.487969</td>\n",
       "      <td>350182.0</td>\n",
       "      <td>7.370548e-10</td>\n",
       "      <td>0.591674</td>\n",
       "      <td>435467.0</td>\n",
       "      <td>9.171326e-21</td>\n",
       "      <td>0.633130</td>\n",
       "      <td>220262.0</td>\n",
       "      <td>0.000005</td>\n",
       "      <td>0.578191</td>\n",
       "    </tr>\n",
       "    <tr>\n",
       "      <th>Red fox</th>\n",
       "      <td>153.870309</td>\n",
       "      <td>3.868004e-34</td>\n",
       "      <td>196.036642</td>\n",
       "      <td>2.672388e-41</td>\n",
       "      <td>586954.0</td>\n",
       "      <td>1.696018e-27</td>\n",
       "      <td>0.643653</td>\n",
       "      <td>468458.0</td>\n",
       "      <td>1.708176e-24</td>\n",
       "      <td>0.643728</td>\n",
       "      <td>...</td>\n",
       "      <td>0.500414</td>\n",
       "      <td>375369.0</td>\n",
       "      <td>8.405916e-09</td>\n",
       "      <td>0.584103</td>\n",
       "      <td>537665.0</td>\n",
       "      <td>1.615136e-33</td>\n",
       "      <td>0.664762</td>\n",
       "      <td>228283.0</td>\n",
       "      <td>0.010453</td>\n",
       "      <td>0.542988</td>\n",
       "    </tr>\n",
       "    <tr>\n",
       "      <th>average</th>\n",
       "      <td>252.120709</td>\n",
       "      <td>1.789302e-55</td>\n",
       "      <td>347.218277</td>\n",
       "      <td>6.991593e-74</td>\n",
       "      <td>1034929.0</td>\n",
       "      <td>6.554593e-43</td>\n",
       "      <td>0.658403</td>\n",
       "      <td>808327.0</td>\n",
       "      <td>2.324851e-40</td>\n",
       "      <td>0.664619</td>\n",
       "      <td>...</td>\n",
       "      <td>0.495485</td>\n",
       "      <td>646123.0</td>\n",
       "      <td>5.748933e-16</td>\n",
       "      <td>0.604106</td>\n",
       "      <td>955683.0</td>\n",
       "      <td>7.101838e-59</td>\n",
       "      <td>0.693290</td>\n",
       "      <td>371731.0</td>\n",
       "      <td>0.000907</td>\n",
       "      <td>0.549688</td>\n",
       "    </tr>\n",
       "  </tbody>\n",
       "</table>\n",
       "<p>93 rows × 22 columns</p>\n",
       "</div>"
      ],
      "text/plain": [
       "                        Kruskal H NEG  Kruskal p NEG  Kruskal H NEAMO  \\\n",
       "SpeciesCommonName                                                       \n",
       "Panda                      210.041102   2.455580e-46       247.194656   \n",
       "Ma's night monkey          231.025530   6.814649e-51       289.788044   \n",
       "American bison             156.872780   8.620027e-35       191.462284   \n",
       "Wild yak                   156.987769   8.138400e-35       200.750491   \n",
       "Cow                        198.450180   8.074041e-44       259.249882   \n",
       "...                               ...            ...              ...   \n",
       "Arctic ground squirrel     248.258430   1.234147e-54       313.693014   \n",
       "Alpaca                      37.164058   8.509958e-09        53.885406   \n",
       "Common wombat              113.226073   2.589827e-25       125.245555   \n",
       "Red fox                    153.870309   3.868004e-34       196.036642   \n",
       "average                    252.120709   1.789302e-55       347.218277   \n",
       "\n",
       "                        Kruskal p NEAMO  Mann U GN     Mann p GN  \\\n",
       "SpeciesCommonName                                                  \n",
       "Panda                      2.617407e-52   672529.0  2.545612e-37   \n",
       "Ma's night monkey          1.727282e-61   716195.0  1.297535e-36   \n",
       "American bison             2.570749e-40   443633.0  1.974700e-28   \n",
       "Wild yak                   2.591293e-42   488638.0  1.349891e-29   \n",
       "Cow                        6.616519e-55   676463.0  6.005384e-35   \n",
       "...                                 ...        ...           ...   \n",
       "Arctic ground squirrel     1.204100e-66   747128.0  2.103225e-42   \n",
       "Alpaca                     5.561619e-11    19772.0  3.451595e-07   \n",
       "Common wombat              4.044696e-26   498907.0  8.993294e-19   \n",
       "Red fox                    2.672388e-41   586954.0  1.696018e-27   \n",
       "average                    6.991593e-74  1034929.0  6.554593e-43   \n",
       "\n",
       "                        Mann CLES GN  Mann U EN     Mann p EN  Mann CLES EN  \\\n",
       "SpeciesCommonName                                                             \n",
       "Panda                       0.664423   525765.0  2.263768e-32      0.663217   \n",
       "Ma's night monkey           0.659999   558395.0  1.773999e-39      0.679933   \n",
       "American bison              0.657602   350038.0  6.436258e-25      0.656524   \n",
       "Wild yak                    0.657125   388288.0  1.048678e-23      0.647924   \n",
       "Cow                         0.658279   532333.0  5.492733e-31      0.658805   \n",
       "...                              ...        ...           ...           ...   \n",
       "Arctic ground squirrel      0.671661   574206.0  2.410950e-39      0.678022   \n",
       "Alpaca                      0.658408    19903.0  8.378094e-08      0.666812   \n",
       "Common wombat               0.620763   403139.0  3.091230e-20      0.634315   \n",
       "Red fox                     0.643653   468458.0  1.708176e-24      0.643728   \n",
       "average                     0.658403   808327.0  2.324851e-40      0.664619   \n",
       "\n",
       "                        ...  Mann CLES GE  Mann U AN     Mann p AN  \\\n",
       "SpeciesCommonName       ...                                          \n",
       "Panda                   ...      0.497284   426394.0  2.705061e-14   \n",
       "Ma's night monkey       ...      0.481631   471727.0  6.711266e-15   \n",
       "American bison          ...      0.498561   291953.0  3.790698e-12   \n",
       "Wild yak                ...      0.505908   325898.0  7.797933e-13   \n",
       "Cow                     ...      0.498598   439432.0  4.211320e-14   \n",
       "...                     ...           ...        ...           ...   \n",
       "Arctic ground squirrel  ...      0.492211   483960.0  5.630397e-17   \n",
       "Alpaca                  ...      0.492387    18634.0  1.946911e-03   \n",
       "Common wombat           ...      0.487969   350182.0  7.370548e-10   \n",
       "Red fox                 ...      0.500414   375369.0  8.405916e-09   \n",
       "average                 ...      0.495485   646123.0  5.748933e-16   \n",
       "\n",
       "                        Mann CLES AN  Mann U MN     Mann p MN  Mann CLES MN  \\\n",
       "SpeciesCommonName                                                             \n",
       "Panda                       0.608830   588307.0  1.447538e-41      0.681621   \n",
       "Ma's night monkey           0.608476   621387.0  2.173369e-47      0.692890   \n",
       "American bison              0.608741   404161.0  2.324427e-34      0.680097   \n",
       "Wild yak                    0.609110   439819.0  1.034526e-35      0.679992   \n",
       "Cow                         0.607106   605994.0  2.415733e-46      0.691575   \n",
       "...                              ...        ...           ...           ...   \n",
       "Arctic ground squirrel      0.616155   658822.0  4.643431e-54      0.704064   \n",
       "Alpaca                      0.595259    16203.0  9.605730e-11      0.717963   \n",
       "Common wombat               0.591674   435467.0  9.171326e-21      0.633130   \n",
       "Red fox                     0.584103   537665.0  1.615136e-33      0.664762   \n",
       "average                     0.604106   955683.0  7.101838e-59      0.693290   \n",
       "\n",
       "                        Mann U ON  Mann p ON  Mann CLES ON  \n",
       "SpeciesCommonName                                           \n",
       "Panda                    257265.0   0.000122      0.563251  \n",
       "Ma's night monkey        271503.0   0.000019      0.569995  \n",
       "American bison           174890.0   0.000021      0.577206  \n",
       "Wild yak                 184025.0   0.001595      0.556168  \n",
       "Cow                      265018.0   0.000051      0.566309  \n",
       "...                           ...        ...           ...  \n",
       "Arctic ground squirrel   280902.0   0.000014      0.570298  \n",
       "Alpaca                     7237.0   0.001928      0.631170  \n",
       "Common wombat            220262.0   0.000005      0.578191  \n",
       "Red fox                  228283.0   0.010453      0.542988  \n",
       "average                  371731.0   0.000907      0.549688  \n",
       "\n",
       "[93 rows x 22 columns]"
      ]
     },
     "execution_count": 74,
     "metadata": {},
     "output_type": "execute_result"
    }
   ],
   "source": [
    "inferential_stats_df"
   ]
  },
  {
   "cell_type": "code",
   "execution_count": 75,
   "metadata": {},
   "outputs": [],
   "source": [
    "# Create and write to excel file for inferential stats\n",
    "\n",
    "# path = '../results/celltype-specific_inferential_stats.xlsx'\n",
    "# writer = pd.ExcelWriter(path, engine = 'xlsxwriter')\n",
    "\n",
    "# inferential_stats_df.to_excel(writer, sheet_name = 'mouse reference genome', index=True) #July 17th, 2020: minor bug fix: include species name as index\n",
    "\n",
    "# writer.save()\n",
    "# writer.close()\n",
    "\n",
    "# # if I want to add tab to existing excel file\n",
    "\n",
    "from openpyxl import load_workbook\n",
    "\n",
    "path = '../results/celltype-specific_inferential_stats.xlsx'\n",
    "book = load_workbook(path)\n",
    "writer = pd.ExcelWriter(path, engine = 'openpyxl') # note the engine\n",
    "# writer = pd.ExcelWriter(path, engine = 'xlsxwriter') # use this engine if creating a new file\n",
    "writer.book = book\n",
    "\n",
    "inferential_stats_df.to_excel(writer, sheet_name = 'mouse reference genome',index=True)\n",
    "\n",
    "writer.save()\n",
    "writer.close()"
   ]
  },
  {
   "cell_type": "markdown",
   "metadata": {},
   "source": [
    "### Mann-Whitney U test of average dN/dS: cell types against Endothelial cell"
   ]
  },
  {
   "cell_type": "code",
   "execution_count": 76,
   "metadata": {},
   "outputs": [
    {
     "data": {
      "text/html": [
       "<div>\n",
       "<style scoped>\n",
       "    .dataframe tbody tr th:only-of-type {\n",
       "        vertical-align: middle;\n",
       "    }\n",
       "\n",
       "    .dataframe tbody tr th {\n",
       "        vertical-align: top;\n",
       "    }\n",
       "\n",
       "    .dataframe thead th {\n",
       "        text-align: right;\n",
       "    }\n",
       "</style>\n",
       "<table border=\"1\" class=\"dataframe\">\n",
       "  <thead>\n",
       "    <tr style=\"text-align: right;\">\n",
       "      <th></th>\n",
       "      <th>U-val</th>\n",
       "      <th>tail</th>\n",
       "      <th>p-val</th>\n",
       "      <th>RBC</th>\n",
       "      <th>CLES</th>\n",
       "    </tr>\n",
       "  </thead>\n",
       "  <tbody>\n",
       "    <tr>\n",
       "      <th>MWU</th>\n",
       "      <td>183234.0</td>\n",
       "      <td>less</td>\n",
       "      <td>1.407527e-15</td>\n",
       "      <td>0.249313</td>\n",
       "      <td>0.624657</td>\n",
       "    </tr>\n",
       "  </tbody>\n",
       "</table>\n",
       "</div>"
      ],
      "text/plain": [
       "        U-val  tail         p-val       RBC      CLES\n",
       "MWU  183234.0  less  1.407527e-15  0.249313  0.624657"
      ]
     },
     "execution_count": 76,
     "metadata": {},
     "output_type": "execute_result"
    }
   ],
   "source": [
    "pg.mwu(\n",
    "        full_dict['average']['oligodendrocyte'],\n",
    "        full_dict['species']['endothelia'],\n",
    "        tail=\"one-sided\"\n",
    ")"
   ]
  },
  {
   "cell_type": "code",
   "execution_count": 83,
   "metadata": {},
   "outputs": [
    {
     "data": {
      "text/html": [
       "<div>\n",
       "<style scoped>\n",
       "    .dataframe tbody tr th:only-of-type {\n",
       "        vertical-align: middle;\n",
       "    }\n",
       "\n",
       "    .dataframe tbody tr th {\n",
       "        vertical-align: top;\n",
       "    }\n",
       "\n",
       "    .dataframe thead th {\n",
       "        text-align: right;\n",
       "    }\n",
       "</style>\n",
       "<table border=\"1\" class=\"dataframe\">\n",
       "  <thead>\n",
       "    <tr style=\"text-align: right;\">\n",
       "      <th></th>\n",
       "      <th>U-val</th>\n",
       "      <th>tail</th>\n",
       "      <th>p-val</th>\n",
       "      <th>RBC</th>\n",
       "      <th>CLES</th>\n",
       "    </tr>\n",
       "  </thead>\n",
       "  <tbody>\n",
       "    <tr>\n",
       "      <th>MWU</th>\n",
       "      <td>336205.0</td>\n",
       "      <td>less</td>\n",
       "      <td>0.000001</td>\n",
       "      <td>0.129102</td>\n",
       "      <td>0.564551</td>\n",
       "    </tr>\n",
       "  </tbody>\n",
       "</table>\n",
       "</div>"
      ],
      "text/plain": [
       "        U-val  tail     p-val       RBC      CLES\n",
       "MWU  336205.0  less  0.000001  0.129102  0.564551"
      ]
     },
     "execution_count": 83,
     "metadata": {},
     "output_type": "execute_result"
    }
   ],
   "source": [
    "pg.mwu(\n",
    "        full_dict['average']['astrocyte'],\n",
    "        full_dict['average']['endothelia'],\n",
    "        tail=\"one-sided\"\n",
    ")"
   ]
  },
  {
   "cell_type": "code",
   "execution_count": 85,
   "metadata": {},
   "outputs": [
    {
     "data": {
      "text/plain": [
       "1.428852114698087e-06"
      ]
     },
     "execution_count": 85,
     "metadata": {},
     "output_type": "execute_result"
    }
   ],
   "source": [
    "pg.mwu(\n",
    "        full_dict['average']['astrocyte'],\n",
    "        full_dict['average']['endothelia'],\n",
    "        tail=\"one-sided\"\n",
    ").iloc[0,2]"
   ]
  },
  {
   "cell_type": "code",
   "execution_count": 86,
   "metadata": {},
   "outputs": [
    {
     "data": {
      "text/html": [
       "<div>\n",
       "<style scoped>\n",
       "    .dataframe tbody tr th:only-of-type {\n",
       "        vertical-align: middle;\n",
       "    }\n",
       "\n",
       "    .dataframe tbody tr th {\n",
       "        vertical-align: top;\n",
       "    }\n",
       "\n",
       "    .dataframe thead th {\n",
       "        text-align: right;\n",
       "    }\n",
       "</style>\n",
       "<table border=\"1\" class=\"dataframe\">\n",
       "  <thead>\n",
       "    <tr style=\"text-align: right;\">\n",
       "      <th></th>\n",
       "      <th>U-val</th>\n",
       "      <th>tail</th>\n",
       "      <th>p-val</th>\n",
       "      <th>RBC</th>\n",
       "      <th>CLES</th>\n",
       "    </tr>\n",
       "  </thead>\n",
       "  <tbody>\n",
       "    <tr>\n",
       "      <th>MWU</th>\n",
       "      <td>536985.0</td>\n",
       "      <td>greater</td>\n",
       "      <td>0.001098</td>\n",
       "      <td>-0.079265</td>\n",
       "      <td>0.539632</td>\n",
       "    </tr>\n",
       "  </tbody>\n",
       "</table>\n",
       "</div>"
      ],
      "text/plain": [
       "        U-val     tail     p-val       RBC      CLES\n",
       "MWU  536985.0  greater  0.001098 -0.079265  0.539632"
      ]
     },
     "execution_count": 86,
     "metadata": {},
     "output_type": "execute_result"
    }
   ],
   "source": [
    "pg.mwu(\n",
    "        full_dict['average']['microglia'],\n",
    "        full_dict['average']['endothelia'],\n",
    "        tail=\"one-sided\"\n",
    ")"
   ]
  },
  {
   "cell_type": "code",
   "execution_count": 108,
   "metadata": {},
   "outputs": [
    {
     "data": {
      "text/plain": [
       "(1062, 1)"
      ]
     },
     "execution_count": 108,
     "metadata": {},
     "output_type": "execute_result"
    },
    {
     "data": {
      "text/plain": [
       "(937, 1)"
      ]
     },
     "execution_count": 108,
     "metadata": {},
     "output_type": "execute_result"
    }
   ],
   "source": [
    "full_dict['average']['microglia'].shape\n",
    "full_dict['average']['endothelia'].shape"
   ]
  },
  {
   "cell_type": "code",
   "execution_count": 87,
   "metadata": {},
   "outputs": [
    {
     "data": {
      "text/plain": [
       "0.001098081113106067"
      ]
     },
     "execution_count": 87,
     "metadata": {},
     "output_type": "execute_result"
    }
   ],
   "source": [
    "pg.mwu(\n",
    "        full_dict['average']['microglia'],\n",
    "        full_dict['average']['endothelia'],\n",
    "        tail=\"one-sided\"\n",
    ").iloc[0,2]"
   ]
  },
  {
   "cell_type": "markdown",
   "metadata": {},
   "source": [
    "### Mann-Whitney U test of average dN/dS: benchmarks against Neuron and Endothelial cell"
   ]
  },
  {
   "cell_type": "code",
   "execution_count": 94,
   "metadata": {},
   "outputs": [],
   "source": [
    "pd.set_option(\"precision\",9) # display 9 decimal places"
   ]
  },
  {
   "cell_type": "code",
   "execution_count": 95,
   "metadata": {},
   "outputs": [
    {
     "name": "stdout",
     "output_type": "stream",
     "text": [
      "hk\n"
     ]
    },
    {
     "data": {
      "text/html": [
       "<div>\n",
       "<style scoped>\n",
       "    .dataframe tbody tr th:only-of-type {\n",
       "        vertical-align: middle;\n",
       "    }\n",
       "\n",
       "    .dataframe tbody tr th {\n",
       "        vertical-align: top;\n",
       "    }\n",
       "\n",
       "    .dataframe thead th {\n",
       "        text-align: right;\n",
       "    }\n",
       "</style>\n",
       "<table border=\"1\" class=\"dataframe\">\n",
       "  <thead>\n",
       "    <tr style=\"text-align: right;\">\n",
       "      <th></th>\n",
       "      <th>U-val</th>\n",
       "      <th>tail</th>\n",
       "      <th>p-val</th>\n",
       "      <th>RBC</th>\n",
       "      <th>CLES</th>\n",
       "    </tr>\n",
       "  </thead>\n",
       "  <tbody>\n",
       "    <tr>\n",
       "      <th>MWU</th>\n",
       "      <td>2255229.0</td>\n",
       "      <td>greater</td>\n",
       "      <td>0.000344961</td>\n",
       "      <td>-0.064296821</td>\n",
       "      <td>0.532148411</td>\n",
       "    </tr>\n",
       "  </tbody>\n",
       "</table>\n",
       "</div>"
      ],
      "text/plain": [
       "         U-val     tail        p-val          RBC         CLES\n",
       "MWU  2255229.0  greater  0.000344961 -0.064296821  0.532148411"
      ]
     },
     "execution_count": 95,
     "metadata": {},
     "output_type": "execute_result"
    },
    {
     "data": {
      "text/html": [
       "<div>\n",
       "<style scoped>\n",
       "    .dataframe tbody tr th:only-of-type {\n",
       "        vertical-align: middle;\n",
       "    }\n",
       "\n",
       "    .dataframe tbody tr th {\n",
       "        vertical-align: top;\n",
       "    }\n",
       "\n",
       "    .dataframe thead th {\n",
       "        text-align: right;\n",
       "    }\n",
       "</style>\n",
       "<table border=\"1\" class=\"dataframe\">\n",
       "  <thead>\n",
       "    <tr style=\"text-align: right;\">\n",
       "      <th></th>\n",
       "      <th>U-val</th>\n",
       "      <th>tail</th>\n",
       "      <th>p-val</th>\n",
       "      <th>RBC</th>\n",
       "      <th>CLES</th>\n",
       "    </tr>\n",
       "  </thead>\n",
       "  <tbody>\n",
       "    <tr>\n",
       "      <th>MWU</th>\n",
       "      <td>1101316.0</td>\n",
       "      <td>less</td>\n",
       "      <td>1.997554498e-39</td>\n",
       "      <td>0.280022097</td>\n",
       "      <td>0.640011048</td>\n",
       "    </tr>\n",
       "  </tbody>\n",
       "</table>\n",
       "</div>"
      ],
      "text/plain": [
       "         U-val  tail            p-val          RBC         CLES\n",
       "MWU  1101316.0  less  1.997554498e-39  0.280022097  0.640011048"
      ]
     },
     "execution_count": 95,
     "metadata": {},
     "output_type": "execute_result"
    },
    {
     "name": "stdout",
     "output_type": "stream",
     "text": [
      "mhc\n"
     ]
    },
    {
     "data": {
      "text/html": [
       "<div>\n",
       "<style scoped>\n",
       "    .dataframe tbody tr th:only-of-type {\n",
       "        vertical-align: middle;\n",
       "    }\n",
       "\n",
       "    .dataframe tbody tr th {\n",
       "        vertical-align: top;\n",
       "    }\n",
       "\n",
       "    .dataframe thead th {\n",
       "        text-align: right;\n",
       "    }\n",
       "</style>\n",
       "<table border=\"1\" class=\"dataframe\">\n",
       "  <thead>\n",
       "    <tr style=\"text-align: right;\">\n",
       "      <th></th>\n",
       "      <th>U-val</th>\n",
       "      <th>tail</th>\n",
       "      <th>p-val</th>\n",
       "      <th>RBC</th>\n",
       "      <th>CLES</th>\n",
       "    </tr>\n",
       "  </thead>\n",
       "  <tbody>\n",
       "    <tr>\n",
       "      <th>MWU</th>\n",
       "      <td>32131.0</td>\n",
       "      <td>greater</td>\n",
       "      <td>1.357060916e-15</td>\n",
       "      <td>-0.904172099</td>\n",
       "      <td>0.95208605</td>\n",
       "    </tr>\n",
       "  </tbody>\n",
       "</table>\n",
       "</div>"
      ],
      "text/plain": [
       "       U-val     tail            p-val          RBC        CLES\n",
       "MWU  32131.0  greater  1.357060916e-15 -0.904172099  0.95208605"
      ]
     },
     "execution_count": 95,
     "metadata": {},
     "output_type": "execute_result"
    },
    {
     "data": {
      "text/html": [
       "<div>\n",
       "<style scoped>\n",
       "    .dataframe tbody tr th:only-of-type {\n",
       "        vertical-align: middle;\n",
       "    }\n",
       "\n",
       "    .dataframe tbody tr th {\n",
       "        vertical-align: top;\n",
       "    }\n",
       "\n",
       "    .dataframe thead th {\n",
       "        text-align: right;\n",
       "    }\n",
       "</style>\n",
       "<table border=\"1\" class=\"dataframe\">\n",
       "  <thead>\n",
       "    <tr style=\"text-align: right;\">\n",
       "      <th></th>\n",
       "      <th>U-val</th>\n",
       "      <th>tail</th>\n",
       "      <th>p-val</th>\n",
       "      <th>RBC</th>\n",
       "      <th>CLES</th>\n",
       "    </tr>\n",
       "  </thead>\n",
       "  <tbody>\n",
       "    <tr>\n",
       "      <th>MWU</th>\n",
       "      <td>21617.0</td>\n",
       "      <td>greater</td>\n",
       "      <td>7.668883799e-12</td>\n",
       "      <td>-0.774649044</td>\n",
       "      <td>0.887324522</td>\n",
       "    </tr>\n",
       "  </tbody>\n",
       "</table>\n",
       "</div>"
      ],
      "text/plain": [
       "       U-val     tail            p-val          RBC         CLES\n",
       "MWU  21617.0  greater  7.668883799e-12 -0.774649044  0.887324522"
      ]
     },
     "execution_count": 95,
     "metadata": {},
     "output_type": "execute_result"
    },
    {
     "name": "stdout",
     "output_type": "stream",
     "text": [
      "atpase\n"
     ]
    },
    {
     "data": {
      "text/html": [
       "<div>\n",
       "<style scoped>\n",
       "    .dataframe tbody tr th:only-of-type {\n",
       "        vertical-align: middle;\n",
       "    }\n",
       "\n",
       "    .dataframe tbody tr th {\n",
       "        vertical-align: top;\n",
       "    }\n",
       "\n",
       "    .dataframe thead th {\n",
       "        text-align: right;\n",
       "    }\n",
       "</style>\n",
       "<table border=\"1\" class=\"dataframe\">\n",
       "  <thead>\n",
       "    <tr style=\"text-align: right;\">\n",
       "      <th></th>\n",
       "      <th>U-val</th>\n",
       "      <th>tail</th>\n",
       "      <th>p-val</th>\n",
       "      <th>RBC</th>\n",
       "      <th>CLES</th>\n",
       "    </tr>\n",
       "  </thead>\n",
       "  <tbody>\n",
       "    <tr>\n",
       "      <th>MWU</th>\n",
       "      <td>68651.0</td>\n",
       "      <td>less</td>\n",
       "      <td>0.057735936</td>\n",
       "      <td>0.088106371</td>\n",
       "      <td>0.544053185</td>\n",
       "    </tr>\n",
       "  </tbody>\n",
       "</table>\n",
       "</div>"
      ],
      "text/plain": [
       "       U-val  tail        p-val          RBC         CLES\n",
       "MWU  68651.0  less  0.057735936  0.088106371  0.544053185"
      ]
     },
     "execution_count": 95,
     "metadata": {},
     "output_type": "execute_result"
    },
    {
     "data": {
      "text/html": [
       "<div>\n",
       "<style scoped>\n",
       "    .dataframe tbody tr th:only-of-type {\n",
       "        vertical-align: middle;\n",
       "    }\n",
       "\n",
       "    .dataframe tbody tr th {\n",
       "        vertical-align: top;\n",
       "    }\n",
       "\n",
       "    .dataframe thead th {\n",
       "        text-align: right;\n",
       "    }\n",
       "</style>\n",
       "<table border=\"1\" class=\"dataframe\">\n",
       "  <thead>\n",
       "    <tr style=\"text-align: right;\">\n",
       "      <th></th>\n",
       "      <th>U-val</th>\n",
       "      <th>tail</th>\n",
       "      <th>p-val</th>\n",
       "      <th>RBC</th>\n",
       "      <th>CLES</th>\n",
       "    </tr>\n",
       "  </thead>\n",
       "  <tbody>\n",
       "    <tr>\n",
       "      <th>MWU</th>\n",
       "      <td>32290.5</td>\n",
       "      <td>less</td>\n",
       "      <td>4.733773022e-13</td>\n",
       "      <td>0.405834836</td>\n",
       "      <td>0.702917418</td>\n",
       "    </tr>\n",
       "  </tbody>\n",
       "</table>\n",
       "</div>"
      ],
      "text/plain": [
       "       U-val  tail            p-val          RBC         CLES\n",
       "MWU  32290.5  less  4.733773022e-13  0.405834836  0.702917418"
      ]
     },
     "execution_count": 95,
     "metadata": {},
     "output_type": "execute_result"
    },
    {
     "name": "stdout",
     "output_type": "stream",
     "text": [
      "immune\n"
     ]
    },
    {
     "data": {
      "text/html": [
       "<div>\n",
       "<style scoped>\n",
       "    .dataframe tbody tr th:only-of-type {\n",
       "        vertical-align: middle;\n",
       "    }\n",
       "\n",
       "    .dataframe tbody tr th {\n",
       "        vertical-align: top;\n",
       "    }\n",
       "\n",
       "    .dataframe thead th {\n",
       "        text-align: right;\n",
       "    }\n",
       "</style>\n",
       "<table border=\"1\" class=\"dataframe\">\n",
       "  <thead>\n",
       "    <tr style=\"text-align: right;\">\n",
       "      <th></th>\n",
       "      <th>U-val</th>\n",
       "      <th>tail</th>\n",
       "      <th>p-val</th>\n",
       "      <th>RBC</th>\n",
       "      <th>CLES</th>\n",
       "    </tr>\n",
       "  </thead>\n",
       "  <tbody>\n",
       "    <tr>\n",
       "      <th>MWU</th>\n",
       "      <td>594815.0</td>\n",
       "      <td>greater</td>\n",
       "      <td>2.762316472e-36</td>\n",
       "      <td>-0.341888749</td>\n",
       "      <td>0.670944374</td>\n",
       "    </tr>\n",
       "  </tbody>\n",
       "</table>\n",
       "</div>"
      ],
      "text/plain": [
       "        U-val     tail            p-val          RBC         CLES\n",
       "MWU  594815.0  greater  2.762316472e-36 -0.341888749  0.670944374"
      ]
     },
     "execution_count": 95,
     "metadata": {},
     "output_type": "execute_result"
    },
    {
     "data": {
      "text/html": [
       "<div>\n",
       "<style scoped>\n",
       "    .dataframe tbody tr th:only-of-type {\n",
       "        vertical-align: middle;\n",
       "    }\n",
       "\n",
       "    .dataframe tbody tr th {\n",
       "        vertical-align: top;\n",
       "    }\n",
       "\n",
       "    .dataframe thead th {\n",
       "        text-align: right;\n",
       "    }\n",
       "</style>\n",
       "<table border=\"1\" class=\"dataframe\">\n",
       "  <thead>\n",
       "    <tr style=\"text-align: right;\">\n",
       "      <th></th>\n",
       "      <th>U-val</th>\n",
       "      <th>tail</th>\n",
       "      <th>p-val</th>\n",
       "      <th>RBC</th>\n",
       "      <th>CLES</th>\n",
       "    </tr>\n",
       "  </thead>\n",
       "  <tbody>\n",
       "    <tr>\n",
       "      <th>MWU</th>\n",
       "      <td>340233.0</td>\n",
       "      <td>greater</td>\n",
       "      <td>0.014717626</td>\n",
       "      <td>-0.063276305</td>\n",
       "      <td>0.531638152</td>\n",
       "    </tr>\n",
       "  </tbody>\n",
       "</table>\n",
       "</div>"
      ],
      "text/plain": [
       "        U-val     tail        p-val          RBC         CLES\n",
       "MWU  340233.0  greater  0.014717626 -0.063276305  0.531638152"
      ]
     },
     "execution_count": 95,
     "metadata": {},
     "output_type": "execute_result"
    },
    {
     "name": "stdout",
     "output_type": "stream",
     "text": [
      "all\n"
     ]
    },
    {
     "data": {
      "text/html": [
       "<div>\n",
       "<style scoped>\n",
       "    .dataframe tbody tr th:only-of-type {\n",
       "        vertical-align: middle;\n",
       "    }\n",
       "\n",
       "    .dataframe tbody tr th {\n",
       "        vertical-align: top;\n",
       "    }\n",
       "\n",
       "    .dataframe thead th {\n",
       "        text-align: right;\n",
       "    }\n",
       "</style>\n",
       "<table border=\"1\" class=\"dataframe\">\n",
       "  <thead>\n",
       "    <tr style=\"text-align: right;\">\n",
       "      <th></th>\n",
       "      <th>U-val</th>\n",
       "      <th>tail</th>\n",
       "      <th>p-val</th>\n",
       "      <th>RBC</th>\n",
       "      <th>CLES</th>\n",
       "    </tr>\n",
       "  </thead>\n",
       "  <tbody>\n",
       "    <tr>\n",
       "      <th>MWU</th>\n",
       "      <td>16437417.5</td>\n",
       "      <td>greater</td>\n",
       "      <td>9.197033849e-77</td>\n",
       "      <td>-0.306338957</td>\n",
       "      <td>0.653169478</td>\n",
       "    </tr>\n",
       "  </tbody>\n",
       "</table>\n",
       "</div>"
      ],
      "text/plain": [
       "          U-val     tail            p-val          RBC         CLES\n",
       "MWU  16437417.5  greater  9.197033849e-77 -0.306338957  0.653169478"
      ]
     },
     "execution_count": 95,
     "metadata": {},
     "output_type": "execute_result"
    },
    {
     "data": {
      "text/html": [
       "<div>\n",
       "<style scoped>\n",
       "    .dataframe tbody tr th:only-of-type {\n",
       "        vertical-align: middle;\n",
       "    }\n",
       "\n",
       "    .dataframe tbody tr th {\n",
       "        vertical-align: top;\n",
       "    }\n",
       "\n",
       "    .dataframe thead th {\n",
       "        text-align: right;\n",
       "    }\n",
       "</style>\n",
       "<table border=\"1\" class=\"dataframe\">\n",
       "  <thead>\n",
       "    <tr style=\"text-align: right;\">\n",
       "      <th></th>\n",
       "      <th>U-val</th>\n",
       "      <th>tail</th>\n",
       "      <th>p-val</th>\n",
       "      <th>RBC</th>\n",
       "      <th>CLES</th>\n",
       "    </tr>\n",
       "  </thead>\n",
       "  <tbody>\n",
       "    <tr>\n",
       "      <th>MWU</th>\n",
       "      <td>9054469.0</td>\n",
       "      <td>greater</td>\n",
       "      <td>0.565226682</td>\n",
       "      <td>0.003171652</td>\n",
       "      <td>0.498414174</td>\n",
       "    </tr>\n",
       "  </tbody>\n",
       "</table>\n",
       "</div>"
      ],
      "text/plain": [
       "         U-val     tail        p-val          RBC         CLES\n",
       "MWU  9054469.0  greater  0.565226682  0.003171652  0.498414174"
      ]
     },
     "execution_count": 95,
     "metadata": {},
     "output_type": "execute_result"
    }
   ],
   "source": [
    "for key, arr in bm_dict.items():\n",
    "    print(key)\n",
    "    pg.mwu(\n",
    "            arr,\n",
    "            full_dict['average']['neuron'],\n",
    "            tail=\"one-sided\"\n",
    "    )\n",
    "    pg.mwu(\n",
    "            arr,\n",
    "            full_dict['average']['endothelia'],\n",
    "            tail=\"one-sided\"\n",
    "    )"
   ]
  },
  {
   "cell_type": "code",
   "execution_count": 96,
   "metadata": {},
   "outputs": [
    {
     "data": {
      "text/html": [
       "<div>\n",
       "<style scoped>\n",
       "    .dataframe tbody tr th:only-of-type {\n",
       "        vertical-align: middle;\n",
       "    }\n",
       "\n",
       "    .dataframe tbody tr th {\n",
       "        vertical-align: top;\n",
       "    }\n",
       "\n",
       "    .dataframe thead th {\n",
       "        text-align: right;\n",
       "    }\n",
       "</style>\n",
       "<table border=\"1\" class=\"dataframe\">\n",
       "  <thead>\n",
       "    <tr style=\"text-align: right;\">\n",
       "      <th></th>\n",
       "      <th>U-val</th>\n",
       "      <th>tail</th>\n",
       "      <th>p-val</th>\n",
       "      <th>RBC</th>\n",
       "      <th>CLES</th>\n",
       "    </tr>\n",
       "  </thead>\n",
       "  <tbody>\n",
       "    <tr>\n",
       "      <th>MWU</th>\n",
       "      <td>68651.0</td>\n",
       "      <td>less</td>\n",
       "      <td>0.057735936</td>\n",
       "      <td>0.088106371</td>\n",
       "      <td>0.544053185</td>\n",
       "    </tr>\n",
       "  </tbody>\n",
       "</table>\n",
       "</div>"
      ],
      "text/plain": [
       "       U-val  tail        p-val          RBC         CLES\n",
       "MWU  68651.0  less  0.057735936  0.088106371  0.544053185"
      ]
     },
     "execution_count": 96,
     "metadata": {},
     "output_type": "execute_result"
    },
    {
     "data": {
      "text/html": [
       "<div>\n",
       "<style scoped>\n",
       "    .dataframe tbody tr th:only-of-type {\n",
       "        vertical-align: middle;\n",
       "    }\n",
       "\n",
       "    .dataframe tbody tr th {\n",
       "        vertical-align: top;\n",
       "    }\n",
       "\n",
       "    .dataframe thead th {\n",
       "        text-align: right;\n",
       "    }\n",
       "</style>\n",
       "<table border=\"1\" class=\"dataframe\">\n",
       "  <thead>\n",
       "    <tr style=\"text-align: right;\">\n",
       "      <th></th>\n",
       "      <th>U-val</th>\n",
       "      <th>tail</th>\n",
       "      <th>p-val</th>\n",
       "      <th>RBC</th>\n",
       "      <th>CLES</th>\n",
       "    </tr>\n",
       "  </thead>\n",
       "  <tbody>\n",
       "    <tr>\n",
       "      <th>MWU</th>\n",
       "      <td>32290.5</td>\n",
       "      <td>less</td>\n",
       "      <td>4.733773022e-13</td>\n",
       "      <td>0.405834836</td>\n",
       "      <td>0.702917418</td>\n",
       "    </tr>\n",
       "  </tbody>\n",
       "</table>\n",
       "</div>"
      ],
      "text/plain": [
       "       U-val  tail            p-val          RBC         CLES\n",
       "MWU  32290.5  less  4.733773022e-13  0.405834836  0.702917418"
      ]
     },
     "execution_count": 96,
     "metadata": {},
     "output_type": "execute_result"
    }
   ],
   "source": [
    "pg.mwu(\n",
    "        bm_dict['atpase'],\n",
    "        full_dict['average']['neuron'],\n",
    "        tail=\"one-sided\"\n",
    ")\n",
    "pg.mwu(\n",
    "        bm_dict['atpase'],\n",
    "        full_dict['average']['endothelia'],\n",
    "        tail=\"one-sided\"\n",
    ")"
   ]
  },
  {
   "cell_type": "markdown",
   "metadata": {},
   "source": [
    "# Visualization"
   ]
  },
  {
   "cell_type": "code",
   "execution_count": null,
   "metadata": {},
   "outputs": [],
   "source": [
    "# import statsmodels.api as sm\n",
    "# import matplotlib.ticker as mtick"
   ]
  },
  {
   "cell_type": "code",
   "execution_count": 22,
   "metadata": {},
   "outputs": [],
   "source": [
    "import matplotlib\n",
    "import matplotlib.pyplot as plt\n",
    "from statannot import add_stat_annotation\n",
    "import seaborn as sns\n",
    "matplotlib.rcParams['figure.dpi']= 300\n",
    "from copy import deepcopy"
   ]
  },
  {
   "cell_type": "code",
   "execution_count": 23,
   "metadata": {},
   "outputs": [],
   "source": [
    "graph_dict = deepcopy(full_dict)\n",
    "graph_df = pd.DataFrame(columns=['dNdS','Species','Celltype'])\n",
    "for celltype in celltype_list:\n",
    "    for species in species_list:\n",
    "        graph_dict[species][celltype]=pd.DataFrame(graph_dict[species][celltype],columns=['dNdS'])\n",
    "        graph_dict[species][celltype]=graph_dict[species][celltype].assign(Species=species)\n",
    "        graph_dict[species][celltype]=graph_dict[species][celltype].assign(Celltype=celltype)\n",
    "        graph_df=graph_df.append(graph_dict[species][celltype][['dNdS','Species','Celltype']],ignore_index=True)\n",
    "graph_df=pd.merge(common_name_df,graph_df,left_index=True,right_on='Species',how='right')\n",
    "graph_df.set_index('SpeciesCommonName',inplace=True)\n",
    "graph_df.drop(['SpeciesLatinName','Order','Species'],axis=1,inplace=True)"
   ]
  },
  {
   "cell_type": "code",
   "execution_count": 24,
   "metadata": {},
   "outputs": [
    {
     "data": {
      "text/html": [
       "<div>\n",
       "<style scoped>\n",
       "    .dataframe tbody tr th:only-of-type {\n",
       "        vertical-align: middle;\n",
       "    }\n",
       "\n",
       "    .dataframe tbody tr th {\n",
       "        vertical-align: top;\n",
       "    }\n",
       "\n",
       "    .dataframe thead th {\n",
       "        text-align: right;\n",
       "    }\n",
       "</style>\n",
       "<table border=\"1\" class=\"dataframe\">\n",
       "  <thead>\n",
       "    <tr style=\"text-align: right;\">\n",
       "      <th></th>\n",
       "      <th>dNdS</th>\n",
       "      <th>Celltype</th>\n",
       "    </tr>\n",
       "    <tr>\n",
       "      <th>SpeciesCommonName</th>\n",
       "      <th></th>\n",
       "      <th></th>\n",
       "    </tr>\n",
       "  </thead>\n",
       "  <tbody>\n",
       "    <tr>\n",
       "      <th>Panda</th>\n",
       "      <td>0.210556</td>\n",
       "      <td>neuron</td>\n",
       "    </tr>\n",
       "    <tr>\n",
       "      <th>Panda</th>\n",
       "      <td>0.306745</td>\n",
       "      <td>neuron</td>\n",
       "    </tr>\n",
       "    <tr>\n",
       "      <th>Panda</th>\n",
       "      <td>0.252119</td>\n",
       "      <td>neuron</td>\n",
       "    </tr>\n",
       "    <tr>\n",
       "      <th>Panda</th>\n",
       "      <td>0.380407</td>\n",
       "      <td>neuron</td>\n",
       "    </tr>\n",
       "    <tr>\n",
       "      <th>Panda</th>\n",
       "      <td>0.131689</td>\n",
       "      <td>neuron</td>\n",
       "    </tr>\n",
       "    <tr>\n",
       "      <th>...</th>\n",
       "      <td>...</td>\n",
       "      <td>...</td>\n",
       "    </tr>\n",
       "    <tr>\n",
       "      <th>average</th>\n",
       "      <td>0.077988</td>\n",
       "      <td>oligodendrocyte</td>\n",
       "    </tr>\n",
       "    <tr>\n",
       "      <th>average</th>\n",
       "      <td>0.052152</td>\n",
       "      <td>oligodendrocyte</td>\n",
       "    </tr>\n",
       "    <tr>\n",
       "      <th>average</th>\n",
       "      <td>0.036849</td>\n",
       "      <td>oligodendrocyte</td>\n",
       "    </tr>\n",
       "    <tr>\n",
       "      <th>average</th>\n",
       "      <td>0.108997</td>\n",
       "      <td>oligodendrocyte</td>\n",
       "    </tr>\n",
       "    <tr>\n",
       "      <th>average</th>\n",
       "      <td>0.397521</td>\n",
       "      <td>oligodendrocyte</td>\n",
       "    </tr>\n",
       "  </tbody>\n",
       "</table>\n",
       "<p>394013 rows × 2 columns</p>\n",
       "</div>"
      ],
      "text/plain": [
       "                       dNdS         Celltype\n",
       "SpeciesCommonName                           \n",
       "Panda              0.210556           neuron\n",
       "Panda              0.306745           neuron\n",
       "Panda              0.252119           neuron\n",
       "Panda              0.380407           neuron\n",
       "Panda              0.131689           neuron\n",
       "...                     ...              ...\n",
       "average            0.077988  oligodendrocyte\n",
       "average            0.052152  oligodendrocyte\n",
       "average            0.036849  oligodendrocyte\n",
       "average            0.108997  oligodendrocyte\n",
       "average            0.397521  oligodendrocyte\n",
       "\n",
       "[394013 rows x 2 columns]"
      ]
     },
     "execution_count": 24,
     "metadata": {},
     "output_type": "execute_result"
    }
   ],
   "source": [
    "graph_df"
   ]
  },
  {
   "cell_type": "code",
   "execution_count": 25,
   "metadata": {},
   "outputs": [],
   "source": [
    "# get a list of species common names\n",
    "species_common_list=common_name_df['SpeciesCommonName'].to_list()\n",
    "species_common_list.remove('Mouse')"
   ]
  },
  {
   "cell_type": "code",
   "execution_count": 26,
   "metadata": {},
   "outputs": [],
   "source": [
    "sns.set_style('ticks')"
   ]
  },
  {
   "cell_type": "code",
   "execution_count": 27,
   "metadata": {},
   "outputs": [],
   "source": [
    "palette={'endothelia':'tab:blue','glia':'tab:green','neuron':'tab:red','oligodendrocyte':'lightblue','astrocyte':'lightgreen','microglia':'tab:orange'}"
   ]
  },
  {
   "cell_type": "code",
   "execution_count": 97,
   "metadata": {},
   "outputs": [],
   "source": [
    "for species in species_common_list:\n",
    "    data=graph_df.loc[species,:]\n",
    "    fig = plt.figure(figsize=(10,7.5))\n",
    "    ax = fig.add_subplot(111)\n",
    "    ax = sns.boxplot(y=\"dNdS\", x=\"Celltype\", data=data,showfliers=False,palette=palette)\n",
    "    ax.set_yscale('log')\n",
    "    _=ax.set_ylim(0.0005,1)\n",
    "    #ax.set_xticklabels(ax.get_xticklabels(), rotation=40, ha=\"right\")\n",
    "    sns.despine()\n",
    "    stats = add_stat_annotation(ax=ax,data=data,x=\"Celltype\", y=\"dNdS\",\n",
    "                        box_pairs=[(\"endothelia\", \"neuron\"),\n",
    "                                   (\"endothelia\", \"glia\"),\n",
    "                                   (\"glia\",\"neuron\"),\n",
    "                                   (\"astrocyte\",\"neuron\"),\n",
    "                                   (\"microglia\",\"neuron\"),\n",
    "                                   (\"oligodendrocyte\",\"neuron\"),\n",
    "                                   (\"astrocyte\",\"microglia\"),\n",
    "                                   (\"microglia\",\"oligodendrocyte\"),\n",
    "                                   (\"astrocyte\",\"oligodendrocyte\")],\n",
    "                        test='Mann-Whitney', text_format='star',\n",
    "                        loc='outside', verbose=0)\n",
    "    pd.DataFrame(stats[1]).to_csv('../results/mouse.celltype-specific_genes/protein-coding_w_dNdS/MannWhitney/'+species+'.tsv',sep='\\t',index=False)\n",
    "#     ax.set_xlabel(\"Cell Types\")\n",
    "    _=ax.set_ylabel(\"dN/dS of Cell Type-specific Genes\")\n",
    "    plt.savefig('../figures/MannWhitney/mouse_reference_genome/'+species+'.pdf')\n",
    "    plt.close()"
   ]
  },
  {
   "cell_type": "code",
   "execution_count": 70,
   "metadata": {},
   "outputs": [
    {
     "data": {
      "image/png": "[encoded data removed]",
      "text/plain": [
       "<Figure size 3000x2250 with 1 Axes>"
      ]
     },
     "metadata": {},
     "output_type": "display_data"
    }
   ],
   "source": [
    "# Figure with some representitive species\n",
    "data=graph_df[graph_df['dNdS']!=0].reset_index()\n",
    "data=data[data['SpeciesCommonName'].isin(['Human','Rat','Opposum','Megabat','Tasmanian devil','Cat','Pig','average'])]\n",
    "fig = plt.figure(figsize=(10,7.5))\n",
    "ax = fig.add_subplot()\n",
    "# flierprops = dict(marker='o',markerfacecolor='1', markersize=2,linestyle='none')\n",
    "whis=[15, 85]\n",
    "ax = sns.boxplot(x=\"SpeciesCommonName\", y=\"dNdS\", hue=\"Celltype\", data=data, palette=palette, whis=whis, showfliers=False)\n",
    "_=ax.set(yscale='log')\n",
    "_=ax.set_ylim(0.0005,1)\n",
    "_=ax.set_xticklabels(ax.get_xticklabels(), rotation=40, ha=\"right\")\n",
    "_=ax.legend(loc='upper center', bbox_to_anchor=(0.5,1.1),ncol=3)\n",
    "_=ax.set_xlabel(\"\")\n",
    "_=ax.set_ylabel(\"dN/dS of Cell Type-specific Genes\")\n",
    "plt.autoscale()\n",
    "# plt.savefig('../figures/mouse.boxplots.pdf')\n",
    "plt.show()"
   ]
  },
  {
   "cell_type": "code",
   "execution_count": 21,
   "metadata": {},
   "outputs": [],
   "source": [
    "# n_df=pd.DataFrame()\n",
    "# n_df['dNdS']=pd.Series(n_array)\n",
    "# n_df['celltype']='Neuron'\n",
    "# e_df=pd.DataFrame()\n",
    "# e_df['dNdS']=pd.Series(e_array)\n",
    "# e_df['celltype']='Endothelial Cell'\n",
    "# g_df=pd.DataFrame()\n",
    "# g_df['dNdS']=pd.Series(g_array)\n",
    "# g_df['celltype']='Glial Cell'\n",
    "# df=pd.concat([e_df,g_df,n_df])"
   ]
  },
  {
   "cell_type": "code",
   "execution_count": 30,
   "metadata": {},
   "outputs": [
    {
     "data": {
      "text/html": [
       "<div>\n",
       "<style scoped>\n",
       "    .dataframe tbody tr th:only-of-type {\n",
       "        vertical-align: middle;\n",
       "    }\n",
       "\n",
       "    .dataframe tbody tr th {\n",
       "        vertical-align: top;\n",
       "    }\n",
       "\n",
       "    .dataframe thead th {\n",
       "        text-align: right;\n",
       "    }\n",
       "</style>\n",
       "<table border=\"1\" class=\"dataframe\">\n",
       "  <thead>\n",
       "    <tr style=\"text-align: right;\">\n",
       "      <th></th>\n",
       "      <th>SpeciesCommonName</th>\n",
       "      <th>dNdS</th>\n",
       "      <th>Celltype</th>\n",
       "    </tr>\n",
       "  </thead>\n",
       "  <tbody>\n",
       "    <tr>\n",
       "      <th>0</th>\n",
       "      <td>Panda</td>\n",
       "      <td>0.210556</td>\n",
       "      <td>neuron</td>\n",
       "    </tr>\n",
       "    <tr>\n",
       "      <th>1</th>\n",
       "      <td>Panda</td>\n",
       "      <td>0.306745</td>\n",
       "      <td>neuron</td>\n",
       "    </tr>\n",
       "    <tr>\n",
       "      <th>2</th>\n",
       "      <td>Panda</td>\n",
       "      <td>0.252119</td>\n",
       "      <td>neuron</td>\n",
       "    </tr>\n",
       "    <tr>\n",
       "      <th>3</th>\n",
       "      <td>Panda</td>\n",
       "      <td>0.380407</td>\n",
       "      <td>neuron</td>\n",
       "    </tr>\n",
       "    <tr>\n",
       "      <th>4</th>\n",
       "      <td>Panda</td>\n",
       "      <td>0.131689</td>\n",
       "      <td>neuron</td>\n",
       "    </tr>\n",
       "    <tr>\n",
       "      <th>...</th>\n",
       "      <td>...</td>\n",
       "      <td>...</td>\n",
       "      <td>...</td>\n",
       "    </tr>\n",
       "    <tr>\n",
       "      <th>230307</th>\n",
       "      <td>Red fox</td>\n",
       "      <td>0.059611</td>\n",
       "      <td>glia</td>\n",
       "    </tr>\n",
       "    <tr>\n",
       "      <th>230308</th>\n",
       "      <td>Red fox</td>\n",
       "      <td>0.206826</td>\n",
       "      <td>glia</td>\n",
       "    </tr>\n",
       "    <tr>\n",
       "      <th>230309</th>\n",
       "      <td>Red fox</td>\n",
       "      <td>0.302362</td>\n",
       "      <td>glia</td>\n",
       "    </tr>\n",
       "    <tr>\n",
       "      <th>230310</th>\n",
       "      <td>Red fox</td>\n",
       "      <td>0.094507</td>\n",
       "      <td>glia</td>\n",
       "    </tr>\n",
       "    <tr>\n",
       "      <th>230311</th>\n",
       "      <td>Red fox</td>\n",
       "      <td>0.053107</td>\n",
       "      <td>glia</td>\n",
       "    </tr>\n",
       "  </tbody>\n",
       "</table>\n",
       "<p>228077 rows × 3 columns</p>\n",
       "</div>"
      ],
      "text/plain": [
       "       SpeciesCommonName      dNdS Celltype\n",
       "0                  Panda  0.210556   neuron\n",
       "1                  Panda  0.306745   neuron\n",
       "2                  Panda  0.252119   neuron\n",
       "3                  Panda  0.380407   neuron\n",
       "4                  Panda  0.131689   neuron\n",
       "...                  ...       ...      ...\n",
       "230307           Red fox  0.059611     glia\n",
       "230308           Red fox  0.206826     glia\n",
       "230309           Red fox  0.302362     glia\n",
       "230310           Red fox  0.094507     glia\n",
       "230311           Red fox  0.053107     glia\n",
       "\n",
       "[228077 rows x 3 columns]"
      ]
     },
     "execution_count": 30,
     "metadata": {},
     "output_type": "execute_result"
    }
   ],
   "source": [
    "data"
   ]
  },
  {
   "cell_type": "code",
   "execution_count": 75,
   "metadata": {},
   "outputs": [
    {
     "data": {
      "text/plain": [
       "[None]"
      ]
     },
     "execution_count": 75,
     "metadata": {},
     "output_type": "execute_result"
    },
    {
     "data": {
      "text/plain": [
       "(0.0008, 6)"
      ]
     },
     "execution_count": 75,
     "metadata": {},
     "output_type": "execute_result"
    },
    {
     "data": {
      "text/plain": [
       "[Text(0, 0.5, 'all pairwise dN/dS scores'), Text(0.5, 0, '')]"
      ]
     },
     "execution_count": 75,
     "metadata": {},
     "output_type": "execute_result"
    },
    {
     "name": "stdout",
     "output_type": "stream",
     "text": [
      "p-value annotation legend:\n",
      "ns: 1.00e-04 < p <= 1.00e+00\n",
      "*: 1.00e-05 < p <= 1.00e-04\n",
      "**: 1.00e-06 < p <= 1.00e-05\n",
      "***: 1.00e-07 < p <= 1.00e-06\n",
      "****: p <= 1.00e-07\n",
      "\n",
      "endothelia v.s. glia: Mann-Whitney-Wilcoxon test two-sided, P_val=3.340e-01 U_stat=2.479e+09\n",
      "glia v.s. neuron: Mann-Whitney-Wilcoxon test two-sided, P_val=0.000e+00 U_stat=4.510e+09\n",
      "endothelia v.s. neuron: Mann-Whitney-Wilcoxon test two-sided, P_val=0.000e+00 U_stat=3.478e+09\n"
     ]
    },
    {
     "data": {
      "image/png": "[encoded data removed]",
      "text/plain": [
       "<Figure size 1800x1200 with 1 Axes>"
      ]
     },
     "metadata": {},
     "output_type": "display_data"
    }
   ],
   "source": [
    "data=graph_df[graph_df['dNdS']!=0].reset_index()\n",
    "data=data[data['Celltype'].isin(['neuron','endothelia','glia'])]\n",
    "data=data[data['SpeciesCommonName']!='average']\n",
    "\n",
    "fig = plt.figure()\n",
    "ax = fig.add_subplot(111)\n",
    "ax.set(yscale='log')\n",
    "ax.set_ylim(0.0008,6)\n",
    "\n",
    "ax=sns.boxenplot(x='Celltype',y='dNdS',data=data,palette=palette,showfliers=False,outlier_prop=0,order=['endothelia','glia','neuron'])\n",
    "ax.set(ylabel='all pairwise dN/dS scores',xlabel='')\n",
    "sns.despine()\n",
    "# conservative p value threshold for significance set at 0.0001, i.e., 1e-4\n",
    "stats = add_stat_annotation(ax=ax,data=data,x=\"Celltype\", y=\"dNdS\",order=['endothelia','glia','neuron'],\n",
    "                        box_pairs=[(\"endothelia\", \"glia\"),\n",
    "                                   (\"endothelia\", \"neuron\"),\n",
    "                                   (\"glia\",\"neuron\")],\n",
    "                        test='Mann-Whitney', text_format='star',\n",
    "                        comparisons_correction=None,\n",
    "                        pvalue_thresholds=[[1e-7, \"****\"], [1e-6, \"***\"], [1e-5, \"**\"], [1e-4, \"*\"], [1, \"ns\"]],\n",
    "                        loc='outside', verbose=2)\n",
    "# plt.autoscale()\n",
    "plt.savefig('../figures/MannWhitney/mouse_reference_genome/all_92species_conservative.svg')\n",
    "plt.show()"
   ]
  },
  {
   "cell_type": "code",
   "execution_count": 57,
   "metadata": {},
   "outputs": [
    {
     "data": {
      "text/plain": [
       "[None]"
      ]
     },
     "execution_count": 57,
     "metadata": {},
     "output_type": "execute_result"
    },
    {
     "data": {
      "text/plain": [
       "(0.0008, 6)"
      ]
     },
     "execution_count": 57,
     "metadata": {},
     "output_type": "execute_result"
    },
    {
     "data": {
      "text/plain": [
       "[Text(0, 0.5, 'all pairwise dN/dS scores'), Text(0.5, 0, '')]"
      ]
     },
     "execution_count": 57,
     "metadata": {},
     "output_type": "execute_result"
    },
    {
     "name": "stdout",
     "output_type": "stream",
     "text": [
      "endothelia v.s. glia: Mann-Whitney-Wilcoxon test two-sided, P_val=3.340e-01 U_stat=2.479e+09\n",
      "glia v.s. neuron: Mann-Whitney-Wilcoxon test two-sided, P_val=0.000e+00 U_stat=4.510e+09\n",
      "endothelia v.s. neuron: Mann-Whitney-Wilcoxon test two-sided, P_val=0.000e+00 U_stat=3.478e+09\n"
     ]
    },
    {
     "data": {
      "image/png": "[encoded data removed]",
      "text/plain": [
       "<Figure size 1800x1200 with 1 Axes>"
      ]
     },
     "metadata": {},
     "output_type": "display_data"
    }
   ],
   "source": [
    "data=graph_df[graph_df['dNdS']!=0].reset_index()\n",
    "data=data[data['Celltype'].isin(['neuron','endothelia','glia'])]\n",
    "data=data[data['SpeciesCommonName']!='average']\n",
    "\n",
    "fig = plt.figure()\n",
    "ax = fig.add_subplot(111)\n",
    "ax.set(yscale='log')\n",
    "ax.set_ylim(0.0008,6)\n",
    "\n",
    "ax=sns.boxenplot(x='Celltype',y='dNdS',data=data,palette=palette,showfliers=False,outlier_prop=0,order=['endothelia','glia','neuron'])\n",
    "ax.set(ylabel='all pairwise dN/dS scores',xlabel='')\n",
    "sns.despine()\n",
    "# conservative p value threshold for significance set at 0.0001, i.e., 1e-4\n",
    "stats = add_stat_annotation(ax=ax,data=data,x=\"Celltype\", y=\"dNdS\",order=['endothelia','glia','neuron'],\n",
    "                        box_pairs=[(\"endothelia\", \"glia\"),\n",
    "                                   (\"endothelia\", \"neuron\"),\n",
    "                                   (\"glia\",\"neuron\")],\n",
    "                        test='Mann-Whitney', text_format='full',\n",
    "                        comparisons_correction=None,\n",
    "                        loc='outside', verbose=2)\n",
    "# plt.autoscale()\n",
    "# plt.savefig('../figures/MannWhitney/mouse_reference_genome/all_92species_conservative.pdf')\n",
    "plt.show()"
   ]
  },
  {
   "cell_type": "markdown",
   "metadata": {},
   "source": [
    "### log transform dN/dS data and run t test"
   ]
  },
  {
   "cell_type": "code",
   "execution_count": 49,
   "metadata": {},
   "outputs": [],
   "source": [
    "log_data=data.copy(deep=True)"
   ]
  },
  {
   "cell_type": "code",
   "execution_count": 50,
   "metadata": {},
   "outputs": [],
   "source": [
    "log_data['log_dNdS']=np.log10(log_data['dNdS'])"
   ]
  },
  {
   "cell_type": "code",
   "execution_count": 54,
   "metadata": {},
   "outputs": [
    {
     "data": {
      "text/html": [
       "<div>\n",
       "<style scoped>\n",
       "    .dataframe tbody tr th:only-of-type {\n",
       "        vertical-align: middle;\n",
       "    }\n",
       "\n",
       "    .dataframe tbody tr th {\n",
       "        vertical-align: top;\n",
       "    }\n",
       "\n",
       "    .dataframe thead th {\n",
       "        text-align: right;\n",
       "    }\n",
       "</style>\n",
       "<table border=\"1\" class=\"dataframe\">\n",
       "  <thead>\n",
       "    <tr style=\"text-align: right;\">\n",
       "      <th></th>\n",
       "      <th>SpeciesCommonName</th>\n",
       "      <th>dNdS</th>\n",
       "      <th>Celltype</th>\n",
       "      <th>log_dNdS</th>\n",
       "    </tr>\n",
       "  </thead>\n",
       "  <tbody>\n",
       "    <tr>\n",
       "      <th>0</th>\n",
       "      <td>Panda</td>\n",
       "      <td>0.210556</td>\n",
       "      <td>neuron</td>\n",
       "      <td>-0.676633</td>\n",
       "    </tr>\n",
       "    <tr>\n",
       "      <th>1</th>\n",
       "      <td>Panda</td>\n",
       "      <td>0.306745</td>\n",
       "      <td>neuron</td>\n",
       "      <td>-0.513222</td>\n",
       "    </tr>\n",
       "    <tr>\n",
       "      <th>2</th>\n",
       "      <td>Panda</td>\n",
       "      <td>0.252119</td>\n",
       "      <td>neuron</td>\n",
       "      <td>-0.598395</td>\n",
       "    </tr>\n",
       "    <tr>\n",
       "      <th>3</th>\n",
       "      <td>Panda</td>\n",
       "      <td>0.380407</td>\n",
       "      <td>neuron</td>\n",
       "      <td>-0.419752</td>\n",
       "    </tr>\n",
       "    <tr>\n",
       "      <th>4</th>\n",
       "      <td>Panda</td>\n",
       "      <td>0.131689</td>\n",
       "      <td>neuron</td>\n",
       "      <td>-0.880452</td>\n",
       "    </tr>\n",
       "    <tr>\n",
       "      <th>...</th>\n",
       "      <td>...</td>\n",
       "      <td>...</td>\n",
       "      <td>...</td>\n",
       "      <td>...</td>\n",
       "    </tr>\n",
       "    <tr>\n",
       "      <th>230307</th>\n",
       "      <td>Red fox</td>\n",
       "      <td>0.059611</td>\n",
       "      <td>glia</td>\n",
       "      <td>-1.224671</td>\n",
       "    </tr>\n",
       "    <tr>\n",
       "      <th>230308</th>\n",
       "      <td>Red fox</td>\n",
       "      <td>0.206826</td>\n",
       "      <td>glia</td>\n",
       "      <td>-0.684394</td>\n",
       "    </tr>\n",
       "    <tr>\n",
       "      <th>230309</th>\n",
       "      <td>Red fox</td>\n",
       "      <td>0.302362</td>\n",
       "      <td>glia</td>\n",
       "      <td>-0.519473</td>\n",
       "    </tr>\n",
       "    <tr>\n",
       "      <th>230310</th>\n",
       "      <td>Red fox</td>\n",
       "      <td>0.094507</td>\n",
       "      <td>glia</td>\n",
       "      <td>-1.024537</td>\n",
       "    </tr>\n",
       "    <tr>\n",
       "      <th>230311</th>\n",
       "      <td>Red fox</td>\n",
       "      <td>0.053107</td>\n",
       "      <td>glia</td>\n",
       "      <td>-1.274848</td>\n",
       "    </tr>\n",
       "  </tbody>\n",
       "</table>\n",
       "<p>228077 rows × 4 columns</p>\n",
       "</div>"
      ],
      "text/plain": [
       "       SpeciesCommonName      dNdS Celltype  log_dNdS\n",
       "0                  Panda  0.210556   neuron -0.676633\n",
       "1                  Panda  0.306745   neuron -0.513222\n",
       "2                  Panda  0.252119   neuron -0.598395\n",
       "3                  Panda  0.380407   neuron -0.419752\n",
       "4                  Panda  0.131689   neuron -0.880452\n",
       "...                  ...       ...      ...       ...\n",
       "230307           Red fox  0.059611     glia -1.224671\n",
       "230308           Red fox  0.206826     glia -0.684394\n",
       "230309           Red fox  0.302362     glia -0.519473\n",
       "230310           Red fox  0.094507     glia -1.024537\n",
       "230311           Red fox  0.053107     glia -1.274848\n",
       "\n",
       "[228077 rows x 4 columns]"
      ]
     },
     "execution_count": 54,
     "metadata": {},
     "output_type": "execute_result"
    }
   ],
   "source": [
    "log_data"
   ]
  },
  {
   "cell_type": "code",
   "execution_count": 55,
   "metadata": {},
   "outputs": [
    {
     "data": {
      "text/plain": [
       "[Text(0, 0.5, 'all pairwise dN/dS scores'), Text(0.5, 0, '')]"
      ]
     },
     "execution_count": 55,
     "metadata": {},
     "output_type": "execute_result"
    },
    {
     "name": "stdout",
     "output_type": "stream",
     "text": [
      "p-value annotation legend:\n",
      "ns: 1.00e-04 < p <= 1.00e+00\n",
      "*: 1.00e-05 < p <= 1.00e-04\n",
      "**: 1.00e-06 < p <= 1.00e-05\n",
      "***: 1.00e-07 < p <= 1.00e-06\n",
      "****: p <= 1.00e-07\n",
      "\n",
      "endothelia v.s. glia: t-test independent samples, P_val=8.590e-01 stat=1.776e-01\n",
      "glia v.s. neuron: t-test independent samples, P_val=0.000e+00 stat=1.077e+02\n",
      "endothelia v.s. neuron: t-test independent samples, P_val=0.000e+00 stat=9.960e+01\n"
     ]
    },
    {
     "data": {
      "image/png": "[encoded data removed]",
      "text/plain": [
       "<Figure size 1800x1200 with 1 Axes>"
      ]
     },
     "metadata": {},
     "output_type": "display_data"
    }
   ],
   "source": [
    "fig = plt.figure()\n",
    "ax = fig.add_subplot(111)\n",
    "# ax.set(yscale='log')\n",
    "# ax.set_ylim(0.0008,6)\n",
    "\n",
    "ax=sns.boxenplot(x='Celltype',y='log_dNdS',data=log_data,palette=palette,showfliers=False,outlier_prop=0,order=['endothelia','glia','neuron'])\n",
    "ax.set(ylabel='all pairwise dN/dS scores',xlabel='')\n",
    "sns.despine()\n",
    "# conservative p value threshold for significance set at 0.0001, i.e., 1e-4\n",
    "stats = add_stat_annotation(ax=ax,data=log_data,x=\"Celltype\", y=\"log_dNdS\",order=['endothelia','glia','neuron'],\n",
    "                        box_pairs=[(\"endothelia\", \"glia\"),\n",
    "                                   (\"endothelia\", \"neuron\"),\n",
    "                                   (\"glia\",\"neuron\")],\n",
    "                        test='t-test_ind', text_format='star',\n",
    "                        comparisons_correction=None,\n",
    "                        pvalue_thresholds=[[1e-7, \"****\"], [1e-6, \"***\"], [1e-5, \"**\"], [1e-4, \"*\"], [1, \"ns\"]],\n",
    "                        loc='outside', verbose=2)\n",
    "# plt.autoscale()\n",
    "plt.show()"
   ]
  },
  {
   "cell_type": "code",
   "execution_count": null,
   "metadata": {},
   "outputs": [],
   "source": []
  }
 ],
 "metadata": {
  "kernelspec": {
   "display_name": "Python 3",
   "language": "python",
   "name": "python3"
  },
  "language_info": {
   "codemirror_mode": {
    "name": "ipython",
    "version": 3
   },
   "file_extension": ".py",
   "mimetype": "text/x-python",
   "name": "python",
   "nbconvert_exporter": "python",
   "pygments_lexer": "ipython3",
   "version": "3.8.3"
  }
 },
 "nbformat": 4,
 "nbformat_minor": 4
}
