{
 "cells": [
  {
   "cell_type": "markdown",
   "metadata": {},
   "source": [
    "Adapted from human.all_genes.ipynb"
   ]
  },
  {
   "cell_type": "code",
   "execution_count": 1,
   "metadata": {},
   "outputs": [],
   "source": [
    "import numpy as np\n",
    "import pandas as pd\n",
    "import glob\n",
    "from IPython.core.interactiveshell import InteractiveShell\n",
    "InteractiveShell.ast_node_interactivity = \"all\"\n",
    "pd.set_option('display.max_rows', 10)"
   ]
  },
  {
   "cell_type": "code",
   "execution_count": 20,
   "metadata": {},
   "outputs": [],
   "source": [
    "from functools import reduce"
   ]
  },
  {
   "cell_type": "markdown",
   "metadata": {
    "tags": []
   },
   "source": [
    "# Average dN/dS"
   ]
  },
  {
   "cell_type": "code",
   "execution_count": 7,
   "metadata": {},
   "outputs": [],
   "source": [
    "# Define a function for calculating dN/dS when both dN and dS is zero. \n",
    "def weird_division(df):\n",
    "    if df[5]==0 and df[6]==0:\n",
    "        return 0\n",
    "    elif df[5]==0:\n",
    "        return 0\n",
    "    elif df[6]==0:\n",
    "        return np.NaN\n",
    "    return df[5] / df[6]"
   ]
  },
  {
   "cell_type": "markdown",
   "metadata": {},
   "source": [
    "Import ortholog information, including dN and dS, which was downloaded from Ensembl 98. "
   ]
  },
  {
   "cell_type": "code",
   "execution_count": 16,
   "metadata": {},
   "outputs": [],
   "source": [
    "df_list = []\n",
    "for file in sorted(glob.glob('../results/Ensembl98_chicken/chicken_protein_coding_genes.*.txt')):\n",
    "    species_code_name = (file[58:-4])\n",
    "#     print(species_code_name)\n",
    "    df = pd.read_csv(file, sep='\\t', header=None, na_values=('ortholog_one2many', 'ortholog_many2many') ,index_col=[0,1])\n",
    "    df = pd.DataFrame(df.dropna().drop_duplicates().apply(weird_division, axis=1),columns=[species_code_name+'_dNdS'])\n",
    "    df.index.set_names(['Gene stable ID','Gene name'],inplace=True)\n",
    "    df_list.append(df.dropna().drop_duplicates())"
   ]
  },
  {
   "cell_type": "code",
   "execution_count": 28,
   "metadata": {},
   "outputs": [
    {
     "data": {
      "text/plain": [
       "30"
      ]
     },
     "execution_count": 28,
     "metadata": {},
     "output_type": "execute_result"
    }
   ],
   "source": [
    "len(df_list)"
   ]
  },
  {
   "cell_type": "code",
   "execution_count": 19,
   "metadata": {},
   "outputs": [
    {
     "data": {
      "text/html": [
       "<div>\n",
       "<style scoped>\n",
       "    .dataframe tbody tr th:only-of-type {\n",
       "        vertical-align: middle;\n",
       "    }\n",
       "\n",
       "    .dataframe tbody tr th {\n",
       "        vertical-align: top;\n",
       "    }\n",
       "\n",
       "    .dataframe thead th {\n",
       "        text-align: right;\n",
       "    }\n",
       "</style>\n",
       "<table border=\"1\" class=\"dataframe\">\n",
       "  <thead>\n",
       "    <tr style=\"text-align: right;\">\n",
       "      <th></th>\n",
       "      <th></th>\n",
       "      <th>abrachyrhynchus_dNdS</th>\n",
       "    </tr>\n",
       "    <tr>\n",
       "      <th>Gene stable ID</th>\n",
       "      <th>Gene name</th>\n",
       "      <th></th>\n",
       "    </tr>\n",
       "  </thead>\n",
       "  <tbody>\n",
       "    <tr>\n",
       "      <th>ENSGALG00000009692</th>\n",
       "      <th>SH3RF1</th>\n",
       "      <td>0.120964</td>\n",
       "    </tr>\n",
       "    <tr>\n",
       "      <th>ENSGALG00000004571</th>\n",
       "      <th>PPP1CC</th>\n",
       "      <td>0.053981</td>\n",
       "    </tr>\n",
       "    <tr>\n",
       "      <th>ENSGALG00000009966</th>\n",
       "      <th>FRS2</th>\n",
       "      <td>0.041991</td>\n",
       "    </tr>\n",
       "    <tr>\n",
       "      <th>ENSGALG00000034421</th>\n",
       "      <th>SENP1</th>\n",
       "      <td>0.204625</td>\n",
       "    </tr>\n",
       "    <tr>\n",
       "      <th>ENSGALG00000036738</th>\n",
       "      <th>IGSF3</th>\n",
       "      <td>0.043960</td>\n",
       "    </tr>\n",
       "    <tr>\n",
       "      <th>...</th>\n",
       "      <th>...</th>\n",
       "      <td>...</td>\n",
       "    </tr>\n",
       "    <tr>\n",
       "      <th>ENSGALG00000033656</th>\n",
       "      <th>DQX1</th>\n",
       "      <td>0.053220</td>\n",
       "    </tr>\n",
       "    <tr>\n",
       "      <th>ENSGALG00000006134</th>\n",
       "      <th>HOGA1</th>\n",
       "      <td>0.091229</td>\n",
       "    </tr>\n",
       "    <tr>\n",
       "      <th>ENSGALG00000041309</th>\n",
       "      <th>ALKBH3</th>\n",
       "      <td>0.223664</td>\n",
       "    </tr>\n",
       "    <tr>\n",
       "      <th>ENSGALG00000045317</th>\n",
       "      <th>NHLRC4</th>\n",
       "      <td>0.154679</td>\n",
       "    </tr>\n",
       "    <tr>\n",
       "      <th>ENSGALG00000040316</th>\n",
       "      <th>GPC1</th>\n",
       "      <td>0.073333</td>\n",
       "    </tr>\n",
       "  </tbody>\n",
       "</table>\n",
       "<p>11654 rows × 1 columns</p>\n",
       "</div>"
      ],
      "text/plain": [
       "                              abrachyrhynchus_dNdS\n",
       "Gene stable ID     Gene name                      \n",
       "ENSGALG00000009692 SH3RF1                 0.120964\n",
       "ENSGALG00000004571 PPP1CC                 0.053981\n",
       "ENSGALG00000009966 FRS2                   0.041991\n",
       "ENSGALG00000034421 SENP1                  0.204625\n",
       "ENSGALG00000036738 IGSF3                  0.043960\n",
       "...                                            ...\n",
       "ENSGALG00000033656 DQX1                   0.053220\n",
       "ENSGALG00000006134 HOGA1                  0.091229\n",
       "ENSGALG00000041309 ALKBH3                 0.223664\n",
       "ENSGALG00000045317 NHLRC4                 0.154679\n",
       "ENSGALG00000040316 GPC1                   0.073333\n",
       "\n",
       "[11654 rows x 1 columns]"
      ]
     },
     "execution_count": 19,
     "metadata": {},
     "output_type": "execute_result"
    }
   ],
   "source": [
    "df_list[0]"
   ]
  },
  {
   "cell_type": "code",
   "execution_count": 21,
   "metadata": {},
   "outputs": [],
   "source": [
    "integrate_df = reduce(lambda x, y: pd.merge(x, y, left_index=True, right_index=True, how='outer'),df_list)"
   ]
  },
  {
   "cell_type": "code",
   "execution_count": 29,
   "metadata": {},
   "outputs": [
    {
     "data": {
      "text/plain": [
       "Index(['abrachyrhynchus_dNdS', 'acarolinensis_dNdS', 'ahaastii_dNdS',\n",
       "       'aowenii_dNdS', 'applatyrhynchos_dNdS', 'arowi_dNdS',\n",
       "       'cabingdonii_dNdS', 'ccaeruleus_dNdS', 'cjaponica_dNdS',\n",
       "       'cpbellii_dNdS', 'cporosus_dNdS', 'cpugnax_dNdS', 'cpygmaea_dNdS',\n",
       "       'dnovaehollandiae_dNdS', 'falbicollis_dNdS', 'gagassizii_dNdS',\n",
       "       'jhyemalis_dNdS', 'lcoronata_dNdS', 'lsdomestica_dNdS',\n",
       "       'mgallopavo_dNdS', 'mundulatus_dNdS', 'mvitellinus_dNdS',\n",
       "       'nmeleagris_dNdS', 'nperdicaria_dNdS', 'pmajor_dNdS', 'psinensis_dNdS',\n",
       "       'scanaria_dNdS', 'smerianae_dNdS', 'spunctatus_dNdS',\n",
       "       'zalbicollis_dNdS'],\n",
       "      dtype='object')"
      ]
     },
     "execution_count": 29,
     "metadata": {},
     "output_type": "execute_result"
    }
   ],
   "source": [
    "integrate_df.columns"
   ]
  },
  {
   "cell_type": "markdown",
   "metadata": {},
   "source": [
    "Calculate the statistics of each human protein-coding gene."
   ]
  },
  {
   "cell_type": "code",
   "execution_count": 24,
   "metadata": {},
   "outputs": [],
   "source": [
    "stats_df = integrate_df.apply(pd.DataFrame.describe, axis=1)"
   ]
  },
  {
   "cell_type": "code",
   "execution_count": 25,
   "metadata": {},
   "outputs": [
    {
     "data": {
      "text/html": [
       "<div>\n",
       "<style scoped>\n",
       "    .dataframe tbody tr th:only-of-type {\n",
       "        vertical-align: middle;\n",
       "    }\n",
       "\n",
       "    .dataframe tbody tr th {\n",
       "        vertical-align: top;\n",
       "    }\n",
       "\n",
       "    .dataframe thead th {\n",
       "        text-align: right;\n",
       "    }\n",
       "</style>\n",
       "<table border=\"1\" class=\"dataframe\">\n",
       "  <thead>\n",
       "    <tr style=\"text-align: right;\">\n",
       "      <th></th>\n",
       "      <th></th>\n",
       "      <th>count</th>\n",
       "      <th>mean</th>\n",
       "      <th>std</th>\n",
       "      <th>min</th>\n",
       "      <th>25%</th>\n",
       "      <th>50%</th>\n",
       "      <th>75%</th>\n",
       "      <th>max</th>\n",
       "    </tr>\n",
       "    <tr>\n",
       "      <th>Gene stable ID</th>\n",
       "      <th>Gene name</th>\n",
       "      <th></th>\n",
       "      <th></th>\n",
       "      <th></th>\n",
       "      <th></th>\n",
       "      <th></th>\n",
       "      <th></th>\n",
       "      <th></th>\n",
       "      <th></th>\n",
       "    </tr>\n",
       "  </thead>\n",
       "  <tbody>\n",
       "    <tr>\n",
       "      <th>ENSGALG00000000003</th>\n",
       "      <th>PANX2</th>\n",
       "      <td>29.0</td>\n",
       "      <td>0.069405</td>\n",
       "      <td>0.024910</td>\n",
       "      <td>0.032274</td>\n",
       "      <td>0.055618</td>\n",
       "      <td>0.063331</td>\n",
       "      <td>0.082282</td>\n",
       "      <td>0.131676</td>\n",
       "    </tr>\n",
       "    <tr>\n",
       "      <th>ENSGALG00000000011</th>\n",
       "      <th>C10orf88</th>\n",
       "      <td>19.0</td>\n",
       "      <td>0.396707</td>\n",
       "      <td>0.108293</td>\n",
       "      <td>0.133712</td>\n",
       "      <td>0.320246</td>\n",
       "      <td>0.409735</td>\n",
       "      <td>0.470563</td>\n",
       "      <td>0.586503</td>\n",
       "    </tr>\n",
       "    <tr>\n",
       "      <th>ENSGALG00000000044</th>\n",
       "      <th>WFIKKN1</th>\n",
       "      <td>26.0</td>\n",
       "      <td>0.030648</td>\n",
       "      <td>0.031813</td>\n",
       "      <td>0.000999</td>\n",
       "      <td>0.001050</td>\n",
       "      <td>0.034224</td>\n",
       "      <td>0.043835</td>\n",
       "      <td>0.123722</td>\n",
       "    </tr>\n",
       "    <tr>\n",
       "      <th>ENSGALG00000000048</th>\n",
       "      <th>NaN</th>\n",
       "      <td>19.0</td>\n",
       "      <td>0.048765</td>\n",
       "      <td>0.043083</td>\n",
       "      <td>0.001242</td>\n",
       "      <td>0.031045</td>\n",
       "      <td>0.035015</td>\n",
       "      <td>0.056529</td>\n",
       "      <td>0.189826</td>\n",
       "    </tr>\n",
       "    <tr>\n",
       "      <th>ENSGALG00000000055</th>\n",
       "      <th>LAMTOR3</th>\n",
       "      <td>16.0</td>\n",
       "      <td>0.062023</td>\n",
       "      <td>0.054064</td>\n",
       "      <td>0.002640</td>\n",
       "      <td>0.036443</td>\n",
       "      <td>0.055103</td>\n",
       "      <td>0.064609</td>\n",
       "      <td>0.215841</td>\n",
       "    </tr>\n",
       "    <tr>\n",
       "      <th>...</th>\n",
       "      <th>...</th>\n",
       "      <td>...</td>\n",
       "      <td>...</td>\n",
       "      <td>...</td>\n",
       "      <td>...</td>\n",
       "      <td>...</td>\n",
       "      <td>...</td>\n",
       "      <td>...</td>\n",
       "      <td>...</td>\n",
       "    </tr>\n",
       "    <tr>\n",
       "      <th>ENSGALG00000055075</th>\n",
       "      <th>FMNL3</th>\n",
       "      <td>18.0</td>\n",
       "      <td>0.028027</td>\n",
       "      <td>0.017700</td>\n",
       "      <td>0.001033</td>\n",
       "      <td>0.016585</td>\n",
       "      <td>0.028823</td>\n",
       "      <td>0.042328</td>\n",
       "      <td>0.050868</td>\n",
       "    </tr>\n",
       "    <tr>\n",
       "      <th>ENSGALG00000055081</th>\n",
       "      <th>SEMA4C</th>\n",
       "      <td>16.0</td>\n",
       "      <td>0.046023</td>\n",
       "      <td>0.027878</td>\n",
       "      <td>0.001538</td>\n",
       "      <td>0.044365</td>\n",
       "      <td>0.048761</td>\n",
       "      <td>0.055266</td>\n",
       "      <td>0.118243</td>\n",
       "    </tr>\n",
       "    <tr>\n",
       "      <th>ENSGALG00000055094</th>\n",
       "      <th>CD63</th>\n",
       "      <td>8.0</td>\n",
       "      <td>0.042108</td>\n",
       "      <td>0.077337</td>\n",
       "      <td>0.002879</td>\n",
       "      <td>0.005171</td>\n",
       "      <td>0.008934</td>\n",
       "      <td>0.035832</td>\n",
       "      <td>0.229987</td>\n",
       "    </tr>\n",
       "    <tr>\n",
       "      <th>ENSGALG00000055101</th>\n",
       "      <th>TASOR2</th>\n",
       "      <td>18.0</td>\n",
       "      <td>0.353952</td>\n",
       "      <td>0.152249</td>\n",
       "      <td>0.072121</td>\n",
       "      <td>0.284065</td>\n",
       "      <td>0.342623</td>\n",
       "      <td>0.441898</td>\n",
       "      <td>0.624340</td>\n",
       "    </tr>\n",
       "    <tr>\n",
       "      <th>ENSGALG00000055127</th>\n",
       "      <th>NaN</th>\n",
       "      <td>1.0</td>\n",
       "      <td>0.353103</td>\n",
       "      <td>NaN</td>\n",
       "      <td>0.353103</td>\n",
       "      <td>0.353103</td>\n",
       "      <td>0.353103</td>\n",
       "      <td>0.353103</td>\n",
       "      <td>0.353103</td>\n",
       "    </tr>\n",
       "  </tbody>\n",
       "</table>\n",
       "<p>13510 rows × 8 columns</p>\n",
       "</div>"
      ],
      "text/plain": [
       "                              count      mean       std       min       25%  \\\n",
       "Gene stable ID     Gene name                                                  \n",
       "ENSGALG00000000003 PANX2       29.0  0.069405  0.024910  0.032274  0.055618   \n",
       "ENSGALG00000000011 C10orf88    19.0  0.396707  0.108293  0.133712  0.320246   \n",
       "ENSGALG00000000044 WFIKKN1     26.0  0.030648  0.031813  0.000999  0.001050   \n",
       "ENSGALG00000000048 NaN         19.0  0.048765  0.043083  0.001242  0.031045   \n",
       "ENSGALG00000000055 LAMTOR3     16.0  0.062023  0.054064  0.002640  0.036443   \n",
       "...                             ...       ...       ...       ...       ...   \n",
       "ENSGALG00000055075 FMNL3       18.0  0.028027  0.017700  0.001033  0.016585   \n",
       "ENSGALG00000055081 SEMA4C      16.0  0.046023  0.027878  0.001538  0.044365   \n",
       "ENSGALG00000055094 CD63         8.0  0.042108  0.077337  0.002879  0.005171   \n",
       "ENSGALG00000055101 TASOR2      18.0  0.353952  0.152249  0.072121  0.284065   \n",
       "ENSGALG00000055127 NaN          1.0  0.353103       NaN  0.353103  0.353103   \n",
       "\n",
       "                                   50%       75%       max  \n",
       "Gene stable ID     Gene name                                \n",
       "ENSGALG00000000003 PANX2      0.063331  0.082282  0.131676  \n",
       "ENSGALG00000000011 C10orf88   0.409735  0.470563  0.586503  \n",
       "ENSGALG00000000044 WFIKKN1    0.034224  0.043835  0.123722  \n",
       "ENSGALG00000000048 NaN        0.035015  0.056529  0.189826  \n",
       "ENSGALG00000000055 LAMTOR3    0.055103  0.064609  0.215841  \n",
       "...                                ...       ...       ...  \n",
       "ENSGALG00000055075 FMNL3      0.028823  0.042328  0.050868  \n",
       "ENSGALG00000055081 SEMA4C     0.048761  0.055266  0.118243  \n",
       "ENSGALG00000055094 CD63       0.008934  0.035832  0.229987  \n",
       "ENSGALG00000055101 TASOR2     0.342623  0.441898  0.624340  \n",
       "ENSGALG00000055127 NaN        0.353103  0.353103  0.353103  \n",
       "\n",
       "[13510 rows x 8 columns]"
      ]
     },
     "execution_count": 25,
     "metadata": {},
     "output_type": "execute_result"
    }
   ],
   "source": [
    "stats_df"
   ]
  },
  {
   "cell_type": "markdown",
   "metadata": {},
   "source": [
    "Save the tables. "
   ]
  },
  {
   "cell_type": "code",
   "execution_count": 30,
   "metadata": {},
   "outputs": [],
   "source": [
    "integrate_df.to_csv('../results/Ensembl98_chicken/chicken.30_species_dNdS.all_genes.tsv',sep='\\t')"
   ]
  },
  {
   "cell_type": "code",
   "execution_count": 31,
   "metadata": {},
   "outputs": [],
   "source": [
    "stats_df.to_csv('../results/Ensembl98_chicken/chicken.dNdS_stats.all_genes.tsv',sep='\\t')"
   ]
  }
 ],
 "metadata": {
  "kernelspec": {
   "display_name": "Python 3",
   "language": "python",
   "name": "python3"
  },
  "language_info": {
   "codemirror_mode": {
    "name": "ipython",
    "version": 3
   },
   "file_extension": ".py",
   "mimetype": "text/x-python",
   "name": "python",
   "nbconvert_exporter": "python",
   "pygments_lexer": "ipython3",
   "version": "3.8.11"
  }
 },
 "nbformat": 4,
 "nbformat_minor": 4
}
