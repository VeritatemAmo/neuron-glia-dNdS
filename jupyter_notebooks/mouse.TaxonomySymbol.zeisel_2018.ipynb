{
 "cells": [
  {
   "cell_type": "markdown",
   "id": "4a8a65ad-a6e3-4cfe-afd0-2a9922e685df",
   "metadata": {},
   "source": [
    "This script takes loom file from Zeisel et al., 2018 and output the list of TaxonomySymbol from column attributes. This list will then be matched to the Taxonomy_group values found in supplementary table 3 from the paper. This will be used for grouping clusters in the loom file. "
   ]
  },
  {
   "cell_type": "code",
   "execution_count": 1,
   "id": "9c54f530-5e1a-4318-a279-9441c33b57c7",
   "metadata": {},
   "outputs": [],
   "source": [
    "import numpy as np\n",
    "import loompy"
   ]
  },
  {
   "cell_type": "code",
   "execution_count": 2,
   "id": "45f521d9-bb4b-486f-8ace-de07d90c0193",
   "metadata": {},
   "outputs": [],
   "source": [
    "agg = loompy.connect('../data/single-cell/zeisel_2018/l5_all.agg.loom')"
   ]
  },
  {
   "cell_type": "code",
   "execution_count": 3,
   "id": "3cf27a73-8d8b-4fd1-9947-78763452f342",
   "metadata": {},
   "outputs": [],
   "source": [
    "with open('../data/single-cell/zeisel_2018/TaxonomySymbol_list.txt', 'w') as fp:\n",
    "    for item in np.unique(agg.ca.TaxonomySymbol).tolist():\n",
    "        fp.write(\"%s\\n\" % item)"
   ]
  },
  {
   "cell_type": "code",
   "execution_count": 4,
   "id": "96ba1315-6ae9-4fba-801b-ef013f160a76",
   "metadata": {},
   "outputs": [],
   "source": [
    "agg.close()"
   ]
  },
  {
   "cell_type": "code",
   "execution_count": null,
   "id": "71cb6359-a872-4582-b441-a0dbcd5431c3",
   "metadata": {},
   "outputs": [],
   "source": []
  }
 ],
 "metadata": {
  "kernelspec": {
   "display_name": "Python 3 (ipykernel)",
   "language": "python",
   "name": "python3"
  },
  "language_info": {
   "codemirror_mode": {
    "name": "ipython",
    "version": 3
   },
   "file_extension": ".py",
   "mimetype": "text/x-python",
   "name": "python",
   "nbconvert_exporter": "python",
   "pygments_lexer": "ipython3",
   "version": "3.8.13"
  }
 },
 "nbformat": 4,
 "nbformat_minor": 5
}
