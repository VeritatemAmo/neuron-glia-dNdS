{
 "cells": [
  {
   "cell_type": "code",
   "execution_count": 1,
   "id": "fdf1cad0-8b1d-4d92-a9bf-7e2296425ffd",
   "metadata": {},
   "outputs": [],
   "source": [
    "import loompy"
   ]
  },
  {
   "cell_type": "code",
   "execution_count": 138,
   "id": "6b058cbe-3353-4a1d-9960-e5be00a04e1e",
   "metadata": {},
   "outputs": [],
   "source": [
    "import tables as tb"
   ]
  },
  {
   "cell_type": "code",
   "execution_count": 160,
   "id": "0dedefeb-7cf9-4c12-ad5a-1c8af635b101",
   "metadata": {},
   "outputs": [],
   "source": [
    "import matplotlib.pyplot as plt"
   ]
  },
  {
   "cell_type": "code",
   "execution_count": 161,
   "id": "78b03b40-8f58-415a-803f-02a8f82eab1d",
   "metadata": {},
   "outputs": [],
   "source": [
    "import seaborn as sns"
   ]
  },
  {
   "cell_type": "code",
   "execution_count": 139,
   "id": "d6da1335-c238-4bd5-8494-55d5afa76d8a",
   "metadata": {},
   "outputs": [],
   "source": [
    "fileh = tb.open_file('../data/single-cell/zeisel_2018/l5_all.agg.loom',mode='r')"
   ]
  },
  {
   "cell_type": "code",
   "execution_count": 140,
   "id": "7ecbdaab-75de-4b51-ac45-9699618e52b1",
   "metadata": {},
   "outputs": [
    {
     "data": {
      "text/plain": [
       "/ (RootGroup) ''\n",
       "  children := ['attrs' (Group), 'col_attrs' (Group), 'col_graphs' (Group), 'layers' (Group), 'row_attrs' (Group), 'row_graphs' (Group), 'matrix' (EArray)]"
      ]
     },
     "execution_count": 140,
     "metadata": {},
     "output_type": "execute_result"
    }
   ],
   "source": [
    "fileh.root"
   ]
  },
  {
   "cell_type": "code",
   "execution_count": 2,
   "id": "01b269df-c679-4d59-a179-c2b9558433ad",
   "metadata": {},
   "outputs": [],
   "source": [
    "agg = loompy.connect('../data/single-cell/zeisel_2018/l5_all.agg.loom')"
   ]
  },
  {
   "cell_type": "code",
   "execution_count": 271,
   "id": "81835a30-5aca-40a6-8cbb-61d7ded5912a",
   "metadata": {},
   "outputs": [],
   "source": [
    "agg.close()"
   ]
  },
  {
   "cell_type": "code",
   "execution_count": 3,
   "id": "b356b70e-26b7-47de-88e3-1959423225cb",
   "metadata": {},
   "outputs": [
    {
     "data": {
      "text/plain": [
       "(27998, 265)"
      ]
     },
     "execution_count": 3,
     "metadata": {},
     "output_type": "execute_result"
    }
   ],
   "source": [
    "agg.shape"
   ]
  },
  {
   "cell_type": "markdown",
   "id": "0ab84115-c199-4fc7-a8e9-f8f3e7b2dccb",
   "metadata": {},
   "source": [
    "This matrix stores the expression level of 27998 \"genes\" in 265 \"clusters\". "
   ]
  },
  {
   "cell_type": "code",
   "execution_count": 133,
   "id": "adab4869-dbe4-497d-a61e-1b584e61dc63",
   "metadata": {},
   "outputs": [
    {
     "data": {
      "text/plain": [
       "array([[13.97633136,  0.42268041],\n",
       "       [ 0.39053254,  0.        ]])"
      ]
     },
     "execution_count": 133,
     "metadata": {},
     "output_type": "execute_result"
    }
   ],
   "source": [
    "agg[0:2,0:2]"
   ]
  },
  {
   "cell_type": "code",
   "execution_count": 137,
   "id": "b095b1f5-1a36-4599-ab8a-924a9528e0cc",
   "metadata": {},
   "outputs": [
    {
     "data": {
      "text/plain": [
       "['', 'enrichment', 'enrichment_q', 'trinaries', 'trinaries_0.05']"
      ]
     },
     "execution_count": 137,
     "metadata": {},
     "output_type": "execute_result"
    }
   ],
   "source": [
    "agg.layers.keys()"
   ]
  },
  {
   "cell_type": "code",
   "execution_count": 147,
   "id": "6dd96cf6-491e-48f7-9e63-7a66e367200d",
   "metadata": {},
   "outputs": [
    {
     "data": {
      "text/plain": [
       "array([[1.00000000e+00, 7.06841243e-01],\n",
       "       [9.99817775e-01, 1.30853550e-09]])"
      ]
     },
     "execution_count": 147,
     "metadata": {},
     "output_type": "execute_result"
    }
   ],
   "source": [
    "# estimate wether a gene is expressed, not expressed, or unknown\n",
    "agg.layers['trinaries'][0:2,0:2]"
   ]
  },
  {
   "cell_type": "code",
   "execution_count": 158,
   "id": "3a5c4133-5148-4d80-8c01-b076f60115a8",
   "metadata": {},
   "outputs": [],
   "source": [
    "tri_arr = agg.layers['trinaries'][:,:]"
   ]
  },
  {
   "cell_type": "code",
   "execution_count": 215,
   "id": "91658205-1f6f-4148-92a9-7bf7e183ac04",
   "metadata": {},
   "outputs": [
    {
     "data": {
      "text/plain": [
       "(27998, 265)"
      ]
     },
     "execution_count": 215,
     "metadata": {},
     "output_type": "execute_result"
    }
   ],
   "source": [
    "tri_arr.shape"
   ]
  },
  {
   "cell_type": "code",
   "execution_count": 230,
   "id": "5521112e-f95f-44bf-8d97-0a76d69e202d",
   "metadata": {},
   "outputs": [
    {
     "data": {
      "text/plain": [
       "['', 'enrichment', 'enrichment_q', 'trinaries', 'trinaries_0.05']"
      ]
     },
     "execution_count": 230,
     "metadata": {},
     "output_type": "execute_result"
    }
   ],
   "source": [
    "agg.layers.keys()"
   ]
  },
  {
   "cell_type": "code",
   "execution_count": 241,
   "id": "cb3ff625-6906-4e28-8b8e-8465c5cfccc7",
   "metadata": {},
   "outputs": [
    {
     "data": {
      "text/plain": [
       "[<matplotlib.lines.Line2D at 0x7fcb380d77c0>]"
      ]
     },
     "execution_count": 241,
     "metadata": {},
     "output_type": "execute_result"
    },
    {
     "data": {
      "image/png": "[encoded data removed]",
      "text/plain": [
       "<Figure size 432x288 with 1 Axes>"
      ]
     },
     "metadata": {
      "needs_background": "light"
     },
     "output_type": "display_data"
    }
   ],
   "source": [
    "plt.plot(agg['trinaries'][0:10000,0].tolist(),agg['trinaries_0.05'][0:10000,0].tolist(),'.')"
   ]
  },
  {
   "cell_type": "markdown",
   "id": "da78aeb1-0a1a-4fa5-ab59-f4a5e62c380a",
   "metadata": {},
   "source": [
    "The above fig shows that when trinaries score is near 1, trinaries_0.05 must be near 1 as well; when trinaries score is near 0, it is still possible to have trinaries_0.05 scores near 1. That is, it is much harder to make a expressed call at the trinaries condition than the trinaries_0.05 condition. I think trinaries scores are recorded at f=0.2, aka, trinarization based on whether more than 20% of cells in the population expressed the gene; trinaries_0.05 scores are recorded at f=0.05, aka, thether more than 5% of cells in the population expressed the gene. "
   ]
  },
  {
   "cell_type": "code",
   "execution_count": 252,
   "id": "fcf41e23-141f-4797-97ab-b6e39cf9e4d2",
   "metadata": {},
   "outputs": [
    {
     "data": {
      "text/plain": [
       "numpy.float64"
      ]
     },
     "execution_count": 252,
     "metadata": {},
     "output_type": "execute_result"
    }
   ],
   "source": [
    "type(agg['trinaries'][0,0])"
   ]
  },
  {
   "cell_type": "code",
   "execution_count": 242,
   "id": "573a4c33-2812-4a29-80ec-cb5a5073635f",
   "metadata": {},
   "outputs": [
    {
     "data": {
      "text/plain": [
       "-2.9103830456733704e-11"
      ]
     },
     "execution_count": 242,
     "metadata": {},
     "output_type": "execute_result"
    }
   ],
   "source": [
    "agg['trinaries_0.05'][:,:].min()"
   ]
  },
  {
   "cell_type": "code",
   "execution_count": 243,
   "id": "fa006154-3d1e-4820-8e7c-02b7d03eb4e1",
   "metadata": {},
   "outputs": [
    {
     "data": {
      "text/plain": [
       "1.0"
      ]
     },
     "execution_count": 243,
     "metadata": {},
     "output_type": "execute_result"
    }
   ],
   "source": [
    "agg['trinaries_0.05'][:,:].max()"
   ]
  },
  {
   "cell_type": "code",
   "execution_count": 244,
   "id": "b3ef32a5-c6e7-422d-8d13-a111cabb1f04",
   "metadata": {},
   "outputs": [
    {
     "data": {
      "text/plain": [
       "-4.3655745685100555e-11"
      ]
     },
     "execution_count": 244,
     "metadata": {},
     "output_type": "execute_result"
    }
   ],
   "source": [
    "agg['trinaries'][:,:].min()"
   ]
  },
  {
   "cell_type": "code",
   "execution_count": 247,
   "id": "ac109bfa-3f2d-47f3-91ac-065e2fd87898",
   "metadata": {},
   "outputs": [
    {
     "data": {
      "text/plain": [
       "1.0"
      ]
     },
     "execution_count": 247,
     "metadata": {},
     "output_type": "execute_result"
    }
   ],
   "source": [
    "agg['trinaries'][:,:].max()"
   ]
  },
  {
   "cell_type": "code",
   "execution_count": 218,
   "id": "438e7b31-7fd0-402e-b66a-d8c0b11166a9",
   "metadata": {},
   "outputs": [
    {
     "data": {
      "text/plain": [
       "(27998, 265)"
      ]
     },
     "execution_count": 218,
     "metadata": {},
     "output_type": "execute_result"
    }
   ],
   "source": [
    "agg['trinaries'].shape"
   ]
  },
  {
   "cell_type": "code",
   "execution_count": 221,
   "id": "b5a7e849-393e-483e-b0d2-3abc52ff0020",
   "metadata": {},
   "outputs": [
    {
     "data": {
      "text/plain": [
       "(265,)"
      ]
     },
     "execution_count": 221,
     "metadata": {},
     "output_type": "execute_result"
    }
   ],
   "source": [
    "(agg.ca[\"TaxonomyRank1\"] == 'Glia').shape"
   ]
  },
  {
   "cell_type": "code",
   "execution_count": 223,
   "id": "d4890d7a-185e-48fd-89aa-b2ceb373f67c",
   "metadata": {},
   "outputs": [
    {
     "data": {
      "text/plain": [
       "(27998, 36)"
      ]
     },
     "execution_count": 223,
     "metadata": {},
     "output_type": "execute_result"
    }
   ],
   "source": [
    "agg['trinaries'][:,agg.ca[\"TaxonomyRank1\"] == 'Glia'].shape"
   ]
  },
  {
   "cell_type": "code",
   "execution_count": 224,
   "id": "4885aea4-0f18-49cf-803e-2a08497b6f7c",
   "metadata": {},
   "outputs": [
    {
     "data": {
      "text/plain": [
       "(27998,)"
      ]
     },
     "execution_count": 224,
     "metadata": {},
     "output_type": "execute_result"
    }
   ],
   "source": [
    "np.all(agg['trinaries'][:,agg.ca[\"TaxonomyRank1\"] == 'Glia']>0.999, axis=1).shape"
   ]
  },
  {
   "cell_type": "code",
   "execution_count": 226,
   "id": "c5181f88-d5de-485d-9ddf-af9845d3d2c2",
   "metadata": {},
   "outputs": [
    {
     "data": {
      "text/plain": [
       "array([False, False, False, ..., False, False, False])"
      ]
     },
     "execution_count": 226,
     "metadata": {},
     "output_type": "execute_result"
    }
   ],
   "source": [
    "np.all(agg['trinaries'][:,agg.ca[\"TaxonomyRank1\"] == 'Glia']>0.999, axis=1)"
   ]
  },
  {
   "cell_type": "code",
   "execution_count": 163,
   "id": "a4c03be4-1c38-4d4c-9ac9-bb2252b1a40a",
   "metadata": {},
   "outputs": [
    {
     "data": {
      "image/png": "[encoded data removed]",
      "text/plain": [
       "<Figure size 432x288 with 1 Axes>"
      ]
     },
     "metadata": {
      "needs_background": "light"
     },
     "output_type": "display_data"
    }
   ],
   "source": [
    "n, bins, patches = plt.hist(tri_arr)\n",
    "plt.show()"
   ]
  },
  {
   "cell_type": "code",
   "execution_count": 253,
   "id": "a32df667-75ce-4dc6-aea3-140c4ccc0d91",
   "metadata": {},
   "outputs": [
    {
     "data": {
      "text/plain": [
       "584664"
      ]
     },
     "execution_count": 253,
     "metadata": {},
     "output_type": "execute_result"
    }
   ],
   "source": [
    "(tri_arr>0.999).sum()"
   ]
  },
  {
   "cell_type": "code",
   "execution_count": 254,
   "id": "d598e8a0-5005-4106-a65e-89ab2a536e82",
   "metadata": {},
   "outputs": [
    {
     "data": {
      "text/plain": [
       "766436"
      ]
     },
     "execution_count": 254,
     "metadata": {},
     "output_type": "execute_result"
    }
   ],
   "source": [
    "(tri_arr>0.9).sum()"
   ]
  },
  {
   "cell_type": "code",
   "execution_count": 255,
   "id": "c4900f0e-80c2-43dc-9edb-cad43940d724",
   "metadata": {},
   "outputs": [
    {
     "data": {
      "text/plain": [
       "299013"
      ]
     },
     "execution_count": 255,
     "metadata": {},
     "output_type": "execute_result"
    }
   ],
   "source": [
    "(tri_arr==1).sum()"
   ]
  },
  {
   "cell_type": "code",
   "execution_count": 149,
   "id": "613af188-c160-4d5a-8b15-0792aba20b8e",
   "metadata": {},
   "outputs": [
    {
     "data": {
      "text/plain": [
       "array([[1.        , 1.        ],\n",
       "       [1.        , 0.01708425]])"
      ]
     },
     "execution_count": 149,
     "metadata": {},
     "output_type": "execute_result"
    }
   ],
   "source": [
    "# posterior error probability PEP=0.05\n",
    "# less than 5% risk, given the observations, that the expressed call is wrong. \n",
    "# f set at 0.2, aka a gene considered expressed in that cluster \n",
    "# when PEP<= 0.05 in at least 20% of the cells\n",
    "agg.layers['trinaries_0.05'][0:2,0:2]"
   ]
  },
  {
   "cell_type": "code",
   "execution_count": 153,
   "id": "f3400718-d195-4b82-af16-a4a4781037c1",
   "metadata": {},
   "outputs": [],
   "source": [
    "(min_tri,max_tri)=agg.map([np.min,np.max],axis=1)"
   ]
  },
  {
   "cell_type": "code",
   "execution_count": 155,
   "id": "58a55fa4-156a-448d-866e-b9f3d8f28f6f",
   "metadata": {},
   "outputs": [
    {
     "data": {
      "text/plain": [
       "0.0"
      ]
     },
     "execution_count": 155,
     "metadata": {},
     "output_type": "execute_result"
    }
   ],
   "source": [
    "np.max(min_tri)"
   ]
  },
  {
   "cell_type": "code",
   "execution_count": 156,
   "id": "4857f03a-bfc9-413a-8b18-1b472955ed14",
   "metadata": {},
   "outputs": [
    {
     "data": {
      "text/plain": [
       "46.64779874213836"
      ]
     },
     "execution_count": 156,
     "metadata": {},
     "output_type": "execute_result"
    }
   ],
   "source": [
    "np.min(max_tri)"
   ]
  },
  {
   "cell_type": "code",
   "execution_count": 157,
   "id": "a119154f-8ae0-48f9-8e14-3b281aef66ef",
   "metadata": {},
   "outputs": [
    {
     "data": {
      "text/plain": [
       "1442.0714285714287"
      ]
     },
     "execution_count": 157,
     "metadata": {},
     "output_type": "execute_result"
    }
   ],
   "source": [
    "np.max(max_tri)"
   ]
  },
  {
   "cell_type": "code",
   "execution_count": 150,
   "id": "3d319ee6-79c5-4904-b0e6-a39e2f738231",
   "metadata": {},
   "outputs": [
    {
     "data": {
      "text/plain": [
       "<loompy.loom_layer.LoomLayer at 0x7fcb5e73c970>"
      ]
     },
     "execution_count": 150,
     "metadata": {},
     "output_type": "execute_result"
    }
   ],
   "source": [
    "agg.layers['trinaries_0.05']"
   ]
  },
  {
   "cell_type": "code",
   "execution_count": 180,
   "id": "a3836c54-014c-456d-8f7f-259ed1c0e0ea",
   "metadata": {},
   "outputs": [],
   "source": [
    "triq_arr = agg.layers['trinaries_0.05'][:,:]"
   ]
  },
  {
   "cell_type": "code",
   "execution_count": 181,
   "id": "887a90d9-867e-4e30-9167-4b670c7806ae",
   "metadata": {},
   "outputs": [
    {
     "data": {
      "image/png": "[encoded data removed]",
      "text/plain": [
       "<Figure size 432x288 with 1 Axes>"
      ]
     },
     "metadata": {
      "needs_background": "light"
     },
     "output_type": "display_data"
    }
   ],
   "source": [
    "n, bins, patches = plt.hist(triq_arr)\n",
    "plt.show()"
   ]
  },
  {
   "cell_type": "code",
   "execution_count": 148,
   "id": "aa72208b-64ea-40fd-896a-b1ee87fb85e0",
   "metadata": {},
   "outputs": [
    {
     "data": {
      "text/plain": [
       "array([[9.42361034e+02, 7.89783893e+00],\n",
       "       [3.62833219e+01, 2.16116774e-01]])"
      ]
     },
     "execution_count": 148,
     "metadata": {},
     "output_type": "execute_result"
    }
   ],
   "source": [
    "# Enrichment scores. Explained in the paper's method section. \n",
    "# \n",
    "agg.layers['enrichment'][0:2,0:2]"
   ]
  },
  {
   "cell_type": "code",
   "execution_count": 151,
   "id": "097c5bea-f8a7-4928-8795-9303da520ee2",
   "metadata": {},
   "outputs": [
    {
     "data": {
      "text/plain": [
       "array([[0.00000000e+00, 7.38552437e-04],\n",
       "       [0.00000000e+00, 1.00000000e+00]])"
      ]
     },
     "execution_count": 151,
     "metadata": {},
     "output_type": "execute_result"
    }
   ],
   "source": [
    "# Enrichment q value; e.g., find genes enriched at 10% false discovery rate: q<0.1\n",
    "agg.layers['enrichment_q'][0:2,0:2]"
   ]
  },
  {
   "cell_type": "code",
   "execution_count": 7,
   "id": "9f24dd94-ad59-4a6d-b5c4-d65f6ec07914",
   "metadata": {},
   "outputs": [
    {
     "data": {
      "text/plain": [
       "['CreationDate', 'LOOM_SPEC_VERSION']"
      ]
     },
     "execution_count": 7,
     "metadata": {},
     "output_type": "execute_result"
    }
   ],
   "source": [
    "# global atributes\n",
    "agg.attrs.keys()"
   ]
  },
  {
   "cell_type": "code",
   "execution_count": 8,
   "id": "d2c5e894-6525-4097-84f1-b4c285381c9c",
   "metadata": {},
   "outputs": [
    {
     "data": {
      "text/plain": [
       "'20210503T185459.559991Z'"
      ]
     },
     "execution_count": 8,
     "metadata": {},
     "output_type": "execute_result"
    }
   ],
   "source": [
    "agg.attrs.CreationDate"
   ]
  },
  {
   "cell_type": "code",
   "execution_count": 9,
   "id": "25f633d8-6caa-4923-bed8-c1e79d3df670",
   "metadata": {},
   "outputs": [
    {
     "data": {
      "text/plain": [
       "'3.0.0'"
      ]
     },
     "execution_count": 9,
     "metadata": {},
     "output_type": "execute_result"
    }
   ],
   "source": [
    "agg.attrs.LOOM_SPEC_VERSION"
   ]
  },
  {
   "cell_type": "code",
   "execution_count": 13,
   "id": "c7e65c72-3987-4271-a060-aa39dcac7d1e",
   "metadata": {},
   "outputs": [
    {
     "data": {
      "text/plain": [
       "214"
      ]
     },
     "execution_count": 13,
     "metadata": {},
     "output_type": "execute_result"
    }
   ],
   "source": [
    "# column attributes\n",
    "len(agg.ca.keys())"
   ]
  },
  {
   "cell_type": "code",
   "execution_count": 14,
   "id": "cf93574d-a2d1-4d2e-82e4-4899e03e0991",
   "metadata": {},
   "outputs": [
    {
     "data": {
      "text/plain": [
       "7"
      ]
     },
     "execution_count": 14,
     "metadata": {},
     "output_type": "execute_result"
    }
   ],
   "source": [
    "# row attributes\n",
    "len(agg.ra.keys())"
   ]
  },
  {
   "cell_type": "code",
   "execution_count": 33,
   "id": "e1b1baf3-8563-4279-84c3-8c3ccf645b09",
   "metadata": {},
   "outputs": [
    {
     "data": {
      "text/plain": [
       "['Accession', 'Gene', '_LogCV', '_LogMean', '_Selected', '_Total', '_Valid']"
      ]
     },
     "execution_count": 33,
     "metadata": {},
     "output_type": "execute_result"
    }
   ],
   "source": [
    "agg.ra.keys()"
   ]
  },
  {
   "cell_type": "code",
   "execution_count": 256,
   "id": "62048ae4-6b7a-4c66-a2ad-73d0ae4244cd",
   "metadata": {},
   "outputs": [
    {
     "data": {
      "text/plain": [
       "(array([0, 1]), array([ 7195, 20803]))"
      ]
     },
     "execution_count": 256,
     "metadata": {},
     "output_type": "execute_result"
    }
   ],
   "source": [
    "np.unique(agg.ra['_Valid'], return_counts=True)"
   ]
  },
  {
   "cell_type": "markdown",
   "id": "a8e75d5b-6ee6-4eb5-9239-4c2ae090fb0b",
   "metadata": {},
   "source": [
    "Of all the rows, 20,803 are valid, while 7,195 are not. \n",
    "Based on extract_L6.py, a gene is valid when it has non-zero expression in more than 10 clusters but less than 60% of clusters. I don't think we need to be restricted to the \"valid\" genes. "
   ]
  },
  {
   "cell_type": "code",
   "execution_count": 259,
   "id": "f86ec3f8-3ef2-4c29-9c3e-3ad483371543",
   "metadata": {},
   "outputs": [
    {
     "data": {
      "text/plain": [
       "(20788,)"
      ]
     },
     "execution_count": 259,
     "metadata": {},
     "output_type": "execute_result"
    }
   ],
   "source": [
    "np.unique(agg.ra['Gene'][(agg.ra['_Valid']==1)]).shape"
   ]
  },
  {
   "cell_type": "markdown",
   "id": "5a4bd927-ed06-4eca-a0f3-31b3b896cf6c",
   "metadata": {},
   "source": [
    "There are genes with more than one rows, and it is not due to validation. "
   ]
  },
  {
   "cell_type": "code",
   "execution_count": 260,
   "id": "0433f066-9aed-4e10-8c7a-c0f0b60c8650",
   "metadata": {},
   "outputs": [
    {
     "data": {
      "text/plain": [
       "(array([0, 1]), array([27518,   480]))"
      ]
     },
     "execution_count": 260,
     "metadata": {},
     "output_type": "execute_result"
    }
   ],
   "source": [
    "np.unique(agg.ra['_Selected'], return_counts=True)"
   ]
  },
  {
   "cell_type": "code",
   "execution_count": 179,
   "id": "8b46ce28-d34c-4c6c-8b04-dd3663e3a585",
   "metadata": {},
   "outputs": [
    {
     "data": {
      "text/plain": [
       "array(['Astrocytes', 'Ependymal', 'Immune', 'Neurons', 'Oligos',\n",
       "       'PeripheralGlia', 'Vascular'], dtype=object)"
      ]
     },
     "execution_count": 179,
     "metadata": {},
     "output_type": "execute_result"
    }
   ],
   "source": [
    "np.unique(agg.ca['Class'])"
   ]
  },
  {
   "cell_type": "code",
   "execution_count": 168,
   "id": "c4f26217-a78f-4022-969d-a8a42d23ea81",
   "metadata": {},
   "outputs": [
    {
     "data": {
      "text/plain": [
       "array(['Glia', 'Immune cells', 'Neurons', 'Vascular cells'], dtype=object)"
      ]
     },
     "execution_count": 168,
     "metadata": {},
     "output_type": "execute_result"
    }
   ],
   "source": [
    "np.unique(agg.ca['TaxonomyRank1'])"
   ]
  },
  {
   "cell_type": "code",
   "execution_count": 176,
   "id": "b438653c-fef0-43e0-a625-a514a3ee6842",
   "metadata": {},
   "outputs": [],
   "source": [
    "Glia = (agg.ca['TaxonomyRank1']=='Glia')"
   ]
  },
  {
   "cell_type": "code",
   "execution_count": 190,
   "id": "bce78ae7-3ebf-48d6-a445-17df3ac5b638",
   "metadata": {},
   "outputs": [
    {
     "data": {
      "text/plain": [
       "(27998,)"
      ]
     },
     "execution_count": 190,
     "metadata": {},
     "output_type": "execute_result"
    }
   ],
   "source": [
    "(np.mean(triq_arr[:, Glia], axis=1) == 1).shape "
   ]
  },
  {
   "cell_type": "code",
   "execution_count": 204,
   "id": "09f7e604-2712-49cd-bdd4-7fd754b16273",
   "metadata": {},
   "outputs": [
    {
     "data": {
      "text/plain": [
       "(232,)"
      ]
     },
     "execution_count": 204,
     "metadata": {},
     "output_type": "execute_result"
    }
   ],
   "source": [
    "agg.ra['Gene'][(np.mean(triq_arr[:, Glia], axis=1) == 1)].shape"
   ]
  },
  {
   "cell_type": "code",
   "execution_count": 208,
   "id": "ab680e59-3a5f-4260-82bc-0e064f96adfb",
   "metadata": {},
   "outputs": [
    {
     "data": {
      "text/plain": [
       "(938,)"
      ]
     },
     "execution_count": 208,
     "metadata": {},
     "output_type": "execute_result"
    }
   ],
   "source": [
    "agg.ra['Gene'][(np.mean(triq_arr[:, Glia], axis=1) >= 0.9999)].shape"
   ]
  },
  {
   "cell_type": "code",
   "execution_count": 213,
   "id": "bbe87679-cf3d-4c3b-b0fb-e39141b6e419",
   "metadata": {},
   "outputs": [
    {
     "data": {
      "text/plain": [
       "array([0.06999371, 0.15274882, 0.09693057, ..., 0.80813442, 0.42613847,\n",
       "       0.86605659])"
      ]
     },
     "execution_count": 213,
     "metadata": {},
     "output_type": "execute_result"
    }
   ],
   "source": [
    "np.mean(triq_arr[:, Glia], axis=1)"
   ]
  },
  {
   "cell_type": "code",
   "execution_count": 214,
   "id": "b69e4760-304e-4980-896b-ef016c5481b3",
   "metadata": {},
   "outputs": [
    {
     "data": {
      "text/plain": [
       "array([7.04397782e-05, 2.78475716e-02, 7.02547353e-05, ...,\n",
       "       1.97633446e-01, 2.96955857e-02, 2.71250402e-01])"
      ]
     },
     "execution_count": 214,
     "metadata": {},
     "output_type": "execute_result"
    }
   ],
   "source": [
    "np.mean(tri_arr[:, Glia], axis=1)"
   ]
  },
  {
   "cell_type": "code",
   "execution_count": 185,
   "id": "4b8dffdc-5905-40e9-a923-38879ff60760",
   "metadata": {},
   "outputs": [
    {
     "data": {
      "text/plain": [
       "array([False,  True, False])"
      ]
     },
     "execution_count": 185,
     "metadata": {},
     "output_type": "execute_result"
    }
   ],
   "source": [
    "true_arr=np.array([True, True, True])\n",
    "false_arr=np.array([False,False,False])\n",
    "third_arr=np.array([False,True,False])\n",
    "true_arr & false_arr | third_arr"
   ]
  },
  {
   "cell_type": "code",
   "execution_count": 169,
   "id": "3325463c-3734-4e91-a7d0-f118579c7fe4",
   "metadata": {},
   "outputs": [
    {
     "data": {
      "text/plain": [
       "array(['CNS glia', 'CNS neurons', 'Immune cells',\n",
       "       'Neural crest-like glia', 'PNS neurons', 'Vascular cells'],\n",
       "      dtype=object)"
      ]
     },
     "execution_count": 169,
     "metadata": {},
     "output_type": "execute_result"
    }
   ],
   "source": [
    "np.unique(agg.ca['TaxonomyRank2'])"
   ]
  },
  {
   "cell_type": "code",
   "execution_count": 170,
   "id": "6534cab3-c638-4b7e-a8d7-f211204663cf",
   "metadata": {},
   "outputs": [
    {
     "data": {
      "text/plain": [
       "array(['Astroependymal cells', 'Cerebellum neurons',\n",
       "       'Cholinergic, monoaminergic and peptidergic neurons',\n",
       "       'Di- and mesencephalon neurons', 'Enteric neurons',\n",
       "       'Hindbrain neurons', 'Immature neural', 'Immune cells',\n",
       "       'Neural crest-like glia', 'Oligodendrocytes',\n",
       "       'Peripheral sensory neurons', 'Spinal cord neurons',\n",
       "       'Sympathetic neurons', 'Telencephalon interneurons',\n",
       "       'Telencephalon projecting neurons', 'Vascular cells'], dtype=object)"
      ]
     },
     "execution_count": 170,
     "metadata": {},
     "output_type": "execute_result"
    }
   ],
   "source": [
    "np.unique(agg.ca['TaxonomyRank3'])"
   ]
  },
  {
   "cell_type": "code",
   "execution_count": 171,
   "id": "7e81c572-b452-455d-8366-c26e62ec6b1d",
   "metadata": {},
   "outputs": [
    {
     "data": {
      "text/plain": [
       "array(['Astrocytes', 'Cerebellum neurons',\n",
       "       'Cholinergic and monoaminergic neurons',\n",
       "       'Choroid epithelial cells', 'Dentate gyrus granule neurons',\n",
       "       'Dentate gyrus radial glia-like cells',\n",
       "       'Di- and mesencephalon excitatory neurons',\n",
       "       'Di- and mesencephalon inhibitory neurons', 'Enteric glia',\n",
       "       'Enteric neurons', 'Ependymal cells', 'Glutamatergic neuroblasts',\n",
       "       'Hindbrain neurons', 'Microglia', 'Non-glutamatergic neuroblasts',\n",
       "       'Olfactory ensheathing cells', 'Olfactory inhibitory neurons',\n",
       "       'Oligodendrocyte precursor cells', 'Oligodendrocytes',\n",
       "       'Peptidergic neurons', 'Pericytes',\n",
       "       'Peripheral sensory neurofilament neurons',\n",
       "       'Peripheral sensory non-peptidergic neurons',\n",
       "       'Peripheral sensory peptidergic neurons',\n",
       "       'Perivascular macrophages', 'Satellite glia', 'Schwann cells',\n",
       "       'Spinal cord excitatory neurons', 'Spinal cord inhibitory neurons',\n",
       "       'Subcommissural organ hypendymal cells',\n",
       "       'Subventricular zone radial glia-like cells',\n",
       "       'Sympathetic cholinergic neurons',\n",
       "       'Sympathetic noradrenergic neurons',\n",
       "       'Telencephalon inhibitory interneurons',\n",
       "       'Telencephalon projecting excitatory neurons',\n",
       "       'Telencephalon projecting inhibitory neurons',\n",
       "       'Vascular and leptomeningeal cells', 'Vascular endothelial cells',\n",
       "       'Vascular smooth muscle cells'], dtype=object)"
      ]
     },
     "execution_count": 171,
     "metadata": {},
     "output_type": "execute_result"
    }
   ],
   "source": [
    "np.unique(agg.ca['TaxonomyRank4'])"
   ]
  },
  {
   "cell_type": "code",
   "execution_count": 144,
   "id": "1ed88199-0c97-4970-8b1a-47f2b630e866",
   "metadata": {},
   "outputs": [
    {
     "data": {
      "text/plain": [
       "(265,)"
      ]
     },
     "execution_count": 144,
     "metadata": {},
     "output_type": "execute_result"
    }
   ],
   "source": [
    "np.unique(agg.ca['ClusterName']).shape"
   ]
  },
  {
   "cell_type": "code",
   "execution_count": 145,
   "id": "1b514f8e-1557-4d09-b86a-32587fa6c60f",
   "metadata": {},
   "outputs": [
    {
     "data": {
      "text/plain": [
       "array(['ABC', 'ACBG', 'ACMB', 'ACNT1', 'ACNT2', 'ACOB', 'ACTE1', 'ACTE2',\n",
       "       'CBGRC', 'CBINH1', 'CBINH2', 'CBNBL1', 'CBNBL2', 'CBPC', 'CHOR',\n",
       "       'COP1', 'COP2', 'CR', 'DECHO1', 'DECHO2', 'DEGLU1', 'DEGLU2',\n",
       "       'DEGLU3', 'DEGLU4', 'DEGLU5', 'DEINH1', 'DEINH2', 'DEINH3',\n",
       "       'DEINH4', 'DEINH5', 'DEINH6', 'DEINH7', 'DEINH8', 'DETPH',\n",
       "       'DGGRC1', 'DGGRC2', 'DGNBL1', 'DGNBL2', 'ENMFB', 'ENT1', 'ENT2',\n",
       "       'ENT3', 'ENT4', 'ENT5', 'ENT6', 'ENT7', 'ENT8', 'ENT9', 'ENTG1',\n",
       "       'ENTG2', 'ENTG3', 'ENTG4', 'ENTG5', 'ENTG6', 'ENTG7', 'EPEN',\n",
       "       'EPMB', 'EPSC', 'HBADR', 'HBCHO1', 'HBCHO2', 'HBCHO3', 'HBCHO4',\n",
       "       'HBGLU1', 'HBGLU10', 'HBGLU2', 'HBGLU3', 'HBGLU4', 'HBGLU5',\n",
       "       'HBGLU6', 'HBGLU7', 'HBGLU8', 'HBGLU9', 'HBINH1', 'HBINH2',\n",
       "       'HBINH3', 'HBINH4', 'HBINH5', 'HBINH6', 'HBINH7', 'HBINH8',\n",
       "       'HBINH9', 'HBNOR', 'HBSER1', 'HBSER2', 'HBSER3', 'HBSER4',\n",
       "       'HBSER5', 'HYPEN', 'HYPEP1', 'HYPEP2', 'HYPEP3', 'HYPEP4',\n",
       "       'HYPEP5', 'HYPEP6', 'HYPEP7', 'HYPEP8', 'MBCHO1', 'MBDOP1',\n",
       "       'MBDOP2', 'MEGLU1', 'MEGLU10', 'MEGLU11', 'MEGLU14', 'MEGLU2',\n",
       "       'MEGLU3', 'MEGLU4', 'MEGLU5', 'MEGLU6', 'MEGLU7', 'MEGLU8',\n",
       "       'MEGLU9', 'MEINH1', 'MEINH10', 'MEINH11', 'MEINH12', 'MEINH13',\n",
       "       'MEINH14', 'MEINH2', 'MEINH3', 'MEINH4', 'MEINH5', 'MEINH6',\n",
       "       'MEINH7', 'MEINH8', 'MEINH9', 'MFOL1', 'MFOL2', 'MGL1', 'MGL2',\n",
       "       'MGL3', 'MOL1', 'MOL2', 'MOL3', 'MSN1', 'MSN2', 'MSN3', 'MSN4',\n",
       "       'MSN5', 'MSN6', 'NFOL1', 'NFOL2', 'OBDOP1', 'OBDOP2', 'OBINH1',\n",
       "       'OBINH2', 'OBINH3', 'OBINH4', 'OBINH5', 'OBNBL1', 'OBNBL2',\n",
       "       'OBNBL3', 'OBNBL4', 'OBNBL5', 'OEC', 'OPC', 'PER1', 'PER2', 'PER3',\n",
       "       'PSNF1', 'PSNF2', 'PSNF3', 'PSNP1', 'PSNP2', 'PSNP3', 'PSNP4',\n",
       "       'PSNP5', 'PSNP6', 'PSPEP1', 'PSPEP2', 'PSPEP3', 'PSPEP4', 'PSPEP5',\n",
       "       'PSPEP6', 'PSPEP7', 'PSPEP8', 'PVM1', 'PVM2', 'RGDG', 'RGSZ',\n",
       "       'SATG1', 'SATG2', 'SCGLU1', 'SCGLU10', 'SCGLU2', 'SCGLU3',\n",
       "       'SCGLU4', 'SCGLU5', 'SCGLU6', 'SCGLU7', 'SCGLU8', 'SCGLU9', 'SCHW',\n",
       "       'SCINH1', 'SCINH10', 'SCINH11', 'SCINH2', 'SCINH3', 'SCINH4',\n",
       "       'SCINH5', 'SCINH6', 'SCINH7', 'SCINH8', 'SCINH9', 'SEPNBL',\n",
       "       'SYCHO1', 'SYCHO2', 'SYNOR1', 'SYNOR2', 'SYNOR3', 'SYNOR4',\n",
       "       'SYNOR5', 'SZNBL', 'TECHO', 'TEGLU1', 'TEGLU10', 'TEGLU11',\n",
       "       'TEGLU12', 'TEGLU13', 'TEGLU14', 'TEGLU15', 'TEGLU16', 'TEGLU17',\n",
       "       'TEGLU18', 'TEGLU19', 'TEGLU2', 'TEGLU20', 'TEGLU21', 'TEGLU22',\n",
       "       'TEGLU23', 'TEGLU24', 'TEGLU3', 'TEGLU4', 'TEGLU5', 'TEGLU6',\n",
       "       'TEGLU7', 'TEGLU8', 'TEGLU9', 'TEINH1', 'TEINH10', 'TEINH11',\n",
       "       'TEINH12', 'TEINH13', 'TEINH14', 'TEINH15', 'TEINH16', 'TEINH17',\n",
       "       'TEINH18', 'TEINH19', 'TEINH2', 'TEINH20', 'TEINH21', 'TEINH3',\n",
       "       'TEINH4', 'TEINH5', 'TEINH6', 'TEINH7', 'TEINH8', 'TEINH9', 'VECA',\n",
       "       'VECC', 'VECV', 'VLMC1', 'VLMC2', 'VSMCA'], dtype=object)"
      ]
     },
     "execution_count": 145,
     "metadata": {},
     "output_type": "execute_result"
    }
   ],
   "source": [
    "np.unique(agg.ca['ClusterName'])"
   ]
  },
  {
   "cell_type": "markdown",
   "id": "11ecf350-e5a4-4cc2-8c18-1c37fecd950c",
   "metadata": {},
   "source": [
    "### Cleaning data: duplicated genes"
   ]
  },
  {
   "cell_type": "code",
   "execution_count": 91,
   "id": "b43dd5c9-76e8-40d5-a34e-7190ddaffef5",
   "metadata": {},
   "outputs": [
    {
     "data": {
      "text/plain": [
       "27998"
      ]
     },
     "execution_count": 91,
     "metadata": {},
     "output_type": "execute_result"
    }
   ],
   "source": [
    "len(agg.ra['Gene']) # number of rows; same if replace 'Gene' with 'Accession' or other ra keys"
   ]
  },
  {
   "cell_type": "code",
   "execution_count": 71,
   "id": "cfef428b-45c6-46e2-afea-5ba32dfda2bd",
   "metadata": {},
   "outputs": [
    {
     "data": {
      "text/plain": [
       "27998"
      ]
     },
     "execution_count": 71,
     "metadata": {},
     "output_type": "execute_result"
    }
   ],
   "source": [
    "len(np.unique(agg.ra['Accession'])) # number of Accession"
   ]
  },
  {
   "cell_type": "code",
   "execution_count": 92,
   "id": "d0f22584-7c30-4146-834a-5e20c2d4d4dc",
   "metadata": {},
   "outputs": [
    {
     "data": {
      "text/plain": [
       "27933"
      ]
     },
     "execution_count": 92,
     "metadata": {},
     "output_type": "execute_result"
    }
   ],
   "source": [
    "len(np.unique(agg.ra['Gene'])) # number of unique gene names"
   ]
  },
  {
   "cell_type": "code",
   "execution_count": 93,
   "id": "317a3576-9f6c-42bc-ab9d-867ea42244cd",
   "metadata": {},
   "outputs": [
    {
     "data": {
      "text/plain": [
       "numpy.ndarray"
      ]
     },
     "execution_count": 93,
     "metadata": {},
     "output_type": "execute_result"
    }
   ],
   "source": [
    "type(agg.ra['Gene'])"
   ]
  },
  {
   "cell_type": "code",
   "execution_count": 96,
   "id": "8b4fe008-97c0-4db2-aff7-69baf8111808",
   "metadata": {},
   "outputs": [
    {
     "data": {
      "text/plain": [
       "(27998,)"
      ]
     },
     "execution_count": 96,
     "metadata": {},
     "output_type": "execute_result"
    }
   ],
   "source": [
    "agg.ra['Gene'].shape"
   ]
  },
  {
   "cell_type": "code",
   "execution_count": 97,
   "id": "85dae07e-8d7a-4cef-86e2-34a3d6923ccd",
   "metadata": {},
   "outputs": [],
   "source": [
    "all_gene_list = agg.ra['Gene'].tolist()"
   ]
  },
  {
   "cell_type": "code",
   "execution_count": 99,
   "id": "a58ac8c7-90b9-41d3-9851-44c7dc589ec5",
   "metadata": {},
   "outputs": [
    {
     "data": {
      "text/plain": [
       "27998"
      ]
     },
     "execution_count": 99,
     "metadata": {},
     "output_type": "execute_result"
    }
   ],
   "source": [
    "len(all_gene_list)"
   ]
  },
  {
   "cell_type": "code",
   "execution_count": 100,
   "id": "9fa6154f-a0b1-4e48-8f06-f67bd1d5bf5e",
   "metadata": {},
   "outputs": [],
   "source": [
    "uniq_gene_set = set(all_gene_list)"
   ]
  },
  {
   "cell_type": "code",
   "execution_count": 101,
   "id": "fc875c2a-3ea5-4db1-8d0c-83cdc5ef41b3",
   "metadata": {},
   "outputs": [
    {
     "data": {
      "text/plain": [
       "set"
      ]
     },
     "execution_count": 101,
     "metadata": {},
     "output_type": "execute_result"
    }
   ],
   "source": [
    "type(uniq_gene_set)"
   ]
  },
  {
   "cell_type": "code",
   "execution_count": 103,
   "id": "8b85d801-c63e-4300-9092-6a52ff53c811",
   "metadata": {},
   "outputs": [
    {
     "data": {
      "text/plain": [
       "27933"
      ]
     },
     "execution_count": 103,
     "metadata": {},
     "output_type": "execute_result"
    }
   ],
   "source": [
    "len(uniq_gene_set)"
   ]
  },
  {
   "cell_type": "code",
   "execution_count": 104,
   "id": "a8d17f27-f9f3-4055-a6e3-e8eb13ce2e37",
   "metadata": {},
   "outputs": [],
   "source": [
    "uniq_gene_list = np.unique(agg.ra['Gene']).tolist()"
   ]
  },
  {
   "cell_type": "code",
   "execution_count": 106,
   "id": "1a2390d6-51e9-49a0-ba23-f727308f5b50",
   "metadata": {},
   "outputs": [
    {
     "data": {
      "text/plain": [
       "27933"
      ]
     },
     "execution_count": 106,
     "metadata": {},
     "output_type": "execute_result"
    }
   ],
   "source": [
    "len(uniq_gene_list) # the same with the set method on list"
   ]
  },
  {
   "cell_type": "code",
   "execution_count": 56,
   "id": "0399394d-6c1f-475f-9e7c-a07f7ed18d99",
   "metadata": {},
   "outputs": [
    {
     "data": {
      "text/plain": [
       "(27998, 265)"
      ]
     },
     "execution_count": 56,
     "metadata": {},
     "output_type": "execute_result"
    }
   ],
   "source": [
    "agg.shape"
   ]
  },
  {
   "cell_type": "markdown",
   "id": "36960e9e-c0cd-4c96-a8fe-125679528a58",
   "metadata": {},
   "source": [
    "This means there are 27998-27933=65 rows in the agg.loom file with at least one duplicated value in the 'Gene' key attrribute. "
   ]
  },
  {
   "cell_type": "code",
   "execution_count": 108,
   "id": "e8c4eb3b-f788-4372-a107-08878eabc01c",
   "metadata": {},
   "outputs": [],
   "source": [
    "dup_set=set()\n",
    "for gene in all_gene_list:\n",
    "    if all_gene_list.count(gene) > 1:\n",
    "        dup_set.add(gene)"
   ]
  },
  {
   "cell_type": "code",
   "execution_count": 111,
   "id": "4ada3f13-312f-45d4-a53f-c57ca8eabc82",
   "metadata": {},
   "outputs": [
    {
     "data": {
      "text/plain": [
       "56"
      ]
     },
     "execution_count": 111,
     "metadata": {},
     "output_type": "execute_result"
    }
   ],
   "source": [
    "len(dup_set) # the 65 duplicated entries come from 56 gene names"
   ]
  },
  {
   "cell_type": "code",
   "execution_count": 112,
   "id": "92529233-35d9-4fd7-becd-eb7aaa05e963",
   "metadata": {},
   "outputs": [],
   "source": [
    "dup_list=[]\n",
    "for gene in all_gene_list:\n",
    "    if all_gene_list.count(gene) > 1:\n",
    "        dup_list.append(gene)"
   ]
  },
  {
   "cell_type": "code",
   "execution_count": 113,
   "id": "a32d94e4-b45d-41fe-a688-4077accf3bb8",
   "metadata": {},
   "outputs": [
    {
     "data": {
      "text/plain": [
       "121"
      ]
     },
     "execution_count": 113,
     "metadata": {},
     "output_type": "execute_result"
    }
   ],
   "source": [
    "len(dup_list)"
   ]
  },
  {
   "cell_type": "code",
   "execution_count": 118,
   "id": "08a8cfca-adaa-409e-8b4c-852193f642f4",
   "metadata": {},
   "outputs": [],
   "source": [
    "dup_dict={}\n",
    "for gene in dup_set:\n",
    "    count=all_gene_list.count(gene)\n",
    "    dup_dict.update({gene:count})"
   ]
  },
  {
   "cell_type": "code",
   "execution_count": 124,
   "id": "0c256a64-2ee0-4be2-b893-cef2b8d1e0cb",
   "metadata": {},
   "outputs": [
    {
     "data": {
      "text/plain": [
       "121"
      ]
     },
     "execution_count": 124,
     "metadata": {},
     "output_type": "execute_result"
    }
   ],
   "source": [
    "sum(dup_dict.values())"
   ]
  },
  {
   "cell_type": "code",
   "execution_count": 125,
   "id": "3cef27ea-cbf3-45d2-8aff-185adc283a16",
   "metadata": {},
   "outputs": [
    {
     "data": {
      "text/plain": [
       "7"
      ]
     },
     "execution_count": 125,
     "metadata": {},
     "output_type": "execute_result"
    }
   ],
   "source": [
    "max(dup_dict.values())"
   ]
  },
  {
   "cell_type": "markdown",
   "id": "00a9fd01-e6ec-4efb-86c5-092412bd23a0",
   "metadata": {},
   "source": [
    "This means there are 56 gene names with more than 1 entry; each of these gene name has 2 to 7 row corresponding to them. "
   ]
  },
  {
   "cell_type": "code",
   "execution_count": 128,
   "id": "a1a9e5b2-3421-4cca-a308-3a2c6096f940",
   "metadata": {},
   "outputs": [
    {
     "name": "stdout",
     "output_type": "stream",
     "text": [
      "Flg\n"
     ]
    }
   ],
   "source": [
    "# Which gene has 7 entries? \n",
    "for gene, count in dup_dict.items():\n",
    "    if count==7:\n",
    "        print(gene)"
   ]
  },
  {
   "cell_type": "code",
   "execution_count": 270,
   "id": "a92d623d-3b2f-45fe-973a-6fdce6bf7d2c",
   "metadata": {},
   "outputs": [
    {
     "data": {
      "text/plain": [
       "array(['ENSMUSG00000102829', 'ENSMUSG00000103750', 'ENSMUSG00000103777',\n",
       "       'ENSMUSG00000103335', 'ENSMUSG00000102439', 'ENSMUSG00000102395',\n",
       "       'ENSMUSG00000102724'], dtype=object)"
      ]
     },
     "execution_count": 270,
     "metadata": {},
     "output_type": "execute_result"
    }
   ],
   "source": [
    "agg.ra.Accession[agg.ra.Gene=='Flg']"
   ]
  },
  {
   "cell_type": "code",
   "execution_count": null,
   "id": "3982a6fc-29e2-4cf3-9c95-153c309c6e58",
   "metadata": {},
   "outputs": [],
   "source": []
  },
  {
   "cell_type": "code",
   "execution_count": 80,
   "id": "07398b95-11d5-47f7-98bb-2b1b9c68bc41",
   "metadata": {},
   "outputs": [],
   "source": [
    "from collections import Counter"
   ]
  },
  {
   "cell_type": "code",
   "execution_count": 85,
   "id": "700fff85-6b67-4775-88f5-55e6fb8aad03",
   "metadata": {},
   "outputs": [],
   "source": [
    "counter = Counter(all_gene_list)\n",
    "nuniq_gene_list = []\n",
    "for gene in counter:\n",
    "    if counter[gene]>1:\n",
    "        nuniq_gene_list.append(gene)"
   ]
  },
  {
   "cell_type": "code",
   "execution_count": 90,
   "id": "8f283e37-327d-40e8-bb68-cb09e777affa",
   "metadata": {},
   "outputs": [
    {
     "data": {
      "text/plain": [
       "27933"
      ]
     },
     "execution_count": 90,
     "metadata": {},
     "output_type": "execute_result"
    }
   ],
   "source": [
    "len(counter)"
   ]
  },
  {
   "cell_type": "code",
   "execution_count": 87,
   "id": "44446dd0-7b0b-4691-bc1d-4535378bc809",
   "metadata": {},
   "outputs": [
    {
     "data": {
      "text/plain": [
       "56"
      ]
     },
     "execution_count": 87,
     "metadata": {},
     "output_type": "execute_result"
    }
   ],
   "source": [
    "len(nuniq_gene_list)"
   ]
  },
  {
   "cell_type": "code",
   "execution_count": 62,
   "id": "2ce48395-002c-4915-bec4-4a571360e106",
   "metadata": {},
   "outputs": [],
   "source": [
    "arr = agg.ra['Gene']\n",
    "uniq, uniq_idx, counts = np.unique(arr,return_index=True,return_counts=True)\n",
    "arr_idx = np.arange(arr.shape[0])\n",
    "nuniq_idx = arr_idx[np.in1d(arr_idx, uniq_idx[counts==1],invert=True)]"
   ]
  },
  {
   "cell_type": "code",
   "execution_count": 59,
   "id": "00330265-51fd-41bb-89eb-3e61c14fbcef",
   "metadata": {},
   "outputs": [
    {
     "ename": "TypeError",
     "evalue": "_unique_dispatcher() got an unexpected keyword argument 'invert'",
     "output_type": "error",
     "traceback": [
      "\u001b[0;31m---------------------------------------------------------------------------\u001b[0m",
      "\u001b[0;31mTypeError\u001b[0m                                 Traceback (most recent call last)",
      "Input \u001b[0;32mIn [59]\u001b[0m, in \u001b[0;36m<cell line: 1>\u001b[0;34m()\u001b[0m\n\u001b[0;32m----> 1\u001b[0m \u001b[43mnp\u001b[49m\u001b[38;5;241;43m.\u001b[39;49m\u001b[43munique\u001b[49m\u001b[43m(\u001b[49m\u001b[43magg\u001b[49m\u001b[38;5;241;43m.\u001b[39;49m\u001b[43mra\u001b[49m\u001b[43m[\u001b[49m\u001b[38;5;124;43m'\u001b[39;49m\u001b[38;5;124;43mGene\u001b[39;49m\u001b[38;5;124;43m'\u001b[39;49m\u001b[43m]\u001b[49m\u001b[43m,\u001b[49m\u001b[43mreturn_index\u001b[49m\u001b[38;5;241;43m=\u001b[39;49m\u001b[38;5;28;43;01mTrue\u001b[39;49;00m\u001b[43m,\u001b[49m\u001b[43mreturn_counts\u001b[49m\u001b[38;5;241;43m=\u001b[39;49m\u001b[38;5;28;43;01mTrue\u001b[39;49;00m\u001b[43m,\u001b[49m\u001b[43minvert\u001b[49m\u001b[38;5;241;43m=\u001b[39;49m\u001b[38;5;28;43;01mTrue\u001b[39;49;00m\u001b[43m)\u001b[49m\n",
      "File \u001b[0;32m<__array_function__ internals>:4\u001b[0m, in \u001b[0;36munique\u001b[0;34m(*args, **kwargs)\u001b[0m\n",
      "\u001b[0;31mTypeError\u001b[0m: _unique_dispatcher() got an unexpected keyword argument 'invert'"
     ]
    }
   ],
   "source": [
    "np.unique(agg.ra['Gene'],return_index=True,return_counts=True,invert=True)"
   ]
  },
  {
   "cell_type": "code",
   "execution_count": 65,
   "id": "eb950cca-2012-41c9-ba13-8aee02ee3d99",
   "metadata": {},
   "outputs": [
    {
     "data": {
      "text/plain": [
       "5"
      ]
     },
     "execution_count": 65,
     "metadata": {},
     "output_type": "execute_result"
    }
   ],
   "source": [
    "len(agg.ra['Gene'][nuniq_idx][0])"
   ]
  },
  {
   "cell_type": "code",
   "execution_count": 70,
   "id": "c256a97a-03a3-4bf6-bf69-d84ca2122a63",
   "metadata": {},
   "outputs": [
    {
     "data": {
      "text/plain": [
       "(56,)"
      ]
     },
     "execution_count": 70,
     "metadata": {},
     "output_type": "execute_result"
    }
   ],
   "source": [
    "np.unique(agg.ra['Gene'][nuniq_idx]).shape"
   ]
  },
  {
   "cell_type": "code",
   "execution_count": 29,
   "id": "e4167af8-1e06-455c-83ce-7eb97f0d080a",
   "metadata": {},
   "outputs": [],
   "source": [
    "import numpy as np\n",
    "import pandas as pd"
   ]
  },
  {
   "cell_type": "code",
   "execution_count": 32,
   "id": "1d42d1a2-0f91-41ba-b5be-befc99b25f1a",
   "metadata": {},
   "outputs": [
    {
     "data": {
      "text/plain": [
       "array(['Astrocytes', 'Ependymal', 'Immune', 'Neurons', 'Oligos',\n",
       "       'PeripheralGlia', 'Vascular'], dtype=object)"
      ]
     },
     "execution_count": 32,
     "metadata": {},
     "output_type": "execute_result"
    }
   ],
   "source": [
    "np.unique(agg.ca['Class'])"
   ]
  },
  {
   "cell_type": "code",
   "execution_count": null,
   "id": "3d00c4c5-156f-41aa-a48c-cae6b48cb1ad",
   "metadata": {},
   "outputs": [],
   "source": [
    "np.unique()"
   ]
  },
  {
   "cell_type": "code",
   "execution_count": 21,
   "id": "c07ae4e7-1ab9-4bcf-a2aa-3a30e740112b",
   "metadata": {},
   "outputs": [],
   "source": [
    "tissue_list=[\n",
    "    'Tissue_Amygd',\n",
    "     'Tissue_CA1',\n",
    "     'Tissue_CB',\n",
    "     'Tissue_Ctx1',\n",
    "     'Tissue_Ctx1.5',\n",
    "     'Tissue_Ctx2',\n",
    "     'Tissue_Ctx3',\n",
    "     'Tissue_DRG',\n",
    "     'Tissue_DentGyr',\n",
    "     'Tissue_ENS',\n",
    "     'Tissue_HC',\n",
    "     'Tissue_Hypoth',\n",
    "     'Tissue_MBd',\n",
    "     'Tissue_MBv',\n",
    "     'Tissue_Medulla',\n",
    "     'Tissue_OB',\n",
    "     'Tissue_Pons',\n",
    "     'Tissue_SC',\n",
    "     'Tissue_SScortex',\n",
    "     'Tissue_StriatDor',\n",
    "     'Tissue_StriatVent',\n",
    "     'Tissue_Sympath',\n",
    "     'Tissue_Thal'\n",
    "]"
   ]
  },
  {
   "cell_type": "code",
   "execution_count": 12,
   "id": "7a2628af-3d41-4b29-9bbe-1b5a8a03ac43",
   "metadata": {},
   "outputs": [
    {
     "data": {
      "text/plain": [
       "array(['Cbln2', 'Ptchd2', 'P2rx2', ..., 'Mmadhc', 'Med27', 'Psmc6'],\n",
       "      dtype=object)"
      ]
     },
     "execution_count": 12,
     "metadata": {},
     "output_type": "execute_result"
    }
   ],
   "source": [
    "all_data.ra['Gene']"
   ]
  },
  {
   "cell_type": "code",
   "execution_count": 13,
   "id": "bd0cc499-53ad-4dec-9b90-28659aecaba2",
   "metadata": {},
   "outputs": [
    {
     "data": {
      "text/plain": [
       "array([-2.88649881, -5.5494638 , -3.16173369, ..., -1.39026519,\n",
       "       -3.06403701, -0.00720581])"
      ]
     },
     "execution_count": 13,
     "metadata": {},
     "output_type": "execute_result"
    }
   ],
   "source": [
    "all_data.ra['_LogMean']"
   ]
  },
  {
   "cell_type": "code",
   "execution_count": 14,
   "id": "913f54c7-5cf9-4e76-b46a-78c4939c6091",
   "metadata": {},
   "outputs": [],
   "source": [
    "hippo=loompy.connect('../data/single-cell/zeisel_2018/hippocampus/l1_hippocampus.loom')"
   ]
  },
  {
   "cell_type": "code",
   "execution_count": 15,
   "id": "dde835b8-ad21-48e0-81fd-88598d16d0c8",
   "metadata": {},
   "outputs": [
    {
     "data": {
      "text/plain": [
       "['CreationDate']"
      ]
     },
     "execution_count": 15,
     "metadata": {},
     "output_type": "execute_result"
    }
   ],
   "source": [
    "hippo.attrs.keys()"
   ]
  },
  {
   "cell_type": "code",
   "execution_count": 16,
   "id": "7494a3b0-f4af-4176-b9f4-defae4f7124b",
   "metadata": {},
   "outputs": [
    {
     "data": {
      "text/plain": [
       "['Age',\n",
       " 'AnalysisPool',\n",
       " 'AnalysisProject',\n",
       " 'CellConc',\n",
       " 'CellID',\n",
       " 'Cell_Conc',\n",
       " 'ChipID',\n",
       " 'Class',\n",
       " 'ClassProbability_Astrocyte',\n",
       " 'ClassProbability_Astrocyte,Immune',\n",
       " 'ClassProbability_Astrocyte,Neurons',\n",
       " 'ClassProbability_Astrocyte,Oligos',\n",
       " 'ClassProbability_Astrocyte,Vascular',\n",
       " 'ClassProbability_Bergmann-glia',\n",
       " 'ClassProbability_Blood',\n",
       " 'ClassProbability_Blood,Vascular',\n",
       " 'ClassProbability_Enteric-glia',\n",
       " 'ClassProbability_Enteric-glia,Cycling',\n",
       " 'ClassProbability_Ependymal',\n",
       " 'ClassProbability_Ex-Neurons',\n",
       " 'ClassProbability_Ex-Vascular',\n",
       " 'ClassProbability_Immune',\n",
       " 'ClassProbability_Immune,Neurons',\n",
       " 'ClassProbability_Immune,Oligos',\n",
       " 'ClassProbability_Neurons',\n",
       " 'ClassProbability_Neurons,Cycling',\n",
       " 'ClassProbability_Neurons,Oligos',\n",
       " 'ClassProbability_Neurons,Satellite-glia',\n",
       " 'ClassProbability_Neurons,Vascular',\n",
       " 'ClassProbability_OEC',\n",
       " 'ClassProbability_Oligos',\n",
       " 'ClassProbability_Oligos,Cycling',\n",
       " 'ClassProbability_Oligos,Vascular',\n",
       " 'ClassProbability_Satellite-glia',\n",
       " 'ClassProbability_Satellite-glia,Cycling',\n",
       " 'ClassProbability_Satellite-glia,Schwann',\n",
       " 'ClassProbability_Schwann',\n",
       " 'ClassProbability_Ttr',\n",
       " 'ClassProbability_Vascular',\n",
       " 'Clusters',\n",
       " 'Comments',\n",
       " 'DateCaptured',\n",
       " 'Date_Captured',\n",
       " 'DonorID',\n",
       " 'Flowcell',\n",
       " 'Fraction Reads in Cells',\n",
       " 'Label',\n",
       " 'Mean Reads per Cell',\n",
       " 'Median Genes per Cell',\n",
       " 'MitoRiboRatio',\n",
       " 'NGI_PlateWell',\n",
       " 'NumPooledAnimals',\n",
       " 'Num_Pooled_Animals',\n",
       " 'Number of Reads',\n",
       " 'Outliers',\n",
       " 'PCRCycles',\n",
       " 'PCR_Cycles',\n",
       " 'PassedQC',\n",
       " 'PlugDate',\n",
       " 'Plug_Date',\n",
       " 'Project',\n",
       " 'Q30 Bases in Barcode',\n",
       " 'Q30 Bases in UMI',\n",
       " 'Reads Mapped Confidently to Exonic Regions',\n",
       " 'Reads Mapped Confidently to Intergenic Regions',\n",
       " 'Reads Mapped Confidently to Intronic Regions',\n",
       " 'Reads Mapped Confidently to Transcriptome',\n",
       " 'SampleID',\n",
       " 'SampleIndex',\n",
       " 'Sample_Index',\n",
       " 'SeqComment',\n",
       " 'SeqLibDate',\n",
       " 'SeqLibOk',\n",
       " 'Seq_Comment',\n",
       " 'Seq_Lib_Date',\n",
       " 'Seq_Lib_Ok',\n",
       " 'Serial_Number',\n",
       " 'Sex',\n",
       " 'Species',\n",
       " 'Strain',\n",
       " 'Subclass',\n",
       " 'TargetNumCells',\n",
       " 'Target_Num_Cells',\n",
       " 'TimepointPool',\n",
       " 'Tissue',\n",
       " 'Transcriptome',\n",
       " 'Valid Barcodes',\n",
       " '_KMeans_10',\n",
       " '_LogCV',\n",
       " '_LogMean',\n",
       " '_NGenes',\n",
       " '_Total',\n",
       " '_Valid',\n",
       " '_X',\n",
       " '_Y',\n",
       " '_tSNE1',\n",
       " '_tSNE2',\n",
       " 'cDNAConcNanogramPerMicroliter',\n",
       " 'cDNALibOk',\n",
       " 'cDNA_Lib_Ok',\n",
       " 'ngperul_cDNA']"
      ]
     },
     "execution_count": 16,
     "metadata": {},
     "output_type": "execute_result"
    }
   ],
   "source": [
    "hippo.ca.keys()"
   ]
  },
  {
   "cell_type": "code",
   "execution_count": 17,
   "id": "faab6c45-dcc7-411b-9d57-12e8ba58e1bf",
   "metadata": {},
   "outputs": [
    {
     "data": {
      "text/plain": [
       "['Accession', 'Gene', '_LogCV', '_LogMean', '_Selected', '_Total', '_Valid']"
      ]
     },
     "execution_count": 17,
     "metadata": {},
     "output_type": "execute_result"
    }
   ],
   "source": [
    "hippo.ra.keys()"
   ]
  },
  {
   "cell_type": "code",
   "execution_count": 20,
   "id": "06991640-f17c-4672-abda-2271d8001f62",
   "metadata": {},
   "outputs": [
    {
     "data": {
      "text/plain": [
       "['']"
      ]
     },
     "execution_count": 20,
     "metadata": {},
     "output_type": "execute_result"
    }
   ],
   "source": [
    "hippo.layers.keys()"
   ]
  },
  {
   "cell_type": "code",
   "execution_count": 21,
   "id": "1606647a-7036-4372-a539-a55cda2a35e9",
   "metadata": {},
   "outputs": [],
   "source": [
    "import numpy as np\n",
    "import pandas as pd"
   ]
  },
  {
   "cell_type": "code",
   "execution_count": 22,
   "id": "9cafe3ea-a36f-4afa-a683-6a6d845f0463",
   "metadata": {},
   "outputs": [],
   "source": [
    "hippo_meta_df = pd.read_csv('../data/single-cell/zeisel_2018/hippocampus/meta.tsv',sep='\\t')"
   ]
  },
  {
   "cell_type": "code",
   "execution_count": 24,
   "id": "949a02a0-929e-4c0f-b99c-6757a8868af5",
   "metadata": {},
   "outputs": [
    {
     "data": {
      "text/plain": [
       "Index(['cellID', 'Age', 'CellConc', 'Cell_Conc', 'ChipID', 'Class',\n",
       "       'ClassProbability_Astrocyte', 'ClassProbability_Astrocyte,Immune',\n",
       "       'ClassProbability_Astrocyte,Neurons',\n",
       "       'ClassProbability_Astrocyte,Oligos',\n",
       "       'ClassProbability_Astrocyte,Vascular', 'ClassProbability_Bergmann-glia',\n",
       "       'ClassProbability_Blood', 'ClassProbability_Blood,Vascular',\n",
       "       'ClassProbability_Enteric-glia',\n",
       "       'ClassProbability_Enteric-glia,Cycling', 'ClassProbability_Ependymal',\n",
       "       'ClassProbability_Ex-Neurons', 'ClassProbability_Ex-Vascular',\n",
       "       'ClassProbability_Immune', 'ClassProbability_Immune,Neurons',\n",
       "       'ClassProbability_Immune,Oligos', 'ClassProbability_Neurons',\n",
       "       'ClassProbability_Neurons,Cycling', 'ClassProbability_Neurons,Oligos',\n",
       "       'ClassProbability_Neurons,Satellite-glia',\n",
       "       'ClassProbability_Neurons,Vascular', 'ClassProbability_OEC',\n",
       "       'ClassProbability_Oligos', 'ClassProbability_Oligos,Cycling',\n",
       "       'ClassProbability_Oligos,Vascular', 'ClassProbability_Satellite-glia',\n",
       "       'ClassProbability_Satellite-glia,Cycling',\n",
       "       'ClassProbability_Satellite-glia,Schwann', 'ClassProbability_Schwann',\n",
       "       'ClassProbability_Ttr', 'ClassProbability_Vascular', 'Clusters',\n",
       "       'Comments', 'DateCaptured', 'Date_Captured', 'DonorID', 'Flowcell',\n",
       "       'Fraction Reads in Cells', 'Label', 'Mean Reads per Cell',\n",
       "       'Median Genes per Cell', 'MitoRiboRatio', 'NumPooledAnimals',\n",
       "       'Num_Pooled_Animals', 'Number of Reads', 'Outliers', 'PCRCycles',\n",
       "       'PCR_Cycles', 'Project', 'Q30 Bases in Barcode', 'Q30 Bases in UMI',\n",
       "       'Reads Mapped Confidently to Exonic Regions',\n",
       "       'Reads Mapped Confidently to Intergenic Regions',\n",
       "       'Reads Mapped Confidently to Intronic Regions',\n",
       "       'Reads Mapped Confidently to Transcriptome', 'SampleID', 'SampleIndex',\n",
       "       'Sample_Index', 'SeqLibDate', 'SeqLibOk', 'Seq_Lib_Date', 'Seq_Lib_Ok',\n",
       "       'Serial_Number', 'Sex', 'Strain', 'Subclass', 'TargetNumCells',\n",
       "       'Target_Num_Cells', 'Tissue', 'Valid Barcodes', '_KMeans_10', '_LogCV',\n",
       "       '_LogMean', '_NGenes', '_Total', '_X', '_Y',\n",
       "       'cDNAConcNanogramPerMicroliter', 'cDNALibOk', 'cDNA_Lib_Ok',\n",
       "       'ngperul_cDNA'],\n",
       "      dtype='object')"
      ]
     },
     "execution_count": 24,
     "metadata": {},
     "output_type": "execute_result"
    }
   ],
   "source": [
    "hippo_meta_df.columns"
   ]
  },
  {
   "cell_type": "code",
   "execution_count": 26,
   "id": "22a15d27-9c25-418b-b746-f3291fee3bb9",
   "metadata": {},
   "outputs": [
    {
     "data": {
      "text/plain": [
       "array(['Oligos', 'Immune', 'Neurons', 'Vascular', 'Excluded', 'Blood',\n",
       "       'Astrocytes', 'Ependymal'], dtype=object)"
      ]
     },
     "execution_count": 26,
     "metadata": {},
     "output_type": "execute_result"
    }
   ],
   "source": [
    "hippo_meta_df['Class'].unique()"
   ]
  },
  {
   "cell_type": "code",
   "execution_count": 28,
   "id": "116f32ea-f3f4-4f78-98ad-fa4ae1209240",
   "metadata": {},
   "outputs": [
    {
     "data": {
      "text/plain": [
       "array([ 0,  1,  2,  3,  4,  5,  6,  7,  8,  9, 10, 11, 12, 13, 14, 15, 16,\n",
       "       17, 18, 19, 20, 21, 22, 23, 24, 25, 26, 27, 28, 29, 30, 31, 32, 33,\n",
       "       34, 35, 36, 37, 38, 39, 40, 41, 42, 43, 44, 45, 46, 47, 48, 49, 50,\n",
       "       51, 52, 53, 54, 55, 56, 57, 58, 59, 60, 61, 62, 63, 64, 65, 66, 67,\n",
       "       68, 69, 70, 71, 72, 73])"
      ]
     },
     "execution_count": 28,
     "metadata": {},
     "output_type": "execute_result"
    }
   ],
   "source": [
    "hippo_meta_df['Clusters'].unique()"
   ]
  },
  {
   "cell_type": "code",
   "execution_count": 29,
   "id": "0b98db6f-9f96-452d-ba44-68b6b01cd240",
   "metadata": {},
   "outputs": [
    {
     "data": {
      "text/plain": [
       "array(['Oligos', 'Immune', 'Neurons', 'Vascular', 'Immune,Oligos',\n",
       "       'Astrocyte,Oligos', 'Oligos,Vascular', 'Neurons,Oligos',\n",
       "       'Neurons,Cycling', 'Blood', 'Astrocyte', 'Astrocyte,Neurons',\n",
       "       'Ttr', 'Astrocyte,Vascular', 'OEC', 'Ex-Vascular',\n",
       "       'Immune,Neurons', 'Neurons,Vascular', 'Astrocyte,Immune',\n",
       "       'Bergmann-glia', 'Ependymal', 'Oligos,Cycling'], dtype=object)"
      ]
     },
     "execution_count": 29,
     "metadata": {},
     "output_type": "execute_result"
    }
   ],
   "source": [
    "hippo_meta_df['Subclass'].unique()"
   ]
  },
  {
   "cell_type": "code",
   "execution_count": 30,
   "id": "493ad596-8039-4809-b131-41a15b53d573",
   "metadata": {},
   "outputs": [
    {
     "data": {
      "text/plain": [
       "array(['HC', 'DentGyr', 'CA1'], dtype=object)"
      ]
     },
     "execution_count": 30,
     "metadata": {},
     "output_type": "execute_result"
    }
   ],
   "source": [
    "hippo_meta_df['Tissue'].unique()"
   ]
  },
  {
   "cell_type": "code",
   "execution_count": 31,
   "id": "e7524093-60ab-4476-a2f2-896a055ab7fa",
   "metadata": {},
   "outputs": [
    {
     "data": {
      "text/plain": [
       "0           761\"\n",
       "1           283\"\n",
       "2           683\"\n",
       "3        149,202\n",
       "4           761\"\n",
       "          ...   \n",
       "29488       874\"\n",
       "29489    149,202\n",
       "29490       417\"\n",
       "29491       874\"\n",
       "29492       683\"\n",
       "Name: Mean Reads per Cell, Length: 29493, dtype: object"
      ]
     },
     "execution_count": 31,
     "metadata": {},
     "output_type": "execute_result"
    }
   ],
   "source": [
    "hippo_meta_df['Mean Reads per Cell']"
   ]
  },
  {
   "cell_type": "code",
   "execution_count": 32,
   "id": "45e7c3a4-fc91-4223-a482-57b39a93aa31",
   "metadata": {},
   "outputs": [
    {
     "data": {
      "text/plain": [
       "0          \"38\n",
       "1          \"53\n",
       "2          \"57\n",
       "3        1,111\n",
       "4          \"38\n",
       "         ...  \n",
       "29488      \"60\n",
       "29489    1,111\n",
       "29490      \"64\n",
       "29491      \"60\n",
       "29492      \"57\n",
       "Name: Median Genes per Cell, Length: 29493, dtype: object"
      ]
     },
     "execution_count": 32,
     "metadata": {},
     "output_type": "execute_result"
    }
   ],
   "source": [
    "hippo_meta_df['Median Genes per Cell']"
   ]
  },
  {
   "cell_type": "code",
   "execution_count": null,
   "id": "63726909-0ed0-44a6-906c-74dc28dbad99",
   "metadata": {},
   "outputs": [],
   "source": []
  }
 ],
 "metadata": {
  "kernelspec": {
   "display_name": "Python 3 (ipykernel)",
   "language": "python",
   "name": "python3"
  },
  "language_info": {
   "codemirror_mode": {
    "name": "ipython",
    "version": 3
   },
   "file_extension": ".py",
   "mimetype": "text/x-python",
   "name": "python",
   "nbconvert_exporter": "python",
   "pygments_lexer": "ipython3",
   "version": "3.8.13"
  }
 },
 "nbformat": 4,
 "nbformat_minor": 5
}
