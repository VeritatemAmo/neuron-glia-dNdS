{
 "cells": [
  {
   "cell_type": "markdown",
   "metadata": {},
   "source": [
    "adapted from human.stats_and_figures.ipynb"
   ]
  },
  {
   "cell_type": "code",
   "execution_count": 175,
   "metadata": {},
   "outputs": [],
   "source": [
    "import numpy as np\n",
    "import pandas as pd\n",
    "import glob\n",
    "from IPython.core.interactiveshell import InteractiveShell\n",
    "InteractiveShell.ast_node_interactivity = \"all\"\n",
    "pd.set_option('display.max_rows', 10)"
   ]
  },
  {
   "cell_type": "code",
   "execution_count": 176,
   "metadata": {},
   "outputs": [],
   "source": [
    "dnds_df = pd.read_csv('../results/Ensembl98_chicken/chicken.30_species_dNdS.all_genes.tsv',sep='\\t',index_col=[0,1])"
   ]
  },
  {
   "cell_type": "code",
   "execution_count": 200,
   "metadata": {},
   "outputs": [],
   "source": [
    "dnds_df['reptile_avg_dNdS']=dnds_df.loc[:,'abrachyrhynchus_dNdS':'zalbicollis_dNdS'].mean(axis=1)"
   ]
  },
  {
   "cell_type": "code",
   "execution_count": 201,
   "metadata": {},
   "outputs": [
    {
     "data": {
      "text/html": [
       "<div>\n",
       "<style scoped>\n",
       "    .dataframe tbody tr th:only-of-type {\n",
       "        vertical-align: middle;\n",
       "    }\n",
       "\n",
       "    .dataframe tbody tr th {\n",
       "        vertical-align: top;\n",
       "    }\n",
       "\n",
       "    .dataframe thead th {\n",
       "        text-align: right;\n",
       "    }\n",
       "</style>\n",
       "<table border=\"1\" class=\"dataframe\">\n",
       "  <thead>\n",
       "    <tr style=\"text-align: right;\">\n",
       "      <th></th>\n",
       "      <th></th>\n",
       "      <th>abrachyrhynchus_dNdS</th>\n",
       "      <th>acarolinensis_dNdS</th>\n",
       "      <th>ahaastii_dNdS</th>\n",
       "      <th>aowenii_dNdS</th>\n",
       "      <th>applatyrhynchos_dNdS</th>\n",
       "      <th>arowi_dNdS</th>\n",
       "      <th>cabingdonii_dNdS</th>\n",
       "      <th>ccaeruleus_dNdS</th>\n",
       "      <th>cjaponica_dNdS</th>\n",
       "      <th>cpbellii_dNdS</th>\n",
       "      <th>...</th>\n",
       "      <th>mvitellinus_dNdS</th>\n",
       "      <th>nmeleagris_dNdS</th>\n",
       "      <th>nperdicaria_dNdS</th>\n",
       "      <th>pmajor_dNdS</th>\n",
       "      <th>psinensis_dNdS</th>\n",
       "      <th>scanaria_dNdS</th>\n",
       "      <th>smerianae_dNdS</th>\n",
       "      <th>spunctatus_dNdS</th>\n",
       "      <th>zalbicollis_dNdS</th>\n",
       "      <th>reptile_avg_dNdS</th>\n",
       "    </tr>\n",
       "    <tr>\n",
       "      <th>Gene stable ID</th>\n",
       "      <th>Gene name</th>\n",
       "      <th></th>\n",
       "      <th></th>\n",
       "      <th></th>\n",
       "      <th></th>\n",
       "      <th></th>\n",
       "      <th></th>\n",
       "      <th></th>\n",
       "      <th></th>\n",
       "      <th></th>\n",
       "      <th></th>\n",
       "      <th></th>\n",
       "      <th></th>\n",
       "      <th></th>\n",
       "      <th></th>\n",
       "      <th></th>\n",
       "      <th></th>\n",
       "      <th></th>\n",
       "      <th></th>\n",
       "      <th></th>\n",
       "      <th></th>\n",
       "      <th></th>\n",
       "    </tr>\n",
       "  </thead>\n",
       "  <tbody>\n",
       "    <tr>\n",
       "      <th>ENSGALG00000000003</th>\n",
       "      <th>PANX2</th>\n",
       "      <td>0.040064</td>\n",
       "      <td>0.063331</td>\n",
       "      <td>0.055618</td>\n",
       "      <td>0.055618</td>\n",
       "      <td>0.033333</td>\n",
       "      <td>0.032274</td>\n",
       "      <td>0.084858</td>\n",
       "      <td>0.058824</td>\n",
       "      <td>0.117388</td>\n",
       "      <td>0.066391</td>\n",
       "      <td>...</td>\n",
       "      <td>0.077175</td>\n",
       "      <td>0.131676</td>\n",
       "      <td>0.033138</td>\n",
       "      <td>0.060713</td>\n",
       "      <td>0.087354</td>\n",
       "      <td>0.072792</td>\n",
       "      <td>0.061477</td>\n",
       "      <td>NaN</td>\n",
       "      <td>0.057296</td>\n",
       "      <td>0.069405</td>\n",
       "    </tr>\n",
       "    <tr>\n",
       "      <th>ENSGALG00000000011</th>\n",
       "      <th>C10orf88</th>\n",
       "      <td>0.476299</td>\n",
       "      <td>0.249495</td>\n",
       "      <td>0.402878</td>\n",
       "      <td>0.447086</td>\n",
       "      <td>0.409735</td>\n",
       "      <td>0.505535</td>\n",
       "      <td>NaN</td>\n",
       "      <td>NaN</td>\n",
       "      <td>0.321538</td>\n",
       "      <td>0.502871</td>\n",
       "      <td>...</td>\n",
       "      <td>NaN</td>\n",
       "      <td>0.298759</td>\n",
       "      <td>NaN</td>\n",
       "      <td>0.487453</td>\n",
       "      <td>0.368580</td>\n",
       "      <td>NaN</td>\n",
       "      <td>0.133712</td>\n",
       "      <td>0.464826</td>\n",
       "      <td>NaN</td>\n",
       "      <td>0.396707</td>\n",
       "    </tr>\n",
       "    <tr>\n",
       "      <th>ENSGALG00000000044</th>\n",
       "      <th>WFIKKN1</th>\n",
       "      <td>0.042545</td>\n",
       "      <td>0.020462</td>\n",
       "      <td>0.000999</td>\n",
       "      <td>0.001039</td>\n",
       "      <td>0.043364</td>\n",
       "      <td>0.001021</td>\n",
       "      <td>0.001083</td>\n",
       "      <td>NaN</td>\n",
       "      <td>0.043991</td>\n",
       "      <td>0.001003</td>\n",
       "      <td>...</td>\n",
       "      <td>0.053841</td>\n",
       "      <td>0.099718</td>\n",
       "      <td>0.001000</td>\n",
       "      <td>0.042636</td>\n",
       "      <td>NaN</td>\n",
       "      <td>0.001730</td>\n",
       "      <td>0.001007</td>\n",
       "      <td>NaN</td>\n",
       "      <td>NaN</td>\n",
       "      <td>0.030648</td>\n",
       "    </tr>\n",
       "    <tr>\n",
       "      <th>ENSGALG00000000048</th>\n",
       "      <th>NaN</th>\n",
       "      <td>0.073071</td>\n",
       "      <td>NaN</td>\n",
       "      <td>0.029864</td>\n",
       "      <td>0.033895</td>\n",
       "      <td>0.025335</td>\n",
       "      <td>0.044947</td>\n",
       "      <td>0.036032</td>\n",
       "      <td>NaN</td>\n",
       "      <td>0.081281</td>\n",
       "      <td>0.035015</td>\n",
       "      <td>...</td>\n",
       "      <td>NaN</td>\n",
       "      <td>0.104419</td>\n",
       "      <td>0.034972</td>\n",
       "      <td>NaN</td>\n",
       "      <td>NaN</td>\n",
       "      <td>NaN</td>\n",
       "      <td>0.001759</td>\n",
       "      <td>0.034288</td>\n",
       "      <td>NaN</td>\n",
       "      <td>0.048765</td>\n",
       "    </tr>\n",
       "    <tr>\n",
       "      <th>ENSGALG00000000055</th>\n",
       "      <th>LAMTOR3</th>\n",
       "      <td>NaN</td>\n",
       "      <td>0.007919</td>\n",
       "      <td>0.055103</td>\n",
       "      <td>0.053029</td>\n",
       "      <td>NaN</td>\n",
       "      <td>0.055103</td>\n",
       "      <td>NaN</td>\n",
       "      <td>0.042839</td>\n",
       "      <td>NaN</td>\n",
       "      <td>NaN</td>\n",
       "      <td>...</td>\n",
       "      <td>0.073643</td>\n",
       "      <td>NaN</td>\n",
       "      <td>0.144333</td>\n",
       "      <td>NaN</td>\n",
       "      <td>NaN</td>\n",
       "      <td>NaN</td>\n",
       "      <td>0.003803</td>\n",
       "      <td>0.002640</td>\n",
       "      <td>0.094077</td>\n",
       "      <td>0.062023</td>\n",
       "    </tr>\n",
       "    <tr>\n",
       "      <th>...</th>\n",
       "      <th>...</th>\n",
       "      <td>...</td>\n",
       "      <td>...</td>\n",
       "      <td>...</td>\n",
       "      <td>...</td>\n",
       "      <td>...</td>\n",
       "      <td>...</td>\n",
       "      <td>...</td>\n",
       "      <td>...</td>\n",
       "      <td>...</td>\n",
       "      <td>...</td>\n",
       "      <td>...</td>\n",
       "      <td>...</td>\n",
       "      <td>...</td>\n",
       "      <td>...</td>\n",
       "      <td>...</td>\n",
       "      <td>...</td>\n",
       "      <td>...</td>\n",
       "      <td>...</td>\n",
       "      <td>...</td>\n",
       "      <td>...</td>\n",
       "      <td>...</td>\n",
       "    </tr>\n",
       "    <tr>\n",
       "      <th>ENSGALG00000055075</th>\n",
       "      <th>FMNL3</th>\n",
       "      <td>0.001087</td>\n",
       "      <td>0.015407</td>\n",
       "      <td>NaN</td>\n",
       "      <td>NaN</td>\n",
       "      <td>NaN</td>\n",
       "      <td>0.001033</td>\n",
       "      <td>0.046504</td>\n",
       "      <td>NaN</td>\n",
       "      <td>NaN</td>\n",
       "      <td>0.042698</td>\n",
       "      <td>...</td>\n",
       "      <td>NaN</td>\n",
       "      <td>0.020117</td>\n",
       "      <td>0.030533</td>\n",
       "      <td>0.045506</td>\n",
       "      <td>NaN</td>\n",
       "      <td>0.041220</td>\n",
       "      <td>0.002717</td>\n",
       "      <td>0.024323</td>\n",
       "      <td>NaN</td>\n",
       "      <td>0.028027</td>\n",
       "    </tr>\n",
       "    <tr>\n",
       "      <th>ENSGALG00000055081</th>\n",
       "      <th>SEMA4C</th>\n",
       "      <td>0.046896</td>\n",
       "      <td>NaN</td>\n",
       "      <td>0.047596</td>\n",
       "      <td>0.055469</td>\n",
       "      <td>0.047000</td>\n",
       "      <td>0.055199</td>\n",
       "      <td>0.052817</td>\n",
       "      <td>NaN</td>\n",
       "      <td>0.058608</td>\n",
       "      <td>0.001538</td>\n",
       "      <td>...</td>\n",
       "      <td>NaN</td>\n",
       "      <td>0.118243</td>\n",
       "      <td>NaN</td>\n",
       "      <td>NaN</td>\n",
       "      <td>NaN</td>\n",
       "      <td>NaN</td>\n",
       "      <td>0.002598</td>\n",
       "      <td>NaN</td>\n",
       "      <td>NaN</td>\n",
       "      <td>0.046023</td>\n",
       "    </tr>\n",
       "    <tr>\n",
       "      <th>ENSGALG00000055094</th>\n",
       "      <th>CD63</th>\n",
       "      <td>NaN</td>\n",
       "      <td>0.008954</td>\n",
       "      <td>NaN</td>\n",
       "      <td>NaN</td>\n",
       "      <td>NaN</td>\n",
       "      <td>NaN</td>\n",
       "      <td>0.005355</td>\n",
       "      <td>NaN</td>\n",
       "      <td>0.229987</td>\n",
       "      <td>NaN</td>\n",
       "      <td>...</td>\n",
       "      <td>NaN</td>\n",
       "      <td>NaN</td>\n",
       "      <td>0.033586</td>\n",
       "      <td>NaN</td>\n",
       "      <td>NaN</td>\n",
       "      <td>NaN</td>\n",
       "      <td>0.004622</td>\n",
       "      <td>0.002879</td>\n",
       "      <td>NaN</td>\n",
       "      <td>0.042108</td>\n",
       "    </tr>\n",
       "    <tr>\n",
       "      <th>ENSGALG00000055101</th>\n",
       "      <th>TASOR2</th>\n",
       "      <td>0.375692</td>\n",
       "      <td>NaN</td>\n",
       "      <td>0.334452</td>\n",
       "      <td>NaN</td>\n",
       "      <td>0.362016</td>\n",
       "      <td>NaN</td>\n",
       "      <td>0.340371</td>\n",
       "      <td>0.283353</td>\n",
       "      <td>0.617512</td>\n",
       "      <td>0.331934</td>\n",
       "      <td>...</td>\n",
       "      <td>NaN</td>\n",
       "      <td>0.463967</td>\n",
       "      <td>NaN</td>\n",
       "      <td>0.271662</td>\n",
       "      <td>0.362102</td>\n",
       "      <td>NaN</td>\n",
       "      <td>0.216825</td>\n",
       "      <td>0.076234</td>\n",
       "      <td>NaN</td>\n",
       "      <td>0.353952</td>\n",
       "    </tr>\n",
       "    <tr>\n",
       "      <th>ENSGALG00000055127</th>\n",
       "      <th>NaN</th>\n",
       "      <td>NaN</td>\n",
       "      <td>NaN</td>\n",
       "      <td>NaN</td>\n",
       "      <td>NaN</td>\n",
       "      <td>NaN</td>\n",
       "      <td>NaN</td>\n",
       "      <td>NaN</td>\n",
       "      <td>NaN</td>\n",
       "      <td>NaN</td>\n",
       "      <td>NaN</td>\n",
       "      <td>...</td>\n",
       "      <td>NaN</td>\n",
       "      <td>0.353103</td>\n",
       "      <td>NaN</td>\n",
       "      <td>NaN</td>\n",
       "      <td>NaN</td>\n",
       "      <td>NaN</td>\n",
       "      <td>NaN</td>\n",
       "      <td>NaN</td>\n",
       "      <td>NaN</td>\n",
       "      <td>0.353103</td>\n",
       "    </tr>\n",
       "  </tbody>\n",
       "</table>\n",
       "<p>13510 rows × 31 columns</p>\n",
       "</div>"
      ],
      "text/plain": [
       "                              abrachyrhynchus_dNdS  acarolinensis_dNdS  \\\n",
       "Gene stable ID     Gene name                                             \n",
       "ENSGALG00000000003 PANX2                  0.040064            0.063331   \n",
       "ENSGALG00000000011 C10orf88               0.476299            0.249495   \n",
       "ENSGALG00000000044 WFIKKN1                0.042545            0.020462   \n",
       "ENSGALG00000000048 NaN                    0.073071                 NaN   \n",
       "ENSGALG00000000055 LAMTOR3                     NaN            0.007919   \n",
       "...                                            ...                 ...   \n",
       "ENSGALG00000055075 FMNL3                  0.001087            0.015407   \n",
       "ENSGALG00000055081 SEMA4C                 0.046896                 NaN   \n",
       "ENSGALG00000055094 CD63                        NaN            0.008954   \n",
       "ENSGALG00000055101 TASOR2                 0.375692                 NaN   \n",
       "ENSGALG00000055127 NaN                         NaN                 NaN   \n",
       "\n",
       "                              ahaastii_dNdS  aowenii_dNdS  \\\n",
       "Gene stable ID     Gene name                                \n",
       "ENSGALG00000000003 PANX2           0.055618      0.055618   \n",
       "ENSGALG00000000011 C10orf88        0.402878      0.447086   \n",
       "ENSGALG00000000044 WFIKKN1         0.000999      0.001039   \n",
       "ENSGALG00000000048 NaN             0.029864      0.033895   \n",
       "ENSGALG00000000055 LAMTOR3         0.055103      0.053029   \n",
       "...                                     ...           ...   \n",
       "ENSGALG00000055075 FMNL3                NaN           NaN   \n",
       "ENSGALG00000055081 SEMA4C          0.047596      0.055469   \n",
       "ENSGALG00000055094 CD63                 NaN           NaN   \n",
       "ENSGALG00000055101 TASOR2          0.334452           NaN   \n",
       "ENSGALG00000055127 NaN                  NaN           NaN   \n",
       "\n",
       "                              applatyrhynchos_dNdS  arowi_dNdS  \\\n",
       "Gene stable ID     Gene name                                     \n",
       "ENSGALG00000000003 PANX2                  0.033333    0.032274   \n",
       "ENSGALG00000000011 C10orf88               0.409735    0.505535   \n",
       "ENSGALG00000000044 WFIKKN1                0.043364    0.001021   \n",
       "ENSGALG00000000048 NaN                    0.025335    0.044947   \n",
       "ENSGALG00000000055 LAMTOR3                     NaN    0.055103   \n",
       "...                                            ...         ...   \n",
       "ENSGALG00000055075 FMNL3                       NaN    0.001033   \n",
       "ENSGALG00000055081 SEMA4C                 0.047000    0.055199   \n",
       "ENSGALG00000055094 CD63                        NaN         NaN   \n",
       "ENSGALG00000055101 TASOR2                 0.362016         NaN   \n",
       "ENSGALG00000055127 NaN                         NaN         NaN   \n",
       "\n",
       "                              cabingdonii_dNdS  ccaeruleus_dNdS  \\\n",
       "Gene stable ID     Gene name                                      \n",
       "ENSGALG00000000003 PANX2              0.084858         0.058824   \n",
       "ENSGALG00000000011 C10orf88                NaN              NaN   \n",
       "ENSGALG00000000044 WFIKKN1            0.001083              NaN   \n",
       "ENSGALG00000000048 NaN                0.036032              NaN   \n",
       "ENSGALG00000000055 LAMTOR3                 NaN         0.042839   \n",
       "...                                        ...              ...   \n",
       "ENSGALG00000055075 FMNL3              0.046504              NaN   \n",
       "ENSGALG00000055081 SEMA4C             0.052817              NaN   \n",
       "ENSGALG00000055094 CD63               0.005355              NaN   \n",
       "ENSGALG00000055101 TASOR2             0.340371         0.283353   \n",
       "ENSGALG00000055127 NaN                     NaN              NaN   \n",
       "\n",
       "                              cjaponica_dNdS  cpbellii_dNdS  ...  \\\n",
       "Gene stable ID     Gene name                                 ...   \n",
       "ENSGALG00000000003 PANX2            0.117388       0.066391  ...   \n",
       "ENSGALG00000000011 C10orf88         0.321538       0.502871  ...   \n",
       "ENSGALG00000000044 WFIKKN1          0.043991       0.001003  ...   \n",
       "ENSGALG00000000048 NaN              0.081281       0.035015  ...   \n",
       "ENSGALG00000000055 LAMTOR3               NaN            NaN  ...   \n",
       "...                                      ...            ...  ...   \n",
       "ENSGALG00000055075 FMNL3                 NaN       0.042698  ...   \n",
       "ENSGALG00000055081 SEMA4C           0.058608       0.001538  ...   \n",
       "ENSGALG00000055094 CD63             0.229987            NaN  ...   \n",
       "ENSGALG00000055101 TASOR2           0.617512       0.331934  ...   \n",
       "ENSGALG00000055127 NaN                   NaN            NaN  ...   \n",
       "\n",
       "                              mvitellinus_dNdS  nmeleagris_dNdS  \\\n",
       "Gene stable ID     Gene name                                      \n",
       "ENSGALG00000000003 PANX2              0.077175         0.131676   \n",
       "ENSGALG00000000011 C10orf88                NaN         0.298759   \n",
       "ENSGALG00000000044 WFIKKN1            0.053841         0.099718   \n",
       "ENSGALG00000000048 NaN                     NaN         0.104419   \n",
       "ENSGALG00000000055 LAMTOR3            0.073643              NaN   \n",
       "...                                        ...              ...   \n",
       "ENSGALG00000055075 FMNL3                   NaN         0.020117   \n",
       "ENSGALG00000055081 SEMA4C                  NaN         0.118243   \n",
       "ENSGALG00000055094 CD63                    NaN              NaN   \n",
       "ENSGALG00000055101 TASOR2                  NaN         0.463967   \n",
       "ENSGALG00000055127 NaN                     NaN         0.353103   \n",
       "\n",
       "                              nperdicaria_dNdS  pmajor_dNdS  psinensis_dNdS  \\\n",
       "Gene stable ID     Gene name                                                  \n",
       "ENSGALG00000000003 PANX2              0.033138     0.060713        0.087354   \n",
       "ENSGALG00000000011 C10orf88                NaN     0.487453        0.368580   \n",
       "ENSGALG00000000044 WFIKKN1            0.001000     0.042636             NaN   \n",
       "ENSGALG00000000048 NaN                0.034972          NaN             NaN   \n",
       "ENSGALG00000000055 LAMTOR3            0.144333          NaN             NaN   \n",
       "...                                        ...          ...             ...   \n",
       "ENSGALG00000055075 FMNL3              0.030533     0.045506             NaN   \n",
       "ENSGALG00000055081 SEMA4C                  NaN          NaN             NaN   \n",
       "ENSGALG00000055094 CD63               0.033586          NaN             NaN   \n",
       "ENSGALG00000055101 TASOR2                  NaN     0.271662        0.362102   \n",
       "ENSGALG00000055127 NaN                     NaN          NaN             NaN   \n",
       "\n",
       "                              scanaria_dNdS  smerianae_dNdS  spunctatus_dNdS  \\\n",
       "Gene stable ID     Gene name                                                   \n",
       "ENSGALG00000000003 PANX2           0.072792        0.061477              NaN   \n",
       "ENSGALG00000000011 C10orf88             NaN        0.133712         0.464826   \n",
       "ENSGALG00000000044 WFIKKN1         0.001730        0.001007              NaN   \n",
       "ENSGALG00000000048 NaN                  NaN        0.001759         0.034288   \n",
       "ENSGALG00000000055 LAMTOR3              NaN        0.003803         0.002640   \n",
       "...                                     ...             ...              ...   \n",
       "ENSGALG00000055075 FMNL3           0.041220        0.002717         0.024323   \n",
       "ENSGALG00000055081 SEMA4C               NaN        0.002598              NaN   \n",
       "ENSGALG00000055094 CD63                 NaN        0.004622         0.002879   \n",
       "ENSGALG00000055101 TASOR2               NaN        0.216825         0.076234   \n",
       "ENSGALG00000055127 NaN                  NaN             NaN              NaN   \n",
       "\n",
       "                              zalbicollis_dNdS  reptile_avg_dNdS  \n",
       "Gene stable ID     Gene name                                      \n",
       "ENSGALG00000000003 PANX2              0.057296          0.069405  \n",
       "ENSGALG00000000011 C10orf88                NaN          0.396707  \n",
       "ENSGALG00000000044 WFIKKN1                 NaN          0.030648  \n",
       "ENSGALG00000000048 NaN                     NaN          0.048765  \n",
       "ENSGALG00000000055 LAMTOR3            0.094077          0.062023  \n",
       "...                                        ...               ...  \n",
       "ENSGALG00000055075 FMNL3                   NaN          0.028027  \n",
       "ENSGALG00000055081 SEMA4C                  NaN          0.046023  \n",
       "ENSGALG00000055094 CD63                    NaN          0.042108  \n",
       "ENSGALG00000055101 TASOR2                  NaN          0.353952  \n",
       "ENSGALG00000055127 NaN                     NaN          0.353103  \n",
       "\n",
       "[13510 rows x 31 columns]"
      ]
     },
     "execution_count": 201,
     "metadata": {},
     "output_type": "execute_result"
    }
   ],
   "source": [
    "dnds_df"
   ]
  },
  {
   "cell_type": "code",
   "execution_count": 202,
   "metadata": {},
   "outputs": [],
   "source": [
    "med_dnds=dnds_df.reptile_avg_dNdS.median(axis=0)"
   ]
  },
  {
   "cell_type": "code",
   "execution_count": 205,
   "metadata": {},
   "outputs": [
    {
     "data": {
      "text/plain": [
       "0.11756811233529922"
      ]
     },
     "execution_count": 205,
     "metadata": {},
     "output_type": "execute_result"
    }
   ],
   "source": [
    "med_dnds # use for benchmark in graphics"
   ]
  },
  {
   "cell_type": "code",
   "execution_count": 5,
   "metadata": {},
   "outputs": [],
   "source": [
    "# dnds_df.drop(['Gene stable ID', 'Gene description'],axis=1,inplace=True)"
   ]
  },
  {
   "cell_type": "code",
   "execution_count": 206,
   "metadata": {},
   "outputs": [],
   "source": [
    "# Get a list of species name (including \"reptile_avg\" of all reptilian species)\n",
    "species_list=[]\n",
    "for species in dnds_df.columns:\n",
    "    species_list.append(species[:-5])"
   ]
  },
  {
   "cell_type": "code",
   "execution_count": 244,
   "metadata": {},
   "outputs": [
    {
     "data": {
      "text/plain": [
       "31"
      ]
     },
     "execution_count": 244,
     "metadata": {},
     "output_type": "execute_result"
    }
   ],
   "source": [
    "len(species_list)"
   ]
  },
  {
   "cell_type": "code",
   "execution_count": 245,
   "metadata": {},
   "outputs": [
    {
     "data": {
      "text/plain": [
       "['abrachyrhynchus',\n",
       " 'acarolinensis',\n",
       " 'ahaastii',\n",
       " 'aowenii',\n",
       " 'applatyrhynchos',\n",
       " 'arowi',\n",
       " 'cabingdonii',\n",
       " 'ccaeruleus',\n",
       " 'cjaponica',\n",
       " 'cpbellii',\n",
       " 'cporosus',\n",
       " 'cpugnax',\n",
       " 'cpygmaea',\n",
       " 'dnovaehollandiae',\n",
       " 'falbicollis',\n",
       " 'gagassizii',\n",
       " 'jhyemalis',\n",
       " 'lcoronata',\n",
       " 'lsdomestica',\n",
       " 'mgallopavo',\n",
       " 'mundulatus',\n",
       " 'mvitellinus',\n",
       " 'nmeleagris',\n",
       " 'nperdicaria',\n",
       " 'pmajor',\n",
       " 'psinensis',\n",
       " 'scanaria',\n",
       " 'smerianae',\n",
       " 'spunctatus',\n",
       " 'zalbicollis',\n",
       " 'reptile_avg']"
      ]
     },
     "execution_count": 245,
     "metadata": {},
     "output_type": "execute_result"
    }
   ],
   "source": [
    "species_list"
   ]
  },
  {
   "cell_type": "code",
   "execution_count": 209,
   "metadata": {},
   "outputs": [],
   "source": [
    "# Find chicken orthologs of mouse genes\n",
    "chicken_ortho_df = pd.read_csv('../data/chicken.orthologs_of_mouse_genes.tsv', sep='\\t', index_col=['Gene name'])\n",
    "chicken_ortho_df.replace(['ortholog_one2many','ortholog_many2many'],np.nan,inplace=True)\n",
    "chicken_ortho_df.dropna(inplace=True)\n",
    "# drop genes with duplicated names\n",
    "chicken_ortho_df=chicken_ortho_df.loc[~chicken_ortho_df.index.duplicated(keep=False)]"
   ]
  },
  {
   "cell_type": "code",
   "execution_count": 210,
   "metadata": {},
   "outputs": [
    {
     "data": {
      "text/html": [
       "<div>\n",
       "<style scoped>\n",
       "    .dataframe tbody tr th:only-of-type {\n",
       "        vertical-align: middle;\n",
       "    }\n",
       "\n",
       "    .dataframe tbody tr th {\n",
       "        vertical-align: top;\n",
       "    }\n",
       "\n",
       "    .dataframe thead th {\n",
       "        text-align: right;\n",
       "    }\n",
       "</style>\n",
       "<table border=\"1\" class=\"dataframe\">\n",
       "  <thead>\n",
       "    <tr style=\"text-align: right;\">\n",
       "      <th></th>\n",
       "      <th>Chicken gene name</th>\n",
       "      <th>Chicken homology type</th>\n",
       "      <th>Chicken orthology confidence [0 low, 1 high]</th>\n",
       "    </tr>\n",
       "    <tr>\n",
       "      <th>Gene name</th>\n",
       "      <th></th>\n",
       "      <th></th>\n",
       "      <th></th>\n",
       "    </tr>\n",
       "  </thead>\n",
       "  <tbody>\n",
       "    <tr>\n",
       "      <th>mt-Cytb</th>\n",
       "      <td>CYTB</td>\n",
       "      <td>ortholog_one2one</td>\n",
       "      <td>1</td>\n",
       "    </tr>\n",
       "    <tr>\n",
       "      <th>mt-Nd6</th>\n",
       "      <td>ND6</td>\n",
       "      <td>ortholog_one2one</td>\n",
       "      <td>1</td>\n",
       "    </tr>\n",
       "    <tr>\n",
       "      <th>mt-Nd5</th>\n",
       "      <td>ND5</td>\n",
       "      <td>ortholog_one2one</td>\n",
       "      <td>1</td>\n",
       "    </tr>\n",
       "    <tr>\n",
       "      <th>mt-Nd4</th>\n",
       "      <td>ND4</td>\n",
       "      <td>ortholog_one2one</td>\n",
       "      <td>1</td>\n",
       "    </tr>\n",
       "    <tr>\n",
       "      <th>mt-Nd3</th>\n",
       "      <td>ND3</td>\n",
       "      <td>ortholog_one2one</td>\n",
       "      <td>1</td>\n",
       "    </tr>\n",
       "    <tr>\n",
       "      <th>...</th>\n",
       "      <td>...</td>\n",
       "      <td>...</td>\n",
       "      <td>...</td>\n",
       "    </tr>\n",
       "    <tr>\n",
       "      <th>Etv6</th>\n",
       "      <td>ETV6</td>\n",
       "      <td>ortholog_one2one</td>\n",
       "      <td>1</td>\n",
       "    </tr>\n",
       "    <tr>\n",
       "      <th>Cbx8</th>\n",
       "      <td>CBX8</td>\n",
       "      <td>ortholog_one2one</td>\n",
       "      <td>1</td>\n",
       "    </tr>\n",
       "    <tr>\n",
       "      <th>Phc3</th>\n",
       "      <td>PHC3</td>\n",
       "      <td>ortholog_one2one</td>\n",
       "      <td>1</td>\n",
       "    </tr>\n",
       "    <tr>\n",
       "      <th>Hspa4l</th>\n",
       "      <td>HSPA4L</td>\n",
       "      <td>ortholog_one2one</td>\n",
       "      <td>1</td>\n",
       "    </tr>\n",
       "    <tr>\n",
       "      <th>Colgalt2</th>\n",
       "      <td>COLGALT2</td>\n",
       "      <td>ortholog_one2one</td>\n",
       "      <td>1</td>\n",
       "    </tr>\n",
       "  </tbody>\n",
       "</table>\n",
       "<p>11420 rows × 3 columns</p>\n",
       "</div>"
      ],
      "text/plain": [
       "          Chicken gene name Chicken homology type  \\\n",
       "Gene name                                           \n",
       "mt-Cytb                CYTB      ortholog_one2one   \n",
       "mt-Nd6                  ND6      ortholog_one2one   \n",
       "mt-Nd5                  ND5      ortholog_one2one   \n",
       "mt-Nd4                  ND4      ortholog_one2one   \n",
       "mt-Nd3                  ND3      ortholog_one2one   \n",
       "...                     ...                   ...   \n",
       "Etv6                   ETV6      ortholog_one2one   \n",
       "Cbx8                   CBX8      ortholog_one2one   \n",
       "Phc3                   PHC3      ortholog_one2one   \n",
       "Hspa4l               HSPA4L      ortholog_one2one   \n",
       "Colgalt2           COLGALT2      ortholog_one2one   \n",
       "\n",
       "           Chicken orthology confidence [0 low, 1 high]  \n",
       "Gene name                                                \n",
       "mt-Cytb                                               1  \n",
       "mt-Nd6                                                1  \n",
       "mt-Nd5                                                1  \n",
       "mt-Nd4                                                1  \n",
       "mt-Nd3                                                1  \n",
       "...                                                 ...  \n",
       "Etv6                                                  1  \n",
       "Cbx8                                                  1  \n",
       "Phc3                                                  1  \n",
       "Hspa4l                                                1  \n",
       "Colgalt2                                              1  \n",
       "\n",
       "[11420 rows x 3 columns]"
      ]
     },
     "execution_count": 210,
     "metadata": {},
     "output_type": "execute_result"
    }
   ],
   "source": [
    "chicken_ortho_df"
   ]
  },
  {
   "cell_type": "code",
   "execution_count": 211,
   "metadata": {},
   "outputs": [],
   "source": [
    "celltype_list=['neuron','endothelia','glia','astrocyte','microglia','oligodendrocyte']"
   ]
  },
  {
   "cell_type": "code",
   "execution_count": 225,
   "metadata": {},
   "outputs": [],
   "source": [
    "df_list=[]\n",
    "df_dict={}\n",
    "arr_dict={}\n",
    "avg_dnds_arr_dict={}\n",
    "for celltype in celltype_list:\n",
    "    df=pd.read_csv('../results/mouse.celltype-specific_genes/protein-coding_w_dNdS/'+celltype+'.list.txt',sep='\\t',names=['Mouse gene name'])\n",
    "    df=pd.merge(df,chicken_ortho_df,how='inner',left_on='Mouse gene name',right_index=True)\n",
    "    df=pd.merge(df,dnds_df,how='inner',left_on='Chicken gene name',right_on='Gene name')\n",
    "    df.drop(['Chicken homology type','Chicken orthology confidence [0 low, 1 high]'],axis=1,inplace=True)\n",
    "    df_dict[celltype]=df.copy(deep=True)\n",
    "    df['Cell Type']=celltype\n",
    "    df_list.append(df)\n",
    "    array=df.loc[:,'abrachyrhynchus_dNdS':'zalbicollis_dNdS'].to_numpy()\n",
    "    array=array[~np.isnan(array)]\n",
    "    avg_array=df.loc[:,'reptile_avg_dNdS'].to_numpy()\n",
    "    avg_array=avg_array[~np.isnan(avg_array)]\n",
    "    arr_dict[celltype]=array\n",
    "    avg_dnds_arr_dict[celltype]=avg_array\n",
    "concat_df=pd.concat(df_list)"
   ]
  },
  {
   "cell_type": "code",
   "execution_count": 275,
   "metadata": {},
   "outputs": [],
   "source": [
    "celltype_list.append('glia')"
   ]
  },
  {
   "cell_type": "code",
   "execution_count": 282,
   "metadata": {},
   "outputs": [],
   "source": [
    "for celltype in celltype_list:\n",
    "    df_dict[celltype]['Chicken gene name'].to_csv('../results/chicken.celltype-specific_genes/protein-coding_w_dNdS/'+celltype+'.list.txt', sep='\\t', index=False, header=False)"
   ]
  },
  {
   "cell_type": "markdown",
   "metadata": {
    "tags": []
   },
   "source": [
    "# Statistics"
   ]
  },
  {
   "cell_type": "code",
   "execution_count": 28,
   "metadata": {},
   "outputs": [],
   "source": [
    "from scipy import stats\n",
    "import heapq"
   ]
  },
  {
   "cell_type": "markdown",
   "metadata": {},
   "source": [
    "### All data points (no averaging across 30 species)"
   ]
  },
  {
   "cell_type": "code",
   "execution_count": 29,
   "metadata": {},
   "outputs": [
    {
     "data": {
      "text/plain": [
       "MannwhitneyuResult(statistic=146913519.5, pvalue=5.18146514848924e-270)"
      ]
     },
     "execution_count": 29,
     "metadata": {},
     "output_type": "execute_result"
    },
    {
     "data": {
      "text/plain": [
       "MannwhitneyuResult(statistic=180260558.0, pvalue=4.940809886234241e-228)"
      ]
     },
     "execution_count": 29,
     "metadata": {},
     "output_type": "execute_result"
    },
    {
     "data": {
      "text/plain": [
       "MannwhitneyuResult(statistic=146832246.5, pvalue=2.5747149760016655e-06)"
      ]
     },
     "execution_count": 29,
     "metadata": {},
     "output_type": "execute_result"
    },
    {
     "data": {
      "text/plain": [
       "KruskalResult(statistic=1598.3840087499423, pvalue=0.0)"
      ]
     },
     "execution_count": 29,
     "metadata": {},
     "output_type": "execute_result"
    }
   ],
   "source": [
    "# NEG three cell types analysis\n",
    "stats.mannwhitneyu(arr_dict['neuron'],arr_dict['endothelia'],alternative=\"two-sided\")\n",
    "stats.mannwhitneyu(arr_dict['neuron'],arr_dict['glia'],alternative=\"two-sided\")\n",
    "stats.mannwhitneyu(arr_dict['glia'],arr_dict['endothelia'],alternative=\"two-sided\")\n",
    "stats.kruskal(arr_dict['neuron'],arr_dict['glia'],arr_dict['endothelia'])"
   ]
  },
  {
   "cell_type": "code",
   "execution_count": 30,
   "metadata": {},
   "outputs": [
    {
     "data": {
      "text/plain": [
       "MannwhitneyuResult(statistic=151945151.5, pvalue=2.381316725490872e-136)"
      ]
     },
     "execution_count": 30,
     "metadata": {},
     "output_type": "execute_result"
    },
    {
     "data": {
      "text/plain": [
       "MannwhitneyuResult(statistic=136638584.0, pvalue=0.0)"
      ]
     },
     "execution_count": 30,
     "metadata": {},
     "output_type": "execute_result"
    },
    {
     "data": {
      "text/plain": [
       "MannwhitneyuResult(statistic=102008682.0, pvalue=2.970897619808909e-42)"
      ]
     },
     "execution_count": 30,
     "metadata": {},
     "output_type": "execute_result"
    },
    {
     "data": {
      "text/plain": [
       "KruskalResult(statistic=2026.9900905308862, pvalue=0.0)"
      ]
     },
     "execution_count": 30,
     "metadata": {},
     "output_type": "execute_result"
    }
   ],
   "source": [
    "# NEAMO five cell types analysis\n",
    "stats.mannwhitneyu(arr_dict['neuron'],arr_dict['astrocyte'],alternative=\"two-sided\")\n",
    "stats.mannwhitneyu(arr_dict['neuron'],arr_dict['microglia'],alternative=\"two-sided\")\n",
    "stats.mannwhitneyu(arr_dict['neuron'],arr_dict['oligodendrocyte'],alternative=\"two-sided\")\n",
    "stats.kruskal(arr_dict['neuron'],arr_dict['endothelia'],arr_dict['astrocyte'],arr_dict['microglia'],arr_dict['oligodendrocyte'])"
   ]
  },
  {
   "cell_type": "code",
   "execution_count": 31,
   "metadata": {},
   "outputs": [],
   "source": [
    "negamo_stats_df = pd.DataFrame(\n",
    "    columns=['Celltype','Median_dNdS',\n",
    "             'Confidence_Interval_Low','Confidence_Interval_High'])\n",
    "\n",
    "for celltype in ['neuron','endothelia','glia','astrocyte','microglia','oligodendrocyte']:\n",
    "        arr=arr_dict[celltype]\n",
    "        med=np.median(arr)\n",
    "        low = stats.binom.interval(alpha=.95,n=arr.shape[0],p=.5)[0]\n",
    "        high = stats.binom.interval(alpha=.95,n=arr.shape[0],p=.5)[1]\n",
    "        CI_low = heapq.nsmallest(low.astype(int),arr)[-1]\n",
    "        CI_high = heapq.nsmallest(high.astype(int),arr)[-1]\n",
    "        negamo_stats_df = negamo_stats_df.append(\n",
    "            {'Celltype':celltype,'Median_dNdS':med,\n",
    "             'Confidence_Interval_Low':CI_low,'Confidence_Interval_High':CI_high},\n",
    "            ignore_index=True)"
   ]
  },
  {
   "cell_type": "code",
   "execution_count": 32,
   "metadata": {},
   "outputs": [
    {
     "data": {
      "text/html": [
       "<div>\n",
       "<style scoped>\n",
       "    .dataframe tbody tr th:only-of-type {\n",
       "        vertical-align: middle;\n",
       "    }\n",
       "\n",
       "    .dataframe tbody tr th {\n",
       "        vertical-align: top;\n",
       "    }\n",
       "\n",
       "    .dataframe thead th {\n",
       "        text-align: right;\n",
       "    }\n",
       "</style>\n",
       "<table border=\"1\" class=\"dataframe\">\n",
       "  <thead>\n",
       "    <tr style=\"text-align: right;\">\n",
       "      <th></th>\n",
       "      <th>Celltype</th>\n",
       "      <th>Median_dNdS</th>\n",
       "      <th>Confidence_Interval_Low</th>\n",
       "      <th>Confidence_Interval_High</th>\n",
       "    </tr>\n",
       "  </thead>\n",
       "  <tbody>\n",
       "    <tr>\n",
       "      <th>0</th>\n",
       "      <td>neuron</td>\n",
       "      <td>0.085461</td>\n",
       "      <td>0.084235</td>\n",
       "      <td>0.086641</td>\n",
       "    </tr>\n",
       "    <tr>\n",
       "      <th>1</th>\n",
       "      <td>endothelia</td>\n",
       "      <td>0.120967</td>\n",
       "      <td>0.119153</td>\n",
       "      <td>0.122731</td>\n",
       "    </tr>\n",
       "    <tr>\n",
       "      <th>2</th>\n",
       "      <td>glia</td>\n",
       "      <td>0.115447</td>\n",
       "      <td>0.113513</td>\n",
       "      <td>0.117028</td>\n",
       "    </tr>\n",
       "    <tr>\n",
       "      <th>3</th>\n",
       "      <td>astrocyte</td>\n",
       "      <td>0.109927</td>\n",
       "      <td>0.107991</td>\n",
       "      <td>0.111971</td>\n",
       "    </tr>\n",
       "    <tr>\n",
       "      <th>4</th>\n",
       "      <td>microglia</td>\n",
       "      <td>0.128048</td>\n",
       "      <td>0.125895</td>\n",
       "      <td>0.130131</td>\n",
       "    </tr>\n",
       "    <tr>\n",
       "      <th>5</th>\n",
       "      <td>oligodendrocyte</td>\n",
       "      <td>0.098911</td>\n",
       "      <td>0.097112</td>\n",
       "      <td>0.101031</td>\n",
       "    </tr>\n",
       "  </tbody>\n",
       "</table>\n",
       "</div>"
      ],
      "text/plain": [
       "          Celltype  Median_dNdS  Confidence_Interval_Low  \\\n",
       "0           neuron     0.085461                 0.084235   \n",
       "1       endothelia     0.120967                 0.119153   \n",
       "2             glia     0.115447                 0.113513   \n",
       "3        astrocyte     0.109927                 0.107991   \n",
       "4        microglia     0.128048                 0.125895   \n",
       "5  oligodendrocyte     0.098911                 0.097112   \n",
       "\n",
       "   Confidence_Interval_High  \n",
       "0                  0.086641  \n",
       "1                  0.122731  \n",
       "2                  0.117028  \n",
       "3                  0.111971  \n",
       "4                  0.130131  \n",
       "5                  0.101031  "
      ]
     },
     "execution_count": 32,
     "metadata": {},
     "output_type": "execute_result"
    }
   ],
   "source": [
    "negamo_stats_df"
   ]
  },
  {
   "cell_type": "markdown",
   "metadata": {
    "tags": []
   },
   "source": [
    "### Individual Species (including each gene's dN/dS ratio averaged across 92 species) "
   ]
  },
  {
   "cell_type": "code",
   "execution_count": 252,
   "metadata": {},
   "outputs": [],
   "source": [
    "xls = pd.ExcelFile('../data/species.xlsx')\n",
    "common_name_df=pd.read_excel(xls,'Reptilia',index_col=0)\n",
    "common_name_df=common_name_df.append(pd.Series(['reptile_avg','reptile_avg','reptile_avg'],name='reptile_avg',index=common_name_df.columns))"
   ]
  },
  {
   "cell_type": "code",
   "execution_count": 253,
   "metadata": {},
   "outputs": [
    {
     "data": {
      "text/html": [
       "<div>\n",
       "<style scoped>\n",
       "    .dataframe tbody tr th:only-of-type {\n",
       "        vertical-align: middle;\n",
       "    }\n",
       "\n",
       "    .dataframe tbody tr th {\n",
       "        vertical-align: top;\n",
       "    }\n",
       "\n",
       "    .dataframe thead th {\n",
       "        text-align: right;\n",
       "    }\n",
       "</style>\n",
       "<table border=\"1\" class=\"dataframe\">\n",
       "  <thead>\n",
       "    <tr style=\"text-align: right;\">\n",
       "      <th></th>\n",
       "      <th>SpeciesCommonName</th>\n",
       "      <th>SpeciesLatinName</th>\n",
       "      <th>Order</th>\n",
       "    </tr>\n",
       "    <tr>\n",
       "      <th>Ensembl98ID</th>\n",
       "      <th></th>\n",
       "      <th></th>\n",
       "      <th></th>\n",
       "    </tr>\n",
       "  </thead>\n",
       "  <tbody>\n",
       "    <tr>\n",
       "      <th>abrachyrhynchus</th>\n",
       "      <td>Pink-footed goose</td>\n",
       "      <td>Anser brachyrhynchus</td>\n",
       "      <td>Anseriformes</td>\n",
       "    </tr>\n",
       "    <tr>\n",
       "      <th>acarolinensis</th>\n",
       "      <td>Anole lizard</td>\n",
       "      <td>Anolis carolinensis</td>\n",
       "      <td>Squamata</td>\n",
       "    </tr>\n",
       "    <tr>\n",
       "      <th>ahaastii</th>\n",
       "      <td>Great spotted kiwi</td>\n",
       "      <td>Apteryx haastii</td>\n",
       "      <td>Apterygiformes</td>\n",
       "    </tr>\n",
       "    <tr>\n",
       "      <th>aowenii</th>\n",
       "      <td>Little spotted kiwi</td>\n",
       "      <td>Apteryx owenii</td>\n",
       "      <td>Apterygiformes</td>\n",
       "    </tr>\n",
       "    <tr>\n",
       "      <th>applatyrhynchos</th>\n",
       "      <td>Duck</td>\n",
       "      <td>Anas platyrhynchos platyrhynchos</td>\n",
       "      <td>Anseriformes</td>\n",
       "    </tr>\n",
       "    <tr>\n",
       "      <th>...</th>\n",
       "      <td>...</td>\n",
       "      <td>...</td>\n",
       "      <td>...</td>\n",
       "    </tr>\n",
       "    <tr>\n",
       "      <th>scanaria</th>\n",
       "      <td>Common canary</td>\n",
       "      <td>Serinus canaria</td>\n",
       "      <td>Passeriformes</td>\n",
       "    </tr>\n",
       "    <tr>\n",
       "      <th>smerianae</th>\n",
       "      <td>Argentine black and white tegu</td>\n",
       "      <td>Salvator merianae</td>\n",
       "      <td>Squamata</td>\n",
       "    </tr>\n",
       "    <tr>\n",
       "      <th>spunctatus</th>\n",
       "      <td>Tuatara</td>\n",
       "      <td>Sphenodon punctatus</td>\n",
       "      <td>Rhynchocephalia</td>\n",
       "    </tr>\n",
       "    <tr>\n",
       "      <th>zalbicollis</th>\n",
       "      <td>White-throated sparrow</td>\n",
       "      <td>Zonotrichia albicollis</td>\n",
       "      <td>Passeriformes</td>\n",
       "    </tr>\n",
       "    <tr>\n",
       "      <th>reptile_avg</th>\n",
       "      <td>reptile_avg</td>\n",
       "      <td>reptile_avg</td>\n",
       "      <td>reptile_avg</td>\n",
       "    </tr>\n",
       "  </tbody>\n",
       "</table>\n",
       "<p>32 rows × 3 columns</p>\n",
       "</div>"
      ],
      "text/plain": [
       "                              SpeciesCommonName  \\\n",
       "Ensembl98ID                                       \n",
       "abrachyrhynchus               Pink-footed goose   \n",
       "acarolinensis                      Anole lizard   \n",
       "ahaastii                     Great spotted kiwi   \n",
       "aowenii                     Little spotted kiwi   \n",
       "applatyrhynchos                            Duck   \n",
       "...                                         ...   \n",
       "scanaria                          Common canary   \n",
       "smerianae        Argentine black and white tegu   \n",
       "spunctatus                              Tuatara   \n",
       "zalbicollis              White-throated sparrow   \n",
       "reptile_avg                         reptile_avg   \n",
       "\n",
       "                                 SpeciesLatinName            Order  \n",
       "Ensembl98ID                                                         \n",
       "abrachyrhynchus              Anser brachyrhynchus     Anseriformes  \n",
       "acarolinensis                 Anolis carolinensis         Squamata  \n",
       "ahaastii                          Apteryx haastii   Apterygiformes  \n",
       "aowenii                            Apteryx owenii   Apterygiformes  \n",
       "applatyrhynchos  Anas platyrhynchos platyrhynchos     Anseriformes  \n",
       "...                                           ...              ...  \n",
       "scanaria                          Serinus canaria    Passeriformes  \n",
       "smerianae                       Salvator merianae         Squamata  \n",
       "spunctatus                    Sphenodon punctatus  Rhynchocephalia  \n",
       "zalbicollis                Zonotrichia albicollis    Passeriformes  \n",
       "reptile_avg                           reptile_avg      reptile_avg  \n",
       "\n",
       "[32 rows x 3 columns]"
      ]
     },
     "execution_count": 253,
     "metadata": {},
     "output_type": "execute_result"
    }
   ],
   "source": [
    "common_name_df"
   ]
  },
  {
   "cell_type": "code",
   "execution_count": 254,
   "metadata": {},
   "outputs": [],
   "source": [
    "full_dict = {} # This dictionary stores dataframes for later use \n",
    "descriptive_stats_df = pd.DataFrame(\n",
    "    columns=['Species','Celltype','Median_dNdS',\n",
    "             'Confidence_Interval_Low','Confidence_Interval_High'])\n",
    "for species in species_list:\n",
    "    full_dict[species] = {}\n",
    "    for celltype in ['neuron','endothelia','glia','astrocyte','microglia','oligodendrocyte']:\n",
    "        df=df_dict[celltype][[species+'_dNdS']]\n",
    "        full_dict[species][celltype]=df.dropna().values.flatten() # Jan 22, 2022 added \"flatten\", else stats.kruskal will give error stating this is not one-dimentional\n",
    "        arr=df.iloc[:,0].dropna().values\n",
    "        med=np.median(arr)\n",
    "        low = stats.binom.interval(alpha=.95,n=arr.shape[0],p=.5)[0]\n",
    "        high = stats.binom.interval(alpha=.95,n=arr.shape[0],p=.5)[1]\n",
    "        CI_low = heapq.nsmallest(low.astype(int),arr)[-1]\n",
    "        CI_high = heapq.nsmallest(high.astype(int),arr)[-1]\n",
    "        descriptive_stats_df = descriptive_stats_df.append(\n",
    "            {'Species':species,'Celltype':celltype,'Median_dNdS':med,\n",
    "             'Confidence_Interval_Low':CI_low,'Confidence_Interval_High':CI_high},\n",
    "            ignore_index=True)\n",
    "\n",
    "descriptive_stats_df=pd.merge(left=common_name_df,right=descriptive_stats_df,left_index=True,right_on='Species',how='right')\n",
    "descriptive_stats_df.set_index('SpeciesCommonName',inplace=True)\n",
    "descriptive_stats_df.drop(['SpeciesLatinName','Order','Species'],axis=1,inplace=True)"
   ]
  },
  {
   "cell_type": "code",
   "execution_count": 255,
   "metadata": {},
   "outputs": [
    {
     "data": {
      "text/html": [
       "<div>\n",
       "<style scoped>\n",
       "    .dataframe tbody tr th:only-of-type {\n",
       "        vertical-align: middle;\n",
       "    }\n",
       "\n",
       "    .dataframe tbody tr th {\n",
       "        vertical-align: top;\n",
       "    }\n",
       "\n",
       "    .dataframe thead th {\n",
       "        text-align: right;\n",
       "    }\n",
       "</style>\n",
       "<table border=\"1\" class=\"dataframe\">\n",
       "  <thead>\n",
       "    <tr style=\"text-align: right;\">\n",
       "      <th></th>\n",
       "      <th>Celltype</th>\n",
       "      <th>Median_dNdS</th>\n",
       "      <th>Confidence_Interval_Low</th>\n",
       "      <th>Confidence_Interval_High</th>\n",
       "    </tr>\n",
       "    <tr>\n",
       "      <th>SpeciesCommonName</th>\n",
       "      <th></th>\n",
       "      <th></th>\n",
       "      <th></th>\n",
       "      <th></th>\n",
       "    </tr>\n",
       "  </thead>\n",
       "  <tbody>\n",
       "    <tr>\n",
       "      <th>Pink-footed goose</th>\n",
       "      <td>neuron</td>\n",
       "      <td>0.091884</td>\n",
       "      <td>0.086307</td>\n",
       "      <td>0.099304</td>\n",
       "    </tr>\n",
       "    <tr>\n",
       "      <th>Pink-footed goose</th>\n",
       "      <td>endothelia</td>\n",
       "      <td>0.134864</td>\n",
       "      <td>0.121879</td>\n",
       "      <td>0.149940</td>\n",
       "    </tr>\n",
       "    <tr>\n",
       "      <th>Pink-footed goose</th>\n",
       "      <td>glia</td>\n",
       "      <td>0.124538</td>\n",
       "      <td>0.113309</td>\n",
       "      <td>0.136056</td>\n",
       "    </tr>\n",
       "    <tr>\n",
       "      <th>Pink-footed goose</th>\n",
       "      <td>astrocyte</td>\n",
       "      <td>0.119959</td>\n",
       "      <td>0.108085</td>\n",
       "      <td>0.135843</td>\n",
       "    </tr>\n",
       "    <tr>\n",
       "      <th>Pink-footed goose</th>\n",
       "      <td>microglia</td>\n",
       "      <td>0.144287</td>\n",
       "      <td>0.127576</td>\n",
       "      <td>0.154573</td>\n",
       "    </tr>\n",
       "    <tr>\n",
       "      <th>...</th>\n",
       "      <td>...</td>\n",
       "      <td>...</td>\n",
       "      <td>...</td>\n",
       "      <td>...</td>\n",
       "    </tr>\n",
       "    <tr>\n",
       "      <th>reptile_avg</th>\n",
       "      <td>endothelia</td>\n",
       "      <td>0.121186</td>\n",
       "      <td>0.111016</td>\n",
       "      <td>0.131389</td>\n",
       "    </tr>\n",
       "    <tr>\n",
       "      <th>reptile_avg</th>\n",
       "      <td>glia</td>\n",
       "      <td>0.114562</td>\n",
       "      <td>0.104951</td>\n",
       "      <td>0.123963</td>\n",
       "    </tr>\n",
       "    <tr>\n",
       "      <th>reptile_avg</th>\n",
       "      <td>astrocyte</td>\n",
       "      <td>0.111828</td>\n",
       "      <td>0.100728</td>\n",
       "      <td>0.122607</td>\n",
       "    </tr>\n",
       "    <tr>\n",
       "      <th>reptile_avg</th>\n",
       "      <td>microglia</td>\n",
       "      <td>0.125846</td>\n",
       "      <td>0.115573</td>\n",
       "      <td>0.136002</td>\n",
       "    </tr>\n",
       "    <tr>\n",
       "      <th>reptile_avg</th>\n",
       "      <td>oligodendrocyte</td>\n",
       "      <td>0.101250</td>\n",
       "      <td>0.088702</td>\n",
       "      <td>0.108440</td>\n",
       "    </tr>\n",
       "  </tbody>\n",
       "</table>\n",
       "<p>186 rows × 4 columns</p>\n",
       "</div>"
      ],
      "text/plain": [
       "                          Celltype  Median_dNdS  Confidence_Interval_Low  \\\n",
       "SpeciesCommonName                                                          \n",
       "Pink-footed goose           neuron     0.091884                 0.086307   \n",
       "Pink-footed goose       endothelia     0.134864                 0.121879   \n",
       "Pink-footed goose             glia     0.124538                 0.113309   \n",
       "Pink-footed goose        astrocyte     0.119959                 0.108085   \n",
       "Pink-footed goose        microglia     0.144287                 0.127576   \n",
       "...                            ...          ...                      ...   \n",
       "reptile_avg             endothelia     0.121186                 0.111016   \n",
       "reptile_avg                   glia     0.114562                 0.104951   \n",
       "reptile_avg              astrocyte     0.111828                 0.100728   \n",
       "reptile_avg              microglia     0.125846                 0.115573   \n",
       "reptile_avg        oligodendrocyte     0.101250                 0.088702   \n",
       "\n",
       "                   Confidence_Interval_High  \n",
       "SpeciesCommonName                            \n",
       "Pink-footed goose                  0.099304  \n",
       "Pink-footed goose                  0.149940  \n",
       "Pink-footed goose                  0.136056  \n",
       "Pink-footed goose                  0.135843  \n",
       "Pink-footed goose                  0.154573  \n",
       "...                                     ...  \n",
       "reptile_avg                        0.131389  \n",
       "reptile_avg                        0.123963  \n",
       "reptile_avg                        0.122607  \n",
       "reptile_avg                        0.136002  \n",
       "reptile_avg                        0.108440  \n",
       "\n",
       "[186 rows x 4 columns]"
      ]
     },
     "execution_count": 255,
     "metadata": {},
     "output_type": "execute_result"
    }
   ],
   "source": [
    "descriptive_stats_df"
   ]
  },
  {
   "cell_type": "markdown",
   "metadata": {},
   "source": [
    "##### Descriptive Statistics: median and confidence interval"
   ]
  },
  {
   "cell_type": "code",
   "execution_count": 35,
   "metadata": {},
   "outputs": [
    {
     "ename": "NameError",
     "evalue": "name 'descriptive_stats_df' is not defined",
     "output_type": "error",
     "traceback": [
      "\u001b[0;31m---------------------------------------------------------------------------\u001b[0m",
      "\u001b[0;31mNameError\u001b[0m                                 Traceback (most recent call last)",
      "\u001b[0;32m<ipython-input-35-6b6d005a54ad>\u001b[0m in \u001b[0;36m<module>\u001b[0;34m\u001b[0m\n\u001b[0;32m----> 1\u001b[0;31m \u001b[0mdescriptive_stats_df\u001b[0m\u001b[0;34m\u001b[0m\u001b[0;34m\u001b[0m\u001b[0m\n\u001b[0m",
      "\u001b[0;31mNameError\u001b[0m: name 'descriptive_stats_df' is not defined"
     ]
    }
   ],
   "source": [
    "descriptive_stats_df"
   ]
  },
  {
   "cell_type": "code",
   "execution_count": 256,
   "metadata": {},
   "outputs": [],
   "source": [
    "# add a tab to existing descriptive statistics excel file:\n",
    "\n",
    "from openpyxl import load_workbook\n",
    "\n",
    "path = '../results/celltype-specific_descriptive_stats.xlsx'\n",
    "book = load_workbook(path)\n",
    "writer = pd.ExcelWriter(path, engine = 'openpyxl') # note the engine\n",
    "# writer = pd.ExcelWriter(path, engine = 'xlsxwriter') # use this engine if creating a new file\n",
    "writer.book = book\n",
    "\n",
    "descriptive_stats_df.to_excel(writer, sheet_name = 'chicken reference genome',index=True)\n",
    "\n",
    "writer.save()\n",
    "writer.close()"
   ]
  },
  {
   "cell_type": "markdown",
   "metadata": {},
   "source": [
    "### Inferential statistics: Kruskal Wallis H and Mann Whitney U between celltypes"
   ]
  },
  {
   "cell_type": "code",
   "execution_count": 257,
   "metadata": {},
   "outputs": [],
   "source": [
    "inferential_stats_df=pd.DataFrame(\n",
    "    columns=['Species','Kruskal H NEG','Kruskal p NEG',\n",
    "             'Kruskal H NEAMO','Kruskal p NEAMO',\n",
    "             'Mann U NG','Mann p NG',\n",
    "             'Mann U NE','Mann p NE',\n",
    "             'Mann U EG','Mann p EG',\n",
    "             'Mann U NA','Mann p NA',\n",
    "             'Mann U NM','Mann p NM',\n",
    "             'Mann U NO','Mann p NO'])\n",
    "\n",
    "for species in species_list:\n",
    "\n",
    "    h_NEG,kp_NEG=stats.kruskal(\n",
    "        full_dict[species]['neuron'],\n",
    "        full_dict[species]['endothelia'],\n",
    "        full_dict[species]['glia'])\n",
    "\n",
    "    h_NEAMO,kp_NEAMO=stats.kruskal(\n",
    "        full_dict[species]['neuron'],\n",
    "        full_dict[species]['endothelia'],\n",
    "        full_dict[species]['astrocyte'],\n",
    "        full_dict[species]['microglia'],\n",
    "        full_dict[species]['oligodendrocyte'])\n",
    "    \n",
    "    # June 18, 2020: debug on Jan_20_2020-Confirming_w_Couple_Species-Ensembl98Mouse\n",
    "    # June 24, 2020: debug stats.mannwhitneyu(), include alternative=\"two-sided\", \n",
    "    # default \"None\" is deprecated and generate a smaller p value\n",
    "    # Now avoid nan values influencing test results.\n",
    "    # U statistics and p values from Mann Whitney's U test \n",
    "    # comparing Neuron-specific genes and Glia-specific genes' dN/dS ratios\n",
    "    u_NG, mp_NG=stats.mannwhitneyu(\n",
    "        full_dict[species]['neuron'],\n",
    "        full_dict[species]['glia'],\n",
    "        alternative=\"two-sided\")\n",
    "    \n",
    "    # similarly, compare neuron-specific genes and endothelia-specific genes\n",
    "    u_NE, mp_NE=stats.mannwhitneyu(\n",
    "        full_dict[species]['neuron'],\n",
    "        full_dict[species]['endothelia'],\n",
    "        alternative=\"two-sided\")\n",
    "    \n",
    "    # and endothelia vs glia\n",
    "    u_EG, mp_EG=stats.mannwhitneyu(\n",
    "        full_dict[species]['glia'],\n",
    "        full_dict[species]['endothelia'],\n",
    "        alternative=\"two-sided\")\n",
    "    \n",
    "    # and neuron vs the three glial subtypes\n",
    "    u_NA, mp_NA=stats.mannwhitneyu(\n",
    "        full_dict[species]['neuron'],\n",
    "        full_dict[species]['astrocyte'],\n",
    "        alternative=\"two-sided\")\n",
    "    \n",
    "    u_NM, mp_NM=stats.mannwhitneyu(\n",
    "        full_dict[species]['neuron'],\n",
    "        full_dict[species]['microglia'],\n",
    "        alternative=\"two-sided\")\n",
    "    \n",
    "    u_NO, mp_NO=stats.mannwhitneyu(\n",
    "        full_dict[species]['neuron'],\n",
    "        full_dict[species]['oligodendrocyte'],\n",
    "        alternative=\"two-sided\")\n",
    "    \n",
    "    inferential_stats_df = inferential_stats_df.append(\n",
    "            {'Species':species,'Kruskal H NEG':h_NEG,'Kruskal p NEG':kp_NEG,\n",
    "            'Kruskal H NEAMO':h_NEAMO,'Kruskal p NEAMO':kp_NEAMO,\n",
    "            'Mann U NG':u_NG,'Mann p NG':mp_NG,\n",
    "            'Mann U NE':u_NE,'Mann p NE':mp_NE,\n",
    "            'Mann U EG':u_EG,'Mann p EG':mp_EG,\n",
    "            'Mann U NA':u_NA,'Mann p NA':mp_NA,\n",
    "            'Mann U NM':u_NM,'Mann p NM':mp_NM,\n",
    "            'Mann U NO':u_NO,'Mann p NO':mp_NO},\n",
    "            ignore_index=True)\n",
    "    \n",
    "inferential_stats_df=pd.merge(left=common_name_df,right=inferential_stats_df,left_index=True,right_on='Species',how='right')\n",
    "inferential_stats_df.set_index('SpeciesCommonName',inplace=True)\n",
    "inferential_stats_df.drop(['SpeciesLatinName','Order','Species'],axis=1,inplace=True)"
   ]
  },
  {
   "cell_type": "code",
   "execution_count": 258,
   "metadata": {},
   "outputs": [
    {
     "data": {
      "text/html": [
       "<div>\n",
       "<style scoped>\n",
       "    .dataframe tbody tr th:only-of-type {\n",
       "        vertical-align: middle;\n",
       "    }\n",
       "\n",
       "    .dataframe tbody tr th {\n",
       "        vertical-align: top;\n",
       "    }\n",
       "\n",
       "    .dataframe thead th {\n",
       "        text-align: right;\n",
       "    }\n",
       "</style>\n",
       "<table border=\"1\" class=\"dataframe\">\n",
       "  <thead>\n",
       "    <tr style=\"text-align: right;\">\n",
       "      <th></th>\n",
       "      <th>Kruskal H NEG</th>\n",
       "      <th>Kruskal p NEG</th>\n",
       "      <th>Kruskal H NEAMO</th>\n",
       "      <th>Kruskal p NEAMO</th>\n",
       "      <th>Mann U NG</th>\n",
       "      <th>Mann p NG</th>\n",
       "      <th>Mann U NE</th>\n",
       "      <th>Mann p NE</th>\n",
       "      <th>Mann U EG</th>\n",
       "      <th>Mann p EG</th>\n",
       "      <th>Mann U NA</th>\n",
       "      <th>Mann p NA</th>\n",
       "      <th>Mann U NM</th>\n",
       "      <th>Mann p NM</th>\n",
       "      <th>Mann U NO</th>\n",
       "      <th>Mann p NO</th>\n",
       "    </tr>\n",
       "    <tr>\n",
       "      <th>SpeciesCommonName</th>\n",
       "      <th></th>\n",
       "      <th></th>\n",
       "      <th></th>\n",
       "      <th></th>\n",
       "      <th></th>\n",
       "      <th></th>\n",
       "      <th></th>\n",
       "      <th></th>\n",
       "      <th></th>\n",
       "      <th></th>\n",
       "      <th></th>\n",
       "      <th></th>\n",
       "      <th></th>\n",
       "      <th></th>\n",
       "      <th></th>\n",
       "      <th></th>\n",
       "    </tr>\n",
       "  </thead>\n",
       "  <tbody>\n",
       "    <tr>\n",
       "      <th>Pink-footed goose</th>\n",
       "      <td>60.504459</td>\n",
       "      <td>7.271492e-14</td>\n",
       "      <td>80.960846</td>\n",
       "      <td>1.089981e-16</td>\n",
       "      <td>235455.0</td>\n",
       "      <td>1.203383e-09</td>\n",
       "      <td>184985.0</td>\n",
       "      <td>2.861435e-12</td>\n",
       "      <td>190603.0</td>\n",
       "      <td>0.189530</td>\n",
       "      <td>191013.0</td>\n",
       "      <td>3.601737e-07</td>\n",
       "      <td>175576.0</td>\n",
       "      <td>1.764660e-13</td>\n",
       "      <td>134816.0</td>\n",
       "      <td>0.074332</td>\n",
       "    </tr>\n",
       "    <tr>\n",
       "      <th>Anole lizard</th>\n",
       "      <td>32.586631</td>\n",
       "      <td>8.392724e-08</td>\n",
       "      <td>37.579298</td>\n",
       "      <td>1.368350e-07</td>\n",
       "      <td>187156.0</td>\n",
       "      <td>2.758713e-05</td>\n",
       "      <td>148029.0</td>\n",
       "      <td>1.004180e-07</td>\n",
       "      <td>136356.5</td>\n",
       "      <td>0.364885</td>\n",
       "      <td>163314.0</td>\n",
       "      <td>7.358177e-04</td>\n",
       "      <td>144206.0</td>\n",
       "      <td>3.361118e-06</td>\n",
       "      <td>102349.0</td>\n",
       "      <td>0.043573</td>\n",
       "    </tr>\n",
       "    <tr>\n",
       "      <th>Great spotted kiwi</th>\n",
       "      <td>51.913670</td>\n",
       "      <td>5.334451e-12</td>\n",
       "      <td>62.937464</td>\n",
       "      <td>6.994692e-13</td>\n",
       "      <td>198572.0</td>\n",
       "      <td>2.036300e-09</td>\n",
       "      <td>161793.0</td>\n",
       "      <td>6.272147e-10</td>\n",
       "      <td>166352.5</td>\n",
       "      <td>0.500459</td>\n",
       "      <td>165335.0</td>\n",
       "      <td>4.978282e-06</td>\n",
       "      <td>152165.0</td>\n",
       "      <td>9.509846e-12</td>\n",
       "      <td>105891.0</td>\n",
       "      <td>0.002354</td>\n",
       "    </tr>\n",
       "    <tr>\n",
       "      <th>Little spotted kiwi</th>\n",
       "      <td>55.258503</td>\n",
       "      <td>1.001771e-12</td>\n",
       "      <td>66.105654</td>\n",
       "      <td>1.504848e-13</td>\n",
       "      <td>198196.0</td>\n",
       "      <td>8.135180e-11</td>\n",
       "      <td>168998.5</td>\n",
       "      <td>1.121042e-09</td>\n",
       "      <td>177461.5</td>\n",
       "      <td>0.901576</td>\n",
       "      <td>162091.0</td>\n",
       "      <td>4.010270e-07</td>\n",
       "      <td>157007.0</td>\n",
       "      <td>1.227350e-12</td>\n",
       "      <td>108075.0</td>\n",
       "      <td>0.000637</td>\n",
       "    </tr>\n",
       "    <tr>\n",
       "      <th>Duck</th>\n",
       "      <td>47.567628</td>\n",
       "      <td>4.686200e-11</td>\n",
       "      <td>59.204304</td>\n",
       "      <td>4.262857e-12</td>\n",
       "      <td>202023.0</td>\n",
       "      <td>9.050855e-08</td>\n",
       "      <td>157453.0</td>\n",
       "      <td>5.156950e-10</td>\n",
       "      <td>157431.0</td>\n",
       "      <td>0.227821</td>\n",
       "      <td>165719.0</td>\n",
       "      <td>3.367767e-05</td>\n",
       "      <td>153419.0</td>\n",
       "      <td>2.403329e-10</td>\n",
       "      <td>115113.0</td>\n",
       "      <td>0.022477</td>\n",
       "    </tr>\n",
       "    <tr>\n",
       "      <th>...</th>\n",
       "      <td>...</td>\n",
       "      <td>...</td>\n",
       "      <td>...</td>\n",
       "      <td>...</td>\n",
       "      <td>...</td>\n",
       "      <td>...</td>\n",
       "      <td>...</td>\n",
       "      <td>...</td>\n",
       "      <td>...</td>\n",
       "      <td>...</td>\n",
       "      <td>...</td>\n",
       "      <td>...</td>\n",
       "      <td>...</td>\n",
       "      <td>...</td>\n",
       "      <td>...</td>\n",
       "      <td>...</td>\n",
       "    </tr>\n",
       "    <tr>\n",
       "      <th>Common canary</th>\n",
       "      <td>63.977537</td>\n",
       "      <td>1.280721e-14</td>\n",
       "      <td>80.236603</td>\n",
       "      <td>1.551952e-16</td>\n",
       "      <td>188714.0</td>\n",
       "      <td>1.351753e-11</td>\n",
       "      <td>158668.0</td>\n",
       "      <td>1.424102e-11</td>\n",
       "      <td>164052.0</td>\n",
       "      <td>0.698057</td>\n",
       "      <td>156903.0</td>\n",
       "      <td>8.600250e-08</td>\n",
       "      <td>144691.0</td>\n",
       "      <td>7.626025e-15</td>\n",
       "      <td>105105.0</td>\n",
       "      <td>0.003490</td>\n",
       "    </tr>\n",
       "    <tr>\n",
       "      <th>Argentine black and white tegu</th>\n",
       "      <td>48.657330</td>\n",
       "      <td>2.717659e-11</td>\n",
       "      <td>52.832757</td>\n",
       "      <td>9.236826e-11</td>\n",
       "      <td>225600.0</td>\n",
       "      <td>2.502596e-08</td>\n",
       "      <td>182989.0</td>\n",
       "      <td>8.377720e-10</td>\n",
       "      <td>172327.5</td>\n",
       "      <td>0.478558</td>\n",
       "      <td>187576.0</td>\n",
       "      <td>8.756957e-08</td>\n",
       "      <td>181015.0</td>\n",
       "      <td>6.639195e-07</td>\n",
       "      <td>132306.0</td>\n",
       "      <td>0.004824</td>\n",
       "    </tr>\n",
       "    <tr>\n",
       "      <th>Tuatara</th>\n",
       "      <td>50.327611</td>\n",
       "      <td>1.178957e-11</td>\n",
       "      <td>61.524975</td>\n",
       "      <td>1.386551e-12</td>\n",
       "      <td>183106.0</td>\n",
       "      <td>9.927752e-09</td>\n",
       "      <td>150515.0</td>\n",
       "      <td>5.429553e-10</td>\n",
       "      <td>149116.0</td>\n",
       "      <td>0.354913</td>\n",
       "      <td>150065.0</td>\n",
       "      <td>2.543740e-06</td>\n",
       "      <td>142899.0</td>\n",
       "      <td>2.769429e-10</td>\n",
       "      <td>104193.0</td>\n",
       "      <td>0.019813</td>\n",
       "    </tr>\n",
       "    <tr>\n",
       "      <th>White-throated sparrow</th>\n",
       "      <td>44.007091</td>\n",
       "      <td>2.779595e-10</td>\n",
       "      <td>63.887272</td>\n",
       "      <td>4.413942e-13</td>\n",
       "      <td>178861.0</td>\n",
       "      <td>3.370650e-08</td>\n",
       "      <td>147543.0</td>\n",
       "      <td>1.512525e-08</td>\n",
       "      <td>143488.0</td>\n",
       "      <td>0.621744</td>\n",
       "      <td>148169.0</td>\n",
       "      <td>1.597606e-05</td>\n",
       "      <td>133003.0</td>\n",
       "      <td>1.386364e-12</td>\n",
       "      <td>104833.0</td>\n",
       "      <td>0.031524</td>\n",
       "    </tr>\n",
       "    <tr>\n",
       "      <th>reptile_avg</th>\n",
       "      <td>67.840365</td>\n",
       "      <td>1.856316e-15</td>\n",
       "      <td>84.456914</td>\n",
       "      <td>1.977807e-17</td>\n",
       "      <td>287052.0</td>\n",
       "      <td>9.546406e-11</td>\n",
       "      <td>226699.0</td>\n",
       "      <td>1.765766e-13</td>\n",
       "      <td>231229.0</td>\n",
       "      <td>0.204283</td>\n",
       "      <td>232703.0</td>\n",
       "      <td>8.609537e-08</td>\n",
       "      <td>219338.0</td>\n",
       "      <td>6.453493e-14</td>\n",
       "      <td>165173.0</td>\n",
       "      <td>0.012099</td>\n",
       "    </tr>\n",
       "  </tbody>\n",
       "</table>\n",
       "<p>31 rows × 16 columns</p>\n",
       "</div>"
      ],
      "text/plain": [
       "                                Kruskal H NEG  Kruskal p NEG  Kruskal H NEAMO  \\\n",
       "SpeciesCommonName                                                               \n",
       "Pink-footed goose                   60.504459   7.271492e-14        80.960846   \n",
       "Anole lizard                        32.586631   8.392724e-08        37.579298   \n",
       "Great spotted kiwi                  51.913670   5.334451e-12        62.937464   \n",
       "Little spotted kiwi                 55.258503   1.001771e-12        66.105654   \n",
       "Duck                                47.567628   4.686200e-11        59.204304   \n",
       "...                                       ...            ...              ...   \n",
       "Common canary                       63.977537   1.280721e-14        80.236603   \n",
       "Argentine black and white tegu      48.657330   2.717659e-11        52.832757   \n",
       "Tuatara                             50.327611   1.178957e-11        61.524975   \n",
       "White-throated sparrow              44.007091   2.779595e-10        63.887272   \n",
       "reptile_avg                         67.840365   1.856316e-15        84.456914   \n",
       "\n",
       "                                Kruskal p NEAMO  Mann U NG     Mann p NG  \\\n",
       "SpeciesCommonName                                                          \n",
       "Pink-footed goose                  1.089981e-16   235455.0  1.203383e-09   \n",
       "Anole lizard                       1.368350e-07   187156.0  2.758713e-05   \n",
       "Great spotted kiwi                 6.994692e-13   198572.0  2.036300e-09   \n",
       "Little spotted kiwi                1.504848e-13   198196.0  8.135180e-11   \n",
       "Duck                               4.262857e-12   202023.0  9.050855e-08   \n",
       "...                                         ...        ...           ...   \n",
       "Common canary                      1.551952e-16   188714.0  1.351753e-11   \n",
       "Argentine black and white tegu     9.236826e-11   225600.0  2.502596e-08   \n",
       "Tuatara                            1.386551e-12   183106.0  9.927752e-09   \n",
       "White-throated sparrow             4.413942e-13   178861.0  3.370650e-08   \n",
       "reptile_avg                        1.977807e-17   287052.0  9.546406e-11   \n",
       "\n",
       "                                Mann U NE     Mann p NE  Mann U EG  Mann p EG  \\\n",
       "SpeciesCommonName                                                               \n",
       "Pink-footed goose                184985.0  2.861435e-12   190603.0   0.189530   \n",
       "Anole lizard                     148029.0  1.004180e-07   136356.5   0.364885   \n",
       "Great spotted kiwi               161793.0  6.272147e-10   166352.5   0.500459   \n",
       "Little spotted kiwi              168998.5  1.121042e-09   177461.5   0.901576   \n",
       "Duck                             157453.0  5.156950e-10   157431.0   0.227821   \n",
       "...                                   ...           ...        ...        ...   \n",
       "Common canary                    158668.0  1.424102e-11   164052.0   0.698057   \n",
       "Argentine black and white tegu   182989.0  8.377720e-10   172327.5   0.478558   \n",
       "Tuatara                          150515.0  5.429553e-10   149116.0   0.354913   \n",
       "White-throated sparrow           147543.0  1.512525e-08   143488.0   0.621744   \n",
       "reptile_avg                      226699.0  1.765766e-13   231229.0   0.204283   \n",
       "\n",
       "                                Mann U NA     Mann p NA  Mann U NM  \\\n",
       "SpeciesCommonName                                                    \n",
       "Pink-footed goose                191013.0  3.601737e-07   175576.0   \n",
       "Anole lizard                     163314.0  7.358177e-04   144206.0   \n",
       "Great spotted kiwi               165335.0  4.978282e-06   152165.0   \n",
       "Little spotted kiwi              162091.0  4.010270e-07   157007.0   \n",
       "Duck                             165719.0  3.367767e-05   153419.0   \n",
       "...                                   ...           ...        ...   \n",
       "Common canary                    156903.0  8.600250e-08   144691.0   \n",
       "Argentine black and white tegu   187576.0  8.756957e-08   181015.0   \n",
       "Tuatara                          150065.0  2.543740e-06   142899.0   \n",
       "White-throated sparrow           148169.0  1.597606e-05   133003.0   \n",
       "reptile_avg                      232703.0  8.609537e-08   219338.0   \n",
       "\n",
       "                                   Mann p NM  Mann U NO  Mann p NO  \n",
       "SpeciesCommonName                                                   \n",
       "Pink-footed goose               1.764660e-13   134816.0   0.074332  \n",
       "Anole lizard                    3.361118e-06   102349.0   0.043573  \n",
       "Great spotted kiwi              9.509846e-12   105891.0   0.002354  \n",
       "Little spotted kiwi             1.227350e-12   108075.0   0.000637  \n",
       "Duck                            2.403329e-10   115113.0   0.022477  \n",
       "...                                      ...        ...        ...  \n",
       "Common canary                   7.626025e-15   105105.0   0.003490  \n",
       "Argentine black and white tegu  6.639195e-07   132306.0   0.004824  \n",
       "Tuatara                         2.769429e-10   104193.0   0.019813  \n",
       "White-throated sparrow          1.386364e-12   104833.0   0.031524  \n",
       "reptile_avg                     6.453493e-14   165173.0   0.012099  \n",
       "\n",
       "[31 rows x 16 columns]"
      ]
     },
     "execution_count": 258,
     "metadata": {},
     "output_type": "execute_result"
    }
   ],
   "source": [
    "inferential_stats_df"
   ]
  },
  {
   "cell_type": "code",
   "execution_count": 259,
   "metadata": {},
   "outputs": [],
   "source": [
    "# Write to existing excel file for inferential stats\n",
    "path = '../results/celltype-specific_inferential_stats.xlsx'\n",
    "book = load_workbook(path)\n",
    "writer = pd.ExcelWriter(path, engine = 'openpyxl') # note the engine\n",
    "# writer = pd.ExcelWriter(path, engine = 'xlsxwriter') # use this engine if creating a new file\n",
    "writer.book = book\n",
    "inferential_stats_df.to_excel(writer, sheet_name = 'chicken reference genome', index=True)\n",
    "\n",
    "writer.save()\n",
    "writer.close()"
   ]
  },
  {
   "cell_type": "code",
   "execution_count": 272,
   "metadata": {},
   "outputs": [
    {
     "data": {
      "text/plain": [
       "MannwhitneyuResult(statistic=5044485.5, pvalue=6.550695229120142e-22)"
      ]
     },
     "execution_count": 272,
     "metadata": {},
     "output_type": "execute_result"
    }
   ],
   "source": [
    "# neuron-specific genes are significantly lower in dN/dS than all chicken protein-coding genes\n",
    "stats.mannwhitneyu(\n",
    "        full_dict[species]['neuron'],\n",
    "        dnds_df['reptile_avg_dNdS'],\n",
    "        alternative=\"two-sided\")"
   ]
  },
  {
   "cell_type": "markdown",
   "metadata": {
    "tags": []
   },
   "source": [
    "# Visualization"
   ]
  },
  {
   "cell_type": "code",
   "execution_count": 88,
   "metadata": {},
   "outputs": [],
   "source": [
    "import matplotlib\n",
    "import matplotlib.pyplot as plt\n",
    "import statsmodels.api as sm\n",
    "import seaborn as sns\n",
    "import matplotlib.ticker as mtick\n",
    "from statannot import add_stat_annotation\n",
    "matplotlib.rcParams['figure.dpi']= 300"
   ]
  },
  {
   "cell_type": "code",
   "execution_count": 235,
   "metadata": {},
   "outputs": [],
   "source": [
    "sns.set_style('ticks')\n",
    "palette={'endothelia':'tab:blue','glia':'tab:green','neuron':'tab:red','oligodendrocyte':'lightblue','astrocyte':'lightgreen','microglia':'tab:orange'}"
   ]
  },
  {
   "cell_type": "code",
   "execution_count": 227,
   "metadata": {},
   "outputs": [
    {
     "data": {
      "text/plain": [
       "(615,)"
      ]
     },
     "execution_count": 227,
     "metadata": {},
     "output_type": "execute_result"
    }
   ],
   "source": [
    "avg_dnds_arr_dict['microglia'].shape"
   ]
  },
  {
   "cell_type": "code",
   "execution_count": 234,
   "metadata": {},
   "outputs": [
    {
     "name": "stdout",
     "output_type": "stream",
     "text": [
      "neuron\n"
     ]
    },
    {
     "data": {
      "text/plain": [
       "921"
      ]
     },
     "execution_count": 234,
     "metadata": {},
     "output_type": "execute_result"
    },
    {
     "data": {
      "text/plain": [
       "0.005157119635831637"
      ]
     },
     "execution_count": 234,
     "metadata": {},
     "output_type": "execute_result"
    },
    {
     "data": {
      "text/plain": [
       "0.08953227004985978"
      ]
     },
     "execution_count": 234,
     "metadata": {},
     "output_type": "execute_result"
    },
    {
     "data": {
      "text/plain": [
       "0.5900776449602844"
      ]
     },
     "execution_count": 234,
     "metadata": {},
     "output_type": "execute_result"
    },
    {
     "name": "stdout",
     "output_type": "stream",
     "text": [
      "endothelia\n"
     ]
    },
    {
     "data": {
      "text/plain": [
       "631"
      ]
     },
     "execution_count": 234,
     "metadata": {},
     "output_type": "execute_result"
    },
    {
     "data": {
      "text/plain": [
       "0.0029353023464800715"
      ]
     },
     "execution_count": 234,
     "metadata": {},
     "output_type": "execute_result"
    },
    {
     "data": {
      "text/plain": [
       "0.12118581294888228"
      ]
     },
     "execution_count": 234,
     "metadata": {},
     "output_type": "execute_result"
    },
    {
     "data": {
      "text/plain": [
       "0.6334421033632712"
      ]
     },
     "execution_count": 234,
     "metadata": {},
     "output_type": "execute_result"
    },
    {
     "name": "stdout",
     "output_type": "stream",
     "text": [
      "glia\n"
     ]
    },
    {
     "data": {
      "text/plain": [
       "763"
      ]
     },
     "execution_count": 234,
     "metadata": {},
     "output_type": "execute_result"
    },
    {
     "data": {
      "text/plain": [
       "0.00239340132413253"
      ]
     },
     "execution_count": 234,
     "metadata": {},
     "output_type": "execute_result"
    },
    {
     "data": {
      "text/plain": [
       "0.11456209063190649"
      ]
     },
     "execution_count": 234,
     "metadata": {},
     "output_type": "execute_result"
    },
    {
     "data": {
      "text/plain": [
       "0.8566541379825858"
      ]
     },
     "execution_count": 234,
     "metadata": {},
     "output_type": "execute_result"
    },
    {
     "name": "stdout",
     "output_type": "stream",
     "text": [
      "astrocyte\n"
     ]
    },
    {
     "data": {
      "text/plain": [
       "603"
      ]
     },
     "execution_count": 234,
     "metadata": {},
     "output_type": "execute_result"
    },
    {
     "data": {
      "text/plain": [
       "0.006024876280855508"
      ]
     },
     "execution_count": 234,
     "metadata": {},
     "output_type": "execute_result"
    },
    {
     "data": {
      "text/plain": [
       "0.1118280236019118"
      ]
     },
     "execution_count": 234,
     "metadata": {},
     "output_type": "execute_result"
    },
    {
     "data": {
      "text/plain": [
       "0.6255673132681042"
      ]
     },
     "execution_count": 234,
     "metadata": {},
     "output_type": "execute_result"
    },
    {
     "name": "stdout",
     "output_type": "stream",
     "text": [
      "microglia\n"
     ]
    },
    {
     "data": {
      "text/plain": [
       "615"
      ]
     },
     "execution_count": 234,
     "metadata": {},
     "output_type": "execute_result"
    },
    {
     "data": {
      "text/plain": [
       "0.0023615567462460445"
      ]
     },
     "execution_count": 234,
     "metadata": {},
     "output_type": "execute_result"
    },
    {
     "data": {
      "text/plain": [
       "0.12584601922198796"
      ]
     },
     "execution_count": 234,
     "metadata": {},
     "output_type": "execute_result"
    },
    {
     "data": {
      "text/plain": [
       "0.8566541379825858"
      ]
     },
     "execution_count": 234,
     "metadata": {},
     "output_type": "execute_result"
    },
    {
     "name": "stdout",
     "output_type": "stream",
     "text": [
      "oligodendrocyte\n"
     ]
    },
    {
     "data": {
      "text/plain": [
       "393"
      ]
     },
     "execution_count": 234,
     "metadata": {},
     "output_type": "execute_result"
    },
    {
     "data": {
      "text/plain": [
       "0.00239340132413253"
      ]
     },
     "execution_count": 234,
     "metadata": {},
     "output_type": "execute_result"
    },
    {
     "data": {
      "text/plain": [
       "0.10125011347676229"
      ]
     },
     "execution_count": 234,
     "metadata": {},
     "output_type": "execute_result"
    },
    {
     "data": {
      "text/plain": [
       "0.5642958793016887"
      ]
     },
     "execution_count": 234,
     "metadata": {},
     "output_type": "execute_result"
    }
   ],
   "source": [
    "for celltype in celltype_list:\n",
    "    print(celltype)\n",
    "    avg_dnds_arr_dict[celltype].shape[0] # number of genes\n",
    "    np.min(avg_dnds_arr_dict[celltype])\n",
    "    np.median(avg_dnds_arr_dict[celltype]) # median of average dNdS\n",
    "    np.max(avg_dnds_arr_dict[celltype])"
   ]
  },
  {
   "cell_type": "markdown",
   "metadata": {},
   "source": [
    "### Distribution without benchmarks except all gene median"
   ]
  },
  {
   "cell_type": "code",
   "execution_count": 240,
   "metadata": {},
   "outputs": [],
   "source": [
    "celltype_list.remove('glia')"
   ]
  },
  {
   "cell_type": "code",
   "execution_count": 243,
   "metadata": {},
   "outputs": [
    {
     "data": {
      "text/plain": [
       "[<matplotlib.lines.Line2D at 0x7fbffaf8e670>]"
      ]
     },
     "execution_count": 243,
     "metadata": {},
     "output_type": "execute_result"
    },
    {
     "data": {
      "text/plain": [
       "[<matplotlib.lines.Line2D at 0x7fbff8f55c70>]"
      ]
     },
     "execution_count": 243,
     "metadata": {},
     "output_type": "execute_result"
    },
    {
     "data": {
      "text/plain": [
       "[<matplotlib.lines.Line2D at 0x7fbffa5250d0>]"
      ]
     },
     "execution_count": 243,
     "metadata": {},
     "output_type": "execute_result"
    },
    {
     "data": {
      "text/plain": [
       "[<matplotlib.lines.Line2D at 0x7fbffa525850>]"
      ]
     },
     "execution_count": 243,
     "metadata": {},
     "output_type": "execute_result"
    },
    {
     "data": {
      "text/plain": [
       "[<matplotlib.lines.Line2D at 0x7fbffa525be0>]"
      ]
     },
     "execution_count": 243,
     "metadata": {},
     "output_type": "execute_result"
    },
    {
     "data": {
      "text/plain": [
       "<matplotlib.lines.Line2D at 0x7fbffc1a1280>"
      ]
     },
     "execution_count": 243,
     "metadata": {},
     "output_type": "execute_result"
    },
    {
     "data": {
      "text/plain": [
       "(0.0, 80.0)"
      ]
     },
     "execution_count": 243,
     "metadata": {},
     "output_type": "execute_result"
    },
    {
     "data": {
      "text/plain": [
       "Text(0.5, 0, '(less free to vary)                                       dN/dS                                       (more free to vary)')"
      ]
     },
     "execution_count": 243,
     "metadata": {},
     "output_type": "execute_result"
    },
    {
     "data": {
      "text/plain": [
       "Text(0, 0.5, 'Number of Genes')"
      ]
     },
     "execution_count": 243,
     "metadata": {},
     "output_type": "execute_result"
    },
    {
     "data": {
      "image/png": "[encoded data removed]",
      "text/plain": [
       "<Figure size 3000x2250 with 1 Axes>"
      ]
     },
     "metadata": {},
     "output_type": "display_data"
    }
   ],
   "source": [
    "fig = plt.figure(figsize=(10,7.5))\n",
    "grid = plt.GridSpec(nrows=1,ncols=1)\n",
    "distr_plot = fig.add_subplot(grid[:,:])\n",
    "bins=np.logspace(np.log10(0.003),np.log10(3), 90)\n",
    "bins_cntr = (bins[1:] + bins[:-1]) / 2\n",
    "\n",
    "for celltype in celltype_list:\n",
    "    counts, bin_edges, ignored = distr_plot.hist(avg_dnds_arr_dict[celltype],bins,histtype='stepfilled',alpha=0.3,color=palette[celltype])\n",
    "    area_hist = ((bin_edges[1:] - bin_edges[:-1]) * counts).sum()\n",
    "    shape, loc, scale = stats.lognorm.fit(avg_dnds_arr_dict[celltype])\n",
    "    # pdf-values using cdf \n",
    "    fit_log_cntr_ = stats.lognorm.cdf(bins, shape, loc=loc, scale=scale)\n",
    "    fit_log_cntr = np.diff(fit_log_cntr_)\n",
    "    # plot fitted and scaled PDFs into histogram\n",
    "    distr_plot.plot(bins_cntr, fit_log_cntr * counts.sum(),color=palette[celltype],ls='-', linewidth=2)\n",
    "\n",
    "distr_plot.axvline(med_dnds,color='black',ls='--')\n",
    "\n",
    "# Axis labels\n",
    "distr_plot.set_ylim(top=80)\n",
    "distr_plot.set_xlabel(fontsize=14,xlabel='(less free to vary)                                       dN/dS                                       (more free to vary)')\n",
    "distr_plot.set_ylabel(fontsize=14,ylabel='Number of Genes')\n",
    "distr_plot.set_xscale('log')\n",
    "\n",
    "plt.show()\n",
    "fig.savefig('../figures/chicken.avg_dNdS_distribution.5celltypes.svg')"
   ]
  },
  {
   "cell_type": "markdown",
   "metadata": {},
   "source": [
    "### Benchmarks?"
   ]
  },
  {
   "cell_type": "markdown",
   "metadata": {},
   "source": [
    "Jan 28, 2022: Using the chicken ortholog of mouse benchmark genes might be problematic. E.g., there is only one MHC genes' chicken ortholog. All chicken protein-coding genes are kept as benchmark. "
   ]
  },
  {
   "cell_type": "code",
   "execution_count": 91,
   "metadata": {},
   "outputs": [],
   "source": [
    "benchmark_file = pd.ExcelFile('../data/benchmarks.xlsx')\n",
    "benchmark_dict={}\n",
    "for sheet_name in benchmark_file.sheet_names:\n",
    "    df=pd.read_excel(benchmark_file,sheet_name=sheet_name,index_col=0,names=['mouse_avg_dNdS'])\n",
    "    benchmark_dict.update({sheet_name:df})"
   ]
  },
  {
   "cell_type": "code",
   "execution_count": 148,
   "metadata": {},
   "outputs": [
    {
     "data": {
      "text/html": [
       "<div>\n",
       "<style scoped>\n",
       "    .dataframe tbody tr th:only-of-type {\n",
       "        vertical-align: middle;\n",
       "    }\n",
       "\n",
       "    .dataframe tbody tr th {\n",
       "        vertical-align: top;\n",
       "    }\n",
       "\n",
       "    .dataframe thead th {\n",
       "        text-align: right;\n",
       "    }\n",
       "</style>\n",
       "<table border=\"1\" class=\"dataframe\">\n",
       "  <thead>\n",
       "    <tr style=\"text-align: right;\">\n",
       "      <th></th>\n",
       "      <th>mouse_avg_dNdS</th>\n",
       "    </tr>\n",
       "  </thead>\n",
       "  <tbody>\n",
       "    <tr>\n",
       "      <th>Aaas</th>\n",
       "      <td>0.088135</td>\n",
       "    </tr>\n",
       "    <tr>\n",
       "      <th>Aagab</th>\n",
       "      <td>0.135716</td>\n",
       "    </tr>\n",
       "    <tr>\n",
       "      <th>Aamp</th>\n",
       "      <td>0.022372</td>\n",
       "    </tr>\n",
       "    <tr>\n",
       "      <th>Aar2</th>\n",
       "      <td>0.093255</td>\n",
       "    </tr>\n",
       "    <tr>\n",
       "      <th>Aars</th>\n",
       "      <td>0.047271</td>\n",
       "    </tr>\n",
       "    <tr>\n",
       "      <th>...</th>\n",
       "      <td>...</td>\n",
       "    </tr>\n",
       "    <tr>\n",
       "      <th>Zswim1</th>\n",
       "      <td>0.112086</td>\n",
       "    </tr>\n",
       "    <tr>\n",
       "      <th>Zswim7</th>\n",
       "      <td>0.211968</td>\n",
       "    </tr>\n",
       "    <tr>\n",
       "      <th>Zswim8</th>\n",
       "      <td>0.060767</td>\n",
       "    </tr>\n",
       "    <tr>\n",
       "      <th>Zw10</th>\n",
       "      <td>0.144054</td>\n",
       "    </tr>\n",
       "    <tr>\n",
       "      <th>Zzz3</th>\n",
       "      <td>0.179042</td>\n",
       "    </tr>\n",
       "  </tbody>\n",
       "</table>\n",
       "<p>3265 rows × 1 columns</p>\n",
       "</div>"
      ],
      "text/plain": [
       "        mouse_avg_dNdS\n",
       "Aaas          0.088135\n",
       "Aagab         0.135716\n",
       "Aamp          0.022372\n",
       "Aar2          0.093255\n",
       "Aars          0.047271\n",
       "...                ...\n",
       "Zswim1        0.112086\n",
       "Zswim7        0.211968\n",
       "Zswim8        0.060767\n",
       "Zw10          0.144054\n",
       "Zzz3          0.179042\n",
       "\n",
       "[3265 rows x 1 columns]"
      ]
     },
     "execution_count": 148,
     "metadata": {},
     "output_type": "execute_result"
    }
   ],
   "source": [
    "benchmark_dict['House Keeping Genes']"
   ]
  },
  {
   "cell_type": "code",
   "execution_count": 152,
   "metadata": {},
   "outputs": [
    {
     "data": {
      "text/html": [
       "<div>\n",
       "<style scoped>\n",
       "    .dataframe tbody tr th:only-of-type {\n",
       "        vertical-align: middle;\n",
       "    }\n",
       "\n",
       "    .dataframe tbody tr th {\n",
       "        vertical-align: top;\n",
       "    }\n",
       "\n",
       "    .dataframe thead th {\n",
       "        text-align: right;\n",
       "    }\n",
       "</style>\n",
       "<table border=\"1\" class=\"dataframe\">\n",
       "  <thead>\n",
       "    <tr style=\"text-align: right;\">\n",
       "      <th></th>\n",
       "      <th>avg_dNdS</th>\n",
       "      <th>Mouse gene name</th>\n",
       "      <th>Chicken gene name</th>\n",
       "    </tr>\n",
       "  </thead>\n",
       "  <tbody>\n",
       "    <tr>\n",
       "      <th>8649</th>\n",
       "      <td>0.100223</td>\n",
       "      <td>Aaas</td>\n",
       "      <td>AAAS</td>\n",
       "    </tr>\n",
       "    <tr>\n",
       "      <th>3159</th>\n",
       "      <td>0.155321</td>\n",
       "      <td>Aagab</td>\n",
       "      <td>AAGAB</td>\n",
       "    </tr>\n",
       "    <tr>\n",
       "      <th>4870</th>\n",
       "      <td>0.050817</td>\n",
       "      <td>Aamp</td>\n",
       "      <td>AAMP</td>\n",
       "    </tr>\n",
       "    <tr>\n",
       "      <th>289</th>\n",
       "      <td>0.139294</td>\n",
       "      <td>Aar2</td>\n",
       "      <td>AAR2</td>\n",
       "    </tr>\n",
       "    <tr>\n",
       "      <th>639</th>\n",
       "      <td>0.061662</td>\n",
       "      <td>Aars</td>\n",
       "      <td>AARS</td>\n",
       "    </tr>\n",
       "    <tr>\n",
       "      <th>...</th>\n",
       "      <td>...</td>\n",
       "      <td>...</td>\n",
       "      <td>...</td>\n",
       "    </tr>\n",
       "    <tr>\n",
       "      <th>8403</th>\n",
       "      <td>0.012630</td>\n",
       "      <td>Zranb1</td>\n",
       "      <td>ZRANB1</td>\n",
       "    </tr>\n",
       "    <tr>\n",
       "      <th>4820</th>\n",
       "      <td>0.037759</td>\n",
       "      <td>Zranb2</td>\n",
       "      <td>ZRANB2</td>\n",
       "    </tr>\n",
       "    <tr>\n",
       "      <th>7378</th>\n",
       "      <td>0.153337</td>\n",
       "      <td>Zswim7</td>\n",
       "      <td>ZSWIM7</td>\n",
       "    </tr>\n",
       "    <tr>\n",
       "      <th>1980</th>\n",
       "      <td>0.071651</td>\n",
       "      <td>Zswim8</td>\n",
       "      <td>ZSWIM8</td>\n",
       "    </tr>\n",
       "    <tr>\n",
       "      <th>9980</th>\n",
       "      <td>0.132299</td>\n",
       "      <td>Zw10</td>\n",
       "      <td>ZW10</td>\n",
       "    </tr>\n",
       "  </tbody>\n",
       "</table>\n",
       "<p>2588 rows × 3 columns</p>\n",
       "</div>"
      ],
      "text/plain": [
       "      avg_dNdS Mouse gene name Chicken gene name\n",
       "8649  0.100223            Aaas              AAAS\n",
       "3159  0.155321           Aagab             AAGAB\n",
       "4870  0.050817            Aamp              AAMP\n",
       "289   0.139294            Aar2              AAR2\n",
       "639   0.061662            Aars              AARS\n",
       "...        ...             ...               ...\n",
       "8403  0.012630          Zranb1            ZRANB1\n",
       "4820  0.037759          Zranb2            ZRANB2\n",
       "7378  0.153337          Zswim7            ZSWIM7\n",
       "1980  0.071651          Zswim8            ZSWIM8\n",
       "9980  0.132299            Zw10              ZW10\n",
       "\n",
       "[2588 rows x 3 columns]"
      ]
     },
     "execution_count": 152,
     "metadata": {},
     "output_type": "execute_result"
    }
   ],
   "source": [
    "pd.merge(benchmark_dict['House Keeping Genes'],avg_dnds_df,left_index=True, right_on='Mouse gene name',how='inner').drop('mouse_avg_dNdS',axis=1)"
   ]
  },
  {
   "cell_type": "code",
   "execution_count": 160,
   "metadata": {},
   "outputs": [],
   "source": [
    "benchmark_dNdS_dict={}\n",
    "benchmark_median_dNdS_dict={}\n",
    "\n",
    "for key in benchmark_dict:\n",
    "    df=benchmark_dict[key]\n",
    "    df=pd.merge(df,avg_dnds_df,left_index=True, right_on='Mouse gene name',how='inner')\n",
    "    df.drop('mouse_avg_dNdS',axis=1,inplace=True)\n",
    "    df.rename(columns={'avg_dNdS':'chicken_avg_dNdS'},inplace=True)\n",
    "    benchmark_dNdS_dict[key]=df\n",
    "    benchmark_median_dNdS_dict[key]=df['chicken_avg_dNdS'].median()\n",
    "    "
   ]
  },
  {
   "cell_type": "code",
   "execution_count": 161,
   "metadata": {},
   "outputs": [
    {
     "data": {
      "text/plain": [
       "{'House Keeping Genes': 0.09705276098997316,\n",
       " 'MHC': 0.048142552275769426,\n",
       " 'ATPase': 0.09027501344247259,\n",
       " 'Immune System Genes': 0.10118694928265182}"
      ]
     },
     "execution_count": 161,
     "metadata": {},
     "output_type": "execute_result"
    }
   ],
   "source": [
    "benchmark_median_dNdS_dict"
   ]
  },
  {
   "cell_type": "code",
   "execution_count": 168,
   "metadata": {},
   "outputs": [
    {
     "data": {
      "text/html": [
       "<div>\n",
       "<style scoped>\n",
       "    .dataframe tbody tr th:only-of-type {\n",
       "        vertical-align: middle;\n",
       "    }\n",
       "\n",
       "    .dataframe tbody tr th {\n",
       "        vertical-align: top;\n",
       "    }\n",
       "\n",
       "    .dataframe thead th {\n",
       "        text-align: right;\n",
       "    }\n",
       "</style>\n",
       "<table border=\"1\" class=\"dataframe\">\n",
       "  <thead>\n",
       "    <tr style=\"text-align: right;\">\n",
       "      <th></th>\n",
       "      <th>chicken_avg_dNdS</th>\n",
       "      <th>Mouse gene name</th>\n",
       "      <th>Chicken gene name</th>\n",
       "    </tr>\n",
       "  </thead>\n",
       "  <tbody>\n",
       "    <tr>\n",
       "      <th>24</th>\n",
       "      <td>0.048143</td>\n",
       "      <td>H2-DMa</td>\n",
       "      <td>DMA</td>\n",
       "    </tr>\n",
       "  </tbody>\n",
       "</table>\n",
       "</div>"
      ],
      "text/plain": [
       "    chicken_avg_dNdS Mouse gene name Chicken gene name\n",
       "24          0.048143          H2-DMa               DMA"
      ]
     },
     "execution_count": 168,
     "metadata": {},
     "output_type": "execute_result"
    }
   ],
   "source": [
    "benchmark_dNdS_dict['MHC'] #This could be problematic since there is only one chicken ortholog to mouse MHC genes "
   ]
  },
  {
   "cell_type": "code",
   "execution_count": null,
   "metadata": {},
   "outputs": [],
   "source": []
  }
 ],
 "metadata": {
  "kernelspec": {
   "display_name": "Python 3",
   "language": "python",
   "name": "python3"
  },
  "language_info": {
   "codemirror_mode": {
    "name": "ipython",
    "version": 3
   },
   "file_extension": ".py",
   "mimetype": "text/x-python",
   "name": "python",
   "nbconvert_exporter": "python",
   "pygments_lexer": "ipython3",
   "version": "3.8.11"
  }
 },
 "nbformat": 4,
 "nbformat_minor": 4
}
