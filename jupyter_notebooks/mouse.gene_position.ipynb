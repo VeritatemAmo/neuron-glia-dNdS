{
 "cells": [
  {
   "cell_type": "markdown",
   "metadata": {},
   "source": [
    "Update: Dec 20, 2022: ignore index when outputting promoter_position.tsv; set_value() deprecated, change to .loc\n",
    "Author: Linhe Xu\n",
    "This script find the upstream promoter region (2000 bp upstream 5' end of protein-coding gene) coordinate (GRCm38.p6) of all mouse protein-coding genes. This will be used for reteriving PhastCons from UCSC Genome Browser. "
   ]
  },
  {
   "cell_type": "code",
   "execution_count": 1,
   "metadata": {},
   "outputs": [],
   "source": [
    "import numpy as np\n",
    "import pandas as pd"
   ]
  },
  {
   "cell_type": "markdown",
   "metadata": {},
   "source": [
    "# Define promoter regions' coordinates"
   ]
  },
  {
   "cell_type": "code",
   "execution_count": 2,
   "metadata": {},
   "outputs": [],
   "source": [
    "gene_df=pd.read_csv('../results/Ensembl100_mouse/mouse_protein_coding_gene_position.tsv',sep='\\t',names=['gene','str','chr','start','end'])"
   ]
  },
  {
   "cell_type": "code",
   "execution_count": 3,
   "metadata": {},
   "outputs": [],
   "source": [
    "# Define chromosomes to use\n",
    "chr_list=['1','2','3','4','5','6','7','8','9','10',\n",
    "          '11','12','13','14','15','16','17','18',\n",
    "          '19','X','Y','MT']"
   ]
  },
  {
   "cell_type": "code",
   "execution_count": 4,
   "metadata": {},
   "outputs": [],
   "source": [
    "# Filter out genes not on common chromosome branches \n",
    "gene_df=gene_df[gene_df['chr'].isin(chr_list)]\n",
    "# UCSC Genome Browser uses chrM to mark mitocondrial DNA, etc\n",
    "gene_df.loc[gene_df['chr']=='MT','chr']='M'\n",
    "gene_df['chr']='chr'+gene_df['chr']"
   ]
  },
  {
   "cell_type": "code",
   "execution_count": 6,
   "metadata": {},
   "outputs": [],
   "source": [
    "for index,gene in gene_df.iterrows():\n",
    "    if gene['str']==1:\n",
    "        gene_df.at[index,'promoter_start']=gene['start']-2001\n",
    "        gene_df.at[index,'promoter_end']=gene['start']-1\n",
    "    else:\n",
    "        gene_df.at[index,'promoter_start']=gene['end']\n",
    "        gene_df.at[index,'promoter_end']=gene['end']+2000"
   ]
  },
  {
   "cell_type": "code",
   "execution_count": 7,
   "metadata": {},
   "outputs": [],
   "source": [
    "gene_df['promoter_start']=gene_df['promoter_start'].astype(int)\n",
    "gene_df['promoter_end']=gene_df['promoter_end'].astype(int)"
   ]
  },
  {
   "cell_type": "code",
   "execution_count": 11,
   "metadata": {},
   "outputs": [],
   "source": [
    "promoter_df = gene_df.drop(['start','end','str'],axis=1)"
   ]
  },
  {
   "cell_type": "code",
   "execution_count": 12,
   "metadata": {},
   "outputs": [],
   "source": [
    "promoter_df.to_csv('../results/Ensembl100_mouse/promoter_position.tsv',sep='\\t',index=False)"
   ]
  },
  {
   "cell_type": "markdown",
   "metadata": {},
   "source": [
    "# Match coordinates to celltype-specific genes"
   ]
  },
  {
   "cell_type": "code",
   "execution_count": 9,
   "metadata": {},
   "outputs": [],
   "source": [
    "# all protein-coding genes' promoter coordinates\n",
    "all_df=promoter_df.drop(['gene','str'],axis=1)"
   ]
  },
  {
   "cell_type": "code",
   "execution_count": 10,
   "metadata": {},
   "outputs": [],
   "source": [
    "promoter_df=promoter_df.drop(['str'],axis=1)"
   ]
  },
  {
   "cell_type": "code",
   "execution_count": 11,
   "metadata": {},
   "outputs": [],
   "source": [
    "celltype_list=['neuron','endothelia','glia','astrocyte','microglia','oligodendrocyte']"
   ]
  },
  {
   "cell_type": "code",
   "execution_count": 12,
   "metadata": {},
   "outputs": [],
   "source": [
    "coord_dict={}\n",
    "for celltype in celltype_list:\n",
    "    df=pd.read_csv('../results/mouse.celltype-specific_genes/protein-coding_w_dNdS/'+celltype+'.list.txt',names=['gene'])\n",
    "    coord_dict[celltype]=df"
   ]
  },
  {
   "cell_type": "code",
   "execution_count": 13,
   "metadata": {},
   "outputs": [],
   "source": [
    "for celltype in celltype_list:\n",
    "    coord_dict[celltype]=pd.merge(coord_dict[celltype],promoter_df,left_on='gene',right_on='gene',how='inner')"
   ]
  },
  {
   "cell_type": "code",
   "execution_count": 14,
   "metadata": {},
   "outputs": [],
   "source": [
    "path='../results/mouse.celltype-specific_genes/protein-coding_w_dNdS/promoter.'"
   ]
  },
  {
   "cell_type": "code",
   "execution_count": 15,
   "metadata": {},
   "outputs": [],
   "source": [
    "for celltype in celltype_list:\n",
    "    coord_dict[celltype].iloc[0:,1:].to_csv(path+celltype+'.tsv',sep='\\t',index=False)"
   ]
  },
  {
   "cell_type": "code",
   "execution_count": 16,
   "metadata": {},
   "outputs": [
    {
     "data": {
      "text/html": [
       "<div>\n",
       "<style scoped>\n",
       "    .dataframe tbody tr th:only-of-type {\n",
       "        vertical-align: middle;\n",
       "    }\n",
       "\n",
       "    .dataframe tbody tr th {\n",
       "        vertical-align: top;\n",
       "    }\n",
       "\n",
       "    .dataframe thead th {\n",
       "        text-align: right;\n",
       "    }\n",
       "</style>\n",
       "<table border=\"1\" class=\"dataframe\">\n",
       "  <thead>\n",
       "    <tr style=\"text-align: right;\">\n",
       "      <th></th>\n",
       "      <th>gene</th>\n",
       "      <th>chr</th>\n",
       "      <th>promoter_start</th>\n",
       "      <th>promoter_end</th>\n",
       "    </tr>\n",
       "  </thead>\n",
       "  <tbody>\n",
       "    <tr>\n",
       "      <td>0</td>\n",
       "      <td>1500009L16Rik</td>\n",
       "      <td>chr10</td>\n",
       "      <td>83720864</td>\n",
       "      <td>83722864</td>\n",
       "    </tr>\n",
       "    <tr>\n",
       "      <td>1</td>\n",
       "      <td>1700001L19Rik</td>\n",
       "      <td>chr13</td>\n",
       "      <td>68595420</td>\n",
       "      <td>68597420</td>\n",
       "    </tr>\n",
       "    <tr>\n",
       "      <td>2</td>\n",
       "      <td>4930444P10Rik</td>\n",
       "      <td>chr1</td>\n",
       "      <td>16093325</td>\n",
       "      <td>16095325</td>\n",
       "    </tr>\n",
       "    <tr>\n",
       "      <td>3</td>\n",
       "      <td>4930447C04Rik</td>\n",
       "      <td>chr12</td>\n",
       "      <td>72940774</td>\n",
       "      <td>72942774</td>\n",
       "    </tr>\n",
       "    <tr>\n",
       "      <td>4</td>\n",
       "      <td>4930452B06Rik</td>\n",
       "      <td>chr14</td>\n",
       "      <td>8666240</td>\n",
       "      <td>8668240</td>\n",
       "    </tr>\n",
       "    <tr>\n",
       "      <td>...</td>\n",
       "      <td>...</td>\n",
       "      <td>...</td>\n",
       "      <td>...</td>\n",
       "      <td>...</td>\n",
       "    </tr>\n",
       "    <tr>\n",
       "      <td>1288</td>\n",
       "      <td>Zim1</td>\n",
       "      <td>chr7</td>\n",
       "      <td>6696450</td>\n",
       "      <td>6698450</td>\n",
       "    </tr>\n",
       "    <tr>\n",
       "      <td>1289</td>\n",
       "      <td>Zkscan16</td>\n",
       "      <td>chr4</td>\n",
       "      <td>58941627</td>\n",
       "      <td>58943627</td>\n",
       "    </tr>\n",
       "    <tr>\n",
       "      <td>1290</td>\n",
       "      <td>Zmat4</td>\n",
       "      <td>chr8</td>\n",
       "      <td>23634018</td>\n",
       "      <td>23636018</td>\n",
       "    </tr>\n",
       "    <tr>\n",
       "      <td>1291</td>\n",
       "      <td>Zpbp</td>\n",
       "      <td>chr11</td>\n",
       "      <td>11462408</td>\n",
       "      <td>11464408</td>\n",
       "    </tr>\n",
       "    <tr>\n",
       "      <td>1292</td>\n",
       "      <td>Zwint</td>\n",
       "      <td>chr10</td>\n",
       "      <td>72652844</td>\n",
       "      <td>72654844</td>\n",
       "    </tr>\n",
       "  </tbody>\n",
       "</table>\n",
       "<p>1293 rows × 4 columns</p>\n",
       "</div>"
      ],
      "text/plain": [
       "               gene    chr  promoter_start  promoter_end\n",
       "0     1500009L16Rik  chr10        83720864      83722864\n",
       "1     1700001L19Rik  chr13        68595420      68597420\n",
       "2     4930444P10Rik   chr1        16093325      16095325\n",
       "3     4930447C04Rik  chr12        72940774      72942774\n",
       "4     4930452B06Rik  chr14         8666240       8668240\n",
       "...             ...    ...             ...           ...\n",
       "1288           Zim1   chr7         6696450       6698450\n",
       "1289       Zkscan16   chr4        58941627      58943627\n",
       "1290          Zmat4   chr8        23634018      23636018\n",
       "1291           Zpbp  chr11        11462408      11464408\n",
       "1292          Zwint  chr10        72652844      72654844\n",
       "\n",
       "[1293 rows x 4 columns]"
      ]
     },
     "execution_count": 16,
     "metadata": {},
     "output_type": "execute_result"
    }
   ],
   "source": [
    "coord_dict['neuron']"
   ]
  }
 ],
 "metadata": {
  "kernelspec": {
   "display_name": "Python 3 (ipykernel)",
   "language": "python",
   "name": "python3"
  },
  "language_info": {
   "codemirror_mode": {
    "name": "ipython",
    "version": 3
   },
   "file_extension": ".py",
   "mimetype": "text/x-python",
   "name": "python",
   "nbconvert_exporter": "python",
   "pygments_lexer": "ipython3",
   "version": "3.9.13"
  }
 },
 "nbformat": 4,
 "nbformat_minor": 4
}
