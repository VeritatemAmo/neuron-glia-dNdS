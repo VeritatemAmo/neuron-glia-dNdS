{
 "cells": [
  {
   "cell_type": "markdown",
   "metadata": {},
   "source": [
    "Previously in mouse.celltype-specific-genes.ipynb I identified neuron, glia, endothelia, microglia, astrocyte, and oligodendrocyte-specific genes based on the Barres mouse expression data. However, they are not all confirmed protein-coding genes, nor do they necessearily all have confident orthologs in other species to get a dN/dS score. In human.all_genes.ipynb I have generated dN/dS scores for all mouse protein-coding genes that have at least one 1-to-1 ortholog with one other mammalian species based on the Ensembl 98 database. Here I merge those genes with my celltype-specific gene lists to get the celltype-specific protein-coding gene with at least one species with dN/dS ratios against mouse. "
   ]
  },
  {
   "cell_type": "code",
   "execution_count": 1,
   "metadata": {},
   "outputs": [],
   "source": [
    "import numpy as np\n",
    "import pandas as pd\n",
    "import glob"
   ]
  },
  {
   "cell_type": "code",
   "execution_count": 2,
   "metadata": {},
   "outputs": [],
   "source": [
    "from IPython.core.interactiveshell import InteractiveShell\n",
    "InteractiveShell.ast_node_interactivity = \"all\""
   ]
  },
  {
   "cell_type": "code",
   "execution_count": 3,
   "metadata": {},
   "outputs": [],
   "source": [
    "pd.set_option('display.max_rows', 10)"
   ]
  },
  {
   "cell_type": "code",
   "execution_count": 4,
   "metadata": {},
   "outputs": [],
   "source": [
    "# Pairwise dN/dS ratios of 93 mammalian species against mouse\n",
    "dnds_df = pd.read_csv('../results/Ensembl98_mouse/mouse.92_species_dNdS.all_genes.tsv',sep='\\t',index_col=1)"
   ]
  },
  {
   "cell_type": "code",
   "execution_count": 5,
   "metadata": {},
   "outputs": [],
   "source": [
    "# Import stats on each gene for average of 93 species' dN/dS \n",
    "stats_df = pd.read_csv('../results/Ensembl98_mouse/mouse.dNdS_stats.all_genes.tsv',sep='\\t',index_col=1)"
   ]
  },
  {
   "cell_type": "code",
   "execution_count": 37,
   "metadata": {},
   "outputs": [],
   "source": [
    "# human_celltype_dict={} # pairwise dN/dS of human against mouse reference genome\n",
    "# rat_celltype_dict={}\n",
    "# opposum_celltype_dict={}\n",
    "# megabat_celltype_dict={}\n",
    "# tasmaniandevil_celltype_dict={}\n",
    "# cat_celltype_dict={}\n",
    "# pig_celltype_dict={}\n",
    "# avg93_celltype_dict={} # averaged dN/dS across 93 mammalian species\n",
    "\n",
    "for file in glob.glob('../results/mouse.celltype-specific_genes/all_barres/*.list.txt'):\n",
    "    celltype=file[52:-9]\n",
    "    df=pd.read_csv(file,names=['Gene name'],index_col=0)\n",
    "    \n",
    "    # human against mouse reference genome pairwise dN/dS for cell type specific genes\n",
    "    human_df=pd.merge(df,dnds_df['hsapiens_dNdS'],how='left',left_index=True,right_index=True)\n",
    "    human_df.dropna(inplace=True)\n",
    "    human_df.to_csv('../results/mouse.celltype-specific_genes/protein-coding_w_dNdS/human/'+celltype+'.tsv', sep='\\t')\n",
    "#     human_celltype_dict[celltype]=human_df\n",
    "    \n",
    "    # rat against mouse reference genome pairwise dN/dS for cell type specific genes\n",
    "    rat_df=pd.merge(df,dnds_df['rnorvegicus_dNdS'],how='left',left_index=True,right_index=True)\n",
    "    rat_df.dropna(inplace=True)\n",
    "    rat_df.to_csv('../results/mouse.celltype-specific_genes/protein-coding_w_dNdS/rat/'+celltype+'.tsv', sep='\\t')\n",
    "#     rat_celltype_dict[celltype]=rat_df\n",
    "    \n",
    "    # opposum against mouse reference genome pairwise dN/dS for cell type specific genes\n",
    "    opposum_df=pd.merge(df,dnds_df['mdomestica_dNdS'],how='left',left_index=True,right_index=True)\n",
    "    opposum_df.dropna(inplace=True)\n",
    "    opposum_df.to_csv('../results/mouse.celltype-specific_genes/protein-coding_w_dNdS/opposum/'+celltype+'.tsv', sep='\\t')\n",
    "#     opposum_celltype_dict[celltype]=opposum_df\n",
    "    \n",
    "    # megabat against mouse reference genome pairwise dN/dS for cell type specific genes\n",
    "    megabat_df=pd.merge(df,dnds_df['pvampyrus_dNdS'],how='left',left_index=True,right_index=True)\n",
    "    megabat_df.dropna(inplace=True)\n",
    "    megabat_df.to_csv('../results/mouse.celltype-specific_genes/protein-coding_w_dNdS/megabat/'+celltype+'.tsv', sep='\\t')\n",
    "#     megabat_celltype_dict[celltype]=megabat_df\n",
    "    \n",
    "    # tasmanian devil against mouse reference genome pairwise dN/dS for cell type specific genes\n",
    "    tasmaniandevil_df=pd.merge(df,dnds_df['sharrisii_dNdS'],how='left',left_index=True,right_index=True)\n",
    "    tasmaniandevil_df.dropna(inplace=True)\n",
    "    tasmaniandevil_df.to_csv('../results/mouse.celltype-specific_genes/protein-coding_w_dNdS/tasmaniandevil/'+celltype+'.tsv', sep='\\t')\n",
    "#     tasmaniandevil_celltype_dict[celltype]=tasmaniandevil_df\n",
    "    \n",
    "    # pig against mouse reference genome pairwise dN/dS for cell type specific genes\n",
    "    pig_df=pd.merge(df,dnds_df['sscrofa_dNdS'],how='left',left_index=True,right_index=True)\n",
    "    pig_df.dropna(inplace=True)\n",
    "    pig_df.to_csv('../results/mouse.celltype-specific_genes/protein-coding_w_dNdS/pig/'+celltype+'.tsv', sep='\\t')\n",
    "#     pig_celltype_dict[celltype]=pig_df\n",
    "    \n",
    "    # cat against mouse reference genome pairwise dN/dS for cell type specific genes\n",
    "    cat_df=pd.merge(df,dnds_df['fcatus_dNdS'],how='left',left_index=True,right_index=True)\n",
    "    cat_df.dropna(inplace=True)\n",
    "    cat_df.to_csv('../results/mouse.celltype-specific_genes/protein-coding_w_dNdS/cat/'+celltype+'.tsv', sep='\\t')\n",
    "#     cat_celltype_dict[celltype]=cat_df\n",
    "    \n",
    "    # Average of 93 mammals against mouse reference genome pairwise dN/dS for cell type specific genes\n",
    "    avg_df=pd.merge(df,stats_df['mean'],how='left',left_index=True,right_index=True)\n",
    "    avg_df.dropna(inplace=True)\n",
    "    avg_df.to_csv('../results/mouse.celltype-specific_genes/protein-coding_w_dNdS/avg_93species/'+celltype+'.tsv',sep='\\t')\n",
    "    \n",
    "    # Output lists of celltype-specific protein-coding genes with dN/dS\n",
    "    MyFile=open('../results/mouse.celltype-specific_genes/protein-coding_w_dNdS/'+celltype+'.list.txt','w')\n",
    "    MyList=map(lambda x:x+'\\n', avg_df.index.to_list())\n",
    "    MyFile.writelines(MyList)\n",
    "    MyFile.close()\n",
    "#     avg93_celltype_dict[celltype]=avg_df\n",
    "\n",
    "    # Export all 93 mammals against mouse reference genome pairwise dN/dS for cell type specific genes\n",
    "    all_df=pd.merge(df,dnds_df.loc[:,'amelanoleuca_dNdS':'vvulpes_dNdS'],how='left',left_index=True,right_index=True)\n",
    "    all_df.dropna(inplace=True)\n",
    "    all_df.to_csv('../results/mouse.celltype-specific_genes/protein-coding_w_dNdS/all_93species/'+celltype+'.tsv',sep='\\t')"
   ]
  },
  {
   "cell_type": "code",
   "execution_count": null,
   "metadata": {},
   "outputs": [],
   "source": []
  }
 ],
 "metadata": {
  "kernelspec": {
   "display_name": "Python 3",
   "language": "python",
   "name": "python3"
  },
  "language_info": {
   "codemirror_mode": {
    "name": "ipython",
    "version": 3
   },
   "file_extension": ".py",
   "mimetype": "text/x-python",
   "name": "python",
   "nbconvert_exporter": "python",
   "pygments_lexer": "ipython3",
   "version": "3.7.4"
  }
 },
 "nbformat": 4,
 "nbformat_minor": 2
}
