{
 "cells": [
  {
   "cell_type": "markdown",
   "metadata": {},
   "source": [
    "Copied from mouse.gene_position.ipynb.\n",
    "This script find the upstream promoter region (2000 bp upstream 5' end of protein-coding gene) coordinate (GRCg6a) of all chicken protein-coding genes. This will be used for reteriving PhastCons from UCSC Genome Browser. "
   ]
  },
  {
   "cell_type": "code",
   "execution_count": 1,
   "metadata": {},
   "outputs": [],
   "source": [
    "import numpy as np\n",
    "import pandas as pd"
   ]
  },
  {
   "cell_type": "markdown",
   "metadata": {},
   "source": [
    "# Define promoter regions' coordinates"
   ]
  },
  {
   "cell_type": "code",
   "execution_count": 16,
   "metadata": {},
   "outputs": [],
   "source": [
    "gene_df=pd.read_csv('../results/Ensembl105_chicken/chicken_protein_coding_gene_position.tsv',sep='\\t',names=['gene','str','chr','start','end'])"
   ]
  },
  {
   "cell_type": "code",
   "execution_count": 17,
   "metadata": {},
   "outputs": [],
   "source": [
    "# Define chromosomes to use\n",
    "chr_list=['1','2','3','4','5','6','7','8','9','10',\n",
    "          '11','12','13','14','15','16','17','18',\n",
    "          '19','20','21','22','23','24','25','26',\n",
    "          '27','28','29','30','31','32','33','Z','W','MT']"
   ]
  },
  {
   "cell_type": "code",
   "execution_count": 18,
   "metadata": {},
   "outputs": [],
   "source": [
    "# Filter out genes not on common chromosome branches \n",
    "gene_df=gene_df[gene_df['chr'].isin(chr_list)]\n",
    "# UCSC Genome Browser uses chrM to mark mitocondrial DNA, etc\n",
    "gene_df.loc[gene_df['chr']=='MT','chr']='M'\n",
    "gene_df['chr']='chr'+gene_df['chr']"
   ]
  },
  {
   "cell_type": "code",
   "execution_count": 20,
   "metadata": {},
   "outputs": [],
   "source": [
    "for index,gene in gene_df.iterrows():\n",
    "    if gene['str']==1:\n",
    "        gene_df.at[index,'promoter_start']=gene['start']-2001\n",
    "        gene_df.at[index,'promoter_end']=gene['start']-1\n",
    "    else:\n",
    "        gene_df.at[index,'promoter_start']=gene['end']\n",
    "        gene_df.at[index,'promoter_end']=gene['end']+2000"
   ]
  },
  {
   "cell_type": "code",
   "execution_count": 21,
   "metadata": {},
   "outputs": [],
   "source": [
    "gene_df['promoter_start']=gene_df['promoter_start'].astype(int)\n",
    "gene_df['promoter_end']=gene_df['promoter_end'].astype(int)"
   ]
  },
  {
   "cell_type": "code",
   "execution_count": 22,
   "metadata": {},
   "outputs": [],
   "source": [
    "promoter_df = gene_df.drop(['start','end'],axis=1)"
   ]
  },
  {
   "cell_type": "code",
   "execution_count": 23,
   "metadata": {},
   "outputs": [
    {
     "data": {
      "text/html": [
       "<div>\n",
       "<style scoped>\n",
       "    .dataframe tbody tr th:only-of-type {\n",
       "        vertical-align: middle;\n",
       "    }\n",
       "\n",
       "    .dataframe tbody tr th {\n",
       "        vertical-align: top;\n",
       "    }\n",
       "\n",
       "    .dataframe thead th {\n",
       "        text-align: right;\n",
       "    }\n",
       "</style>\n",
       "<table border=\"1\" class=\"dataframe\">\n",
       "  <thead>\n",
       "    <tr style=\"text-align: right;\">\n",
       "      <th></th>\n",
       "      <th>gene</th>\n",
       "      <th>str</th>\n",
       "      <th>chr</th>\n",
       "      <th>promoter_start</th>\n",
       "      <th>promoter_end</th>\n",
       "    </tr>\n",
       "  </thead>\n",
       "  <tbody>\n",
       "    <tr>\n",
       "      <th>0</th>\n",
       "      <td>ND1</td>\n",
       "      <td>1</td>\n",
       "      <td>chrM</td>\n",
       "      <td>2049</td>\n",
       "      <td>4049</td>\n",
       "    </tr>\n",
       "    <tr>\n",
       "      <th>1</th>\n",
       "      <td>MT-ND2</td>\n",
       "      <td>1</td>\n",
       "      <td>chrM</td>\n",
       "      <td>3240</td>\n",
       "      <td>5240</td>\n",
       "    </tr>\n",
       "    <tr>\n",
       "      <th>2</th>\n",
       "      <td>MT-CO1</td>\n",
       "      <td>1</td>\n",
       "      <td>chrM</td>\n",
       "      <td>4644</td>\n",
       "      <td>6644</td>\n",
       "    </tr>\n",
       "    <tr>\n",
       "      <th>3</th>\n",
       "      <td>COII</td>\n",
       "      <td>1</td>\n",
       "      <td>chrM</td>\n",
       "      <td>6330</td>\n",
       "      <td>8330</td>\n",
       "    </tr>\n",
       "    <tr>\n",
       "      <th>4</th>\n",
       "      <td>ATP8</td>\n",
       "      <td>1</td>\n",
       "      <td>chrM</td>\n",
       "      <td>7084</td>\n",
       "      <td>9084</td>\n",
       "    </tr>\n",
       "    <tr>\n",
       "      <th>...</th>\n",
       "      <td>...</td>\n",
       "      <td>...</td>\n",
       "      <td>...</td>\n",
       "      <td>...</td>\n",
       "      <td>...</td>\n",
       "    </tr>\n",
       "    <tr>\n",
       "      <th>16773</th>\n",
       "      <td>ALKBH3</td>\n",
       "      <td>1</td>\n",
       "      <td>chr5</td>\n",
       "      <td>21882896</td>\n",
       "      <td>21884896</td>\n",
       "    </tr>\n",
       "    <tr>\n",
       "      <th>16774</th>\n",
       "      <td>NaN</td>\n",
       "      <td>1</td>\n",
       "      <td>chr4</td>\n",
       "      <td>11331697</td>\n",
       "      <td>11333697</td>\n",
       "    </tr>\n",
       "    <tr>\n",
       "      <th>16775</th>\n",
       "      <td>NHLRC4</td>\n",
       "      <td>1</td>\n",
       "      <td>chr14</td>\n",
       "      <td>13894397</td>\n",
       "      <td>13896397</td>\n",
       "    </tr>\n",
       "    <tr>\n",
       "      <th>16776</th>\n",
       "      <td>GPC1</td>\n",
       "      <td>-1</td>\n",
       "      <td>chr9</td>\n",
       "      <td>3029975</td>\n",
       "      <td>3031975</td>\n",
       "    </tr>\n",
       "    <tr>\n",
       "      <th>16777</th>\n",
       "      <td>NaN</td>\n",
       "      <td>1</td>\n",
       "      <td>chr28</td>\n",
       "      <td>1261416</td>\n",
       "      <td>1263416</td>\n",
       "    </tr>\n",
       "  </tbody>\n",
       "</table>\n",
       "<p>16568 rows × 5 columns</p>\n",
       "</div>"
      ],
      "text/plain": [
       "         gene  str    chr  promoter_start  promoter_end\n",
       "0         ND1    1   chrM            2049          4049\n",
       "1      MT-ND2    1   chrM            3240          5240\n",
       "2      MT-CO1    1   chrM            4644          6644\n",
       "3        COII    1   chrM            6330          8330\n",
       "4        ATP8    1   chrM            7084          9084\n",
       "...       ...  ...    ...             ...           ...\n",
       "16773  ALKBH3    1   chr5        21882896      21884896\n",
       "16774     NaN    1   chr4        11331697      11333697\n",
       "16775  NHLRC4    1  chr14        13894397      13896397\n",
       "16776    GPC1   -1   chr9         3029975       3031975\n",
       "16777     NaN    1  chr28         1261416       1263416\n",
       "\n",
       "[16568 rows x 5 columns]"
      ]
     },
     "execution_count": 23,
     "metadata": {},
     "output_type": "execute_result"
    }
   ],
   "source": [
    "promoter_df"
   ]
  },
  {
   "cell_type": "code",
   "execution_count": 24,
   "metadata": {},
   "outputs": [],
   "source": [
    "promoter_df.to_csv('../results/Ensembl105_chicken/promoter_position.tsv',sep='\\t')"
   ]
  },
  {
   "cell_type": "markdown",
   "metadata": {},
   "source": [
    "# Match coordinates to celltype-specific genes"
   ]
  },
  {
   "cell_type": "code",
   "execution_count": 25,
   "metadata": {},
   "outputs": [],
   "source": [
    "# all protein-coding genes' promoter coordinates\n",
    "all_df=promoter_df.drop(['gene','str'],axis=1)"
   ]
  },
  {
   "cell_type": "code",
   "execution_count": 26,
   "metadata": {},
   "outputs": [],
   "source": [
    "promoter_df=promoter_df.drop(['str'],axis=1)"
   ]
  },
  {
   "cell_type": "code",
   "execution_count": 27,
   "metadata": {},
   "outputs": [],
   "source": [
    "celltype_list=['neuron','endothelia','glia','astrocyte','microglia','oligodendrocyte']"
   ]
  },
  {
   "cell_type": "code",
   "execution_count": 28,
   "metadata": {},
   "outputs": [],
   "source": [
    "coord_dict={}\n",
    "for celltype in celltype_list:\n",
    "    df=pd.read_csv('../results/chicken.celltype-specific_genes/protein-coding_w_dNdS/'+celltype+'.list.txt',names=['gene'])\n",
    "    coord_dict[celltype]=df"
   ]
  },
  {
   "cell_type": "code",
   "execution_count": 30,
   "metadata": {},
   "outputs": [],
   "source": [
    "for celltype in celltype_list:\n",
    "    coord_dict[celltype]=pd.merge(coord_dict[celltype],promoter_df,left_on='gene',right_on='gene',how='inner')"
   ]
  },
  {
   "cell_type": "code",
   "execution_count": 31,
   "metadata": {},
   "outputs": [],
   "source": [
    "path='../results/chicken.celltype-specific_genes/protein-coding_w_dNdS/promoter.'"
   ]
  },
  {
   "cell_type": "code",
   "execution_count": 37,
   "metadata": {},
   "outputs": [],
   "source": [
    "for celltype in celltype_list:\n",
    "    coord_dict[celltype].iloc[0:,1:].to_csv(path+celltype+'.tsv',sep='\\t',index=False, header=False)"
   ]
  },
  {
   "cell_type": "code",
   "execution_count": 36,
   "metadata": {},
   "outputs": [
    {
     "name": "stdout",
     "output_type": "stream",
     "text": [
      "neuron\n",
      "(919, 4)\n",
      "endothelia\n",
      "(625, 4)\n",
      "glia\n",
      "(759, 4)\n",
      "astrocyte\n",
      "(597, 4)\n",
      "microglia\n",
      "(612, 4)\n",
      "oligodendrocyte\n",
      "(386, 4)\n"
     ]
    }
   ],
   "source": [
    "for celltype in celltype_list:\n",
    "    print(celltype)\n",
    "    print(coord_dict[celltype].shape)"
   ]
  },
  {
   "cell_type": "markdown",
   "metadata": {},
   "source": [
    "All gene list has less than 1000 lines. No need to parse. Directly feed to UCSC genome browser. "
   ]
  },
  {
   "cell_type": "code",
   "execution_count": null,
   "metadata": {},
   "outputs": [],
   "source": []
  }
 ],
 "metadata": {
  "kernelspec": {
   "display_name": "Python 3",
   "language": "python",
   "name": "python3"
  },
  "language_info": {
   "codemirror_mode": {
    "name": "ipython",
    "version": 3
   },
   "file_extension": ".py",
   "mimetype": "text/x-python",
   "name": "python",
   "nbconvert_exporter": "python",
   "pygments_lexer": "ipython3",
   "version": "3.8.11"
  }
 },
 "nbformat": 4,
 "nbformat_minor": 4
}
