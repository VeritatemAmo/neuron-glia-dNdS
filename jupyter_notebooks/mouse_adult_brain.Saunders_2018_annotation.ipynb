{
 "cells": [
  {
   "cell_type": "markdown",
   "id": "baaa5583-d030-4771-a548-67f863f53ce0",
   "metadata": {},
   "source": [
    "This script (mouse_adult_brain.Saunder_2018_annotation.ipynb) takes subcluster_stats.csv file (emailed from Dr. Saunders) and reformat subcluster name to the same format in the annotation file, therefore mapping the number of cells to metacell names. \n",
    "\n",
    "May 17th, 2022: use enhanced_subcluster_stats.csv instead of subcluster_stats.csv. The original file for that row was missing cell number in the subcluster. \n",
    "\n",
    "May 19th, 2022: adding master_class column, seperating clusters into Neuron, Glia, and Vasculature; the one subcluster that is mitotic is kept. This reduces executions in the mouse_adult_brain.Saunders_2018_Cell_Type.ipynb script.  "
   ]
  },
  {
   "cell_type": "code",
   "execution_count": 1,
   "id": "79df8905-3c4c-4566-b144-22f1473bf124",
   "metadata": {},
   "outputs": [],
   "source": [
    "import numpy as np\n",
    "import pandas as pd"
   ]
  },
  {
   "cell_type": "code",
   "execution_count": 2,
   "id": "100da183-c0a4-4b5e-9175-8aaa22a1431b",
   "metadata": {},
   "outputs": [],
   "source": [
    "tissue_dict={\n",
    "    'P60Cerebellum_ALT':'CB',\n",
    "    'P60Cortex_noRep5_FRONTALonly':'FC',\n",
    "    'P60Cortex_noRep5_POSTERIORonly':'PC',\n",
    "    'P60EntoPeduncular':'ENT',\n",
    "    'P60GlobusPallidus':'GP',\n",
    "    'P60Hippocampus':'HC',\n",
    "    'P60Striatum':'STR',\n",
    "    'P60SubstantiaNigra':'SN',\n",
    "    'P60Thalamus':'TH'\n",
    "}\n",
    "\n",
    "class_marker_dict={\n",
    "     'Gad1Gad2': 'GABA',\n",
    "     'Slc17a7': 'Glutamate',\n",
    "     'Slc17a6': 'Glutamate',\n",
    "     'Slc17a7-Slc17a6': 'Glutamate',\n",
    "     'Th': 'Dopamine',\n",
    "     'Gad1Gad2_Htr3a': 'GABA', # Htr3a+ GABAergic neurons\n",
    "     'Slc17a7Slc17a6': 'Glutamate',\n",
    "     'Gad1Gad2_Sst': 'GABA', # OLM neurons; SST is an OLM marker\n",
    "     'Gad1Gad2-Th': 'Dopamine', # MGE-derived cortical interneurons, Striatum Th+ SPN\n",
    "     'Gad1Gad2_Id2': 'GABA',\n",
    "     'Gad1Gad2Slc17a8_Htr3a': 'Mix',\n",
    "     'Gad1Gad2_Pvalb': 'GABA',\n",
    "     'Slc17a7-Slc17a8': 'Glutamate',\n",
    "     'Gad1Gad2-Chat': 'Acetylcholine',\n",
    "     'Chat-Gad1Gad2-Slc17a8': 'Acetylcholine',\n",
    "     'Gad1Gad2-Slc17a6': 'Mix', # e.g., Entopeduncular Nucleus (Ent), GABA/Glu co-releasing\n",
    "     'Slc17a6-Slc17a7': 'Glutamate',\n",
    "     'Gad1Gad2_Cplx3': 'GABA',\n",
    "     'Gad1Gad2-Slc17a8': 'Mix',\n",
    "     'Slc17a6-Slc17a7-Slc17a8': 'Glutamate',\n",
    "     'Gad1Gad2Chat_Htr3a': 'Acetylcholine',\n",
    "     'Gad1Gad2Slc17a8_Sst': 'Mix', # OLM neurons with co-releasing? \n",
    "     'Gad1Gad2-Chat-Slc17a8': 'Acetylcholine',\n",
    "     'Slc17a6-Gad2-Th': 'Dopamine',\n",
    "     'Th-Slc17a6': 'Dopamine',\n",
    "     'Slc17a6-Gad1Gad2': 'Mix'\n",
    "}\n",
    "\n",
    "exc_inh_dict={\n",
    "     'Gad1Gad2': 'inh',\n",
    "     'Slc17a7': 'exc',\n",
    "     'Slc17a6': 'exc',\n",
    "     'Slc17a7-Slc17a6': 'exc',\n",
    "     'Th': 'both',\n",
    "     'Gad1Gad2_Htr3a': 'inh',\n",
    "     'Slc17a7Slc17a6': 'exc',\n",
    "     'Gad1Gad2_Sst': 'inh', # GABAergic OLM neurons \n",
    "     'Gad1Gad2-Th': 'both',\n",
    "     'Gad1Gad2_Id2': 'inh',\n",
    "     'Gad1Gad2Slc17a8_Htr3a': 'both',\n",
    "     'Gad1Gad2_Pvalb': 'inh',\n",
    "     'Slc17a7-Slc17a8': 'exc',\n",
    "     'Gad1Gad2-Chat': 'both',\n",
    "     'Chat-Gad1Gad2-Slc17a8': 'both',\n",
    "     'Gad1Gad2-Slc17a6': 'both',\n",
    "     'Slc17a6-Slc17a7': 'exc',\n",
    "     'Gad1Gad2_Cplx3': 'inh',\n",
    "     'Gad1Gad2-Slc17a8': 'both',\n",
    "     'Slc17a6-Slc17a7-Slc17a8': 'exc',\n",
    "     'Gad1Gad2Chat_Htr3a': 'both',\n",
    "     'Gad1Gad2Slc17a8_Sst': 'both', # co-releasing OLM? \n",
    "     'Gad1Gad2-Chat-Slc17a8': 'both',\n",
    "     'Slc17a6-Gad2-Th': 'both',\n",
    "     'Th-Slc17a6': 'both',\n",
    "     'Slc17a6-Gad1Gad2': 'both'\n",
    "}\n",
    "\n",
    "class_dict = {\n",
    "    'NEURON':'Neuron', \n",
    "    'ENDOTHELIAL_STALK':'Vasculature', \n",
    "    'ENDOTHELIAL_TIP':'Vasculature', \n",
    "    'MURAL':'Vasculature',\n",
    "    'MICROGLIA':'Glia',\n",
    "    'OLIGODENDROCYTE':'Glia',\n",
    "    'POLYDENDROCYTE':'Glia', \n",
    "    'ASTROCYTE':'Glia',\n",
    "    'CHOROID_PLEXUS':'Vasculature', \n",
    "    'MACROPHAGE':'Glia', \n",
    "    'MITOTIC':'Mitotic', \n",
    "    'EPENDYMAL':'Vasculature',\n",
    "    'NEUROGENESIS':'Neuron'\n",
    "}"
   ]
  },
  {
   "cell_type": "code",
   "execution_count": 3,
   "id": "b1d707c3-0801-4305-bdb5-a48f7e7b4332",
   "metadata": {},
   "outputs": [],
   "source": [
    "stats_df = pd.read_csv('../data/single-cell/saunders_2018/enhanced_subcluster_stats.csv')"
   ]
  },
  {
   "cell_type": "code",
   "execution_count": 4,
   "id": "23f4bed5-71b9-4019-a63f-3f0730c7c78a",
   "metadata": {},
   "outputs": [],
   "source": [
    "stats_df.drop(stats_df.columns[0],axis=1,inplace=True)"
   ]
  },
  {
   "cell_type": "code",
   "execution_count": 5,
   "id": "574c43a3-de11-4076-b27a-0554596a4c57",
   "metadata": {},
   "outputs": [],
   "source": [
    "stats_df['tissue_abbrev']=stats_df['tissue'].apply(lambda x: tissue_dict.get(x))"
   ]
  },
  {
   "cell_type": "code",
   "execution_count": 6,
   "id": "6220e0d4-4e05-4073-8ae2-d8869702c2df",
   "metadata": {},
   "outputs": [],
   "source": [
    "stats_df['tissue_subcluster']=stats_df['tissue_abbrev']+'_'+stats_df['subcluster']"
   ]
  },
  {
   "cell_type": "code",
   "execution_count": 7,
   "id": "078d181e-9429-42d7-aa5b-16f7bec98b4f",
   "metadata": {},
   "outputs": [
    {
     "name": "stderr",
     "output_type": "stream",
     "text": [
      "/opt/anaconda3/lib/python3.8/site-packages/openpyxl/worksheet/_reader.py:312: UserWarning: Unknown extension is not supported and will be removed\n",
      "  warn(msg)\n"
     ]
    }
   ],
   "source": [
    "annotation_df=pd.read_excel('../data/single-cell/saunders_2018/annotation.BrainCellAtlas_Saunders_version_2018.04.01.xlsx')"
   ]
  },
  {
   "cell_type": "code",
   "execution_count": 9,
   "id": "2866fabc-b819-43fc-8c60-5ea783cca985",
   "metadata": {},
   "outputs": [],
   "source": [
    "annotation_df['neurotransmitter']=annotation_df['class_marker'].apply(lambda x: class_marker_dict.get(x, 'Non-neuronal'))\n",
    "annotation_df['exc_inh']=annotation_df['class_marker'].apply(lambda x: exc_inh_dict.get(x, 'Non-neuronal'))\n",
    "annotation_df['master_class']=annotation_df['class'].map(class_dict)"
   ]
  },
  {
   "cell_type": "code",
   "execution_count": 10,
   "id": "9a6387f9-4892-42f6-a87d-c069947efebe",
   "metadata": {},
   "outputs": [],
   "source": [
    "annotation_df.drop(columns=['tissue','subcluster','full_name'],inplace=True)"
   ]
  },
  {
   "cell_type": "code",
   "execution_count": 11,
   "id": "7b5e5a17-f336-4640-be4c-520efa83b745",
   "metadata": {},
   "outputs": [],
   "source": [
    "stats_df.drop(columns=['cluster','subcluster'],inplace=True)"
   ]
  },
  {
   "cell_type": "code",
   "execution_count": 12,
   "id": "b32f950e-dff3-458a-988f-8047f6d9a113",
   "metadata": {},
   "outputs": [],
   "source": [
    "# Check whether the file Dr. Saunders sent me matches the annotation file from DropViz\n",
    "# annotation_df.merge(stats_df,on='tissue_subcluster').to_excel('../results/single-cell/saunders_2018/check_match.xlsx')\n",
    "# They Match! \n",
    "# Merge new dataframe\n",
    "merge_df=pd.merge(left=stats_df,right=annotation_df,left_on='tissue_subcluster',right_on='tissue_subcluster',how='inner')"
   ]
  },
  {
   "cell_type": "code",
   "execution_count": 13,
   "id": "8d990c7f-35a1-475e-b827-f0ed17c1f71f",
   "metadata": {},
   "outputs": [],
   "source": [
    "merge_df.to_excel('../results/single-cell/saunders_2018/enhanced_annotation.xlsx',index=False)"
   ]
  }
 ],
 "metadata": {
  "kernelspec": {
   "display_name": "Python 3 (ipykernel)",
   "language": "python",
   "name": "python3"
  },
  "language_info": {
   "codemirror_mode": {
    "name": "ipython",
    "version": 3
   },
   "file_extension": ".py",
   "mimetype": "text/x-python",
   "name": "python",
   "nbconvert_exporter": "python",
   "pygments_lexer": "ipython3",
   "version": "3.8.11"
  }
 },
 "nbformat": 4,
 "nbformat_minor": 5
}
