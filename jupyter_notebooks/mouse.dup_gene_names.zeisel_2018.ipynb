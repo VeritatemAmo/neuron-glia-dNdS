{
 "cells": [
  {
   "cell_type": "markdown",
   "id": "0357c464-4dee-42a5-9840-f87c3f38a047",
   "metadata": {},
   "source": [
    "This script find the genes with multiple accession entries in the L5.all.agg.loom file. Created Sep 9th, 2022 by Linhe Xu."
   ]
  },
  {
   "cell_type": "code",
   "execution_count": 1,
   "id": "49f2cb12-2e87-4ed3-a044-4d919cea346e",
   "metadata": {},
   "outputs": [],
   "source": [
    "import numpy as np\n",
    "import pandas as pd\n",
    "import loompy"
   ]
  },
  {
   "cell_type": "code",
   "execution_count": 2,
   "id": "2adbee0d-6383-4238-abaa-2aa28296e67c",
   "metadata": {},
   "outputs": [],
   "source": [
    "agg = loompy.connect('../data/single-cell/zeisel_2018/l5_all.agg.loom')"
   ]
  },
  {
   "cell_type": "markdown",
   "id": "ad04497d-4dfc-4c38-9b57-9cdee303c7e8",
   "metadata": {
    "jp-MarkdownHeadingCollapsed": true,
    "tags": []
   },
   "source": [
    "### Some gene name has multiple accession (rows) "
   ]
  },
  {
   "cell_type": "code",
   "execution_count": 3,
   "id": "636928d3-3656-421c-af5d-b42643a832a3",
   "metadata": {},
   "outputs": [
    {
     "data": {
      "text/plain": [
       "(27998, 265)"
      ]
     },
     "execution_count": 3,
     "metadata": {},
     "output_type": "execute_result"
    }
   ],
   "source": [
    "agg.shape"
   ]
  },
  {
   "cell_type": "code",
   "execution_count": 4,
   "id": "54eaef41-0e33-42c2-9e84-a2f66940dd90",
   "metadata": {},
   "outputs": [
    {
     "data": {
      "text/plain": [
       "27998"
      ]
     },
     "execution_count": 4,
     "metadata": {},
     "output_type": "execute_result"
    }
   ],
   "source": [
    "len(np.unique(agg.ra['Accession'])) # number of Accession"
   ]
  },
  {
   "cell_type": "code",
   "execution_count": 5,
   "id": "425edca1-8325-4b25-9525-35b2dc8549aa",
   "metadata": {},
   "outputs": [
    {
     "data": {
      "text/plain": [
       "27933"
      ]
     },
     "execution_count": 5,
     "metadata": {},
     "output_type": "execute_result"
    }
   ],
   "source": [
    "len(np.unique(agg.ra['Gene'])) # number of unique gene names"
   ]
  },
  {
   "cell_type": "markdown",
   "id": "f3105ee2-d2be-4d4a-b7eb-fe7dec392b83",
   "metadata": {},
   "source": [
    "This means there are 27998-27933=65 rows in the agg.loom file with at least one duplicated value in the 'Gene' key attrribute. "
   ]
  },
  {
   "cell_type": "code",
   "execution_count": 6,
   "id": "00738ed8-7167-444b-a2ed-ec783b47d4c6",
   "metadata": {},
   "outputs": [],
   "source": [
    "all_gene_list = agg.ra['Gene'].tolist()"
   ]
  },
  {
   "cell_type": "code",
   "execution_count": 7,
   "id": "91f59d6a-1583-4a55-9e9c-03d29d31e36b",
   "metadata": {},
   "outputs": [],
   "source": [
    "uniq_gene_list = np.unique(agg.ra['Gene']).tolist()"
   ]
  },
  {
   "cell_type": "code",
   "execution_count": 8,
   "id": "14b99ac6-876e-4e8c-b05d-39109347425b",
   "metadata": {},
   "outputs": [],
   "source": [
    "dup_set=set()\n",
    "for gene in all_gene_list:\n",
    "    if all_gene_list.count(gene) > 1:\n",
    "        dup_set.add(gene)"
   ]
  },
  {
   "cell_type": "code",
   "execution_count": 9,
   "id": "95ec47eb-3de3-4eb2-8b6d-44b34d5e1ee1",
   "metadata": {},
   "outputs": [
    {
     "data": {
      "text/plain": [
       "56"
      ]
     },
     "execution_count": 9,
     "metadata": {},
     "output_type": "execute_result"
    }
   ],
   "source": [
    "len(dup_set) # the 65 duplicated entries come from 56 gene names"
   ]
  },
  {
   "cell_type": "code",
   "execution_count": 10,
   "id": "83806309-aaec-4559-a7ad-80035223a667",
   "metadata": {},
   "outputs": [],
   "source": [
    "dup_list=[]\n",
    "for gene in all_gene_list:\n",
    "    if all_gene_list.count(gene) > 1:\n",
    "        dup_list.append(gene)"
   ]
  },
  {
   "cell_type": "code",
   "execution_count": 11,
   "id": "82e8f18b-897e-4037-97c7-60479351818c",
   "metadata": {},
   "outputs": [
    {
     "data": {
      "text/plain": [
       "121"
      ]
     },
     "execution_count": 11,
     "metadata": {},
     "output_type": "execute_result"
    }
   ],
   "source": [
    "len(dup_list)"
   ]
  },
  {
   "cell_type": "code",
   "execution_count": 12,
   "id": "efce4ad8-4364-49eb-ac55-f8ad798e06e5",
   "metadata": {},
   "outputs": [],
   "source": [
    "dup_dict={}\n",
    "for gene in dup_set:\n",
    "    count=all_gene_list.count(gene)\n",
    "    dup_dict.update({gene:count})"
   ]
  },
  {
   "cell_type": "code",
   "execution_count": 13,
   "id": "69dfbabd-7767-4882-87a2-4139dd260901",
   "metadata": {},
   "outputs": [
    {
     "data": {
      "text/plain": [
       "121"
      ]
     },
     "execution_count": 13,
     "metadata": {},
     "output_type": "execute_result"
    }
   ],
   "source": [
    "sum(dup_dict.values())"
   ]
  },
  {
   "cell_type": "code",
   "execution_count": 14,
   "id": "5ce4892d-536b-4c91-ae3d-1f0bd05f2c7b",
   "metadata": {},
   "outputs": [
    {
     "data": {
      "text/plain": [
       "7"
      ]
     },
     "execution_count": 14,
     "metadata": {},
     "output_type": "execute_result"
    }
   ],
   "source": [
    "max(dup_dict.values())"
   ]
  },
  {
   "cell_type": "markdown",
   "id": "ac30452e-0fcd-4daf-be2d-28de5416d18d",
   "metadata": {},
   "source": [
    "This means there are 56 gene names with more than 1 entry; each of these gene name has 2 to 7 row corresponding to them. "
   ]
  },
  {
   "cell_type": "code",
   "execution_count": 15,
   "id": "b384b73b-4d1e-41ed-8c68-65eb6884ef4d",
   "metadata": {},
   "outputs": [
    {
     "name": "stdout",
     "output_type": "stream",
     "text": [
      "Flg\n"
     ]
    }
   ],
   "source": [
    "# Which gene has 7 entries? \n",
    "for gene, count in dup_dict.items():\n",
    "    if count==7:\n",
    "        print(gene)"
   ]
  },
  {
   "cell_type": "code",
   "execution_count": 16,
   "id": "94a04747-359a-4cb6-a9d3-f09de3bb0d0f",
   "metadata": {},
   "outputs": [
    {
     "data": {
      "text/plain": [
       "array(['ENSMUSG00000102829', 'ENSMUSG00000103750', 'ENSMUSG00000103777',\n",
       "       'ENSMUSG00000103335', 'ENSMUSG00000102439', 'ENSMUSG00000102395',\n",
       "       'ENSMUSG00000102724'], dtype=object)"
      ]
     },
     "execution_count": 16,
     "metadata": {},
     "output_type": "execute_result"
    }
   ],
   "source": [
    "agg.ra.Accession[agg.ra.Gene=='Flg']"
   ]
  },
  {
   "cell_type": "markdown",
   "id": "7faee79d-4b93-4b5e-b8e4-fa18f10fcf54",
   "metadata": {},
   "source": [
    "Only one accession (ENSMUSG00000102439) is what Ensembl assigned to the gene Flg in the mouse reference genome GRCm39 (accessed Sep 9th, 2022, Ensembl 107) "
   ]
  },
  {
   "cell_type": "markdown",
   "id": "5906f396-9475-43f9-86b9-29a15b91527e",
   "metadata": {},
   "source": [
    "### Generate a text file with duplicated genes"
   ]
  },
  {
   "cell_type": "markdown",
   "id": "41301b60-cb7f-45bc-8d74-bd288005544d",
   "metadata": {},
   "source": [
    "This list of gene name is to be used to get the \"true\" Ensembl IDs from Ensembl 107."
   ]
  },
  {
   "cell_type": "code",
   "execution_count": 19,
   "id": "353e4806-462f-4955-af51-65c2d7836949",
   "metadata": {},
   "outputs": [],
   "source": [
    "with open('../results/single-cell/zeisel_2018/duplicated_gene_names.txt', 'w') as f:\n",
    "    for item in dup_set:\n",
    "        f.write(f\"{item}\\n\")"
   ]
  }
 ],
 "metadata": {
  "kernelspec": {
   "display_name": "Python 3 (ipykernel)",
   "language": "python",
   "name": "python3"
  },
  "language_info": {
   "codemirror_mode": {
    "name": "ipython",
    "version": 3
   },
   "file_extension": ".py",
   "mimetype": "text/x-python",
   "name": "python",
   "nbconvert_exporter": "python",
   "pygments_lexer": "ipython3",
   "version": "3.8.13"
  }
 },
 "nbformat": 4,
 "nbformat_minor": 5
}
