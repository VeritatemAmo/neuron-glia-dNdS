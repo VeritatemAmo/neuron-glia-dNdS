{
 "cells": [
  {
   "cell_type": "code",
   "execution_count": 1,
   "metadata": {},
   "outputs": [],
   "source": [
    "import numpy as np\n",
    "import pandas as pd\n",
    "import glob"
   ]
  },
  {
   "cell_type": "code",
   "execution_count": 2,
   "metadata": {},
   "outputs": [],
   "source": [
    "from IPython.core.interactiveshell import InteractiveShell\n",
    "InteractiveShell.ast_node_interactivity = \"all\""
   ]
  },
  {
   "cell_type": "code",
   "execution_count": 3,
   "metadata": {},
   "outputs": [],
   "source": [
    "pd.set_option('display.max_rows', 10)"
   ]
  },
  {
   "cell_type": "code",
   "execution_count": 4,
   "metadata": {},
   "outputs": [],
   "source": [
    "# Import Barres celltype enrichment raw data\n",
    "raw_df = pd.read_excel('../data/barreslab_rnaseq.xlsx',sheet_name='Raw Data',index_col='Gene symbol')"
   ]
  },
  {
   "cell_type": "code",
   "execution_count": 6,
   "metadata": {},
   "outputs": [],
   "source": [
    "# Define each gene's expression level in oligodendrocyte as the average of three cell types\n",
    "raw_df['Oligodendrocyte']=raw_df.loc[:,'Oligodendrocyte Precursor Cell':'Myelinating Oligodendrocytes'].mean(axis=1)"
   ]
  },
  {
   "cell_type": "code",
   "execution_count": 7,
   "metadata": {},
   "outputs": [],
   "source": [
    "# Clean up table\n",
    "raw_df.drop(['Description','Oligodendrocyte Precursor Cell','Newly Formed Oligodendrocyte','Myelinating Oligodendrocytes'],axis=1,inplace=True)"
   ]
  },
  {
   "cell_type": "code",
   "execution_count": 8,
   "metadata": {},
   "outputs": [
    {
     "data": {
      "text/html": [
       "<div>\n",
       "<style scoped>\n",
       "    .dataframe tbody tr th:only-of-type {\n",
       "        vertical-align: middle;\n",
       "    }\n",
       "\n",
       "    .dataframe tbody tr th {\n",
       "        vertical-align: top;\n",
       "    }\n",
       "\n",
       "    .dataframe thead th {\n",
       "        text-align: right;\n",
       "    }\n",
       "</style>\n",
       "<table border=\"1\" class=\"dataframe\">\n",
       "  <thead>\n",
       "    <tr style=\"text-align: right;\">\n",
       "      <th></th>\n",
       "      <th>Astrocytes</th>\n",
       "      <th>Neuron</th>\n",
       "      <th>Microglia</th>\n",
       "      <th>Endothelial Cells</th>\n",
       "      <th>Oligodendrocyte</th>\n",
       "    </tr>\n",
       "    <tr>\n",
       "      <th>Gene symbol</th>\n",
       "      <th></th>\n",
       "      <th></th>\n",
       "      <th></th>\n",
       "      <th></th>\n",
       "      <th></th>\n",
       "    </tr>\n",
       "  </thead>\n",
       "  <tbody>\n",
       "    <tr>\n",
       "      <td>0610005C13Rik</td>\n",
       "      <td>0.150958</td>\n",
       "      <td>0.100000</td>\n",
       "      <td>0.100000</td>\n",
       "      <td>0.100000</td>\n",
       "      <td>0.100000</td>\n",
       "    </tr>\n",
       "    <tr>\n",
       "      <td>0610007C21Rik</td>\n",
       "      <td>44.891260</td>\n",
       "      <td>34.185493</td>\n",
       "      <td>89.145033</td>\n",
       "      <td>63.561109</td>\n",
       "      <td>61.071109</td>\n",
       "    </tr>\n",
       "    <tr>\n",
       "      <td>0610007L01Rik</td>\n",
       "      <td>11.015039</td>\n",
       "      <td>12.028727</td>\n",
       "      <td>18.462419</td>\n",
       "      <td>13.521373</td>\n",
       "      <td>11.161263</td>\n",
       "    </tr>\n",
       "    <tr>\n",
       "      <td>0610007P08Rik</td>\n",
       "      <td>7.144110</td>\n",
       "      <td>2.020408</td>\n",
       "      <td>0.446900</td>\n",
       "      <td>4.693264</td>\n",
       "      <td>4.455001</td>\n",
       "    </tr>\n",
       "    <tr>\n",
       "      <td>0610007P14Rik</td>\n",
       "      <td>48.935666</td>\n",
       "      <td>24.370482</td>\n",
       "      <td>10.411304</td>\n",
       "      <td>10.569456</td>\n",
       "      <td>62.335636</td>\n",
       "    </tr>\n",
       "    <tr>\n",
       "      <td>...</td>\n",
       "      <td>...</td>\n",
       "      <td>...</td>\n",
       "      <td>...</td>\n",
       "      <td>...</td>\n",
       "      <td>...</td>\n",
       "    </tr>\n",
       "    <tr>\n",
       "      <td>Zyg11a</td>\n",
       "      <td>0.100000</td>\n",
       "      <td>0.100000</td>\n",
       "      <td>0.100000</td>\n",
       "      <td>0.100000</td>\n",
       "      <td>0.100000</td>\n",
       "    </tr>\n",
       "    <tr>\n",
       "      <td>Zyg11b</td>\n",
       "      <td>7.196140</td>\n",
       "      <td>14.748427</td>\n",
       "      <td>2.513958</td>\n",
       "      <td>7.883384</td>\n",
       "      <td>5.880200</td>\n",
       "    </tr>\n",
       "    <tr>\n",
       "      <td>Zyx</td>\n",
       "      <td>12.443373</td>\n",
       "      <td>12.732356</td>\n",
       "      <td>74.185894</td>\n",
       "      <td>35.416643</td>\n",
       "      <td>17.037024</td>\n",
       "    </tr>\n",
       "    <tr>\n",
       "      <td>Zzef1</td>\n",
       "      <td>9.346480</td>\n",
       "      <td>4.842996</td>\n",
       "      <td>2.433903</td>\n",
       "      <td>4.443834</td>\n",
       "      <td>4.460314</td>\n",
       "    </tr>\n",
       "    <tr>\n",
       "      <td>Zzz3</td>\n",
       "      <td>7.886449</td>\n",
       "      <td>5.624916</td>\n",
       "      <td>1.621927</td>\n",
       "      <td>7.543416</td>\n",
       "      <td>6.111705</td>\n",
       "    </tr>\n",
       "  </tbody>\n",
       "</table>\n",
       "<p>22458 rows × 5 columns</p>\n",
       "</div>"
      ],
      "text/plain": [
       "               Astrocytes     Neuron  Microglia  Endothelial Cells  \\\n",
       "Gene symbol                                                          \n",
       "0610005C13Rik    0.150958   0.100000   0.100000           0.100000   \n",
       "0610007C21Rik   44.891260  34.185493  89.145033          63.561109   \n",
       "0610007L01Rik   11.015039  12.028727  18.462419          13.521373   \n",
       "0610007P08Rik    7.144110   2.020408   0.446900           4.693264   \n",
       "0610007P14Rik   48.935666  24.370482  10.411304          10.569456   \n",
       "...                   ...        ...        ...                ...   \n",
       "Zyg11a           0.100000   0.100000   0.100000           0.100000   \n",
       "Zyg11b           7.196140  14.748427   2.513958           7.883384   \n",
       "Zyx             12.443373  12.732356  74.185894          35.416643   \n",
       "Zzef1            9.346480   4.842996   2.433903           4.443834   \n",
       "Zzz3             7.886449   5.624916   1.621927           7.543416   \n",
       "\n",
       "               Oligodendrocyte  \n",
       "Gene symbol                     \n",
       "0610005C13Rik         0.100000  \n",
       "0610007C21Rik        61.071109  \n",
       "0610007L01Rik        11.161263  \n",
       "0610007P08Rik         4.455001  \n",
       "0610007P14Rik        62.335636  \n",
       "...                        ...  \n",
       "Zyg11a                0.100000  \n",
       "Zyg11b                5.880200  \n",
       "Zyx                  17.037024  \n",
       "Zzef1                 4.460314  \n",
       "Zzz3                  6.111705  \n",
       "\n",
       "[22458 rows x 5 columns]"
      ]
     },
     "execution_count": 8,
     "metadata": {},
     "output_type": "execute_result"
    }
   ],
   "source": [
    "raw_df"
   ]
  },
  {
   "cell_type": "markdown",
   "metadata": {},
   "source": [
    "# Gene Ontology"
   ]
  },
  {
   "cell_type": "code",
   "execution_count": 21,
   "metadata": {},
   "outputs": [],
   "source": [
    "# import GO of all protein-coding genes\n",
    "go_raw_df = pd.read_csv('/Users/xulinhe/OneDrive/Herculano_Lab/GO_mouse_MGI_Oct_13_2019/all_Ensembl98_protein_coding_gene.princeton_GO_mapper.tsv',usecols=['TERM','ANNOTATED_GENES'],index_col='TERM',sep='\\t')"
   ]
  },
  {
   "cell_type": "code",
   "execution_count": 22,
   "metadata": {},
   "outputs": [],
   "source": [
    "transposed_go_df = go_raw_df.ANNOTATED_GENES.str.split(',',expand=True).T"
   ]
  },
  {
   "cell_type": "code",
   "execution_count": 24,
   "metadata": {},
   "outputs": [],
   "source": [
    "go_dfs = []\n",
    "for i, column in enumerate(transposed_go_df.columns):\n",
    "    data = {'Gene':transposed_go_df[column]}\n",
    "    df = pd.DataFrame(data)\n",
    "    df = df.dropna()\n",
    "    a_list = df.Gene.values.tolist()\n",
    "    a_list = [x.strip(' ') for x in a_list]\n",
    "    a_list_data = {'Gene':a_list}\n",
    "    df = pd.DataFrame(a_list_data)\n",
    "    df.insert(1,column,True)\n",
    "    df.set_index('Gene',inplace=True)\n",
    "    go_dfs.append(df)"
   ]
  },
  {
   "cell_type": "code",
   "execution_count": 25,
   "metadata": {},
   "outputs": [],
   "source": [
    "go_terms = []\n",
    "for go_df in go_dfs:\n",
    "    go_term = go_df.columns[0]\n",
    "    go_terms.append(go_term)\n",
    "    #work_df= pd.merge(work_df, go_df, how='left', left_on='Gene symbol', right_on='Gene')\n",
    "    raw_df = pd.merge(raw_df, go_df, how='left', left_index=True, right_index=True)\n",
    "    raw_df.replace({go_term: {np.nan:False}},inplace=True)"
   ]
  },
  {
   "cell_type": "code",
   "execution_count": 27,
   "metadata": {},
   "outputs": [],
   "source": [
    "size_go_df = pd.read_csv('/Users/xulinhe/OneDrive/Herculano_Lab/Benchmark_Genes/GO-regulation_of_cell_size.txt',sep='\\t')"
   ]
  },
  {
   "cell_type": "code",
   "execution_count": 28,
   "metadata": {},
   "outputs": [],
   "source": [
    "size_go_df['regulation of cell size']=True"
   ]
  },
  {
   "cell_type": "code",
   "execution_count": 30,
   "metadata": {},
   "outputs": [],
   "source": [
    "size_go_df.drop(size_go_df.columns[1:-1],axis=1,inplace=True)\n",
    "size_go_df.drop_duplicates(inplace=True)\n",
    "#size_go_df.drop(size_go_df.columns[0:-1],axis=1,inplace=True)\n",
    "#df.drop(df.columns[[0, 4, 2]], axis = 1, inplace = True)"
   ]
  },
  {
   "cell_type": "code",
   "execution_count": 31,
   "metadata": {},
   "outputs": [],
   "source": [
    "size_go_df.reset_index(drop=True,inplace=True)"
   ]
  },
  {
   "cell_type": "code",
   "execution_count": 32,
   "metadata": {},
   "outputs": [],
   "source": [
    "size_go_df.rename(columns={'MGI Gene/Marker ID':'Gene symbol'}, inplace=True)"
   ]
  },
  {
   "cell_type": "code",
   "execution_count": 33,
   "metadata": {},
   "outputs": [],
   "source": [
    "size_go_df.set_index('Gene symbol',inplace=True)"
   ]
  },
  {
   "cell_type": "code",
   "execution_count": 34,
   "metadata": {},
   "outputs": [],
   "source": [
    "raw_df= pd.merge(raw_df, size_go_df, how='left', left_index=True, right_index=True)"
   ]
  },
  {
   "cell_type": "code",
   "execution_count": 35,
   "metadata": {},
   "outputs": [],
   "source": [
    "raw_df.replace({'regulation of cell size': {np.nan:False}},inplace=True)"
   ]
  },
  {
   "cell_type": "markdown",
   "metadata": {},
   "source": [
    "# Ensembl 98 mouse dN/dS (averaged across 92 species)"
   ]
  },
  {
   "cell_type": "code",
   "execution_count": 10,
   "metadata": {},
   "outputs": [],
   "source": [
    "# dN/dS of all protein coding genes\n",
    "dnds_df = pd.read_csv('/Users/xulinhe/OneDrive/Herculano_Lab/Zhang_et_al_2014/92species-to-mouse.ensembl98.avg_dnds.tsv',sep='\\t',index_col='Gene name')"
   ]
  },
  {
   "cell_type": "code",
   "execution_count": 40,
   "metadata": {},
   "outputs": [],
   "source": [
    "dnds_arr = dnds_df['avg_dNdS'].dropna().values"
   ]
  },
  {
   "cell_type": "code",
   "execution_count": 41,
   "metadata": {},
   "outputs": [],
   "source": [
    "raw_df = pd.merge(raw_df,dnds_df,left_index=True, right_index=True, how='inner')"
   ]
  },
  {
   "cell_type": "code",
   "execution_count": 44,
   "metadata": {},
   "outputs": [],
   "source": [
    "a_df = raw_df.loc[raw_df['Astrocytes']>4*raw_df[['Neuron','Microglia','Endothelial Cells','Oligodendrocyte']].mean(axis=1)].copy(deep=True)\n",
    "n_df = raw_df.loc[raw_df['Neuron']>4*raw_df[['Astrocytes','Microglia','Endothelial Cells','Oligodendrocyte']].mean(axis=1)].copy(deep=True)\n",
    "m_df = raw_df.loc[raw_df['Microglia']>4*raw_df[['Astrocytes','Neuron','Endothelial Cells','Oligodendrocyte']].mean(axis=1)].copy(deep=True)\n",
    "e_df = raw_df.loc[raw_df['Endothelial Cells']>4*raw_df[['Astrocytes','Microglia','Neuron','Oligodendrocyte']].mean(axis=1)].copy(deep=True)\n",
    "o_df = raw_df.loc[raw_df['Oligodendrocyte']>4*raw_df[['Astrocytes','Microglia','Endothelial Cells','Neuron']].mean(axis=1)].copy(deep=True)"
   ]
  },
  {
   "cell_type": "code",
   "execution_count": 46,
   "metadata": {},
   "outputs": [],
   "source": [
    "o_df.to_csv('/Users/xulinhe/OneDrive/Herculano_Lab/Zhang_et_al_2014/Feb_16_2020.oligodendrocyte_gene_list.txt',columns=[],header=False,index=True)\n",
    "e_df.to_csv('/Users/xulinhe/OneDrive/Herculano_Lab/Zhang_et_al_2014/Feb_16_2020.endothelia_gene_list.txt',columns=[],header=False,index=True)\n",
    "m_df.to_csv('/Users/xulinhe/OneDrive/Herculano_Lab/Zhang_et_al_2014/Feb_16_2020.microglia_gene_list.txt',columns=[],header=False,index=True)\n",
    "n_df.to_csv('/Users/xulinhe/OneDrive/Herculano_Lab/Zhang_et_al_2014/Feb_16_2020.neuron_gene_list.txt',columns=[],header=False,index=True)\n",
    "a_df.to_csv('/Users/xulinhe/OneDrive/Herculano_Lab/Zhang_et_al_2014/Feb_16_2020.astrocyte_gene_list.txt',columns=[],header=False,index=True)"
   ]
  },
  {
   "cell_type": "code",
   "execution_count": 48,
   "metadata": {},
   "outputs": [],
   "source": [
    "a_df = a_df.drop(['Astrocytes','Neuron','Microglia','Endothelial Cells','Oligodendrocyte'],axis=1)\n",
    "n_df = n_df.drop(['Astrocytes','Neuron','Microglia','Endothelial Cells','Oligodendrocyte'],axis=1)\n",
    "m_df = m_df.drop(['Astrocytes','Neuron','Microglia','Endothelial Cells','Oligodendrocyte'],axis=1)\n",
    "e_df = e_df.drop(['Astrocytes','Neuron','Microglia','Endothelial Cells','Oligodendrocyte'],axis=1)\n",
    "o_df = o_df.drop(['Astrocytes','Neuron','Microglia','Endothelial Cells','Oligodendrocyte'],axis=1)"
   ]
  },
  {
   "cell_type": "code",
   "execution_count": 49,
   "metadata": {},
   "outputs": [],
   "source": [
    "a_df['Astrocyte-specific']='In Astrocyte'\n",
    "n_df['Neuron-specific']='In Neuron'\n",
    "m_df['Microglia-specific']='In Microglia'\n",
    "e_df['Endothelia-specific']='In Endothelia'\n",
    "o_df['Oligodendrocyte-specific']='In Oligodendrocyte'"
   ]
  },
  {
   "cell_type": "code",
   "execution_count": 50,
   "metadata": {},
   "outputs": [],
   "source": [
    "gene_info_df = pd.concat([a_df,n_df,m_df,e_df,o_df],sort=False)"
   ]
  },
  {
   "cell_type": "code",
   "execution_count": 51,
   "metadata": {},
   "outputs": [],
   "source": [
    "gene_info_df['Astrocyte-specific'].fillna(value='Not IN Astrocyte',inplace=True)\n",
    "gene_info_df['Neuron-specific'].fillna(value='Not IN Neuron',inplace=True)\n",
    "gene_info_df['Microglia-specific'].fillna(value='Not IN Microglia',inplace=True)\n",
    "gene_info_df['Endothelia-specific'].fillna(value='Not IN Endothelia',inplace=True)\n",
    "gene_info_df['Oligodendrocyte-specific'].fillna(value='Not IN Oligodendrocyte',inplace=True)"
   ]
  },
  {
   "cell_type": "code",
   "execution_count": 52,
   "metadata": {},
   "outputs": [
    {
     "data": {
      "text/plain": [
       "0.19135320683079418"
      ]
     },
     "execution_count": 52,
     "metadata": {},
     "output_type": "execute_result"
    },
    {
     "data": {
      "text/plain": [
       "0.055883309714075666"
      ]
     },
     "execution_count": 52,
     "metadata": {},
     "output_type": "execute_result"
    }
   ],
   "source": [
    "# Setting the threshold of average dN/dS for a gene to be considered high-dN/dS or low-dN/dS\n",
    "high_cutoff = gene_info_df['avg_dNdS'].quantile(0.75)\n",
    "low_cutoff = gene_info_df['avg_dNdS'].quantile(0.25)\n",
    "high_cutoff\n",
    "low_cutoff"
   ]
  },
  {
   "cell_type": "code",
   "execution_count": 54,
   "metadata": {},
   "outputs": [],
   "source": [
    "high_dNdS_df = gene_info_df.loc[(gene_info_df['avg_dNdS'] >= high_cutoff)].copy(deep=True)\n",
    "low_dNdS_df = gene_info_df.loc[(gene_info_df['avg_dNdS'] <= low_cutoff)].copy(deep=True)\n",
    "gene_info_df['low_dN/dS'] = 'other genes'\n",
    "gene_info_df.loc[low_dNdS_df.index,'low_dN/dS'] = '< cutoff'\n",
    "gene_info_df['high_dN/dS'] = 'other genes'\n",
    "gene_info_df.loc[high_dNdS_df.index,'high_dN/dS'] = '> cutoff'"
   ]
  },
  {
   "cell_type": "code",
   "execution_count": 55,
   "metadata": {},
   "outputs": [],
   "source": [
    "med = gene_info_df['avg_dNdS'].median(axis=0)"
   ]
  },
  {
   "cell_type": "code",
   "execution_count": 57,
   "metadata": {},
   "outputs": [],
   "source": [
    "# I also need a list of GO terms later for contingency analysis\n",
    "go_list = raw_df.columns[6:-8]"
   ]
  },
  {
   "cell_type": "code",
   "execution_count": 68,
   "metadata": {},
   "outputs": [],
   "source": [
    "go_list=go_list.to_list()"
   ]
  },
  {
   "cell_type": "code",
   "execution_count": 69,
   "metadata": {},
   "outputs": [],
   "source": [
    "go_list.append('regulation of cell size')"
   ]
  },
  {
   "cell_type": "markdown",
   "metadata": {},
   "source": [
    "# Graphs: Celltype-specific Genes vs. Benchmarks"
   ]
  },
  {
   "cell_type": "code",
   "execution_count": 59,
   "metadata": {},
   "outputs": [],
   "source": [
    "import matplotlib\n",
    "import matplotlib.pyplot as plt\n",
    "import statsmodels.api as sm\n",
    "import scipy.stats as stats\n",
    "import seaborn as sns\n",
    "import matplotlib.ticker as mtick"
   ]
  },
  {
   "cell_type": "code",
   "execution_count": 60,
   "metadata": {},
   "outputs": [],
   "source": [
    "matplotlib.rcParams['figure.dpi']= 300"
   ]
  },
  {
   "cell_type": "markdown",
   "metadata": {},
   "source": [
    "### Redo Contingency Analysis for each GO with the new Ensembl 98 data"
   ]
  },
  {
   "cell_type": "code",
   "execution_count": 61,
   "metadata": {},
   "outputs": [],
   "source": [
    "font = {'size':8}\n",
    "matplotlib.rc('font', **font)"
   ]
  },
  {
   "cell_type": "code",
   "execution_count": 62,
   "metadata": {},
   "outputs": [],
   "source": [
    "def crosstable (df,Celltype,GO): # GO can be a GO term or low_dN/dS or high_dN/dS for categorical analysis with dN/dS score \n",
    "    table = pd.crosstab(df.loc[:,Celltype],df.loc[:,GO])\n",
    "    odds_ratio = stats.fisher_exact(table)[0]\n",
    "    chi2stats = stats.chi2_contingency(table)\n",
    "    col_sum = table.sum(axis=0)\n",
    "    col_sum.name = 'Total'\n",
    "    table = table.append(col_sum)\n",
    "    table['Total'] = table.sum(axis=1)\n",
    "    # This step can actually be accomplished by stating margins=True in pd.crosstab()\n",
    "    return(table,chi2stats,odds_ratio)"
   ]
  },
  {
   "cell_type": "code",
   "execution_count": 73,
   "metadata": {},
   "outputs": [],
   "source": [
    "def tab_plot(fig,df,GO):\n",
    "    # fig is the figure that this table plot will be draw in\n",
    "    # N is the serial number of the table. If it's the first table, then input 1\n",
    "    # df is the dataframe with celltype info columns and GO info columns (here 'gene_info_df')\n",
    "    # dNdS_cat is the column of category of dN/dS level, so high_dN/dS or low_dN/dS\n",
    "    \n",
    "    n_gene_GO = df[df[GO]==True].shape[0]\n",
    "    \n",
    "    n=5 # the number of lines ocupied by distribution histogram \n",
    "    \n",
    "    ##### Astrocyte #####\n",
    "    \n",
    "    ### low dN/dS ###\n",
    "    \n",
    "    # Generating the contingency table for astrocyte and low dN/dS as a dataframe \n",
    "    table_A_low, stat_A_low, odds_A_low= crosstable(df[df[GO]==True],'Astrocyte-specific','low_dN/dS')\n",
    "    # Statistics for Astrocyte and low dN/dS\n",
    "    tot_low = table_A_low.iloc[2,0] #Total number of genes afiliated with this GO with avg dN/dS lower than 1st quantile\n",
    "    tot_not_low = table_A_low.iloc[2,1] #Total number of genes afiliated with this GO with avg dN/dS higher than 1st quantile\n",
    "    tot_A = table_A_low.iloc[0,2] #Total number of astrocyte-specific genes afiliated with this GO\n",
    "    tot_not_A = table_A_low.iloc[1,2] #Total number of genes afiliated with this GO that are not astrocyte-specific\n",
    "    # The expected (fitted) value for each cell in the contingency table\n",
    "    expected_A_low_arr = np.outer(table_A_low.loc[:,'Total'],table_A_low.loc['Total',:])/table_A_low.loc['Total','Total'] \n",
    "    # Put the expected value into the table with the observed value \n",
    "    table_A_low.iloc[0,0]='{0} ({1:.2f})'.format(table_A_low.iloc[0,0],expected_A_low_arr[0,0])\n",
    "    table_A_low.iloc[0,1]='{0} ({1:.2f})'.format(table_A_low.iloc[0,1],expected_A_low_arr[0,1])\n",
    "    table_A_low.iloc[1,0]='{0} ({1:.2f})'.format(table_A_low.iloc[1,0],expected_A_low_arr[1,0])\n",
    "    table_A_low.iloc[1,1]='{0} ({1:.2f})'.format(table_A_low.iloc[1,1],expected_A_low_arr[1,1])\n",
    "    # Set axes for contingency table against astrocyte\n",
    "    tabA_low_plot = fig.add_subplot(grid[n+0,0])\n",
    "    tabA_low_plot.axis('tight')\n",
    "    tabA_low_plot.axis('off')\n",
    "    stringA_low = 'chi2: {0:.3f}, p: {1:.10f}, OR: {2:.5f}'.format(stat_A_low[0],stat_A_low[1],odds_A_low)\n",
    "    \n",
    "    ### High dN/dS ### \n",
    "    \n",
    "    # Generating the contingency table for astrocyte and high dN/dS as a dataframe \n",
    "    table_A_high, stat_A_high, odds_A_high= crosstable(df[df[GO]==True],'Astrocyte-specific','high_dN/dS')\n",
    "    # Statistics for Astrocyte and high dN/dS\n",
    "    tot_high = table_A_high.iloc[2,0]\n",
    "    tot_not_high = table_A_high.iloc[2,1]\n",
    "    # The expected (fitted) value for each cell in the contingency table\n",
    "    expected_A_high_arr = np.outer(table_A_high.loc[:,'Total'],table_A_high.loc['Total',:])/table_A_high.loc['Total','Total'] \n",
    "    # Put the expected value into the table with the observed value \n",
    "    table_A_high.iloc[0,0]='{0} ({1:.2f})'.format(table_A_high.iloc[0,0],expected_A_high_arr[0,0])\n",
    "    table_A_high.iloc[0,1]='{0} ({1:.2f})'.format(table_A_high.iloc[0,1],expected_A_high_arr[0,1])\n",
    "    table_A_high.iloc[1,0]='{0} ({1:.2f})'.format(table_A_high.iloc[1,0],expected_A_high_arr[1,0])\n",
    "    table_A_high.iloc[1,1]='{0} ({1:.2f})'.format(table_A_high.iloc[1,1],expected_A_high_arr[1,1])\n",
    "    # Set axes for contingency table against astrocyte\n",
    "    tabA_high_plot = fig.add_subplot(grid[n+0,1])\n",
    "    tabA_high_plot.axis('tight')\n",
    "    tabA_high_plot.axis('off')\n",
    "    stringA_high = 'chi2: {0:.3f}, p: {1:.10f}, OR: {2:.5f}'.format(stat_A_high[0],stat_A_high[1],odds_A_high)\n",
    "    \n",
    "    ##### Microglia #####\n",
    "    \n",
    "    ### low dN/dS ###\n",
    "    \n",
    "    # Generating the contingency table for microglia and low dN/dS as a dataframe \n",
    "    table_M_low, stat_M_low, odds_M_low= crosstable(df[df[GO]==True],'Microglia-specific','low_dN/dS')\n",
    "    # Statistics for Microglia and low dN/dS\n",
    "    tot_M = table_M_low.iloc[0,2] #Total number of microglia-specific genes afiliated with this GO\n",
    "    tot_not_M = table_M_low.iloc[1,2] #Total number of genes afiliated with this GO that are not microglia-specific\n",
    "    # The expected (fitted) value for each cell in the contingency table\n",
    "    expected_M_low_arr = np.outer(table_M_low.loc[:,'Total'],table_M_low.loc['Total',:])/table_M_low.loc['Total','Total'] \n",
    "    # Put the expected value into the table with the observed value \n",
    "    table_M_low.iloc[0,0]='{0} ({1:.2f})'.format(table_M_low.iloc[0,0],expected_M_low_arr[0,0])\n",
    "    table_M_low.iloc[0,1]='{0} ({1:.2f})'.format(table_M_low.iloc[0,1],expected_M_low_arr[0,1])\n",
    "    table_M_low.iloc[1,0]='{0} ({1:.2f})'.format(table_M_low.iloc[1,0],expected_M_low_arr[1,0])\n",
    "    table_M_low.iloc[1,1]='{0} ({1:.2f})'.format(table_M_low.iloc[1,1],expected_M_low_arr[1,1])\n",
    "    # Set axes for contingency table against microglia\n",
    "    tabM_low_plot = fig.add_subplot(grid[n+2,0])\n",
    "    tabM_low_plot.axis('tight')\n",
    "    tabM_low_plot.axis('off')\n",
    "    stringM_low = 'chi2: {0:.3f}, p: {1:.10f}, OR: {2:.5f}'.format(stat_M_low[0],stat_M_low[1],odds_M_low)\n",
    "    \n",
    "    ### High dN/dS ###\n",
    "    \n",
    "    # Generating the contingency table for microglia and high dN/dS as a dataframe \n",
    "    table_M_high, stat_M_high, odds_M_high= crosstable(df[df[GO]==True],'Microglia-specific','high_dN/dS')\n",
    "    # Statistics for Microglia and high dN/dS\n",
    "    tot_high = table_M_high.iloc[2,0]\n",
    "    tot_not_high = table_M_high.iloc[2,1]\n",
    "    # The expected (fitted) value for each cell in the contingency table\n",
    "    expected_M_high_arr = np.outer(table_M_high.loc[:,'Total'],table_M_high.loc['Total',:])/table_M_high.loc['Total','Total'] \n",
    "    # Put the expected value into the table with the observed value \n",
    "    table_M_high.iloc[0,0]='{0} ({1:.2f})'.format(table_M_high.iloc[0,0],expected_M_high_arr[0,0])\n",
    "    table_M_high.iloc[0,1]='{0} ({1:.2f})'.format(table_M_high.iloc[0,1],expected_M_high_arr[0,1])\n",
    "    table_M_high.iloc[1,0]='{0} ({1:.2f})'.format(table_M_high.iloc[1,0],expected_M_high_arr[1,0])\n",
    "    table_M_high.iloc[1,1]='{0} ({1:.2f})'.format(table_M_high.iloc[1,1],expected_M_high_arr[1,1])\n",
    "    # Set axes for contingency table against microglia\n",
    "    tabM_high_plot = fig.add_subplot(grid[n+2,1])\n",
    "    tabM_high_plot.axis('tight')\n",
    "    tabM_high_plot.axis('off')\n",
    "    stringM_high = 'chi2: {0:.3f}, p: {1:.10f}, OR: {2:.5f}'.format(stat_M_high[0],stat_M_high[1],odds_M_high)\n",
    "    \n",
    "    ##### Oligodendrocyte #####\n",
    "    \n",
    "    ### low dN/dS ###\n",
    "    \n",
    "    # Generating the contingency table for oligodendrocyte and low dN/dS as a dataframe \n",
    "    table_O_low, stat_O_low, odds_O_low= crosstable(df[df[GO]==True],'Oligodendrocyte-specific','low_dN/dS')\n",
    "    # Statistics for Oligodendrocyte and low dN/dS\n",
    "    tot_O = table_O_low.iloc[0,2] #Total number of oligodendrocyte-specific genes afiliated with this GO\n",
    "    tot_not_O = table_O_low.iloc[1,2] #Total number of genes afiliated with this GO that are not oligodendrocyte-specific\n",
    "    # The expected (fitted) value for each cell in the contingency table\n",
    "    expected_O_low_arr = np.outer(table_O_low.loc[:,'Total'],table_O_low.loc['Total',:])/table_O_low.loc['Total','Total'] \n",
    "    # Put the expected value into the table with the observed value \n",
    "    table_O_low.iloc[0,0]='{0} ({1:.2f})'.format(table_O_low.iloc[0,0],expected_O_low_arr[0,0])\n",
    "    table_O_low.iloc[0,1]='{0} ({1:.2f})'.format(table_O_low.iloc[0,1],expected_O_low_arr[0,1])\n",
    "    table_O_low.iloc[1,0]='{0} ({1:.2f})'.format(table_O_low.iloc[1,0],expected_O_low_arr[1,0])\n",
    "    table_O_low.iloc[1,1]='{0} ({1:.2f})'.format(table_O_low.iloc[1,1],expected_O_low_arr[1,1])\n",
    "    # Set axes for contingency table against oligodendrocyte\n",
    "    tabO_low_plot = fig.add_subplot(grid[n+4,0])\n",
    "    tabO_low_plot.axis('tight')\n",
    "    tabO_low_plot.axis('off')\n",
    "    stringO_low = 'chi2: {0:.3f}, p: {1:.10f}, OR: {2:.5f}'.format(stat_O_low[0],stat_O_low[1],odds_O_low)\n",
    "    \n",
    "    ### High dN/dS ###\n",
    "    \n",
    "    # Generating the contingency table for oligodendrocyte and high dN/dS as a dataframe \n",
    "    table_O_high, stat_O_high, odds_O_high= crosstable(df[df[GO]==True],'Oligodendrocyte-specific','high_dN/dS')\n",
    "    # Statistics for Oligodendrocyte and high dN/dS\n",
    "    tot_high = table_O_high.iloc[2,0]\n",
    "    tot_not_high = table_O_high.iloc[2,1]\n",
    "    # The expected (fitted) value for each cell in the contingency table\n",
    "    expected_O_high_arr = np.outer(table_O_high.loc[:,'Total'],table_O_high.loc['Total',:])/table_O_high.loc['Total','Total'] \n",
    "    # Put the expected value into the table with the observed value \n",
    "    table_O_high.iloc[0,0]='{0} ({1:.2f})'.format(table_O_high.iloc[0,0],expected_O_high_arr[0,0])\n",
    "    table_O_high.iloc[0,1]='{0} ({1:.2f})'.format(table_O_high.iloc[0,1],expected_O_high_arr[0,1])\n",
    "    table_O_high.iloc[1,0]='{0} ({1:.2f})'.format(table_O_high.iloc[1,0],expected_O_high_arr[1,0])\n",
    "    table_O_high.iloc[1,1]='{0} ({1:.2f})'.format(table_O_high.iloc[1,1],expected_O_high_arr[1,1])\n",
    "    # Set axes for contingency table against oligodendrocyte\n",
    "    tabO_high_plot = fig.add_subplot(grid[n+4,1])\n",
    "    tabO_high_plot.axis('tight')\n",
    "    tabO_high_plot.axis('off')\n",
    "    stringO_high = 'chi2: {0:.3f}, p: {1:.10f}, OR: {2:.5f}'.format(stat_O_high[0],stat_O_high[1],odds_O_high)\n",
    "    \n",
    "        ##### Neuron #####\n",
    "    \n",
    "    ### low dN/dS ###\n",
    "    \n",
    "    # Generating the contingency table for neuron and low dN/dS as a dataframe \n",
    "    table_N_low, stat_N_low, odds_N_low= crosstable(df[df[GO]==True],'Neuron-specific','low_dN/dS')    \n",
    "    # Statistics for Neuron and low dN/dS\n",
    "    tot_low = table_N_low.iloc[2,0] #Total number of genes afiliated with this GO with avg dN/dS lower than 1st quantile\n",
    "    tot_not_low = table_N_low.iloc[2,1] #Total number of genes afiliated with this GO with avg dN/dS higher than 1st quantile\n",
    "    tot_N = table_N_low.iloc[0,2] #Total number of neuron-specific genes afiliated with this GO\n",
    "    tot_not_N = table_N_low.iloc[1,2] #Total number of genes afiliated with this GO that are not neuron-specific\n",
    "    # The expected (fitted) value for each cell in the contingency table\n",
    "    expected_N_low_arr = np.outer(table_N_low.loc[:,'Total'],table_N_low.loc['Total',:])/table_N_low.loc['Total','Total'] \n",
    "    # Put the expected value into the table with the observed value \n",
    "    table_N_low.iloc[0,0]='{0} ({1:.2f})'.format(table_N_low.iloc[0,0],expected_N_low_arr[0,0])\n",
    "    table_N_low.iloc[0,1]='{0} ({1:.2f})'.format(table_N_low.iloc[0,1],expected_N_low_arr[0,1])\n",
    "    table_N_low.iloc[1,0]='{0} ({1:.2f})'.format(table_N_low.iloc[1,0],expected_N_low_arr[1,0])\n",
    "    table_N_low.iloc[1,1]='{0} ({1:.2f})'.format(table_N_low.iloc[1,1],expected_N_low_arr[1,1])\n",
    "    # Set axes for contingency table against neuron\n",
    "    tabN_low_plot = fig.add_subplot(grid[n+6,0])\n",
    "    tabN_low_plot.axis('tight')\n",
    "    tabN_low_plot.axis('off')\n",
    "    stringN_low = 'n = {0:d} genes belong to {1:s}'.format(n_gene_GO,GO)\n",
    "    stringN_low = 'chi2: {0:.3f}, p: {1:.10f}, OR: {2:.5f}'.format(stat_N_low[0],stat_N_low[1], odds_N_low)\n",
    "    \n",
    "    ### High dN/dS ### \n",
    "    \n",
    "    # Generating the contingency table for neuron and high dN/dS as a dataframe \n",
    "    table_N_high, stat_N_high, odds_N_high= crosstable(df[df[GO]==True],'Neuron-specific','high_dN/dS')\n",
    "    # Statistics for Neuron and high dN/dS\n",
    "    tot_high = table_N_high.iloc[2,0]\n",
    "    tot_not_high = table_N_high.iloc[2,1]\n",
    "    # The expected (fitted) value for each cell in the contingency table\n",
    "    expected_N_high_arr = np.outer(table_N_high.loc[:,'Total'],table_N_high.loc['Total',:])/table_N_high.loc['Total','Total'] \n",
    "    # Put the expected value into the table with the observed value \n",
    "    table_N_high.iloc[0,0]='{0} ({1:.2f})'.format(table_N_high.iloc[0,0],expected_N_high_arr[0,0])\n",
    "    table_N_high.iloc[0,1]='{0} ({1:.2f})'.format(table_N_high.iloc[0,1],expected_N_high_arr[0,1])\n",
    "    table_N_high.iloc[1,0]='{0} ({1:.2f})'.format(table_N_high.iloc[1,0],expected_N_high_arr[1,0])\n",
    "    table_N_high.iloc[1,1]='{0} ({1:.2f})'.format(table_N_high.iloc[1,1],expected_N_high_arr[1,1])\n",
    "    # Set axes for contingency table against neuron\n",
    "    tabN_high_plot = fig.add_subplot(grid[n+6,1])\n",
    "    tabN_high_plot.axis('tight')\n",
    "    tabN_high_plot.axis('off')\n",
    "    stringN_high = 'chi2: {0:.3f}, p: {1:.10f}, OR: {2:.5f}'.format(stat_N_high[0],stat_N_high[1],odds_N_high)\n",
    "    \n",
    "    ##### Endothelia #####\n",
    "    \n",
    "    ### low dN/dS ###\n",
    "    \n",
    "    # Generating the contingency table for endothelia and low dN/dS as a dataframe \n",
    "    table_E_low, stat_E_low, odds_E_low= crosstable(df[df[GO]==True],'Endothelia-specific','low_dN/dS')\n",
    "    # Statistics for Endothelia and low dN/dS\n",
    "    tot_E = table_E_low.iloc[0,2] #Total number of endothelia-specific genes afiliated with this GO\n",
    "    tot_not_E = table_E_low.iloc[1,2] #Total number of genes afiliated with this GO that are not endothelia-specific\n",
    "    # The expected (fitted) value for each cell in the contingency table\n",
    "    expected_E_low_arr = np.outer(table_E_low.loc[:,'Total'],table_E_low.loc['Total',:])/table_E_low.loc['Total','Total'] \n",
    "    # Put the expected value into the table with the observed value \n",
    "    table_E_low.iloc[0,0]='{0} ({1:.2f})'.format(table_E_low.iloc[0,0],expected_E_low_arr[0,0])\n",
    "    table_E_low.iloc[0,1]='{0} ({1:.2f})'.format(table_E_low.iloc[0,1],expected_E_low_arr[0,1])\n",
    "    table_E_low.iloc[1,0]='{0} ({1:.2f})'.format(table_E_low.iloc[1,0],expected_E_low_arr[1,0])\n",
    "    table_E_low.iloc[1,1]='{0} ({1:.2f})'.format(table_E_low.iloc[1,1],expected_E_low_arr[1,1])\n",
    "    # Set axes for contingency table against endothelia\n",
    "    tabE_low_plot = fig.add_subplot(grid[n+8,0])\n",
    "    tabE_low_plot.axis('tight')\n",
    "    tabE_low_plot.axis('off')\n",
    "    stringE_low = 'chi2: {0:.3f}, p: {1:.10f}, OR: {2:.5f}'.format(stat_E_low[0],stat_E_low[1],odds_E_low)\n",
    "    \n",
    "    ### High dN/dS ###\n",
    "    \n",
    "    # Generating the contingency table for endothelia and high dN/dS as a dataframe \n",
    "    table_E_high, stat_E_high, odds_E_high= crosstable(df[df[GO]==True],'Endothelia-specific','high_dN/dS')\n",
    "    # Statistics for Endothelia and high dN/dS\n",
    "    tot_high = table_E_high.iloc[2,0]\n",
    "    tot_not_high = table_E_high.iloc[2,1]\n",
    "    # The expected (fitted) value for each cell in the contingency table\n",
    "    expected_E_high_arr = np.outer(table_E_high.loc[:,'Total'],table_E_high.loc['Total',:])/table_E_high.loc['Total','Total'] \n",
    "    # Put the expected value into the table with the observed value \n",
    "    table_E_high.iloc[0,0]='{0} ({1:.2f})'.format(table_E_high.iloc[0,0],expected_E_high_arr[0,0])\n",
    "    table_E_high.iloc[0,1]='{0} ({1:.2f})'.format(table_E_high.iloc[0,1],expected_E_high_arr[0,1])\n",
    "    table_E_high.iloc[1,0]='{0} ({1:.2f})'.format(table_E_high.iloc[1,0],expected_E_high_arr[1,0])\n",
    "    table_E_high.iloc[1,1]='{0} ({1:.2f})'.format(table_E_high.iloc[1,1],expected_E_high_arr[1,1])\n",
    "    # Set axes for contingency table against endothelia\n",
    "    tabE_high_plot = fig.add_subplot(grid[n+8,1])\n",
    "    tabE_high_plot.axis('tight')\n",
    "    tabE_high_plot.axis('off')\n",
    "    stringE_high = 'chi2: {0:.3f}, p: {1:.10f}, OR: {2:.5f}'.format(stat_E_high[0],stat_E_high[1],odds_E_high)\n",
    "    \n",
    "    \n",
    "    ########## Drawing Contingency Tables ##########\n",
    "    \n",
    "    # Drawing the contingency table against neuron-low onto figure \n",
    "    cell_text = []\n",
    "    for row in range(len(table_N_low)):\n",
    "        cell_text.append(table_N_low.iloc[row])\n",
    "    tabN_low = tabN_low_plot.table(cellText=cell_text, rowLabels=table_N_low.index,colLabels=table_N_low.columns, colWidths=[0.35, 0.35, 0.15], loc='center')\n",
    "    tabN_low.auto_set_font_size(False)\n",
    "    tabN_low.set_fontsize(7)\n",
    "    # Drawing the contingency table against neuron-high onto figure\n",
    "    cell_text = []\n",
    "    for row in range(len(table_N_high)):\n",
    "        cell_text.append(table_N_high.iloc[row])\n",
    "    tabN_high = tabN_high_plot.table(cellText=cell_text, rowLabels=table_N_high.index,colLabels=table_N_high.columns, colWidths=[0.35, 0.35, 0.15], loc='center')\n",
    "    tabN_high.auto_set_font_size(False)\n",
    "    tabN_high.set_fontsize(7)\n",
    "    \n",
    "    # Drawing the contingency table against endothelia-low onto figure \n",
    "    cell_text = []\n",
    "    for row in range(len(table_E_low)):\n",
    "        cell_text.append(table_E_low.iloc[row])\n",
    "    tabE_low = tabE_low_plot.table(cellText=cell_text, rowLabels=table_E_low.index,colLabels=table_E_low.columns, colWidths=[0.35, 0.35, 0.15], loc='center')\n",
    "    tabE_low.auto_set_font_size(False)\n",
    "    tabE_low.set_fontsize(7)\n",
    "    # Drawing the contingency table against endothelia-high onto figure\n",
    "    cell_text = []\n",
    "    for row in range(len(table_E_high)):\n",
    "        cell_text.append(table_E_high.iloc[row])\n",
    "    tabE_high = tabE_high_plot.table(cellText=cell_text, rowLabels=table_E_high.index,colLabels=table_E_high.columns, colWidths=[0.35, 0.35, 0.15], loc='center')\n",
    "    tabE_high.auto_set_font_size(False)\n",
    "    tabE_high.set_fontsize(7)\n",
    "    \n",
    "    # Drawing the contingency table against astrocyte-low onto figure \n",
    "    cell_text = []\n",
    "    for row in range(len(table_A_low)):\n",
    "        cell_text.append(table_A_low.iloc[row])\n",
    "    tabA_low = tabA_low_plot.table(cellText=cell_text, rowLabels=table_A_low.index,colLabels=table_A_low.columns, colWidths=[0.35, 0.35, 0.15], loc='center')\n",
    "    tabA_low.auto_set_font_size(False)\n",
    "    tabA_low.set_fontsize(7)\n",
    "    # Drawing the contingency table against astrocyte-high onto figure\n",
    "    cell_text = []\n",
    "    for row in range(len(table_A_high)):\n",
    "        cell_text.append(table_A_high.iloc[row])\n",
    "    tabA_high = tabA_high_plot.table(cellText=cell_text, rowLabels=table_A_high.index,colLabels=table_A_high.columns, colWidths=[0.35, 0.35, 0.15], loc='center')\n",
    "    tabA_high.auto_set_font_size(False)\n",
    "    tabA_high.set_fontsize(7)\n",
    "    \n",
    "    # Drawing the contingency table against microglia-low onto figure \n",
    "    cell_text = []\n",
    "    for row in range(len(table_M_low)):\n",
    "        cell_text.append(table_M_low.iloc[row])\n",
    "    tabM_low = tabM_low_plot.table(cellText=cell_text, rowLabels=table_M_low.index,colLabels=table_M_low.columns, colWidths=[0.35, 0.35, 0.15], loc='center')\n",
    "    tabM_low.auto_set_font_size(False)\n",
    "    tabM_low.set_fontsize(7)\n",
    "    # Drawing the contingency table against microglia-high onto figure\n",
    "    cell_text = []\n",
    "    for row in range(len(table_M_high)):\n",
    "        cell_text.append(table_M_high.iloc[row])\n",
    "    tabM_high = tabM_high_plot.table(cellText=cell_text, rowLabels=table_M_high.index,colLabels=table_M_high.columns, colWidths=[0.35, 0.35, 0.15], loc='center')\n",
    "    tabM_high.auto_set_font_size(False)\n",
    "    tabM_high.set_fontsize(7)\n",
    "    \n",
    "    # Drawing the contingency table against oligodendrocyte-low onto figure \n",
    "    cell_text = []\n",
    "    for row in range(len(table_O_low)):\n",
    "        cell_text.append(table_O_low.iloc[row])\n",
    "    tabO_low = tabO_low_plot.table(cellText=cell_text, rowLabels=table_O_low.index,colLabels=table_O_low.columns, colWidths=[0.28, 0.28, 0.11], loc='center')\n",
    "    tabO_low.auto_set_font_size(False)\n",
    "    tabO_low.set_fontsize(7)\n",
    "    # Drawing the contingency table against oligodendrocyte-high onto figure\n",
    "    cell_text = []\n",
    "    for row in range(len(table_O_high)):\n",
    "        cell_text.append(table_O_high.iloc[row])\n",
    "    tabO_high = tabO_high_plot.table(cellText=cell_text, rowLabels=table_O_high.index,colLabels=table_O_high.columns, colWidths=[0.28, 0.28, 0.11], loc='center')\n",
    "    tabO_high.auto_set_font_size(False)\n",
    "    tabO_high.set_fontsize(7)\n",
    "    \n",
    "    ########## Writing statistics of each contingency table under the table ##########\n",
    "    \n",
    "    # Set axes for chi-square statistics for Neuron\n",
    "    low_Nchi2_plot = fig.add_subplot(grid[n+7,0])\n",
    "    low_Nchi2_plot.axis('tight')\n",
    "    low_Nchi2_plot.axis('off')\n",
    "    high_Nchi2_plot = fig.add_subplot(grid[n+7,1])\n",
    "    high_Nchi2_plot.axis('tight')\n",
    "    high_Nchi2_plot.axis('off')\n",
    "    \n",
    "    # Set axes for chi-square statistics for Endothilial cells\n",
    "    low_Echi2_plot = fig.add_subplot(grid[n+9,0])\n",
    "    low_Echi2_plot.axis('tight')\n",
    "    low_Echi2_plot.axis('off')\n",
    "    high_Echi2_plot = fig.add_subplot(grid[n+9,1])\n",
    "    high_Echi2_plot.axis('tight')\n",
    "    high_Echi2_plot.axis('off')\n",
    "    \n",
    "    # Set axes for chi-square statistics for Astrocyte\n",
    "    low_Achi2_plot = fig.add_subplot(grid[n+1,0])\n",
    "    low_Achi2_plot.axis('tight')\n",
    "    low_Achi2_plot.axis('off')\n",
    "    high_Achi2_plot = fig.add_subplot(grid[n+1,1])\n",
    "    high_Achi2_plot.axis('tight')\n",
    "    high_Achi2_plot.axis('off')\n",
    "    \n",
    "    # Set axes for chi-square statistics for Endothilial cells\n",
    "    low_Mchi2_plot = fig.add_subplot(grid[n+3,0])\n",
    "    low_Mchi2_plot.axis('tight')\n",
    "    low_Mchi2_plot.axis('off')\n",
    "    high_Mchi2_plot = fig.add_subplot(grid[n+3,1])\n",
    "    high_Mchi2_plot.axis('tight')\n",
    "    high_Mchi2_plot.axis('off')\n",
    "    \n",
    "    # Set axes for chi-square statistics for Oligodendrocytel cells\n",
    "    low_Ochi2_plot = fig.add_subplot(grid[n+5,0])\n",
    "    low_Ochi2_plot.axis('tight')\n",
    "    low_Ochi2_plot.axis('off')\n",
    "    high_Ochi2_plot = fig.add_subplot(grid[n+5,1])\n",
    "    high_Ochi2_plot.axis('tight')\n",
    "    high_Ochi2_plot.axis('off')\n",
    "    \n",
    "    low_Achi2_plot.text(0.25, 0.6, stringA_low,\n",
    "        horizontalalignment='center',\n",
    "        verticalalignment='center',\n",
    "        transform=low_Achi2_plot.transAxes)\n",
    "    high_Achi2_plot.text(0.25, 0.6, stringA_high,\n",
    "        horizontalalignment='center',\n",
    "        verticalalignment='center',\n",
    "        transform=high_Achi2_plot.transAxes)\n",
    "    \n",
    "    low_Mchi2_plot.text(0.25, 0.6, stringM_low,\n",
    "        horizontalalignment='center',\n",
    "        verticalalignment='center',\n",
    "        transform=low_Mchi2_plot.transAxes)\n",
    "    high_Mchi2_plot.text(0.25, 0.6, stringM_high,\n",
    "        horizontalalignment='center',\n",
    "        verticalalignment='center',\n",
    "        transform=high_Mchi2_plot.transAxes)\n",
    "    \n",
    "    low_Ochi2_plot.text(0.25, 0.6, stringO_low,\n",
    "        horizontalalignment='center',\n",
    "        verticalalignment='center',\n",
    "        transform=low_Ochi2_plot.transAxes)\n",
    "    high_Ochi2_plot.text(0.25, 0.6, stringO_high,\n",
    "        horizontalalignment='center',\n",
    "        verticalalignment='center',\n",
    "        transform=high_Ochi2_plot.transAxes)\n",
    "    \n",
    "    low_Nchi2_plot.text(0.25, 0.6, stringN_low,\n",
    "        horizontalalignment='center',\n",
    "        verticalalignment='center',\n",
    "        transform=low_Nchi2_plot.transAxes)\n",
    "    high_Nchi2_plot.text(0.25, 0.6, stringN_high,\n",
    "        horizontalalignment='center',\n",
    "        verticalalignment='center',\n",
    "        transform=high_Nchi2_plot.transAxes)\n",
    "    \n",
    "    low_Echi2_plot.text(0.25, 0.6, stringE_low,\n",
    "        horizontalalignment='center',\n",
    "        verticalalignment='center',\n",
    "        transform=low_Echi2_plot.transAxes)\n",
    "    high_Echi2_plot.text(0.25, 0.6, stringE_high,\n",
    "        horizontalalignment='center',\n",
    "        verticalalignment='center',\n",
    "        transform=high_Echi2_plot.transAxes)\n",
    "    \n",
    "    tab_plot.Nchi2_num=stat_N_low[0]\n",
    "    tab_plot.Np_num=stat_N_low[1]"
   ]
  },
  {
   "cell_type": "code",
   "execution_count": 117,
   "metadata": {},
   "outputs": [
    {
     "data": {
      "text/html": [
       "<div>\n",
       "<style scoped>\n",
       "    .dataframe tbody tr th:only-of-type {\n",
       "        vertical-align: middle;\n",
       "    }\n",
       "\n",
       "    .dataframe tbody tr th {\n",
       "        vertical-align: top;\n",
       "    }\n",
       "\n",
       "    .dataframe thead th {\n",
       "        text-align: right;\n",
       "    }\n",
       "</style>\n",
       "<table border=\"1\" class=\"dataframe\">\n",
       "  <thead>\n",
       "    <tr style=\"text-align: right;\">\n",
       "      <th></th>\n",
       "      <th>GO</th>\n",
       "      <th>num_genes</th>\n",
       "      <th>n_med</th>\n",
       "      <th>low_n_chi2</th>\n",
       "      <th>low_n_p</th>\n",
       "      <th>low_n_OR</th>\n",
       "      <th>low_n_fisher_p</th>\n",
       "      <th>high_n_chi2</th>\n",
       "      <th>high_n_p</th>\n",
       "      <th>high_n_OR</th>\n",
       "      <th>...</th>\n",
       "      <th>high_a_fisher_p</th>\n",
       "      <th>m_med</th>\n",
       "      <th>low_m_chi2</th>\n",
       "      <th>low_m_p</th>\n",
       "      <th>low_m_OR</th>\n",
       "      <th>low_m_fisher_p</th>\n",
       "      <th>high_m_chi2</th>\n",
       "      <th>high_m_p</th>\n",
       "      <th>high_m_OR</th>\n",
       "      <th>high_m_fisher_p</th>\n",
       "    </tr>\n",
       "  </thead>\n",
       "  <tbody>\n",
       "    <tr>\n",
       "      <td>0</td>\n",
       "      <td>anatomical structure development</td>\n",
       "      <td>1869</td>\n",
       "      <td>0.063210</td>\n",
       "      <td>47.597100</td>\n",
       "      <td>5.234585e-12</td>\n",
       "      <td>2.119090</td>\n",
       "      <td>9.044195e-12</td>\n",
       "      <td>30.798977</td>\n",
       "      <td>2.861887e-08</td>\n",
       "      <td>0.424984</td>\n",
       "      <td>...</td>\n",
       "      <td>0.151994</td>\n",
       "      <td>0.123924</td>\n",
       "      <td>31.725829</td>\n",
       "      <td>1.775452e-08</td>\n",
       "      <td>0.465951</td>\n",
       "      <td>5.659953e-09</td>\n",
       "      <td>66.614376</td>\n",
       "      <td>3.301695e-16</td>\n",
       "      <td>2.764076</td>\n",
       "      <td>4.534195e-15</td>\n",
       "    </tr>\n",
       "    <tr>\n",
       "      <td>1</td>\n",
       "      <td>cellular nitrogen compound metabolic process</td>\n",
       "      <td>1125</td>\n",
       "      <td>0.066106</td>\n",
       "      <td>27.176686</td>\n",
       "      <td>1.856844e-07</td>\n",
       "      <td>2.160191</td>\n",
       "      <td>2.565345e-07</td>\n",
       "      <td>13.725623</td>\n",
       "      <td>2.115486e-04</td>\n",
       "      <td>0.465263</td>\n",
       "      <td>...</td>\n",
       "      <td>0.577807</td>\n",
       "      <td>0.123924</td>\n",
       "      <td>20.743359</td>\n",
       "      <td>5.251339e-06</td>\n",
       "      <td>0.453216</td>\n",
       "      <td>2.693546e-06</td>\n",
       "      <td>14.997500</td>\n",
       "      <td>1.076537e-04</td>\n",
       "      <td>1.881017</td>\n",
       "      <td>1.368559e-04</td>\n",
       "    </tr>\n",
       "    <tr>\n",
       "      <td>2</td>\n",
       "      <td>biosynthetic process</td>\n",
       "      <td>1215</td>\n",
       "      <td>0.064167</td>\n",
       "      <td>24.268278</td>\n",
       "      <td>8.380800e-07</td>\n",
       "      <td>2.049371</td>\n",
       "      <td>1.208392e-06</td>\n",
       "      <td>10.906164</td>\n",
       "      <td>9.584479e-04</td>\n",
       "      <td>0.504907</td>\n",
       "      <td>...</td>\n",
       "      <td>0.036100</td>\n",
       "      <td>0.121065</td>\n",
       "      <td>14.266388</td>\n",
       "      <td>1.586731e-04</td>\n",
       "      <td>0.547072</td>\n",
       "      <td>1.144259e-04</td>\n",
       "      <td>16.513254</td>\n",
       "      <td>4.831119e-05</td>\n",
       "      <td>1.896961</td>\n",
       "      <td>5.831116e-05</td>\n",
       "    </tr>\n",
       "    <tr>\n",
       "      <td>3</td>\n",
       "      <td>transport</td>\n",
       "      <td>1418</td>\n",
       "      <td>0.061445</td>\n",
       "      <td>78.406864</td>\n",
       "      <td>8.386028e-19</td>\n",
       "      <td>2.922507</td>\n",
       "      <td>2.109942e-18</td>\n",
       "      <td>63.032457</td>\n",
       "      <td>2.033282e-15</td>\n",
       "      <td>0.223607</td>\n",
       "      <td>...</td>\n",
       "      <td>0.313113</td>\n",
       "      <td>0.131164</td>\n",
       "      <td>36.424246</td>\n",
       "      <td>1.587165e-09</td>\n",
       "      <td>0.406776</td>\n",
       "      <td>3.436219e-10</td>\n",
       "      <td>50.998890</td>\n",
       "      <td>9.241822e-13</td>\n",
       "      <td>2.687332</td>\n",
       "      <td>3.474776e-12</td>\n",
       "    </tr>\n",
       "    <tr>\n",
       "      <td>4</td>\n",
       "      <td>cell differentiation</td>\n",
       "      <td>1407</td>\n",
       "      <td>0.062169</td>\n",
       "      <td>35.819677</td>\n",
       "      <td>2.164507e-09</td>\n",
       "      <td>2.108750</td>\n",
       "      <td>2.815874e-09</td>\n",
       "      <td>22.556113</td>\n",
       "      <td>2.040941e-06</td>\n",
       "      <td>0.427589</td>\n",
       "      <td>...</td>\n",
       "      <td>0.794031</td>\n",
       "      <td>0.121836</td>\n",
       "      <td>30.594086</td>\n",
       "      <td>3.180618e-08</td>\n",
       "      <td>0.433082</td>\n",
       "      <td>9.463105e-09</td>\n",
       "      <td>62.924732</td>\n",
       "      <td>2.147586e-15</td>\n",
       "      <td>3.069347</td>\n",
       "      <td>2.701717e-14</td>\n",
       "    </tr>\n",
       "    <tr>\n",
       "      <td>...</td>\n",
       "      <td>...</td>\n",
       "      <td>...</td>\n",
       "      <td>...</td>\n",
       "      <td>...</td>\n",
       "      <td>...</td>\n",
       "      <td>...</td>\n",
       "      <td>...</td>\n",
       "      <td>...</td>\n",
       "      <td>...</td>\n",
       "      <td>...</td>\n",
       "      <td>...</td>\n",
       "      <td>...</td>\n",
       "      <td>...</td>\n",
       "      <td>...</td>\n",
       "      <td>...</td>\n",
       "      <td>...</td>\n",
       "      <td>...</td>\n",
       "      <td>...</td>\n",
       "      <td>...</td>\n",
       "      <td>...</td>\n",
       "      <td>...</td>\n",
       "    </tr>\n",
       "    <tr>\n",
       "      <td>57</td>\n",
       "      <td>cytoskeleton-dependent intracellular transport</td>\n",
       "      <td>39</td>\n",
       "      <td>0.078257</td>\n",
       "      <td>1.053241</td>\n",
       "      <td>3.047619e-01</td>\n",
       "      <td>3.000000</td>\n",
       "      <td>2.552356e-01</td>\n",
       "      <td>0.602206</td>\n",
       "      <td>4.377376e-01</td>\n",
       "      <td>0.250000</td>\n",
       "      <td>...</td>\n",
       "      <td>1.000000</td>\n",
       "      <td>0.149288</td>\n",
       "      <td>0.280893</td>\n",
       "      <td>5.961166e-01</td>\n",
       "      <td>0.000000</td>\n",
       "      <td>5.557501e-01</td>\n",
       "      <td>0.000410</td>\n",
       "      <td>9.838518e-01</td>\n",
       "      <td>2.583333</td>\n",
       "      <td>4.361649e-01</td>\n",
       "    </tr>\n",
       "    <tr>\n",
       "      <td>58</td>\n",
       "      <td>protein folding</td>\n",
       "      <td>24</td>\n",
       "      <td>0.079997</td>\n",
       "      <td>0.259304</td>\n",
       "      <td>6.105989e-01</td>\n",
       "      <td>1.250000</td>\n",
       "      <td>1.000000e+00</td>\n",
       "      <td>0.630252</td>\n",
       "      <td>4.272629e-01</td>\n",
       "      <td>0.238095</td>\n",
       "      <td>...</td>\n",
       "      <td>0.249012</td>\n",
       "      <td>0.226065</td>\n",
       "      <td>0.259304</td>\n",
       "      <td>6.105989e-01</td>\n",
       "      <td>0.000000</td>\n",
       "      <td>5.296443e-01</td>\n",
       "      <td>1.235294</td>\n",
       "      <td>2.663799e-01</td>\n",
       "      <td>4.333333</td>\n",
       "      <td>1.670481e-01</td>\n",
       "    </tr>\n",
       "    <tr>\n",
       "      <td>59</td>\n",
       "      <td>vacuolar transport</td>\n",
       "      <td>22</td>\n",
       "      <td>0.082688</td>\n",
       "      <td>0.071837</td>\n",
       "      <td>7.886810e-01</td>\n",
       "      <td>0.800000</td>\n",
       "      <td>1.000000e+00</td>\n",
       "      <td>0.367586</td>\n",
       "      <td>5.443233e-01</td>\n",
       "      <td>1.083333</td>\n",
       "      <td>...</td>\n",
       "      <td>1.000000</td>\n",
       "      <td>0.057516</td>\n",
       "      <td>0.009860</td>\n",
       "      <td>9.209023e-01</td>\n",
       "      <td>1.600000</td>\n",
       "      <td>1.000000e+00</td>\n",
       "      <td>0.072652</td>\n",
       "      <td>7.875136e-01</td>\n",
       "      <td>1.875000</td>\n",
       "      <td>1.000000e+00</td>\n",
       "    </tr>\n",
       "    <tr>\n",
       "      <td>60</td>\n",
       "      <td>plasma membrane organization</td>\n",
       "      <td>44</td>\n",
       "      <td>0.053500</td>\n",
       "      <td>2.234921</td>\n",
       "      <td>1.349236e-01</td>\n",
       "      <td>3.750000</td>\n",
       "      <td>1.317389e-01</td>\n",
       "      <td>0.676923</td>\n",
       "      <td>4.106483e-01</td>\n",
       "      <td>0.000000</td>\n",
       "      <td>...</td>\n",
       "      <td>0.267158</td>\n",
       "      <td>0.121203</td>\n",
       "      <td>1.766249</td>\n",
       "      <td>1.838470e-01</td>\n",
       "      <td>0.000000</td>\n",
       "      <td>1.547337e-01</td>\n",
       "      <td>1.282591</td>\n",
       "      <td>2.574178e-01</td>\n",
       "      <td>5.833333</td>\n",
       "      <td>1.299954e-01</td>\n",
       "    </tr>\n",
       "    <tr>\n",
       "      <td>61</td>\n",
       "      <td>regulation of cell size</td>\n",
       "      <td>84</td>\n",
       "      <td>0.061608</td>\n",
       "      <td>1.849678</td>\n",
       "      <td>1.738208e-01</td>\n",
       "      <td>2.074074</td>\n",
       "      <td>1.665159e-01</td>\n",
       "      <td>1.128458</td>\n",
       "      <td>2.881045e-01</td>\n",
       "      <td>0.328125</td>\n",
       "      <td>...</td>\n",
       "      <td>0.613223</td>\n",
       "      <td>0.139371</td>\n",
       "      <td>1.552952</td>\n",
       "      <td>2.127002e-01</td>\n",
       "      <td>0.296552</td>\n",
       "      <td>1.955069e-01</td>\n",
       "      <td>1.064189</td>\n",
       "      <td>3.022617e-01</td>\n",
       "      <td>3.095238</td>\n",
       "      <td>1.497642e-01</td>\n",
       "    </tr>\n",
       "  </tbody>\n",
       "</table>\n",
       "<p>62 rows × 47 columns</p>\n",
       "</div>"
      ],
      "text/plain": [
       "                                                GO num_genes     n_med  \\\n",
       "0                 anatomical structure development      1869  0.063210   \n",
       "1     cellular nitrogen compound metabolic process      1125  0.066106   \n",
       "2                             biosynthetic process      1215  0.064167   \n",
       "3                                        transport      1418  0.061445   \n",
       "4                             cell differentiation      1407  0.062169   \n",
       "..                                             ...       ...       ...   \n",
       "57  cytoskeleton-dependent intracellular transport        39  0.078257   \n",
       "58                                 protein folding        24  0.079997   \n",
       "59                              vacuolar transport        22  0.082688   \n",
       "60                    plasma membrane organization        44  0.053500   \n",
       "61                         regulation of cell size        84  0.061608   \n",
       "\n",
       "    low_n_chi2       low_n_p  low_n_OR  low_n_fisher_p  high_n_chi2  \\\n",
       "0    47.597100  5.234585e-12  2.119090    9.044195e-12    30.798977   \n",
       "1    27.176686  1.856844e-07  2.160191    2.565345e-07    13.725623   \n",
       "2    24.268278  8.380800e-07  2.049371    1.208392e-06    10.906164   \n",
       "3    78.406864  8.386028e-19  2.922507    2.109942e-18    63.032457   \n",
       "4    35.819677  2.164507e-09  2.108750    2.815874e-09    22.556113   \n",
       "..         ...           ...       ...             ...          ...   \n",
       "57    1.053241  3.047619e-01  3.000000    2.552356e-01     0.602206   \n",
       "58    0.259304  6.105989e-01  1.250000    1.000000e+00     0.630252   \n",
       "59    0.071837  7.886810e-01  0.800000    1.000000e+00     0.367586   \n",
       "60    2.234921  1.349236e-01  3.750000    1.317389e-01     0.676923   \n",
       "61    1.849678  1.738208e-01  2.074074    1.665159e-01     1.128458   \n",
       "\n",
       "        high_n_p  high_n_OR  ...  high_a_fisher_p     m_med  low_m_chi2  \\\n",
       "0   2.861887e-08   0.424984  ...         0.151994  0.123924   31.725829   \n",
       "1   2.115486e-04   0.465263  ...         0.577807  0.123924   20.743359   \n",
       "2   9.584479e-04   0.504907  ...         0.036100  0.121065   14.266388   \n",
       "3   2.033282e-15   0.223607  ...         0.313113  0.131164   36.424246   \n",
       "4   2.040941e-06   0.427589  ...         0.794031  0.121836   30.594086   \n",
       "..           ...        ...  ...              ...       ...         ...   \n",
       "57  4.377376e-01   0.250000  ...         1.000000  0.149288    0.280893   \n",
       "58  4.272629e-01   0.238095  ...         0.249012  0.226065    0.259304   \n",
       "59  5.443233e-01   1.083333  ...         1.000000  0.057516    0.009860   \n",
       "60  4.106483e-01   0.000000  ...         0.267158  0.121203    1.766249   \n",
       "61  2.881045e-01   0.328125  ...         0.613223  0.139371    1.552952   \n",
       "\n",
       "         low_m_p  low_m_OR  low_m_fisher_p  high_m_chi2      high_m_p  \\\n",
       "0   1.775452e-08  0.465951    5.659953e-09    66.614376  3.301695e-16   \n",
       "1   5.251339e-06  0.453216    2.693546e-06    14.997500  1.076537e-04   \n",
       "2   1.586731e-04  0.547072    1.144259e-04    16.513254  4.831119e-05   \n",
       "3   1.587165e-09  0.406776    3.436219e-10    50.998890  9.241822e-13   \n",
       "4   3.180618e-08  0.433082    9.463105e-09    62.924732  2.147586e-15   \n",
       "..           ...       ...             ...          ...           ...   \n",
       "57  5.961166e-01  0.000000    5.557501e-01     0.000410  9.838518e-01   \n",
       "58  6.105989e-01  0.000000    5.296443e-01     1.235294  2.663799e-01   \n",
       "59  9.209023e-01  1.600000    1.000000e+00     0.072652  7.875136e-01   \n",
       "60  1.838470e-01  0.000000    1.547337e-01     1.282591  2.574178e-01   \n",
       "61  2.127002e-01  0.296552    1.955069e-01     1.064189  3.022617e-01   \n",
       "\n",
       "    high_m_OR  high_m_fisher_p  \n",
       "0    2.764076     4.534195e-15  \n",
       "1    1.881017     1.368559e-04  \n",
       "2    1.896961     5.831116e-05  \n",
       "3    2.687332     3.474776e-12  \n",
       "4    3.069347     2.701717e-14  \n",
       "..        ...              ...  \n",
       "57   2.583333     4.361649e-01  \n",
       "58   4.333333     1.670481e-01  \n",
       "59   1.875000     1.000000e+00  \n",
       "60   5.833333     1.299954e-01  \n",
       "61   3.095238     1.497642e-01  \n",
       "\n",
       "[62 rows x 47 columns]"
      ]
     },
     "execution_count": 117,
     "metadata": {},
     "output_type": "execute_result"
    }
   ],
   "source": [
    "# create a excel table of contingency analysis stats results for each GO\n",
    "table_df=pd.DataFrame(columns=['GO','num_genes',\n",
    "                            'n_med','low_n_chi2','low_n_p',\n",
    "                            'low_n_OR','low_n_fisher_p',\n",
    "                            'high_n_chi2','high_n_p',\n",
    "                            'high_n_OR','high_n_fisher_p',\n",
    "                            'e_med','low_e_chi2','low_e_p',\n",
    "                            'low_e_OR','low_e_fisher_p',\n",
    "                            'high_e_chi2','high_e_p',\n",
    "                            'high_e_OR','high_e_fisher_p',\n",
    "                            'o_med','low_o_chi2','low_o_p',\n",
    "                            'low_o_OR','low_o_fisher_p',\n",
    "                            'high_o_chi2','high_o_p',\n",
    "                            'high_o_OR','high_o_fisher_p',\n",
    "                            'a_med','low_a_chi2','low_a_p',\n",
    "                            'low_a_OR','low_a_fisher_p',\n",
    "                            'high_a_chi2','high_a_p',\n",
    "                            'high_a_OR','high_a_fisher_p',\n",
    "                            'm_med','low_m_chi2','low_m_p',\n",
    "                            'low_m_OR','low_m_fisher_p',\n",
    "                            'high_m_chi2','high_m_p',\n",
    "                            'high_m_OR','high_m_fisher_p'])\n",
    "for GO in go_list:\n",
    "    df=gene_info_df.loc[gene_info_df[GO] == True].copy(deep=True)\n",
    "    num_genes = df.shape[0]\n",
    "    try:\n",
    "        #Neuron\n",
    "        n_med=df[df['Neuron-specific']=='In Neuron']['avg_dNdS'].median()\n",
    "        #lower than threshold \n",
    "        low_n_table=pd.crosstab(df.loc[:,'Neuron-specific'],df.loc[:,'low_dN/dS'])\n",
    "        (low_n_OR,low_n_fisher_p)=stats.fisher_exact(low_n_table)\n",
    "        (low_n_chi2,low_n_p,low_n_dof,low_n_expected_table)=stats.chi2_contingency(low_n_table)\n",
    "        #higher than threshold\n",
    "        high_n_table=pd.crosstab(df.loc[:,'Neuron-specific'],df.loc[:,'high_dN/dS'])\n",
    "        (high_n_OR,high_n_fisher_p)=stats.fisher_exact(high_n_table)\n",
    "        (high_n_chi2,high_n_p,high_n_dof,high_n_expected_table)=stats.chi2_contingency(high_n_table)\n",
    "        \n",
    "        #Endothelia\n",
    "        e_med=df[df['Endothelia-specific']=='In Endothelia']['avg_dNdS'].median()\n",
    "        #lower than threshold \n",
    "        low_e_table=pd.crosstab(df.loc[:,'Endothelia-specific'],df.loc[:,'low_dN/dS'])\n",
    "        (low_e_OR,low_e_fisher_p)=stats.fisher_exact(low_e_table)\n",
    "        (low_e_chi2,low_e_p,low_e_dof,low_e_expected_table)=stats.chi2_contingency(low_e_table)\n",
    "        #higher than threshold\n",
    "        high_e_table=pd.crosstab(df.loc[:,'Endothelia-specific'],df.loc[:,'high_dN/dS'])\n",
    "        (high_e_OR,high_e_fisher_p)=stats.fisher_exact(high_e_table)\n",
    "        (high_e_chi2,high_e_p,high_e_dof,high_e_expected_table)=stats.chi2_contingency(high_e_table)\n",
    "        \n",
    "        #Oligodendrocyte\n",
    "        o_med=df[df['Oligodendrocyte-specific']=='In Oligodendrocyte']['avg_dNdS'].median()\n",
    "        #lower than threshold \n",
    "        low_o_table=pd.crosstab(df.loc[:,'Oligodendrocyte-specific'],df.loc[:,'low_dN/dS'])\n",
    "        (low_o_OR,low_o_fisher_p)=stats.fisher_exact(low_o_table)\n",
    "        (low_o_chi2,low_o_p,low_o_dof,low_o_expected_table)=stats.chi2_contingency(low_o_table)\n",
    "        #higher than threshold\n",
    "        high_o_table=pd.crosstab(df.loc[:,'Oligodendrocyte-specific'],df.loc[:,'high_dN/dS'])\n",
    "        (high_o_OR,high_o_fisher_p)=stats.fisher_exact(high_o_table)\n",
    "        (high_o_chi2,high_o_p,high_o_dof,high_o_expected_table)=stats.chi2_contingency(high_o_table)\n",
    "        \n",
    "        #Astrocyte\n",
    "        a_med=df[df['Astrocyte-specific']=='In Astrocyte']['avg_dNdS'].median()\n",
    "        #lower than threshold \n",
    "        low_a_table=pd.crosstab(df.loc[:,'Astrocyte-specific'],df.loc[:,'low_dN/dS'])\n",
    "        (low_a_OR,low_a_fisher_p)=stats.fisher_exact(low_a_table)\n",
    "        (low_a_chi2,low_a_p,low_a_dof,low_a_expected_table)=stats.chi2_contingency(low_a_table)\n",
    "        #higher than threshold\n",
    "        high_a_table=pd.crosstab(df.loc[:,'Astrocyte-specific'],df.loc[:,'high_dN/dS'])\n",
    "        (high_a_OR,high_a_fisher_p)=stats.fisher_exact(high_a_table)\n",
    "        (high_a_chi2,high_a_p,high_a_dof,high_a_expected_table)=stats.chi2_contingency(high_a_table)\n",
    "        \n",
    "        #Microglia\n",
    "        m_med=df[df['Microglia-specific']=='In Microglia']['avg_dNdS'].median()\n",
    "        #lower than threshold \n",
    "        low_m_table=pd.crosstab(df.loc[:,'Microglia-specific'],df.loc[:,'low_dN/dS'])\n",
    "        (low_m_OR,low_m_fisher_p)=stats.fisher_exact(low_m_table)\n",
    "        (low_m_chi2,low_m_p,low_m_dof,low_m_expected_table)=stats.chi2_contingency(low_m_table)\n",
    "        #higher than threshold\n",
    "        high_m_table=pd.crosstab(df.loc[:,'Microglia-specific'],df.loc[:,'high_dN/dS'])\n",
    "        (high_m_OR,high_m_fisher_p)=stats.fisher_exact(high_m_table)\n",
    "        (high_m_chi2,high_m_p,high_m_dof,high_m_expected_table)=stats.chi2_contingency(high_m_table)\n",
    "        \n",
    "        table_df=table_df.append({'GO':GO,'num_genes':num_genes,\n",
    "                                  'n_med':n_med,'low_n_chi2':low_n_chi2,'low_n_p':low_n_p,\n",
    "                                  'low_n_OR':low_n_OR,'low_n_fisher_p':low_n_fisher_p,\n",
    "                                  'high_n_chi2':high_n_chi2,'high_n_p':high_n_p,\n",
    "                                  'high_n_OR':high_n_OR,'high_n_fisher_p':high_n_fisher_p,\n",
    "                                  'e_med':e_med,'low_e_chi2':low_e_chi2,'low_e_p':low_e_p,\n",
    "                                  'low_e_OR':low_e_OR,'low_e_fisher_p':low_e_fisher_p,\n",
    "                                  'high_e_chi2':high_e_chi2,'high_e_p':high_e_p,\n",
    "                                  'high_e_OR':high_e_OR,'high_e_fisher_p':high_e_fisher_p,\n",
    "                                  'o_med':o_med,'low_o_chi2':low_o_chi2,'low_o_p':low_o_p,\n",
    "                                  'low_o_OR':low_o_OR,'low_o_fisher_p':low_o_fisher_p,\n",
    "                                  'high_o_chi2':high_o_chi2,'high_o_p':high_o_p,\n",
    "                                  'high_o_OR':high_o_OR,'high_o_fisher_p':high_o_fisher_p,\n",
    "                                  'a_med':a_med,'low_a_chi2':low_a_chi2,'low_a_p':low_a_p,\n",
    "                                  'low_a_OR':low_a_OR,'low_a_fisher_p':low_a_fisher_p,\n",
    "                                  'high_a_chi2':high_a_chi2,'high_a_p':high_a_p,\n",
    "                                  'high_a_OR':high_a_OR,'high_a_fisher_p':high_a_fisher_p,\n",
    "                                  'm_med':m_med,'low_m_chi2':low_m_chi2,'low_m_p':low_m_p,\n",
    "                                  'low_m_OR':low_m_OR,'low_m_fisher_p':low_m_fisher_p,\n",
    "                                  'high_m_chi2':high_m_chi2,'high_m_p':high_m_p,\n",
    "                                  'high_m_OR':high_m_OR,'high_m_fisher_p':high_m_fisher_p},ignore_index=True)\n",
    "    except ValueError:\n",
    "        pass\n",
    "table_df"
   ]
  },
  {
   "cell_type": "code",
   "execution_count": 118,
   "metadata": {},
   "outputs": [],
   "source": [
    "table_df.to_excel('GO_contingency_stats.xlsx')"
   ]
  },
  {
   "cell_type": "code",
   "execution_count": 75,
   "metadata": {},
   "outputs": [
    {
     "data": {
      "text/plain": [
       "Text(0.5, 0.98, 'Five Celltypes Distribution of Average dN/dS Scores of Genes Related to\\nanatomical structure development')"
      ]
     },
     "execution_count": 75,
     "metadata": {},
     "output_type": "execute_result"
    },
    {
     "data": {
      "text/plain": [
       "[<matplotlib.lines.Line2D at 0x1c2d763bd0>]"
      ]
     },
     "execution_count": 75,
     "metadata": {},
     "output_type": "execute_result"
    },
    {
     "data": {
      "text/plain": [
       "[<matplotlib.lines.Line2D at 0x1c2d76d690>]"
      ]
     },
     "execution_count": 75,
     "metadata": {},
     "output_type": "execute_result"
    },
    {
     "data": {
      "text/plain": [
       "[<matplotlib.lines.Line2D at 0x1c2d6f5ad0>]"
      ]
     },
     "execution_count": 75,
     "metadata": {},
     "output_type": "execute_result"
    },
    {
     "data": {
      "text/plain": [
       "[<matplotlib.lines.Line2D at 0x1c2d784990>]"
      ]
     },
     "execution_count": 75,
     "metadata": {},
     "output_type": "execute_result"
    },
    {
     "data": {
      "text/plain": [
       "[<matplotlib.lines.Line2D at 0x1c2d7840d0>]"
      ]
     },
     "execution_count": 75,
     "metadata": {},
     "output_type": "execute_result"
    },
    {
     "data": {
      "text/plain": [
       "<matplotlib.lines.Line2D at 0x1c2d7746d0>"
      ]
     },
     "execution_count": 75,
     "metadata": {},
     "output_type": "execute_result"
    },
    {
     "data": {
      "text/plain": [
       "<matplotlib.lines.Line2D at 0x1c2d774d50>"
      ]
     },
     "execution_count": 75,
     "metadata": {},
     "output_type": "execute_result"
    },
    {
     "data": {
      "text/plain": [
       "<matplotlib.lines.Line2D at 0x1c2d774790>"
      ]
     },
     "execution_count": 75,
     "metadata": {},
     "output_type": "execute_result"
    },
    {
     "data": {
      "text/plain": [
       "<matplotlib.lines.Line2D at 0x1c2d901810>"
      ]
     },
     "execution_count": 75,
     "metadata": {},
     "output_type": "execute_result"
    },
    {
     "data": {
      "text/plain": [
       "Text(0.5, 0, 'dN/dS')"
      ]
     },
     "execution_count": 75,
     "metadata": {},
     "output_type": "execute_result"
    },
    {
     "data": {
      "text/plain": [
       "Text(0, 0.5, 'number of genes')"
      ]
     },
     "execution_count": 75,
     "metadata": {},
     "output_type": "execute_result"
    },
    {
     "data": {
      "text/plain": [
       "<matplotlib.legend.Legend at 0x1c2d6f7b90>"
      ]
     },
     "execution_count": 75,
     "metadata": {},
     "output_type": "execute_result"
    },
    {
     "data": {
      "text/plain": [
       "Text(0.5, 0.98, 'Five Celltypes Distribution of Average dN/dS Scores of Genes Related to\\ncellular nitrogen compound metabolic process')"
      ]
     },
     "execution_count": 75,
     "metadata": {},
     "output_type": "execute_result"
    },
    {
     "data": {
      "text/plain": [
       "[<matplotlib.lines.Line2D at 0x1c2e437e10>]"
      ]
     },
     "execution_count": 75,
     "metadata": {},
     "output_type": "execute_result"
    },
    {
     "data": {
      "text/plain": [
       "[<matplotlib.lines.Line2D at 0x1c2e48d9d0>]"
      ]
     },
     "execution_count": 75,
     "metadata": {},
     "output_type": "execute_result"
    },
    {
     "data": {
      "text/plain": [
       "[<matplotlib.lines.Line2D at 0x1c2e437a50>]"
      ]
     },
     "execution_count": 75,
     "metadata": {},
     "output_type": "execute_result"
    },
    {
     "data": {
      "text/plain": [
       "[<matplotlib.lines.Line2D at 0x1c2e48db50>]"
      ]
     },
     "execution_count": 75,
     "metadata": {},
     "output_type": "execute_result"
    },
    {
     "data": {
      "text/plain": [
       "[<matplotlib.lines.Line2D at 0x1c2e48d7d0>]"
      ]
     },
     "execution_count": 75,
     "metadata": {},
     "output_type": "execute_result"
    },
    {
     "data": {
      "text/plain": [
       "<matplotlib.lines.Line2D at 0x1c2e421f90>"
      ]
     },
     "execution_count": 75,
     "metadata": {},
     "output_type": "execute_result"
    },
    {
     "data": {
      "text/plain": [
       "<matplotlib.lines.Line2D at 0x1c2e435690>"
      ]
     },
     "execution_count": 75,
     "metadata": {},
     "output_type": "execute_result"
    },
    {
     "data": {
      "text/plain": [
       "<matplotlib.lines.Line2D at 0x1c2e435c50>"
      ]
     },
     "execution_count": 75,
     "metadata": {},
     "output_type": "execute_result"
    },
    {
     "data": {
      "text/plain": [
       "<matplotlib.lines.Line2D at 0x1c2e435d90>"
      ]
     },
     "execution_count": 75,
     "metadata": {},
     "output_type": "execute_result"
    },
    {
     "data": {
      "text/plain": [
       "Text(0.5, 0, 'dN/dS')"
      ]
     },
     "execution_count": 75,
     "metadata": {},
     "output_type": "execute_result"
    },
    {
     "data": {
      "text/plain": [
       "Text(0, 0.5, 'number of genes')"
      ]
     },
     "execution_count": 75,
     "metadata": {},
     "output_type": "execute_result"
    },
    {
     "data": {
      "text/plain": [
       "<matplotlib.legend.Legend at 0x1c2e435490>"
      ]
     },
     "execution_count": 75,
     "metadata": {},
     "output_type": "execute_result"
    },
    {
     "data": {
      "text/plain": [
       "Text(0.5, 0.98, 'Five Celltypes Distribution of Average dN/dS Scores of Genes Related to\\nbiosynthetic process')"
      ]
     },
     "execution_count": 75,
     "metadata": {},
     "output_type": "execute_result"
    },
    {
     "data": {
      "text/plain": [
       "[<matplotlib.lines.Line2D at 0x1c2f21b8d0>]"
      ]
     },
     "execution_count": 75,
     "metadata": {},
     "output_type": "execute_result"
    },
    {
     "data": {
      "text/plain": [
       "[<matplotlib.lines.Line2D at 0x1c2f234d50>]"
      ]
     },
     "execution_count": 75,
     "metadata": {},
     "output_type": "execute_result"
    },
    {
     "data": {
      "text/plain": [
       "[<matplotlib.lines.Line2D at 0x1c2f234bd0>]"
      ]
     },
     "execution_count": 75,
     "metadata": {},
     "output_type": "execute_result"
    },
    {
     "data": {
      "text/plain": [
       "[<matplotlib.lines.Line2D at 0x1c2e48d310>]"
      ]
     },
     "execution_count": 75,
     "metadata": {},
     "output_type": "execute_result"
    },
    {
     "data": {
      "text/plain": [
       "[<matplotlib.lines.Line2D at 0x1c2f212990>]"
      ]
     },
     "execution_count": 75,
     "metadata": {},
     "output_type": "execute_result"
    },
    {
     "data": {
      "text/plain": [
       "<matplotlib.lines.Line2D at 0x1c2f212850>"
      ]
     },
     "execution_count": 75,
     "metadata": {},
     "output_type": "execute_result"
    },
    {
     "data": {
      "text/plain": [
       "<matplotlib.lines.Line2D at 0x1c2f214ad0>"
      ]
     },
     "execution_count": 75,
     "metadata": {},
     "output_type": "execute_result"
    },
    {
     "data": {
      "text/plain": [
       "<matplotlib.lines.Line2D at 0x1c2f214f50>"
      ]
     },
     "execution_count": 75,
     "metadata": {},
     "output_type": "execute_result"
    },
    {
     "data": {
      "text/plain": [
       "<matplotlib.lines.Line2D at 0x1c2f21d410>"
      ]
     },
     "execution_count": 75,
     "metadata": {},
     "output_type": "execute_result"
    },
    {
     "data": {
      "text/plain": [
       "Text(0.5, 0, 'dN/dS')"
      ]
     },
     "execution_count": 75,
     "metadata": {},
     "output_type": "execute_result"
    },
    {
     "data": {
      "text/plain": [
       "Text(0, 0.5, 'number of genes')"
      ]
     },
     "execution_count": 75,
     "metadata": {},
     "output_type": "execute_result"
    },
    {
     "data": {
      "text/plain": [
       "<matplotlib.legend.Legend at 0x1c2f2147d0>"
      ]
     },
     "execution_count": 75,
     "metadata": {},
     "output_type": "execute_result"
    },
    {
     "data": {
      "text/plain": [
       "Text(0.5, 0.98, 'Five Celltypes Distribution of Average dN/dS Scores of Genes Related to\\ntransport')"
      ]
     },
     "execution_count": 75,
     "metadata": {},
     "output_type": "execute_result"
    },
    {
     "data": {
      "text/plain": [
       "[<matplotlib.lines.Line2D at 0x1c2fc17bd0>]"
      ]
     },
     "execution_count": 75,
     "metadata": {},
     "output_type": "execute_result"
    },
    {
     "data": {
      "text/plain": [
       "[<matplotlib.lines.Line2D at 0x1c2fc0ad90>]"
      ]
     },
     "execution_count": 75,
     "metadata": {},
     "output_type": "execute_result"
    },
    {
     "data": {
      "text/plain": [
       "[<matplotlib.lines.Line2D at 0x1c2fd30cd0>]"
      ]
     },
     "execution_count": 75,
     "metadata": {},
     "output_type": "execute_result"
    },
    {
     "data": {
      "text/plain": [
       "[<matplotlib.lines.Line2D at 0x1c2fc35990>]"
      ]
     },
     "execution_count": 75,
     "metadata": {},
     "output_type": "execute_result"
    },
    {
     "data": {
      "text/plain": [
       "[<matplotlib.lines.Line2D at 0x1c2fc35c50>]"
      ]
     },
     "execution_count": 75,
     "metadata": {},
     "output_type": "execute_result"
    },
    {
     "data": {
      "text/plain": [
       "<matplotlib.lines.Line2D at 0x1c2f9e82d0>"
      ]
     },
     "execution_count": 75,
     "metadata": {},
     "output_type": "execute_result"
    },
    {
     "data": {
      "text/plain": [
       "<matplotlib.lines.Line2D at 0x1c2fc358d0>"
      ]
     },
     "execution_count": 75,
     "metadata": {},
     "output_type": "execute_result"
    },
    {
     "data": {
      "text/plain": [
       "<matplotlib.lines.Line2D at 0x1c2fd05e50>"
      ]
     },
     "execution_count": 75,
     "metadata": {},
     "output_type": "execute_result"
    },
    {
     "data": {
      "text/plain": [
       "<matplotlib.lines.Line2D at 0x1c2fd0b990>"
      ]
     },
     "execution_count": 75,
     "metadata": {},
     "output_type": "execute_result"
    },
    {
     "data": {
      "text/plain": [
       "Text(0.5, 0, 'dN/dS')"
      ]
     },
     "execution_count": 75,
     "metadata": {},
     "output_type": "execute_result"
    },
    {
     "data": {
      "text/plain": [
       "Text(0, 0.5, 'number of genes')"
      ]
     },
     "execution_count": 75,
     "metadata": {},
     "output_type": "execute_result"
    },
    {
     "data": {
      "text/plain": [
       "<matplotlib.legend.Legend at 0x1c2fd05bd0>"
      ]
     },
     "execution_count": 75,
     "metadata": {},
     "output_type": "execute_result"
    },
    {
     "data": {
      "text/plain": [
       "Text(0.5, 0.98, 'Five Celltypes Distribution of Average dN/dS Scores of Genes Related to\\ncell differentiation')"
      ]
     },
     "execution_count": 75,
     "metadata": {},
     "output_type": "execute_result"
    },
    {
     "data": {
      "text/plain": [
       "[<matplotlib.lines.Line2D at 0x1c3099ec50>]"
      ]
     },
     "execution_count": 75,
     "metadata": {},
     "output_type": "execute_result"
    },
    {
     "data": {
      "text/plain": [
       "[<matplotlib.lines.Line2D at 0x1c309af350>]"
      ]
     },
     "execution_count": 75,
     "metadata": {},
     "output_type": "execute_result"
    },
    {
     "data": {
      "text/plain": [
       "[<matplotlib.lines.Line2D at 0x1c309cce10>]"
      ]
     },
     "execution_count": 75,
     "metadata": {},
     "output_type": "execute_result"
    },
    {
     "data": {
      "text/plain": [
       "[<matplotlib.lines.Line2D at 0x1c309cccd0>]"
      ]
     },
     "execution_count": 75,
     "metadata": {},
     "output_type": "execute_result"
    },
    {
     "data": {
      "text/plain": [
       "[<matplotlib.lines.Line2D at 0x1c309ccc10>]"
      ]
     },
     "execution_count": 75,
     "metadata": {},
     "output_type": "execute_result"
    },
    {
     "data": {
      "text/plain": [
       "<matplotlib.lines.Line2D at 0x1c30a7ccd0>"
      ]
     },
     "execution_count": 75,
     "metadata": {},
     "output_type": "execute_result"
    },
    {
     "data": {
      "text/plain": [
       "<matplotlib.lines.Line2D at 0x1c30a7cdd0>"
      ]
     },
     "execution_count": 75,
     "metadata": {},
     "output_type": "execute_result"
    },
    {
     "data": {
      "text/plain": [
       "<matplotlib.lines.Line2D at 0x1c30a7e890>"
      ]
     },
     "execution_count": 75,
     "metadata": {},
     "output_type": "execute_result"
    },
    {
     "data": {
      "text/plain": [
       "<matplotlib.lines.Line2D at 0x1c30a7ee10>"
      ]
     },
     "execution_count": 75,
     "metadata": {},
     "output_type": "execute_result"
    },
    {
     "data": {
      "text/plain": [
       "Text(0.5, 0, 'dN/dS')"
      ]
     },
     "execution_count": 75,
     "metadata": {},
     "output_type": "execute_result"
    },
    {
     "data": {
      "text/plain": [
       "Text(0, 0.5, 'number of genes')"
      ]
     },
     "execution_count": 75,
     "metadata": {},
     "output_type": "execute_result"
    },
    {
     "data": {
      "text/plain": [
       "<matplotlib.legend.Legend at 0x1c30a7e2d0>"
      ]
     },
     "execution_count": 75,
     "metadata": {},
     "output_type": "execute_result"
    },
    {
     "data": {
      "text/plain": [
       "Text(0.5, 0.98, 'Five Celltypes Distribution of Average dN/dS Scores of Genes Related to\\nresponse to stress')"
      ]
     },
     "execution_count": 75,
     "metadata": {},
     "output_type": "execute_result"
    },
    {
     "data": {
      "text/plain": [
       "[<matplotlib.lines.Line2D at 0x1c317a1e10>]"
      ]
     },
     "execution_count": 75,
     "metadata": {},
     "output_type": "execute_result"
    },
    {
     "data": {
      "text/plain": [
       "[<matplotlib.lines.Line2D at 0x1c318109d0>]"
      ]
     },
     "execution_count": 75,
     "metadata": {},
     "output_type": "execute_result"
    },
    {
     "data": {
      "text/plain": [
       "[<matplotlib.lines.Line2D at 0x1c31810f50>]"
      ]
     },
     "execution_count": 75,
     "metadata": {},
     "output_type": "execute_result"
    },
    {
     "data": {
      "text/plain": [
       "[<matplotlib.lines.Line2D at 0x1c3179c590>]"
      ]
     },
     "execution_count": 75,
     "metadata": {},
     "output_type": "execute_result"
    },
    {
     "data": {
      "text/plain": [
       "[<matplotlib.lines.Line2D at 0x1c3179ca90>]"
      ]
     },
     "execution_count": 75,
     "metadata": {},
     "output_type": "execute_result"
    },
    {
     "data": {
      "text/plain": [
       "<matplotlib.lines.Line2D at 0x1c3179cd10>"
      ]
     },
     "execution_count": 75,
     "metadata": {},
     "output_type": "execute_result"
    },
    {
     "data": {
      "text/plain": [
       "<matplotlib.lines.Line2D at 0x1c31810a90>"
      ]
     },
     "execution_count": 75,
     "metadata": {},
     "output_type": "execute_result"
    },
    {
     "data": {
      "text/plain": [
       "<matplotlib.lines.Line2D at 0x1c31810a50>"
      ]
     },
     "execution_count": 75,
     "metadata": {},
     "output_type": "execute_result"
    },
    {
     "data": {
      "text/plain": [
       "<matplotlib.lines.Line2D at 0x1c317a0d10>"
      ]
     },
     "execution_count": 75,
     "metadata": {},
     "output_type": "execute_result"
    },
    {
     "data": {
      "text/plain": [
       "Text(0.5, 0, 'dN/dS')"
      ]
     },
     "execution_count": 75,
     "metadata": {},
     "output_type": "execute_result"
    },
    {
     "data": {
      "text/plain": [
       "Text(0, 0.5, 'number of genes')"
      ]
     },
     "execution_count": 75,
     "metadata": {},
     "output_type": "execute_result"
    },
    {
     "data": {
      "text/plain": [
       "<matplotlib.legend.Legend at 0x1c317a0750>"
      ]
     },
     "execution_count": 75,
     "metadata": {},
     "output_type": "execute_result"
    },
    {
     "data": {
      "text/plain": [
       "Text(0.5, 0.98, 'Five Celltypes Distribution of Average dN/dS Scores of Genes Related to\\ncellular protein modification process')"
      ]
     },
     "execution_count": 75,
     "metadata": {},
     "output_type": "execute_result"
    },
    {
     "data": {
      "text/plain": [
       "[<matplotlib.lines.Line2D at 0x1c32498750>]"
      ]
     },
     "execution_count": 75,
     "metadata": {},
     "output_type": "execute_result"
    },
    {
     "data": {
      "text/plain": [
       "[<matplotlib.lines.Line2D at 0x1c31810310>]"
      ]
     },
     "execution_count": 75,
     "metadata": {},
     "output_type": "execute_result"
    },
    {
     "data": {
      "text/plain": [
       "[<matplotlib.lines.Line2D at 0x1c324a3b10>]"
      ]
     },
     "execution_count": 75,
     "metadata": {},
     "output_type": "execute_result"
    },
    {
     "data": {
      "text/plain": [
       "[<matplotlib.lines.Line2D at 0x1c324a3a90>]"
      ]
     },
     "execution_count": 75,
     "metadata": {},
     "output_type": "execute_result"
    },
    {
     "data": {
      "text/plain": [
       "[<matplotlib.lines.Line2D at 0x1c324b4d50>]"
      ]
     },
     "execution_count": 75,
     "metadata": {},
     "output_type": "execute_result"
    },
    {
     "data": {
      "text/plain": [
       "<matplotlib.lines.Line2D at 0x1c324d8310>"
      ]
     },
     "execution_count": 75,
     "metadata": {},
     "output_type": "execute_result"
    },
    {
     "data": {
      "text/plain": [
       "<matplotlib.lines.Line2D at 0x1c324d8a10>"
      ]
     },
     "execution_count": 75,
     "metadata": {},
     "output_type": "execute_result"
    },
    {
     "data": {
      "text/plain": [
       "<matplotlib.lines.Line2D at 0x1c324d88d0>"
      ]
     },
     "execution_count": 75,
     "metadata": {},
     "output_type": "execute_result"
    },
    {
     "data": {
      "text/plain": [
       "<matplotlib.lines.Line2D at 0x1c324d8fd0>"
      ]
     },
     "execution_count": 75,
     "metadata": {},
     "output_type": "execute_result"
    },
    {
     "data": {
      "text/plain": [
       "Text(0.5, 0, 'dN/dS')"
      ]
     },
     "execution_count": 75,
     "metadata": {},
     "output_type": "execute_result"
    },
    {
     "data": {
      "text/plain": [
       "Text(0, 0.5, 'number of genes')"
      ]
     },
     "execution_count": 75,
     "metadata": {},
     "output_type": "execute_result"
    },
    {
     "data": {
      "text/plain": [
       "<matplotlib.legend.Legend at 0x1c324b8110>"
      ]
     },
     "execution_count": 75,
     "metadata": {},
     "output_type": "execute_result"
    },
    {
     "data": {
      "text/plain": [
       "Text(0.5, 0.98, 'Five Celltypes Distribution of Average dN/dS Scores of Genes Related to\\ncellular component assembly')"
      ]
     },
     "execution_count": 75,
     "metadata": {},
     "output_type": "execute_result"
    },
    {
     "data": {
      "text/plain": [
       "[<matplotlib.lines.Line2D at 0x1c324bc990>]"
      ]
     },
     "execution_count": 75,
     "metadata": {},
     "output_type": "execute_result"
    },
    {
     "data": {
      "text/plain": [
       "[<matplotlib.lines.Line2D at 0x1c33275a50>]"
      ]
     },
     "execution_count": 75,
     "metadata": {},
     "output_type": "execute_result"
    },
    {
     "data": {
      "text/plain": [
       "[<matplotlib.lines.Line2D at 0x1c33207b10>]"
      ]
     },
     "execution_count": 75,
     "metadata": {},
     "output_type": "execute_result"
    },
    {
     "data": {
      "text/plain": [
       "[<matplotlib.lines.Line2D at 0x1c3323a690>]"
      ]
     },
     "execution_count": 75,
     "metadata": {},
     "output_type": "execute_result"
    },
    {
     "data": {
      "text/plain": [
       "[<matplotlib.lines.Line2D at 0x1c33207fd0>]"
      ]
     },
     "execution_count": 75,
     "metadata": {},
     "output_type": "execute_result"
    },
    {
     "data": {
      "text/plain": [
       "<matplotlib.lines.Line2D at 0x1c33247750>"
      ]
     },
     "execution_count": 75,
     "metadata": {},
     "output_type": "execute_result"
    },
    {
     "data": {
      "text/plain": [
       "<matplotlib.lines.Line2D at 0x1c33247950>"
      ]
     },
     "execution_count": 75,
     "metadata": {},
     "output_type": "execute_result"
    },
    {
     "data": {
      "text/plain": [
       "<matplotlib.lines.Line2D at 0x1c332b6190>"
      ]
     },
     "execution_count": 75,
     "metadata": {},
     "output_type": "execute_result"
    },
    {
     "data": {
      "text/plain": [
       "<matplotlib.lines.Line2D at 0x1c332b68d0>"
      ]
     },
     "execution_count": 75,
     "metadata": {},
     "output_type": "execute_result"
    },
    {
     "data": {
      "text/plain": [
       "Text(0.5, 0, 'dN/dS')"
      ]
     },
     "execution_count": 75,
     "metadata": {},
     "output_type": "execute_result"
    },
    {
     "data": {
      "text/plain": [
       "Text(0, 0.5, 'number of genes')"
      ]
     },
     "execution_count": 75,
     "metadata": {},
     "output_type": "execute_result"
    },
    {
     "data": {
      "text/plain": [
       "<matplotlib.legend.Legend at 0x1c3323d510>"
      ]
     },
     "execution_count": 75,
     "metadata": {},
     "output_type": "execute_result"
    },
    {
     "data": {
      "text/plain": [
       "Text(0.5, 0.98, 'Five Celltypes Distribution of Average dN/dS Scores of Genes Related to\\nimmune system process')"
      ]
     },
     "execution_count": 75,
     "metadata": {},
     "output_type": "execute_result"
    },
    {
     "data": {
      "text/plain": [
       "[<matplotlib.lines.Line2D at 0x1c3481fbd0>]"
      ]
     },
     "execution_count": 75,
     "metadata": {},
     "output_type": "execute_result"
    },
    {
     "data": {
      "text/plain": [
       "[<matplotlib.lines.Line2D at 0x1c34837f90>]"
      ]
     },
     "execution_count": 75,
     "metadata": {},
     "output_type": "execute_result"
    },
    {
     "data": {
      "text/plain": [
       "[<matplotlib.lines.Line2D at 0x1c34818750>]"
      ]
     },
     "execution_count": 75,
     "metadata": {},
     "output_type": "execute_result"
    },
    {
     "data": {
      "text/plain": [
       "[<matplotlib.lines.Line2D at 0x1c34818950>]"
      ]
     },
     "execution_count": 75,
     "metadata": {},
     "output_type": "execute_result"
    },
    {
     "data": {
      "text/plain": [
       "[<matplotlib.lines.Line2D at 0x1c34818c10>]"
      ]
     },
     "execution_count": 75,
     "metadata": {},
     "output_type": "execute_result"
    },
    {
     "data": {
      "text/plain": [
       "<matplotlib.lines.Line2D at 0x1c34818e10>"
      ]
     },
     "execution_count": 75,
     "metadata": {},
     "output_type": "execute_result"
    },
    {
     "data": {
      "text/plain": [
       "<matplotlib.lines.Line2D at 0x1c34829d50>"
      ]
     },
     "execution_count": 75,
     "metadata": {},
     "output_type": "execute_result"
    },
    {
     "data": {
      "text/plain": [
       "<matplotlib.lines.Line2D at 0x1c34831450>"
      ]
     },
     "execution_count": 75,
     "metadata": {},
     "output_type": "execute_result"
    },
    {
     "data": {
      "text/plain": [
       "<matplotlib.lines.Line2D at 0x1c348312d0>"
      ]
     },
     "execution_count": 75,
     "metadata": {},
     "output_type": "execute_result"
    },
    {
     "data": {
      "text/plain": [
       "Text(0.5, 0, 'dN/dS')"
      ]
     },
     "execution_count": 75,
     "metadata": {},
     "output_type": "execute_result"
    },
    {
     "data": {
      "text/plain": [
       "Text(0, 0.5, 'number of genes')"
      ]
     },
     "execution_count": 75,
     "metadata": {},
     "output_type": "execute_result"
    },
    {
     "data": {
      "text/plain": [
       "<matplotlib.legend.Legend at 0x1c347f2590>"
      ]
     },
     "execution_count": 75,
     "metadata": {},
     "output_type": "execute_result"
    },
    {
     "data": {
      "text/plain": [
       "Text(0.5, 0.98, 'Five Celltypes Distribution of Average dN/dS Scores of Genes Related to\\ncatabolic process')"
      ]
     },
     "execution_count": 75,
     "metadata": {},
     "output_type": "execute_result"
    },
    {
     "data": {
      "text/plain": [
       "[<matplotlib.lines.Line2D at 0x1c34837950>]"
      ]
     },
     "execution_count": 75,
     "metadata": {},
     "output_type": "execute_result"
    },
    {
     "data": {
      "text/plain": [
       "[<matplotlib.lines.Line2D at 0x1c35e34cd0>]"
      ]
     },
     "execution_count": 75,
     "metadata": {},
     "output_type": "execute_result"
    },
    {
     "data": {
      "text/plain": [
       "[<matplotlib.lines.Line2D at 0x1c35dff750>]"
      ]
     },
     "execution_count": 75,
     "metadata": {},
     "output_type": "execute_result"
    },
    {
     "data": {
      "text/plain": [
       "[<matplotlib.lines.Line2D at 0x1c35dffa10>]"
      ]
     },
     "execution_count": 75,
     "metadata": {},
     "output_type": "execute_result"
    },
    {
     "data": {
      "text/plain": [
       "[<matplotlib.lines.Line2D at 0x1c35dffd10>]"
      ]
     },
     "execution_count": 75,
     "metadata": {},
     "output_type": "execute_result"
    },
    {
     "data": {
      "text/plain": [
       "<matplotlib.lines.Line2D at 0x1c35e09810>"
      ]
     },
     "execution_count": 75,
     "metadata": {},
     "output_type": "execute_result"
    },
    {
     "data": {
      "text/plain": [
       "<matplotlib.lines.Line2D at 0x1c35e09dd0>"
      ]
     },
     "execution_count": 75,
     "metadata": {},
     "output_type": "execute_result"
    },
    {
     "data": {
      "text/plain": [
       "<matplotlib.lines.Line2D at 0x1c35e0b350>"
      ]
     },
     "execution_count": 75,
     "metadata": {},
     "output_type": "execute_result"
    },
    {
     "data": {
      "text/plain": [
       "<matplotlib.lines.Line2D at 0x1c35e0b290>"
      ]
     },
     "execution_count": 75,
     "metadata": {},
     "output_type": "execute_result"
    },
    {
     "data": {
      "text/plain": [
       "Text(0.5, 0, 'dN/dS')"
      ]
     },
     "execution_count": 75,
     "metadata": {},
     "output_type": "execute_result"
    },
    {
     "data": {
      "text/plain": [
       "Text(0, 0.5, 'number of genes')"
      ]
     },
     "execution_count": 75,
     "metadata": {},
     "output_type": "execute_result"
    },
    {
     "data": {
      "text/plain": [
       "<matplotlib.legend.Legend at 0x1c35dffc50>"
      ]
     },
     "execution_count": 75,
     "metadata": {},
     "output_type": "execute_result"
    },
    {
     "data": {
      "text/plain": [
       "Text(0.5, 0.98, 'Five Celltypes Distribution of Average dN/dS Scores of Genes Related to\\nnervous system process')"
      ]
     },
     "execution_count": 75,
     "metadata": {},
     "output_type": "execute_result"
    },
    {
     "data": {
      "text/plain": [
       "[<matplotlib.lines.Line2D at 0x1c37617d90>]"
      ]
     },
     "execution_count": 75,
     "metadata": {},
     "output_type": "execute_result"
    },
    {
     "data": {
      "text/plain": [
       "[<matplotlib.lines.Line2D at 0x1c376967d0>]"
      ]
     },
     "execution_count": 75,
     "metadata": {},
     "output_type": "execute_result"
    },
    {
     "data": {
      "text/plain": [
       "[<matplotlib.lines.Line2D at 0x1c365f8c50>]"
      ]
     },
     "execution_count": 75,
     "metadata": {},
     "output_type": "execute_result"
    },
    {
     "data": {
      "text/plain": [
       "[<matplotlib.lines.Line2D at 0x1c37696150>]"
      ]
     },
     "execution_count": 75,
     "metadata": {},
     "output_type": "execute_result"
    },
    {
     "data": {
      "text/plain": [
       "[<matplotlib.lines.Line2D at 0x1c37696850>]"
      ]
     },
     "execution_count": 75,
     "metadata": {},
     "output_type": "execute_result"
    },
    {
     "data": {
      "text/plain": [
       "<matplotlib.lines.Line2D at 0x1c37738f10>"
      ]
     },
     "execution_count": 75,
     "metadata": {},
     "output_type": "execute_result"
    },
    {
     "data": {
      "text/plain": [
       "<matplotlib.lines.Line2D at 0x1c37738d10>"
      ]
     },
     "execution_count": 75,
     "metadata": {},
     "output_type": "execute_result"
    },
    {
     "data": {
      "text/plain": [
       "<matplotlib.lines.Line2D at 0x1c37755a90>"
      ]
     },
     "execution_count": 75,
     "metadata": {},
     "output_type": "execute_result"
    },
    {
     "data": {
      "text/plain": [
       "<matplotlib.lines.Line2D at 0x1c37755990>"
      ]
     },
     "execution_count": 75,
     "metadata": {},
     "output_type": "execute_result"
    },
    {
     "data": {
      "text/plain": [
       "Text(0.5, 0, 'dN/dS')"
      ]
     },
     "execution_count": 75,
     "metadata": {},
     "output_type": "execute_result"
    },
    {
     "data": {
      "text/plain": [
       "Text(0, 0.5, 'number of genes')"
      ]
     },
     "execution_count": 75,
     "metadata": {},
     "output_type": "execute_result"
    },
    {
     "data": {
      "text/plain": [
       "<matplotlib.legend.Legend at 0x1c377553d0>"
      ]
     },
     "execution_count": 75,
     "metadata": {},
     "output_type": "execute_result"
    },
    {
     "data": {
      "text/plain": [
       "Text(0.5, 0.98, 'Five Celltypes Distribution of Average dN/dS Scores of Genes Related to\\ncell death')"
      ]
     },
     "execution_count": 75,
     "metadata": {},
     "output_type": "execute_result"
    },
    {
     "data": {
      "text/plain": [
       "[<matplotlib.lines.Line2D at 0x1c39fd6ad0>]"
      ]
     },
     "execution_count": 75,
     "metadata": {},
     "output_type": "execute_result"
    },
    {
     "data": {
      "text/plain": [
       "[<matplotlib.lines.Line2D at 0x1c39feee10>]"
      ]
     },
     "execution_count": 75,
     "metadata": {},
     "output_type": "execute_result"
    },
    {
     "data": {
      "text/plain": [
       "[<matplotlib.lines.Line2D at 0x1c3a02ec90>]"
      ]
     },
     "execution_count": 75,
     "metadata": {},
     "output_type": "execute_result"
    },
    {
     "data": {
      "text/plain": [
       "[<matplotlib.lines.Line2D at 0x1c3a0454d0>]"
      ]
     },
     "execution_count": 75,
     "metadata": {},
     "output_type": "execute_result"
    },
    {
     "data": {
      "text/plain": [
       "[<matplotlib.lines.Line2D at 0x1c3a045410>]"
      ]
     },
     "execution_count": 75,
     "metadata": {},
     "output_type": "execute_result"
    },
    {
     "data": {
      "text/plain": [
       "<matplotlib.lines.Line2D at 0x1c3a030750>"
      ]
     },
     "execution_count": 75,
     "metadata": {},
     "output_type": "execute_result"
    },
    {
     "data": {
      "text/plain": [
       "<matplotlib.lines.Line2D at 0x1c3a03a1d0>"
      ]
     },
     "execution_count": 75,
     "metadata": {},
     "output_type": "execute_result"
    },
    {
     "data": {
      "text/plain": [
       "<matplotlib.lines.Line2D at 0x1c3a03a750>"
      ]
     },
     "execution_count": 75,
     "metadata": {},
     "output_type": "execute_result"
    },
    {
     "data": {
      "text/plain": [
       "<matplotlib.lines.Line2D at 0x1c3a03acd0>"
      ]
     },
     "execution_count": 75,
     "metadata": {},
     "output_type": "execute_result"
    },
    {
     "data": {
      "text/plain": [
       "Text(0.5, 0, 'dN/dS')"
      ]
     },
     "execution_count": 75,
     "metadata": {},
     "output_type": "execute_result"
    },
    {
     "data": {
      "text/plain": [
       "Text(0, 0.5, 'number of genes')"
      ]
     },
     "execution_count": 75,
     "metadata": {},
     "output_type": "execute_result"
    },
    {
     "data": {
      "text/plain": [
       "<matplotlib.legend.Legend at 0x1c3a02ef10>"
      ]
     },
     "execution_count": 75,
     "metadata": {},
     "output_type": "execute_result"
    },
    {
     "data": {
      "text/plain": [
       "Text(0.5, 0.98, 'Five Celltypes Distribution of Average dN/dS Scores of Genes Related to\\ncell proliferation')"
      ]
     },
     "execution_count": 75,
     "metadata": {},
     "output_type": "execute_result"
    },
    {
     "data": {
      "text/plain": [
       "[<matplotlib.lines.Line2D at 0x1c3c589f50>]"
      ]
     },
     "execution_count": 75,
     "metadata": {},
     "output_type": "execute_result"
    },
    {
     "data": {
      "text/plain": [
       "[<matplotlib.lines.Line2D at 0x1c3c5a3c10>]"
      ]
     },
     "execution_count": 75,
     "metadata": {},
     "output_type": "execute_result"
    },
    {
     "data": {
      "text/plain": [
       "[<matplotlib.lines.Line2D at 0x1c3c5a3f10>]"
      ]
     },
     "execution_count": 75,
     "metadata": {},
     "output_type": "execute_result"
    },
    {
     "data": {
      "text/plain": [
       "[<matplotlib.lines.Line2D at 0x1c3c63dfd0>]"
      ]
     },
     "execution_count": 75,
     "metadata": {},
     "output_type": "execute_result"
    },
    {
     "data": {
      "text/plain": [
       "[<matplotlib.lines.Line2D at 0x1c3c63df90>]"
      ]
     },
     "execution_count": 75,
     "metadata": {},
     "output_type": "execute_result"
    },
    {
     "data": {
      "text/plain": [
       "<matplotlib.lines.Line2D at 0x1c3c58c910>"
      ]
     },
     "execution_count": 75,
     "metadata": {},
     "output_type": "execute_result"
    },
    {
     "data": {
      "text/plain": [
       "<matplotlib.lines.Line2D at 0x1c3c58cf10>"
      ]
     },
     "execution_count": 75,
     "metadata": {},
     "output_type": "execute_result"
    },
    {
     "data": {
      "text/plain": [
       "<matplotlib.lines.Line2D at 0x1c3c598590>"
      ]
     },
     "execution_count": 75,
     "metadata": {},
     "output_type": "execute_result"
    },
    {
     "data": {
      "text/plain": [
       "<matplotlib.lines.Line2D at 0x1c3c58ced0>"
      ]
     },
     "execution_count": 75,
     "metadata": {},
     "output_type": "execute_result"
    },
    {
     "data": {
      "text/plain": [
       "Text(0.5, 0, 'dN/dS')"
      ]
     },
     "execution_count": 75,
     "metadata": {},
     "output_type": "execute_result"
    },
    {
     "data": {
      "text/plain": [
       "Text(0, 0.5, 'number of genes')"
      ]
     },
     "execution_count": 75,
     "metadata": {},
     "output_type": "execute_result"
    },
    {
     "data": {
      "text/plain": [
       "<matplotlib.legend.Legend at 0x1c3c579dd0>"
      ]
     },
     "execution_count": 75,
     "metadata": {},
     "output_type": "execute_result"
    },
    {
     "data": {
      "text/plain": [
       "Text(0.5, 0.98, 'Five Celltypes Distribution of Average dN/dS Scores of Genes Related to\\nhomeostatic process')"
      ]
     },
     "execution_count": 75,
     "metadata": {},
     "output_type": "execute_result"
    },
    {
     "data": {
      "text/plain": [
       "[<matplotlib.lines.Line2D at 0x1c3db7cf50>]"
      ]
     },
     "execution_count": 75,
     "metadata": {},
     "output_type": "execute_result"
    },
    {
     "data": {
      "text/plain": [
       "[<matplotlib.lines.Line2D at 0x1c3db6da10>]"
      ]
     },
     "execution_count": 75,
     "metadata": {},
     "output_type": "execute_result"
    },
    {
     "data": {
      "text/plain": [
       "[<matplotlib.lines.Line2D at 0x1c3db93910>]"
      ]
     },
     "execution_count": 75,
     "metadata": {},
     "output_type": "execute_result"
    },
    {
     "data": {
      "text/plain": [
       "[<matplotlib.lines.Line2D at 0x1c3db93050>]"
      ]
     },
     "execution_count": 75,
     "metadata": {},
     "output_type": "execute_result"
    },
    {
     "data": {
      "text/plain": [
       "[<matplotlib.lines.Line2D at 0x1c3db93d50>]"
      ]
     },
     "execution_count": 75,
     "metadata": {},
     "output_type": "execute_result"
    },
    {
     "data": {
      "text/plain": [
       "<matplotlib.lines.Line2D at 0x1c3dbc3c50>"
      ]
     },
     "execution_count": 75,
     "metadata": {},
     "output_type": "execute_result"
    },
    {
     "data": {
      "text/plain": [
       "<matplotlib.lines.Line2D at 0x1c3dbc38d0>"
      ]
     },
     "execution_count": 75,
     "metadata": {},
     "output_type": "execute_result"
    },
    {
     "data": {
      "text/plain": [
       "<matplotlib.lines.Line2D at 0x1c3dbb2950>"
      ]
     },
     "execution_count": 75,
     "metadata": {},
     "output_type": "execute_result"
    },
    {
     "data": {
      "text/plain": [
       "<matplotlib.lines.Line2D at 0x1c3dbb2850>"
      ]
     },
     "execution_count": 75,
     "metadata": {},
     "output_type": "execute_result"
    },
    {
     "data": {
      "text/plain": [
       "Text(0.5, 0, 'dN/dS')"
      ]
     },
     "execution_count": 75,
     "metadata": {},
     "output_type": "execute_result"
    },
    {
     "data": {
      "text/plain": [
       "Text(0, 0.5, 'number of genes')"
      ]
     },
     "execution_count": 75,
     "metadata": {},
     "output_type": "execute_result"
    },
    {
     "data": {
      "text/plain": [
       "<matplotlib.legend.Legend at 0x1c3dbb2fd0>"
      ]
     },
     "execution_count": 75,
     "metadata": {},
     "output_type": "execute_result"
    },
    {
     "data": {
      "text/plain": [
       "Text(0.5, 0.98, 'Five Celltypes Distribution of Average dN/dS Scores of Genes Related to\\nlocomotion')"
      ]
     },
     "execution_count": 75,
     "metadata": {},
     "output_type": "execute_result"
    },
    {
     "data": {
      "text/plain": [
       "[<matplotlib.lines.Line2D at 0x1c3e31ec90>]"
      ]
     },
     "execution_count": 75,
     "metadata": {},
     "output_type": "execute_result"
    },
    {
     "data": {
      "text/plain": [
       "[<matplotlib.lines.Line2D at 0x1c3e2b3ad0>]"
      ]
     },
     "execution_count": 75,
     "metadata": {},
     "output_type": "execute_result"
    },
    {
     "data": {
      "text/plain": [
       "[<matplotlib.lines.Line2D at 0x1c3e2b3a50>]"
      ]
     },
     "execution_count": 75,
     "metadata": {},
     "output_type": "execute_result"
    },
    {
     "data": {
      "text/plain": [
       "[<matplotlib.lines.Line2D at 0x1c3e29a790>]"
      ]
     },
     "execution_count": 75,
     "metadata": {},
     "output_type": "execute_result"
    },
    {
     "data": {
      "text/plain": [
       "[<matplotlib.lines.Line2D at 0x1c3e2c0f50>]"
      ]
     },
     "execution_count": 75,
     "metadata": {},
     "output_type": "execute_result"
    },
    {
     "data": {
      "text/plain": [
       "<matplotlib.lines.Line2D at 0x1c3e2c0f10>"
      ]
     },
     "execution_count": 75,
     "metadata": {},
     "output_type": "execute_result"
    },
    {
     "data": {
      "text/plain": [
       "<matplotlib.lines.Line2D at 0x1c3e2e4a50>"
      ]
     },
     "execution_count": 75,
     "metadata": {},
     "output_type": "execute_result"
    },
    {
     "data": {
      "text/plain": [
       "<matplotlib.lines.Line2D at 0x1c3d503a50>"
      ]
     },
     "execution_count": 75,
     "metadata": {},
     "output_type": "execute_result"
    },
    {
     "data": {
      "text/plain": [
       "<matplotlib.lines.Line2D at 0x1c3e2fcd90>"
      ]
     },
     "execution_count": 75,
     "metadata": {},
     "output_type": "execute_result"
    },
    {
     "data": {
      "text/plain": [
       "Text(0.5, 0, 'dN/dS')"
      ]
     },
     "execution_count": 75,
     "metadata": {},
     "output_type": "execute_result"
    },
    {
     "data": {
      "text/plain": [
       "Text(0, 0.5, 'number of genes')"
      ]
     },
     "execution_count": 75,
     "metadata": {},
     "output_type": "execute_result"
    },
    {
     "data": {
      "text/plain": [
       "<matplotlib.legend.Legend at 0x1c3e2a1750>"
      ]
     },
     "execution_count": 75,
     "metadata": {},
     "output_type": "execute_result"
    },
    {
     "data": {
      "text/plain": [
       "Text(0.5, 0.98, 'Five Celltypes Distribution of Average dN/dS Scores of Genes Related to\\nsmall molecule metabolic process')"
      ]
     },
     "execution_count": 75,
     "metadata": {},
     "output_type": "execute_result"
    },
    {
     "data": {
      "text/plain": [
       "[<matplotlib.lines.Line2D at 0x1c2b137710>]"
      ]
     },
     "execution_count": 75,
     "metadata": {},
     "output_type": "execute_result"
    },
    {
     "data": {
      "text/plain": [
       "[<matplotlib.lines.Line2D at 0x1c2acb61d0>]"
      ]
     },
     "execution_count": 75,
     "metadata": {},
     "output_type": "execute_result"
    },
    {
     "data": {
      "text/plain": [
       "[<matplotlib.lines.Line2D at 0x1c2a39f8d0>]"
      ]
     },
     "execution_count": 75,
     "metadata": {},
     "output_type": "execute_result"
    },
    {
     "data": {
      "text/plain": [
       "[<matplotlib.lines.Line2D at 0x1c2a3bb6d0>]"
      ]
     },
     "execution_count": 75,
     "metadata": {},
     "output_type": "execute_result"
    },
    {
     "data": {
      "text/plain": [
       "[<matplotlib.lines.Line2D at 0x1c2a3bb190>]"
      ]
     },
     "execution_count": 75,
     "metadata": {},
     "output_type": "execute_result"
    },
    {
     "data": {
      "text/plain": [
       "<matplotlib.lines.Line2D at 0x1c2a3b6f10>"
      ]
     },
     "execution_count": 75,
     "metadata": {},
     "output_type": "execute_result"
    },
    {
     "data": {
      "text/plain": [
       "<matplotlib.lines.Line2D at 0x1c2a3b6d50>"
      ]
     },
     "execution_count": 75,
     "metadata": {},
     "output_type": "execute_result"
    },
    {
     "data": {
      "text/plain": [
       "<matplotlib.lines.Line2D at 0x1c2a1b5490>"
      ]
     },
     "execution_count": 75,
     "metadata": {},
     "output_type": "execute_result"
    },
    {
     "data": {
      "text/plain": [
       "<matplotlib.lines.Line2D at 0x1c2a1b5c90>"
      ]
     },
     "execution_count": 75,
     "metadata": {},
     "output_type": "execute_result"
    },
    {
     "data": {
      "text/plain": [
       "Text(0.5, 0, 'dN/dS')"
      ]
     },
     "execution_count": 75,
     "metadata": {},
     "output_type": "execute_result"
    },
    {
     "data": {
      "text/plain": [
       "Text(0, 0.5, 'number of genes')"
      ]
     },
     "execution_count": 75,
     "metadata": {},
     "output_type": "execute_result"
    },
    {
     "data": {
      "text/plain": [
       "<matplotlib.legend.Legend at 0x1c2a1b5150>"
      ]
     },
     "execution_count": 75,
     "metadata": {},
     "output_type": "execute_result"
    },
    {
     "data": {
      "text/plain": [
       "Text(0.5, 0.98, 'Five Celltypes Distribution of Average dN/dS Scores of Genes Related to\\nprotein-containing complex assembly')"
      ]
     },
     "execution_count": 75,
     "metadata": {},
     "output_type": "execute_result"
    },
    {
     "data": {
      "text/plain": [
       "[<matplotlib.lines.Line2D at 0x1c2609c650>]"
      ]
     },
     "execution_count": 75,
     "metadata": {},
     "output_type": "execute_result"
    },
    {
     "data": {
      "text/plain": [
       "[<matplotlib.lines.Line2D at 0x1c26112510>]"
      ]
     },
     "execution_count": 75,
     "metadata": {},
     "output_type": "execute_result"
    },
    {
     "data": {
      "text/plain": [
       "[<matplotlib.lines.Line2D at 0x1c2569a990>]"
      ]
     },
     "execution_count": 75,
     "metadata": {},
     "output_type": "execute_result"
    },
    {
     "data": {
      "text/plain": [
       "[<matplotlib.lines.Line2D at 0x1c2569ae50>]"
      ]
     },
     "execution_count": 75,
     "metadata": {},
     "output_type": "execute_result"
    },
    {
     "data": {
      "text/plain": [
       "[<matplotlib.lines.Line2D at 0x1c2552c990>]"
      ]
     },
     "execution_count": 75,
     "metadata": {},
     "output_type": "execute_result"
    },
    {
     "data": {
      "text/plain": [
       "<matplotlib.lines.Line2D at 0x1c25474310>"
      ]
     },
     "execution_count": 75,
     "metadata": {},
     "output_type": "execute_result"
    },
    {
     "data": {
      "text/plain": [
       "<matplotlib.lines.Line2D at 0x1c25474c50>"
      ]
     },
     "execution_count": 75,
     "metadata": {},
     "output_type": "execute_result"
    },
    {
     "data": {
      "text/plain": [
       "<matplotlib.lines.Line2D at 0x1c25474cd0>"
      ]
     },
     "execution_count": 75,
     "metadata": {},
     "output_type": "execute_result"
    },
    {
     "data": {
      "text/plain": [
       "<matplotlib.lines.Line2D at 0x1c2561fe50>"
      ]
     },
     "execution_count": 75,
     "metadata": {},
     "output_type": "execute_result"
    },
    {
     "data": {
      "text/plain": [
       "Text(0.5, 0, 'dN/dS')"
      ]
     },
     "execution_count": 75,
     "metadata": {},
     "output_type": "execute_result"
    },
    {
     "data": {
      "text/plain": [
       "Text(0, 0.5, 'number of genes')"
      ]
     },
     "execution_count": 75,
     "metadata": {},
     "output_type": "execute_result"
    },
    {
     "data": {
      "text/plain": [
       "<matplotlib.legend.Legend at 0x1c254742d0>"
      ]
     },
     "execution_count": 75,
     "metadata": {},
     "output_type": "execute_result"
    },
    {
     "data": {
      "text/plain": [
       "Text(0.5, 0.98, 'Five Celltypes Distribution of Average dN/dS Scores of Genes Related to\\ncell cycle')"
      ]
     },
     "execution_count": 75,
     "metadata": {},
     "output_type": "execute_result"
    },
    {
     "data": {
      "text/plain": [
       "[<matplotlib.lines.Line2D at 0x1c39afc090>]"
      ]
     },
     "execution_count": 75,
     "metadata": {},
     "output_type": "execute_result"
    },
    {
     "data": {
      "text/plain": [
       "[<matplotlib.lines.Line2D at 0x1c38ce4d10>]"
      ]
     },
     "execution_count": 75,
     "metadata": {},
     "output_type": "execute_result"
    },
    {
     "data": {
      "text/plain": [
       "[<matplotlib.lines.Line2D at 0x1c3b073fd0>]"
      ]
     },
     "execution_count": 75,
     "metadata": {},
     "output_type": "execute_result"
    },
    {
     "data": {
      "text/plain": [
       "[<matplotlib.lines.Line2D at 0x1c384f59d0>]"
      ]
     },
     "execution_count": 75,
     "metadata": {},
     "output_type": "execute_result"
    },
    {
     "data": {
      "text/plain": [
       "[<matplotlib.lines.Line2D at 0x1c384f5350>]"
      ]
     },
     "execution_count": 75,
     "metadata": {},
     "output_type": "execute_result"
    },
    {
     "data": {
      "text/plain": [
       "<matplotlib.lines.Line2D at 0x1c385ff510>"
      ]
     },
     "execution_count": 75,
     "metadata": {},
     "output_type": "execute_result"
    },
    {
     "data": {
      "text/plain": [
       "<matplotlib.lines.Line2D at 0x1c385ffbd0>"
      ]
     },
     "execution_count": 75,
     "metadata": {},
     "output_type": "execute_result"
    },
    {
     "data": {
      "text/plain": [
       "<matplotlib.lines.Line2D at 0x1c37ec37d0>"
      ]
     },
     "execution_count": 75,
     "metadata": {},
     "output_type": "execute_result"
    },
    {
     "data": {
      "text/plain": [
       "<matplotlib.lines.Line2D at 0x1c37ec39d0>"
      ]
     },
     "execution_count": 75,
     "metadata": {},
     "output_type": "execute_result"
    },
    {
     "data": {
      "text/plain": [
       "Text(0.5, 0, 'dN/dS')"
      ]
     },
     "execution_count": 75,
     "metadata": {},
     "output_type": "execute_result"
    },
    {
     "data": {
      "text/plain": [
       "Text(0, 0.5, 'number of genes')"
      ]
     },
     "execution_count": 75,
     "metadata": {},
     "output_type": "execute_result"
    },
    {
     "data": {
      "text/plain": [
       "<matplotlib.legend.Legend at 0x1c37ec32d0>"
      ]
     },
     "execution_count": 75,
     "metadata": {},
     "output_type": "execute_result"
    },
    {
     "data": {
      "text/plain": [
       "Text(0.5, 0.98, 'Five Celltypes Distribution of Average dN/dS Scores of Genes Related to\\ncell motility')"
      ]
     },
     "execution_count": 75,
     "metadata": {},
     "output_type": "execute_result"
    },
    {
     "data": {
      "text/plain": [
       "[<matplotlib.lines.Line2D at 0x1c30659f10>]"
      ]
     },
     "execution_count": 75,
     "metadata": {},
     "output_type": "execute_result"
    },
    {
     "data": {
      "text/plain": [
       "[<matplotlib.lines.Line2D at 0x1c2ef20bd0>]"
      ]
     },
     "execution_count": 75,
     "metadata": {},
     "output_type": "execute_result"
    },
    {
     "data": {
      "text/plain": [
       "[<matplotlib.lines.Line2D at 0x1c35955050>]"
      ]
     },
     "execution_count": 75,
     "metadata": {},
     "output_type": "execute_result"
    },
    {
     "data": {
      "text/plain": [
       "[<matplotlib.lines.Line2D at 0x1c2ff2ab50>]"
      ]
     },
     "execution_count": 75,
     "metadata": {},
     "output_type": "execute_result"
    },
    {
     "data": {
      "text/plain": [
       "[<matplotlib.lines.Line2D at 0x1c2f7fc0d0>]"
      ]
     },
     "execution_count": 75,
     "metadata": {},
     "output_type": "execute_result"
    },
    {
     "data": {
      "text/plain": [
       "<matplotlib.lines.Line2D at 0x1c2a06ddd0>"
      ]
     },
     "execution_count": 75,
     "metadata": {},
     "output_type": "execute_result"
    },
    {
     "data": {
      "text/plain": [
       "<matplotlib.lines.Line2D at 0x1c2a06d790>"
      ]
     },
     "execution_count": 75,
     "metadata": {},
     "output_type": "execute_result"
    },
    {
     "data": {
      "text/plain": [
       "<matplotlib.lines.Line2D at 0x1c2a06d4d0>"
      ]
     },
     "execution_count": 75,
     "metadata": {},
     "output_type": "execute_result"
    },
    {
     "data": {
      "text/plain": [
       "<matplotlib.lines.Line2D at 0x1c2cd935d0>"
      ]
     },
     "execution_count": 75,
     "metadata": {},
     "output_type": "execute_result"
    },
    {
     "data": {
      "text/plain": [
       "Text(0.5, 0, 'dN/dS')"
      ]
     },
     "execution_count": 75,
     "metadata": {},
     "output_type": "execute_result"
    },
    {
     "data": {
      "text/plain": [
       "Text(0, 0.5, 'number of genes')"
      ]
     },
     "execution_count": 75,
     "metadata": {},
     "output_type": "execute_result"
    },
    {
     "data": {
      "text/plain": [
       "<matplotlib.legend.Legend at 0x1c3b8c1ad0>"
      ]
     },
     "execution_count": 75,
     "metadata": {},
     "output_type": "execute_result"
    },
    {
     "data": {
      "text/plain": [
       "Text(0.5, 0.98, 'Five Celltypes Distribution of Average dN/dS Scores of Genes Related to\\ncell-cell signaling')"
      ]
     },
     "execution_count": 75,
     "metadata": {},
     "output_type": "execute_result"
    },
    {
     "data": {
      "text/plain": [
       "[<matplotlib.lines.Line2D at 0x1c36f80bd0>]"
      ]
     },
     "execution_count": 75,
     "metadata": {},
     "output_type": "execute_result"
    },
    {
     "data": {
      "text/plain": [
       "[<matplotlib.lines.Line2D at 0x1c2ccc1d90>]"
      ]
     },
     "execution_count": 75,
     "metadata": {},
     "output_type": "execute_result"
    },
    {
     "data": {
      "text/plain": [
       "[<matplotlib.lines.Line2D at 0x1c36f7bed0>]"
      ]
     },
     "execution_count": 75,
     "metadata": {},
     "output_type": "execute_result"
    },
    {
     "data": {
      "text/plain": [
       "[<matplotlib.lines.Line2D at 0x1c36fa8a90>]"
      ]
     },
     "execution_count": 75,
     "metadata": {},
     "output_type": "execute_result"
    },
    {
     "data": {
      "text/plain": [
       "[<matplotlib.lines.Line2D at 0x1c36fa8bd0>]"
      ]
     },
     "execution_count": 75,
     "metadata": {},
     "output_type": "execute_result"
    },
    {
     "data": {
      "text/plain": [
       "<matplotlib.lines.Line2D at 0x1c36f7d790>"
      ]
     },
     "execution_count": 75,
     "metadata": {},
     "output_type": "execute_result"
    },
    {
     "data": {
      "text/plain": [
       "<matplotlib.lines.Line2D at 0x1c36fa8b90>"
      ]
     },
     "execution_count": 75,
     "metadata": {},
     "output_type": "execute_result"
    },
    {
     "data": {
      "text/plain": [
       "<matplotlib.lines.Line2D at 0x1c36f8f2d0>"
      ]
     },
     "execution_count": 75,
     "metadata": {},
     "output_type": "execute_result"
    },
    {
     "data": {
      "text/plain": [
       "<matplotlib.lines.Line2D at 0x1c36f8f250>"
      ]
     },
     "execution_count": 75,
     "metadata": {},
     "output_type": "execute_result"
    },
    {
     "data": {
      "text/plain": [
       "Text(0.5, 0, 'dN/dS')"
      ]
     },
     "execution_count": 75,
     "metadata": {},
     "output_type": "execute_result"
    },
    {
     "data": {
      "text/plain": [
       "Text(0, 0.5, 'number of genes')"
      ]
     },
     "execution_count": 75,
     "metadata": {},
     "output_type": "execute_result"
    },
    {
     "data": {
      "text/plain": [
       "<matplotlib.legend.Legend at 0x1c36fa8f50>"
      ]
     },
     "execution_count": 75,
     "metadata": {},
     "output_type": "execute_result"
    },
    {
     "data": {
      "text/plain": [
       "Text(0.5, 0.98, 'Five Celltypes Distribution of Average dN/dS Scores of Genes Related to\\nreproduction')"
      ]
     },
     "execution_count": 75,
     "metadata": {},
     "output_type": "execute_result"
    },
    {
     "data": {
      "text/plain": [
       "[<matplotlib.lines.Line2D at 0x1c3c153f90>]"
      ]
     },
     "execution_count": 75,
     "metadata": {},
     "output_type": "execute_result"
    },
    {
     "data": {
      "text/plain": [
       "[<matplotlib.lines.Line2D at 0x1c3c153990>]"
      ]
     },
     "execution_count": 75,
     "metadata": {},
     "output_type": "execute_result"
    },
    {
     "data": {
      "text/plain": [
       "[<matplotlib.lines.Line2D at 0x1c3c173a90>]"
      ]
     },
     "execution_count": 75,
     "metadata": {},
     "output_type": "execute_result"
    },
    {
     "data": {
      "text/plain": [
       "[<matplotlib.lines.Line2D at 0x1c3c173150>]"
      ]
     },
     "execution_count": 75,
     "metadata": {},
     "output_type": "execute_result"
    },
    {
     "data": {
      "text/plain": [
       "[<matplotlib.lines.Line2D at 0x1c3c1737d0>]"
      ]
     },
     "execution_count": 75,
     "metadata": {},
     "output_type": "execute_result"
    },
    {
     "data": {
      "text/plain": [
       "<matplotlib.lines.Line2D at 0x1c3c151ed0>"
      ]
     },
     "execution_count": 75,
     "metadata": {},
     "output_type": "execute_result"
    },
    {
     "data": {
      "text/plain": [
       "<matplotlib.lines.Line2D at 0x1c3c171590>"
      ]
     },
     "execution_count": 75,
     "metadata": {},
     "output_type": "execute_result"
    },
    {
     "data": {
      "text/plain": [
       "<matplotlib.lines.Line2D at 0x1c3c171b90>"
      ]
     },
     "execution_count": 75,
     "metadata": {},
     "output_type": "execute_result"
    },
    {
     "data": {
      "text/plain": [
       "<matplotlib.lines.Line2D at 0x1c3c171c90>"
      ]
     },
     "execution_count": 75,
     "metadata": {},
     "output_type": "execute_result"
    },
    {
     "data": {
      "text/plain": [
       "Text(0.5, 0, 'dN/dS')"
      ]
     },
     "execution_count": 75,
     "metadata": {},
     "output_type": "execute_result"
    },
    {
     "data": {
      "text/plain": [
       "Text(0, 0.5, 'number of genes')"
      ]
     },
     "execution_count": 75,
     "metadata": {},
     "output_type": "execute_result"
    },
    {
     "data": {
      "text/plain": [
       "<matplotlib.legend.Legend at 0x1c2bee8090>"
      ]
     },
     "execution_count": 75,
     "metadata": {},
     "output_type": "execute_result"
    },
    {
     "data": {
      "text/plain": [
       "Text(0.5, 0.98, 'Five Celltypes Distribution of Average dN/dS Scores of Genes Related to\\nvesicle-mediated transport')"
      ]
     },
     "execution_count": 75,
     "metadata": {},
     "output_type": "execute_result"
    },
    {
     "data": {
      "text/plain": [
       "[<matplotlib.lines.Line2D at 0x1c3c173250>]"
      ]
     },
     "execution_count": 75,
     "metadata": {},
     "output_type": "execute_result"
    },
    {
     "data": {
      "text/plain": [
       "[<matplotlib.lines.Line2D at 0x1c2bf4e7d0>]"
      ]
     },
     "execution_count": 75,
     "metadata": {},
     "output_type": "execute_result"
    },
    {
     "data": {
      "text/plain": [
       "[<matplotlib.lines.Line2D at 0x1c26029f50>]"
      ]
     },
     "execution_count": 75,
     "metadata": {},
     "output_type": "execute_result"
    },
    {
     "data": {
      "text/plain": [
       "[<matplotlib.lines.Line2D at 0x1c26029510>]"
      ]
     },
     "execution_count": 75,
     "metadata": {},
     "output_type": "execute_result"
    },
    {
     "data": {
      "text/plain": [
       "[<matplotlib.lines.Line2D at 0x1c3aa10e50>]"
      ]
     },
     "execution_count": 75,
     "metadata": {},
     "output_type": "execute_result"
    },
    {
     "data": {
      "text/plain": [
       "<matplotlib.lines.Line2D at 0x1c3aa10a90>"
      ]
     },
     "execution_count": 75,
     "metadata": {},
     "output_type": "execute_result"
    },
    {
     "data": {
      "text/plain": [
       "<matplotlib.lines.Line2D at 0x1c3aa09b50>"
      ]
     },
     "execution_count": 75,
     "metadata": {},
     "output_type": "execute_result"
    },
    {
     "data": {
      "text/plain": [
       "<matplotlib.lines.Line2D at 0x1c3aa097d0>"
      ]
     },
     "execution_count": 75,
     "metadata": {},
     "output_type": "execute_result"
    },
    {
     "data": {
      "text/plain": [
       "<matplotlib.lines.Line2D at 0x1c3aa2e6d0>"
      ]
     },
     "execution_count": 75,
     "metadata": {},
     "output_type": "execute_result"
    },
    {
     "data": {
      "text/plain": [
       "Text(0.5, 0, 'dN/dS')"
      ]
     },
     "execution_count": 75,
     "metadata": {},
     "output_type": "execute_result"
    },
    {
     "data": {
      "text/plain": [
       "Text(0, 0.5, 'number of genes')"
      ]
     },
     "execution_count": 75,
     "metadata": {},
     "output_type": "execute_result"
    },
    {
     "data": {
      "text/plain": [
       "<matplotlib.legend.Legend at 0x1c3aa09590>"
      ]
     },
     "execution_count": 75,
     "metadata": {},
     "output_type": "execute_result"
    },
    {
     "data": {
      "text/plain": [
       "Text(0.5, 0.98, 'Five Celltypes Distribution of Average dN/dS Scores of Genes Related to\\ncytoskeleton organization')"
      ]
     },
     "execution_count": 75,
     "metadata": {},
     "output_type": "execute_result"
    },
    {
     "data": {
      "text/plain": [
       "[<matplotlib.lines.Line2D at 0x1c25fb1c50>]"
      ]
     },
     "execution_count": 75,
     "metadata": {},
     "output_type": "execute_result"
    },
    {
     "data": {
      "text/plain": [
       "[<matplotlib.lines.Line2D at 0x1c256a5a10>]"
      ]
     },
     "execution_count": 75,
     "metadata": {},
     "output_type": "execute_result"
    },
    {
     "data": {
      "text/plain": [
       "[<matplotlib.lines.Line2D at 0x1c256a56d0>]"
      ]
     },
     "execution_count": 75,
     "metadata": {},
     "output_type": "execute_result"
    },
    {
     "data": {
      "text/plain": [
       "[<matplotlib.lines.Line2D at 0x1c25692f50>]"
      ]
     },
     "execution_count": 75,
     "metadata": {},
     "output_type": "execute_result"
    },
    {
     "data": {
      "text/plain": [
       "[<matplotlib.lines.Line2D at 0x1c25692e10>]"
      ]
     },
     "execution_count": 75,
     "metadata": {},
     "output_type": "execute_result"
    },
    {
     "data": {
      "text/plain": [
       "<matplotlib.lines.Line2D at 0x1c25fae510>"
      ]
     },
     "execution_count": 75,
     "metadata": {},
     "output_type": "execute_result"
    },
    {
     "data": {
      "text/plain": [
       "<matplotlib.lines.Line2D at 0x1c25faefd0>"
      ]
     },
     "execution_count": 75,
     "metadata": {},
     "output_type": "execute_result"
    },
    {
     "data": {
      "text/plain": [
       "<matplotlib.lines.Line2D at 0x1c256b5550>"
      ]
     },
     "execution_count": 75,
     "metadata": {},
     "output_type": "execute_result"
    },
    {
     "data": {
      "text/plain": [
       "<matplotlib.lines.Line2D at 0x1c256b5bd0>"
      ]
     },
     "execution_count": 75,
     "metadata": {},
     "output_type": "execute_result"
    },
    {
     "data": {
      "text/plain": [
       "Text(0.5, 0, 'dN/dS')"
      ]
     },
     "execution_count": 75,
     "metadata": {},
     "output_type": "execute_result"
    },
    {
     "data": {
      "text/plain": [
       "Text(0, 0.5, 'number of genes')"
      ]
     },
     "execution_count": 75,
     "metadata": {},
     "output_type": "execute_result"
    },
    {
     "data": {
      "text/plain": [
       "<matplotlib.legend.Legend at 0x1c25faed90>"
      ]
     },
     "execution_count": 75,
     "metadata": {},
     "output_type": "execute_result"
    },
    {
     "data": {
      "text/plain": [
       "Text(0.5, 0.98, 'Five Celltypes Distribution of Average dN/dS Scores of Genes Related to\\ncell adhesion')"
      ]
     },
     "execution_count": 75,
     "metadata": {},
     "output_type": "execute_result"
    },
    {
     "data": {
      "text/plain": [
       "[<matplotlib.lines.Line2D at 0x1c358eb710>]"
      ]
     },
     "execution_count": 75,
     "metadata": {},
     "output_type": "execute_result"
    },
    {
     "data": {
      "text/plain": [
       "[<matplotlib.lines.Line2D at 0x1c358c4c50>]"
      ]
     },
     "execution_count": 75,
     "metadata": {},
     "output_type": "execute_result"
    },
    {
     "data": {
      "text/plain": [
       "[<matplotlib.lines.Line2D at 0x1c33bfd790>]"
      ]
     },
     "execution_count": 75,
     "metadata": {},
     "output_type": "execute_result"
    },
    {
     "data": {
      "text/plain": [
       "[<matplotlib.lines.Line2D at 0x1c33bfd090>]"
      ]
     },
     "execution_count": 75,
     "metadata": {},
     "output_type": "execute_result"
    },
    {
     "data": {
      "text/plain": [
       "[<matplotlib.lines.Line2D at 0x1c33c31c10>]"
      ]
     },
     "execution_count": 75,
     "metadata": {},
     "output_type": "execute_result"
    },
    {
     "data": {
      "text/plain": [
       "<matplotlib.lines.Line2D at 0x1c33c038d0>"
      ]
     },
     "execution_count": 75,
     "metadata": {},
     "output_type": "execute_result"
    },
    {
     "data": {
      "text/plain": [
       "<matplotlib.lines.Line2D at 0x1c33c03e50>"
      ]
     },
     "execution_count": 75,
     "metadata": {},
     "output_type": "execute_result"
    },
    {
     "data": {
      "text/plain": [
       "<matplotlib.lines.Line2D at 0x1c33c19410>"
      ]
     },
     "execution_count": 75,
     "metadata": {},
     "output_type": "execute_result"
    },
    {
     "data": {
      "text/plain": [
       "<matplotlib.lines.Line2D at 0x1c33c19a50>"
      ]
     },
     "execution_count": 75,
     "metadata": {},
     "output_type": "execute_result"
    },
    {
     "data": {
      "text/plain": [
       "Text(0.5, 0, 'dN/dS')"
      ]
     },
     "execution_count": 75,
     "metadata": {},
     "output_type": "execute_result"
    },
    {
     "data": {
      "text/plain": [
       "Text(0, 0.5, 'number of genes')"
      ]
     },
     "execution_count": 75,
     "metadata": {},
     "output_type": "execute_result"
    },
    {
     "data": {
      "text/plain": [
       "<matplotlib.legend.Legend at 0x1c33bfda10>"
      ]
     },
     "execution_count": 75,
     "metadata": {},
     "output_type": "execute_result"
    },
    {
     "data": {
      "text/plain": [
       "Text(0.5, 0.98, 'Five Celltypes Distribution of Average dN/dS Scores of Genes Related to\\ntransmembrane transport')"
      ]
     },
     "execution_count": 75,
     "metadata": {},
     "output_type": "execute_result"
    },
    {
     "data": {
      "text/plain": [
       "[<matplotlib.lines.Line2D at 0x1c20f69d90>]"
      ]
     },
     "execution_count": 75,
     "metadata": {},
     "output_type": "execute_result"
    },
    {
     "data": {
      "text/plain": [
       "[<matplotlib.lines.Line2D at 0x1c20f33490>]"
      ]
     },
     "execution_count": 75,
     "metadata": {},
     "output_type": "execute_result"
    },
    {
     "data": {
      "text/plain": [
       "[<matplotlib.lines.Line2D at 0x1c3bb5da90>]"
      ]
     },
     "execution_count": 75,
     "metadata": {},
     "output_type": "execute_result"
    },
    {
     "data": {
      "text/plain": [
       "[<matplotlib.lines.Line2D at 0x1c21850610>]"
      ]
     },
     "execution_count": 75,
     "metadata": {},
     "output_type": "execute_result"
    },
    {
     "data": {
      "text/plain": [
       "[<matplotlib.lines.Line2D at 0x1c3bb5ddd0>]"
      ]
     },
     "execution_count": 75,
     "metadata": {},
     "output_type": "execute_result"
    },
    {
     "data": {
      "text/plain": [
       "<matplotlib.lines.Line2D at 0x1c3bb5ded0>"
      ]
     },
     "execution_count": 75,
     "metadata": {},
     "output_type": "execute_result"
    },
    {
     "data": {
      "text/plain": [
       "<matplotlib.lines.Line2D at 0x1c2183b550>"
      ]
     },
     "execution_count": 75,
     "metadata": {},
     "output_type": "execute_result"
    },
    {
     "data": {
      "text/plain": [
       "<matplotlib.lines.Line2D at 0x1c2183bb90>"
      ]
     },
     "execution_count": 75,
     "metadata": {},
     "output_type": "execute_result"
    },
    {
     "data": {
      "text/plain": [
       "<matplotlib.lines.Line2D at 0x1c2183b510>"
      ]
     },
     "execution_count": 75,
     "metadata": {},
     "output_type": "execute_result"
    },
    {
     "data": {
      "text/plain": [
       "Text(0.5, 0, 'dN/dS')"
      ]
     },
     "execution_count": 75,
     "metadata": {},
     "output_type": "execute_result"
    },
    {
     "data": {
      "text/plain": [
       "Text(0, 0.5, 'number of genes')"
      ]
     },
     "execution_count": 75,
     "metadata": {},
     "output_type": "execute_result"
    },
    {
     "data": {
      "text/plain": [
       "<matplotlib.legend.Legend at 0x1c21850310>"
      ]
     },
     "execution_count": 75,
     "metadata": {},
     "output_type": "execute_result"
    },
    {
     "data": {
      "text/plain": [
       "Text(0.5, 0.98, 'Five Celltypes Distribution of Average dN/dS Scores of Genes Related to\\nlipid metabolic process')"
      ]
     },
     "execution_count": 75,
     "metadata": {},
     "output_type": "execute_result"
    },
    {
     "data": {
      "text/plain": [
       "[<matplotlib.lines.Line2D at 0x1c27513d10>]"
      ]
     },
     "execution_count": 75,
     "metadata": {},
     "output_type": "execute_result"
    },
    {
     "data": {
      "text/plain": [
       "[<matplotlib.lines.Line2D at 0x1c2752c6d0>]"
      ]
     },
     "execution_count": 75,
     "metadata": {},
     "output_type": "execute_result"
    },
    {
     "data": {
      "text/plain": [
       "[<matplotlib.lines.Line2D at 0x1c280722d0>]"
      ]
     },
     "execution_count": 75,
     "metadata": {},
     "output_type": "execute_result"
    },
    {
     "data": {
      "text/plain": [
       "[<matplotlib.lines.Line2D at 0x1c3c3c5fd0>]"
      ]
     },
     "execution_count": 75,
     "metadata": {},
     "output_type": "execute_result"
    },
    {
     "data": {
      "text/plain": [
       "[<matplotlib.lines.Line2D at 0x1c3c3c5e90>]"
      ]
     },
     "execution_count": 75,
     "metadata": {},
     "output_type": "execute_result"
    },
    {
     "data": {
      "text/plain": [
       "<matplotlib.lines.Line2D at 0x1c27525a90>"
      ]
     },
     "execution_count": 75,
     "metadata": {},
     "output_type": "execute_result"
    },
    {
     "data": {
      "text/plain": [
       "<matplotlib.lines.Line2D at 0x1c27525290>"
      ]
     },
     "execution_count": 75,
     "metadata": {},
     "output_type": "execute_result"
    },
    {
     "data": {
      "text/plain": [
       "<matplotlib.lines.Line2D at 0x1c275335d0>"
      ]
     },
     "execution_count": 75,
     "metadata": {},
     "output_type": "execute_result"
    },
    {
     "data": {
      "text/plain": [
       "<matplotlib.lines.Line2D at 0x1c27533bd0>"
      ]
     },
     "execution_count": 75,
     "metadata": {},
     "output_type": "execute_result"
    },
    {
     "data": {
      "text/plain": [
       "Text(0.5, 0, 'dN/dS')"
      ]
     },
     "execution_count": 75,
     "metadata": {},
     "output_type": "execute_result"
    },
    {
     "data": {
      "text/plain": [
       "Text(0, 0.5, 'number of genes')"
      ]
     },
     "execution_count": 75,
     "metadata": {},
     "output_type": "execute_result"
    },
    {
     "data": {
      "text/plain": [
       "<matplotlib.legend.Legend at 0x1c2752cc10>"
      ]
     },
     "execution_count": 75,
     "metadata": {},
     "output_type": "execute_result"
    },
    {
     "data": {
      "text/plain": [
       "Text(0.5, 0.98, 'Five Celltypes Distribution of Average dN/dS Scores of Genes Related to\\nembryo development')"
      ]
     },
     "execution_count": 75,
     "metadata": {},
     "output_type": "execute_result"
    },
    {
     "data": {
      "text/plain": [
       "[<matplotlib.lines.Line2D at 0x1c2c142d10>]"
      ]
     },
     "execution_count": 75,
     "metadata": {},
     "output_type": "execute_result"
    },
    {
     "data": {
      "text/plain": [
       "[<matplotlib.lines.Line2D at 0x1c380efa90>]"
      ]
     },
     "execution_count": 75,
     "metadata": {},
     "output_type": "execute_result"
    },
    {
     "data": {
      "text/plain": [
       "[<matplotlib.lines.Line2D at 0x1c380e8c50>]"
      ]
     },
     "execution_count": 75,
     "metadata": {},
     "output_type": "execute_result"
    },
    {
     "data": {
      "text/plain": [
       "[<matplotlib.lines.Line2D at 0x1c380e8e50>]"
      ]
     },
     "execution_count": 75,
     "metadata": {},
     "output_type": "execute_result"
    },
    {
     "data": {
      "text/plain": [
       "[<matplotlib.lines.Line2D at 0x1c380e8c90>]"
      ]
     },
     "execution_count": 75,
     "metadata": {},
     "output_type": "execute_result"
    },
    {
     "data": {
      "text/plain": [
       "<matplotlib.lines.Line2D at 0x1c380ccd10>"
      ]
     },
     "execution_count": 75,
     "metadata": {},
     "output_type": "execute_result"
    },
    {
     "data": {
      "text/plain": [
       "<matplotlib.lines.Line2D at 0x1c3a884450>"
      ]
     },
     "execution_count": 75,
     "metadata": {},
     "output_type": "execute_result"
    },
    {
     "data": {
      "text/plain": [
       "<matplotlib.lines.Line2D at 0x1c3a884950>"
      ]
     },
     "execution_count": 75,
     "metadata": {},
     "output_type": "execute_result"
    },
    {
     "data": {
      "text/plain": [
       "<matplotlib.lines.Line2D at 0x1c3a884f50>"
      ]
     },
     "execution_count": 75,
     "metadata": {},
     "output_type": "execute_result"
    },
    {
     "data": {
      "text/plain": [
       "Text(0.5, 0, 'dN/dS')"
      ]
     },
     "execution_count": 75,
     "metadata": {},
     "output_type": "execute_result"
    },
    {
     "data": {
      "text/plain": [
       "Text(0, 0.5, 'number of genes')"
      ]
     },
     "execution_count": 75,
     "metadata": {},
     "output_type": "execute_result"
    },
    {
     "data": {
      "text/plain": [
       "<matplotlib.legend.Legend at 0x1c3a884250>"
      ]
     },
     "execution_count": 75,
     "metadata": {},
     "output_type": "execute_result"
    },
    {
     "data": {
      "text/plain": [
       "Text(0.5, 0.98, 'Five Celltypes Distribution of Average dN/dS Scores of Genes Related to\\nanatomical structure formation involved in morphogenesis')"
      ]
     },
     "execution_count": 75,
     "metadata": {},
     "output_type": "execute_result"
    },
    {
     "data": {
      "text/plain": [
       "[<matplotlib.lines.Line2D at 0x1c2b9d6dd0>]"
      ]
     },
     "execution_count": 75,
     "metadata": {},
     "output_type": "execute_result"
    },
    {
     "data": {
      "text/plain": [
       "[<matplotlib.lines.Line2D at 0x1c2abdc590>]"
      ]
     },
     "execution_count": 75,
     "metadata": {},
     "output_type": "execute_result"
    },
    {
     "data": {
      "text/plain": [
       "[<matplotlib.lines.Line2D at 0x1c2b647090>]"
      ]
     },
     "execution_count": 75,
     "metadata": {},
     "output_type": "execute_result"
    },
    {
     "data": {
      "text/plain": [
       "[<matplotlib.lines.Line2D at 0x1c2abbe950>]"
      ]
     },
     "execution_count": 75,
     "metadata": {},
     "output_type": "execute_result"
    },
    {
     "data": {
      "text/plain": [
       "[<matplotlib.lines.Line2D at 0x1c2abbefd0>]"
      ]
     },
     "execution_count": 75,
     "metadata": {},
     "output_type": "execute_result"
    },
    {
     "data": {
      "text/plain": [
       "<matplotlib.lines.Line2D at 0x1c2abc6790>"
      ]
     },
     "execution_count": 75,
     "metadata": {},
     "output_type": "execute_result"
    },
    {
     "data": {
      "text/plain": [
       "<matplotlib.lines.Line2D at 0x1c2abc6450>"
      ]
     },
     "execution_count": 75,
     "metadata": {},
     "output_type": "execute_result"
    },
    {
     "data": {
      "text/plain": [
       "<matplotlib.lines.Line2D at 0x1c2abbeed0>"
      ]
     },
     "execution_count": 75,
     "metadata": {},
     "output_type": "execute_result"
    },
    {
     "data": {
      "text/plain": [
       "<matplotlib.lines.Line2D at 0x1c2abc0a90>"
      ]
     },
     "execution_count": 75,
     "metadata": {},
     "output_type": "execute_result"
    },
    {
     "data": {
      "text/plain": [
       "Text(0.5, 0, 'dN/dS')"
      ]
     },
     "execution_count": 75,
     "metadata": {},
     "output_type": "execute_result"
    },
    {
     "data": {
      "text/plain": [
       "Text(0, 0.5, 'number of genes')"
      ]
     },
     "execution_count": 75,
     "metadata": {},
     "output_type": "execute_result"
    },
    {
     "data": {
      "text/plain": [
       "<matplotlib.legend.Legend at 0x1c2abc6dd0>"
      ]
     },
     "execution_count": 75,
     "metadata": {},
     "output_type": "execute_result"
    },
    {
     "data": {
      "text/plain": [
       "Text(0.5, 0.98, 'Five Celltypes Distribution of Average dN/dS Scores of Genes Related to\\nchromosome organization')"
      ]
     },
     "execution_count": 75,
     "metadata": {},
     "output_type": "execute_result"
    },
    {
     "data": {
      "text/plain": [
       "[<matplotlib.lines.Line2D at 0x1c3ba9d790>]"
      ]
     },
     "execution_count": 75,
     "metadata": {},
     "output_type": "execute_result"
    },
    {
     "data": {
      "text/plain": [
       "[<matplotlib.lines.Line2D at 0x1c3a503510>]"
      ]
     },
     "execution_count": 75,
     "metadata": {},
     "output_type": "execute_result"
    },
    {
     "data": {
      "text/plain": [
       "[<matplotlib.lines.Line2D at 0x1c3ba8ebd0>]"
      ]
     },
     "execution_count": 75,
     "metadata": {},
     "output_type": "execute_result"
    },
    {
     "data": {
      "text/plain": [
       "[<matplotlib.lines.Line2D at 0x1c3a51d850>]"
      ]
     },
     "execution_count": 75,
     "metadata": {},
     "output_type": "execute_result"
    },
    {
     "data": {
      "text/plain": [
       "[<matplotlib.lines.Line2D at 0x1c3a51ddd0>]"
      ]
     },
     "execution_count": 75,
     "metadata": {},
     "output_type": "execute_result"
    },
    {
     "data": {
      "text/plain": [
       "<matplotlib.lines.Line2D at 0x1c38817a90>"
      ]
     },
     "execution_count": 75,
     "metadata": {},
     "output_type": "execute_result"
    },
    {
     "data": {
      "text/plain": [
       "<matplotlib.lines.Line2D at 0x1c38817f50>"
      ]
     },
     "execution_count": 75,
     "metadata": {},
     "output_type": "execute_result"
    },
    {
     "data": {
      "text/plain": [
       "<matplotlib.lines.Line2D at 0x1c38821490>"
      ]
     },
     "execution_count": 75,
     "metadata": {},
     "output_type": "execute_result"
    },
    {
     "data": {
      "text/plain": [
       "<matplotlib.lines.Line2D at 0x1c38821990>"
      ]
     },
     "execution_count": 75,
     "metadata": {},
     "output_type": "execute_result"
    },
    {
     "data": {
      "text/plain": [
       "Text(0.5, 0, 'dN/dS')"
      ]
     },
     "execution_count": 75,
     "metadata": {},
     "output_type": "execute_result"
    },
    {
     "data": {
      "text/plain": [
       "Text(0, 0.5, 'number of genes')"
      ]
     },
     "execution_count": 75,
     "metadata": {},
     "output_type": "execute_result"
    },
    {
     "data": {
      "text/plain": [
       "<matplotlib.legend.Legend at 0x1c38817ed0>"
      ]
     },
     "execution_count": 75,
     "metadata": {},
     "output_type": "execute_result"
    },
    {
     "data": {
      "text/plain": [
       "Text(0.5, 0.98, 'Five Celltypes Distribution of Average dN/dS Scores of Genes Related to\\ncell morphogenesis')"
      ]
     },
     "execution_count": 75,
     "metadata": {},
     "output_type": "execute_result"
    },
    {
     "data": {
      "text/plain": [
       "[<matplotlib.lines.Line2D at 0x1c3a503ad0>]"
      ]
     },
     "execution_count": 75,
     "metadata": {},
     "output_type": "execute_result"
    },
    {
     "data": {
      "text/plain": [
       "[<matplotlib.lines.Line2D at 0x1c35c94990>]"
      ]
     },
     "execution_count": 75,
     "metadata": {},
     "output_type": "execute_result"
    },
    {
     "data": {
      "text/plain": [
       "[<matplotlib.lines.Line2D at 0x1c35c94f10>]"
      ]
     },
     "execution_count": 75,
     "metadata": {},
     "output_type": "execute_result"
    },
    {
     "data": {
      "text/plain": [
       "[<matplotlib.lines.Line2D at 0x1c35c94f50>]"
      ]
     },
     "execution_count": 75,
     "metadata": {},
     "output_type": "execute_result"
    },
    {
     "data": {
      "text/plain": [
       "[<matplotlib.lines.Line2D at 0x1c35c94f90>]"
      ]
     },
     "execution_count": 75,
     "metadata": {},
     "output_type": "execute_result"
    },
    {
     "data": {
      "text/plain": [
       "<matplotlib.lines.Line2D at 0x1c35cadfd0>"
      ]
     },
     "execution_count": 75,
     "metadata": {},
     "output_type": "execute_result"
    },
    {
     "data": {
      "text/plain": [
       "<matplotlib.lines.Line2D at 0x1c35cad750>"
      ]
     },
     "execution_count": 75,
     "metadata": {},
     "output_type": "execute_result"
    },
    {
     "data": {
      "text/plain": [
       "<matplotlib.lines.Line2D at 0x1c3c32bd50>"
      ]
     },
     "execution_count": 75,
     "metadata": {},
     "output_type": "execute_result"
    },
    {
     "data": {
      "text/plain": [
       "<matplotlib.lines.Line2D at 0x1c3c32b710>"
      ]
     },
     "execution_count": 75,
     "metadata": {},
     "output_type": "execute_result"
    },
    {
     "data": {
      "text/plain": [
       "Text(0.5, 0, 'dN/dS')"
      ]
     },
     "execution_count": 75,
     "metadata": {},
     "output_type": "execute_result"
    },
    {
     "data": {
      "text/plain": [
       "Text(0, 0.5, 'number of genes')"
      ]
     },
     "execution_count": 75,
     "metadata": {},
     "output_type": "execute_result"
    },
    {
     "data": {
      "text/plain": [
       "<matplotlib.legend.Legend at 0x1c35cad4d0>"
      ]
     },
     "execution_count": 75,
     "metadata": {},
     "output_type": "execute_result"
    },
    {
     "data": {
      "text/plain": [
       "Text(0.5, 0.98, 'Five Celltypes Distribution of Average dN/dS Scores of Genes Related to\\ngrowth')"
      ]
     },
     "execution_count": 75,
     "metadata": {},
     "output_type": "execute_result"
    },
    {
     "data": {
      "text/plain": [
       "[<matplotlib.lines.Line2D at 0x1c3b77add0>]"
      ]
     },
     "execution_count": 75,
     "metadata": {},
     "output_type": "execute_result"
    },
    {
     "data": {
      "text/plain": [
       "[<matplotlib.lines.Line2D at 0x1c3b785850>]"
      ]
     },
     "execution_count": 75,
     "metadata": {},
     "output_type": "execute_result"
    },
    {
     "data": {
      "text/plain": [
       "[<matplotlib.lines.Line2D at 0x1c3b7978d0>]"
      ]
     },
     "execution_count": 75,
     "metadata": {},
     "output_type": "execute_result"
    },
    {
     "data": {
      "text/plain": [
       "[<matplotlib.lines.Line2D at 0x1c3b796690>]"
      ]
     },
     "execution_count": 75,
     "metadata": {},
     "output_type": "execute_result"
    },
    {
     "data": {
      "text/plain": [
       "[<matplotlib.lines.Line2D at 0x1c3b796310>]"
      ]
     },
     "execution_count": 75,
     "metadata": {},
     "output_type": "execute_result"
    },
    {
     "data": {
      "text/plain": [
       "<matplotlib.lines.Line2D at 0x1c38e6aa10>"
      ]
     },
     "execution_count": 75,
     "metadata": {},
     "output_type": "execute_result"
    },
    {
     "data": {
      "text/plain": [
       "<matplotlib.lines.Line2D at 0x1c38e6ac10>"
      ]
     },
     "execution_count": 75,
     "metadata": {},
     "output_type": "execute_result"
    },
    {
     "data": {
      "text/plain": [
       "<matplotlib.lines.Line2D at 0x1c38e6f7d0>"
      ]
     },
     "execution_count": 75,
     "metadata": {},
     "output_type": "execute_result"
    },
    {
     "data": {
      "text/plain": [
       "<matplotlib.lines.Line2D at 0x1c38e6fdd0>"
      ]
     },
     "execution_count": 75,
     "metadata": {},
     "output_type": "execute_result"
    },
    {
     "data": {
      "text/plain": [
       "Text(0.5, 0, 'dN/dS')"
      ]
     },
     "execution_count": 75,
     "metadata": {},
     "output_type": "execute_result"
    },
    {
     "data": {
      "text/plain": [
       "Text(0, 0.5, 'number of genes')"
      ]
     },
     "execution_count": 75,
     "metadata": {},
     "output_type": "execute_result"
    },
    {
     "data": {
      "text/plain": [
       "<matplotlib.legend.Legend at 0x1c3b785d90>"
      ]
     },
     "execution_count": 75,
     "metadata": {},
     "output_type": "execute_result"
    },
    {
     "data": {
      "text/plain": [
       "Text(0.5, 0.98, 'Five Celltypes Distribution of Average dN/dS Scores of Genes Related to\\nDNA metabolic process')"
      ]
     },
     "execution_count": 75,
     "metadata": {},
     "output_type": "execute_result"
    },
    {
     "data": {
      "text/plain": [
       "[<matplotlib.lines.Line2D at 0x1c3b4cdc50>]"
      ]
     },
     "execution_count": 75,
     "metadata": {},
     "output_type": "execute_result"
    },
    {
     "data": {
      "text/plain": [
       "[<matplotlib.lines.Line2D at 0x1c3b4c7a90>]"
      ]
     },
     "execution_count": 75,
     "metadata": {},
     "output_type": "execute_result"
    },
    {
     "data": {
      "text/plain": [
       "[<matplotlib.lines.Line2D at 0x1c3b4dba10>]"
      ]
     },
     "execution_count": 75,
     "metadata": {},
     "output_type": "execute_result"
    },
    {
     "data": {
      "text/plain": [
       "[<matplotlib.lines.Line2D at 0x1c3b4d1b10>]"
      ]
     },
     "execution_count": 75,
     "metadata": {},
     "output_type": "execute_result"
    },
    {
     "data": {
      "text/plain": [
       "[<matplotlib.lines.Line2D at 0x1c3b4d1190>]"
      ]
     },
     "execution_count": 75,
     "metadata": {},
     "output_type": "execute_result"
    },
    {
     "data": {
      "text/plain": [
       "<matplotlib.lines.Line2D at 0x1c3b4e9950>"
      ]
     },
     "execution_count": 75,
     "metadata": {},
     "output_type": "execute_result"
    },
    {
     "data": {
      "text/plain": [
       "<matplotlib.lines.Line2D at 0x1c3b4e9f10>"
      ]
     },
     "execution_count": 75,
     "metadata": {},
     "output_type": "execute_result"
    },
    {
     "data": {
      "text/plain": [
       "<matplotlib.lines.Line2D at 0x1c2a0db390>"
      ]
     },
     "execution_count": 75,
     "metadata": {},
     "output_type": "execute_result"
    },
    {
     "data": {
      "text/plain": [
       "<matplotlib.lines.Line2D at 0x1c2a0db110>"
      ]
     },
     "execution_count": 75,
     "metadata": {},
     "output_type": "execute_result"
    },
    {
     "data": {
      "text/plain": [
       "Text(0.5, 0, 'dN/dS')"
      ]
     },
     "execution_count": 75,
     "metadata": {},
     "output_type": "execute_result"
    },
    {
     "data": {
      "text/plain": [
       "Text(0, 0.5, 'number of genes')"
      ]
     },
     "execution_count": 75,
     "metadata": {},
     "output_type": "execute_result"
    },
    {
     "data": {
      "text/plain": [
       "<matplotlib.legend.Legend at 0x1c3b4c7c10>"
      ]
     },
     "execution_count": 75,
     "metadata": {},
     "output_type": "execute_result"
    },
    {
     "data": {
      "text/plain": [
       "Text(0.5, 0.98, 'Five Celltypes Distribution of Average dN/dS Scores of Genes Related to\\nmitotic cell cycle')"
      ]
     },
     "execution_count": 75,
     "metadata": {},
     "output_type": "execute_result"
    },
    {
     "data": {
      "text/plain": [
       "[<matplotlib.lines.Line2D at 0x1c3b4c7c90>]"
      ]
     },
     "execution_count": 75,
     "metadata": {},
     "output_type": "execute_result"
    },
    {
     "data": {
      "text/plain": [
       "[<matplotlib.lines.Line2D at 0x1c296c77d0>]"
      ]
     },
     "execution_count": 75,
     "metadata": {},
     "output_type": "execute_result"
    },
    {
     "data": {
      "text/plain": [
       "[<matplotlib.lines.Line2D at 0x1c2526e5d0>]"
      ]
     },
     "execution_count": 75,
     "metadata": {},
     "output_type": "execute_result"
    },
    {
     "data": {
      "text/plain": [
       "[<matplotlib.lines.Line2D at 0x1c2526eb10>]"
      ]
     },
     "execution_count": 75,
     "metadata": {},
     "output_type": "execute_result"
    },
    {
     "data": {
      "text/plain": [
       "[<matplotlib.lines.Line2D at 0x1c2526ed10>]"
      ]
     },
     "execution_count": 75,
     "metadata": {},
     "output_type": "execute_result"
    },
    {
     "data": {
      "text/plain": [
       "<matplotlib.lines.Line2D at 0x1c239ded90>"
      ]
     },
     "execution_count": 75,
     "metadata": {},
     "output_type": "execute_result"
    },
    {
     "data": {
      "text/plain": [
       "<matplotlib.lines.Line2D at 0x1c252565d0>"
      ]
     },
     "execution_count": 75,
     "metadata": {},
     "output_type": "execute_result"
    },
    {
     "data": {
      "text/plain": [
       "<matplotlib.lines.Line2D at 0x1c252741d0>"
      ]
     },
     "execution_count": 75,
     "metadata": {},
     "output_type": "execute_result"
    },
    {
     "data": {
      "text/plain": [
       "<matplotlib.lines.Line2D at 0x1c252401d0>"
      ]
     },
     "execution_count": 75,
     "metadata": {},
     "output_type": "execute_result"
    },
    {
     "data": {
      "text/plain": [
       "Text(0.5, 0, 'dN/dS')"
      ]
     },
     "execution_count": 75,
     "metadata": {},
     "output_type": "execute_result"
    },
    {
     "data": {
      "text/plain": [
       "Text(0, 0.5, 'number of genes')"
      ]
     },
     "execution_count": 75,
     "metadata": {},
     "output_type": "execute_result"
    },
    {
     "data": {
      "text/plain": [
       "<matplotlib.legend.Legend at 0x1c25256a90>"
      ]
     },
     "execution_count": 75,
     "metadata": {},
     "output_type": "execute_result"
    },
    {
     "data": {
      "text/plain": [
       "Text(0.5, 0.98, 'Five Celltypes Distribution of Average dN/dS Scores of Genes Related to\\nmembrane organization')"
      ]
     },
     "execution_count": 75,
     "metadata": {},
     "output_type": "execute_result"
    },
    {
     "data": {
      "text/plain": [
       "[<matplotlib.lines.Line2D at 0x1c3a36ab90>]"
      ]
     },
     "execution_count": 75,
     "metadata": {},
     "output_type": "execute_result"
    },
    {
     "data": {
      "text/plain": [
       "[<matplotlib.lines.Line2D at 0x1c3a373f90>]"
      ]
     },
     "execution_count": 75,
     "metadata": {},
     "output_type": "execute_result"
    },
    {
     "data": {
      "text/plain": [
       "[<matplotlib.lines.Line2D at 0x1c3a373610>]"
      ]
     },
     "execution_count": 75,
     "metadata": {},
     "output_type": "execute_result"
    },
    {
     "data": {
      "text/plain": [
       "[<matplotlib.lines.Line2D at 0x1c3a512e90>]"
      ]
     },
     "execution_count": 75,
     "metadata": {},
     "output_type": "execute_result"
    },
    {
     "data": {
      "text/plain": [
       "[<matplotlib.lines.Line2D at 0x1c3a373690>]"
      ]
     },
     "execution_count": 75,
     "metadata": {},
     "output_type": "execute_result"
    },
    {
     "data": {
      "text/plain": [
       "<matplotlib.lines.Line2D at 0x1c3c49c590>"
      ]
     },
     "execution_count": 75,
     "metadata": {},
     "output_type": "execute_result"
    },
    {
     "data": {
      "text/plain": [
       "<matplotlib.lines.Line2D at 0x1c3c49ccd0>"
      ]
     },
     "execution_count": 75,
     "metadata": {},
     "output_type": "execute_result"
    },
    {
     "data": {
      "text/plain": [
       "<matplotlib.lines.Line2D at 0x1c3c483250>"
      ]
     },
     "execution_count": 75,
     "metadata": {},
     "output_type": "execute_result"
    },
    {
     "data": {
      "text/plain": [
       "<matplotlib.lines.Line2D at 0x1c3c483b10>"
      ]
     },
     "execution_count": 75,
     "metadata": {},
     "output_type": "execute_result"
    },
    {
     "data": {
      "text/plain": [
       "Text(0.5, 0, 'dN/dS')"
      ]
     },
     "execution_count": 75,
     "metadata": {},
     "output_type": "execute_result"
    },
    {
     "data": {
      "text/plain": [
       "Text(0, 0.5, 'number of genes')"
      ]
     },
     "execution_count": 75,
     "metadata": {},
     "output_type": "execute_result"
    },
    {
     "data": {
      "text/plain": [
       "<matplotlib.legend.Legend at 0x1c3c4882d0>"
      ]
     },
     "execution_count": 75,
     "metadata": {},
     "output_type": "execute_result"
    },
    {
     "data": {
      "text/plain": [
       "Text(0.5, 0.98, 'Five Celltypes Distribution of Average dN/dS Scores of Genes Related to\\ncell division')"
      ]
     },
     "execution_count": 75,
     "metadata": {},
     "output_type": "execute_result"
    },
    {
     "data": {
      "text/plain": [
       "[<matplotlib.lines.Line2D at 0x1c26c949d0>]"
      ]
     },
     "execution_count": 75,
     "metadata": {},
     "output_type": "execute_result"
    },
    {
     "data": {
      "text/plain": [
       "[<matplotlib.lines.Line2D at 0x1c27be5610>]"
      ]
     },
     "execution_count": 75,
     "metadata": {},
     "output_type": "execute_result"
    },
    {
     "data": {
      "text/plain": [
       "[<matplotlib.lines.Line2D at 0x1c26c7aad0>]"
      ]
     },
     "execution_count": 75,
     "metadata": {},
     "output_type": "execute_result"
    },
    {
     "data": {
      "text/plain": [
       "[<matplotlib.lines.Line2D at 0x1c24d87f10>]"
      ]
     },
     "execution_count": 75,
     "metadata": {},
     "output_type": "execute_result"
    },
    {
     "data": {
      "text/plain": [
       "[<matplotlib.lines.Line2D at 0x1c24d870d0>]"
      ]
     },
     "execution_count": 75,
     "metadata": {},
     "output_type": "execute_result"
    },
    {
     "data": {
      "text/plain": [
       "<matplotlib.lines.Line2D at 0x1c27bc0a50>"
      ]
     },
     "execution_count": 75,
     "metadata": {},
     "output_type": "execute_result"
    },
    {
     "data": {
      "text/plain": [
       "<matplotlib.lines.Line2D at 0x1c27bda290>"
      ]
     },
     "execution_count": 75,
     "metadata": {},
     "output_type": "execute_result"
    },
    {
     "data": {
      "text/plain": [
       "<matplotlib.lines.Line2D at 0x1c27bda9d0>"
      ]
     },
     "execution_count": 75,
     "metadata": {},
     "output_type": "execute_result"
    },
    {
     "data": {
      "text/plain": [
       "<matplotlib.lines.Line2D at 0x1c27bda8d0>"
      ]
     },
     "execution_count": 75,
     "metadata": {},
     "output_type": "execute_result"
    },
    {
     "data": {
      "text/plain": [
       "Text(0.5, 0, 'dN/dS')"
      ]
     },
     "execution_count": 75,
     "metadata": {},
     "output_type": "execute_result"
    },
    {
     "data": {
      "text/plain": [
       "Text(0, 0.5, 'number of genes')"
      ]
     },
     "execution_count": 75,
     "metadata": {},
     "output_type": "execute_result"
    },
    {
     "data": {
      "text/plain": [
       "<matplotlib.legend.Legend at 0x1c26c9f350>"
      ]
     },
     "execution_count": 75,
     "metadata": {},
     "output_type": "execute_result"
    },
    {
     "data": {
      "text/plain": [
       "Text(0.5, 0.98, 'Five Celltypes Distribution of Average dN/dS Scores of Genes Related to\\ntranslation')"
      ]
     },
     "execution_count": 75,
     "metadata": {},
     "output_type": "execute_result"
    },
    {
     "data": {
      "text/plain": [
       "[<matplotlib.lines.Line2D at 0x1c2b71dc10>]"
      ]
     },
     "execution_count": 75,
     "metadata": {},
     "output_type": "execute_result"
    },
    {
     "data": {
      "text/plain": [
       "[<matplotlib.lines.Line2D at 0x1c2b71b690>]"
      ]
     },
     "execution_count": 75,
     "metadata": {},
     "output_type": "execute_result"
    },
    {
     "data": {
      "text/plain": [
       "[<matplotlib.lines.Line2D at 0x1c2b71b9d0>]"
      ]
     },
     "execution_count": 75,
     "metadata": {},
     "output_type": "execute_result"
    },
    {
     "data": {
      "text/plain": [
       "[<matplotlib.lines.Line2D at 0x1c2b74fa10>]"
      ]
     },
     "execution_count": 75,
     "metadata": {},
     "output_type": "execute_result"
    },
    {
     "data": {
      "text/plain": [
       "[<matplotlib.lines.Line2D at 0x1c2b74f150>]"
      ]
     },
     "execution_count": 75,
     "metadata": {},
     "output_type": "execute_result"
    },
    {
     "data": {
      "text/plain": [
       "<matplotlib.lines.Line2D at 0x1c2b6fea10>"
      ]
     },
     "execution_count": 75,
     "metadata": {},
     "output_type": "execute_result"
    },
    {
     "data": {
      "text/plain": [
       "<matplotlib.lines.Line2D at 0x1c2b6fee10>"
      ]
     },
     "execution_count": 75,
     "metadata": {},
     "output_type": "execute_result"
    },
    {
     "data": {
      "text/plain": [
       "<matplotlib.lines.Line2D at 0x1c2b7062d0>"
      ]
     },
     "execution_count": 75,
     "metadata": {},
     "output_type": "execute_result"
    },
    {
     "data": {
      "text/plain": [
       "<matplotlib.lines.Line2D at 0x1c2b706a90>"
      ]
     },
     "execution_count": 75,
     "metadata": {},
     "output_type": "execute_result"
    },
    {
     "data": {
      "text/plain": [
       "Text(0.5, 0, 'dN/dS')"
      ]
     },
     "execution_count": 75,
     "metadata": {},
     "output_type": "execute_result"
    },
    {
     "data": {
      "text/plain": [
       "Text(0, 0.5, 'number of genes')"
      ]
     },
     "execution_count": 75,
     "metadata": {},
     "output_type": "execute_result"
    },
    {
     "data": {
      "text/plain": [
       "<matplotlib.legend.Legend at 0x1c2b6fee50>"
      ]
     },
     "execution_count": 75,
     "metadata": {},
     "output_type": "execute_result"
    },
    {
     "data": {
      "text/plain": [
       "Text(0.5, 0.98, 'Five Celltypes Distribution of Average dN/dS Scores of Genes Related to\\ncarbohydrate metabolic process')"
      ]
     },
     "execution_count": 75,
     "metadata": {},
     "output_type": "execute_result"
    },
    {
     "data": {
      "text/plain": [
       "[<matplotlib.lines.Line2D at 0x1c30272c50>]"
      ]
     },
     "execution_count": 75,
     "metadata": {},
     "output_type": "execute_result"
    },
    {
     "data": {
      "text/plain": [
       "[<matplotlib.lines.Line2D at 0x1c2385de90>]"
      ]
     },
     "execution_count": 75,
     "metadata": {},
     "output_type": "execute_result"
    },
    {
     "data": {
      "text/plain": [
       "[<matplotlib.lines.Line2D at 0x1c30d9b690>]"
      ]
     },
     "execution_count": 75,
     "metadata": {},
     "output_type": "execute_result"
    },
    {
     "data": {
      "text/plain": [
       "[<matplotlib.lines.Line2D at 0x1c2385ded0>]"
      ]
     },
     "execution_count": 75,
     "metadata": {},
     "output_type": "execute_result"
    },
    {
     "data": {
      "text/plain": [
       "[<matplotlib.lines.Line2D at 0x1c30d9b850>]"
      ]
     },
     "execution_count": 75,
     "metadata": {},
     "output_type": "execute_result"
    },
    {
     "data": {
      "text/plain": [
       "<matplotlib.lines.Line2D at 0x1c23845990>"
      ]
     },
     "execution_count": 75,
     "metadata": {},
     "output_type": "execute_result"
    },
    {
     "data": {
      "text/plain": [
       "<matplotlib.lines.Line2D at 0x1c238441d0>"
      ]
     },
     "execution_count": 75,
     "metadata": {},
     "output_type": "execute_result"
    },
    {
     "data": {
      "text/plain": [
       "<matplotlib.lines.Line2D at 0x1c23844910>"
      ]
     },
     "execution_count": 75,
     "metadata": {},
     "output_type": "execute_result"
    },
    {
     "data": {
      "text/plain": [
       "<matplotlib.lines.Line2D at 0x1c23844690>"
      ]
     },
     "execution_count": 75,
     "metadata": {},
     "output_type": "execute_result"
    },
    {
     "data": {
      "text/plain": [
       "Text(0.5, 0, 'dN/dS')"
      ]
     },
     "execution_count": 75,
     "metadata": {},
     "output_type": "execute_result"
    },
    {
     "data": {
      "text/plain": [
       "Text(0, 0.5, 'number of genes')"
      ]
     },
     "execution_count": 75,
     "metadata": {},
     "output_type": "execute_result"
    },
    {
     "data": {
      "text/plain": [
       "<matplotlib.legend.Legend at 0x1c238741d0>"
      ]
     },
     "execution_count": 75,
     "metadata": {},
     "output_type": "execute_result"
    },
    {
     "data": {
      "text/plain": [
       "Text(0.5, 0.98, 'Five Celltypes Distribution of Average dN/dS Scores of Genes Related to\\ncofactor metabolic process')"
      ]
     },
     "execution_count": 75,
     "metadata": {},
     "output_type": "execute_result"
    },
    {
     "data": {
      "text/plain": [
       "[<matplotlib.lines.Line2D at 0x1c237945d0>]"
      ]
     },
     "execution_count": 75,
     "metadata": {},
     "output_type": "execute_result"
    },
    {
     "data": {
      "text/plain": [
       "[<matplotlib.lines.Line2D at 0x1c23f2f510>]"
      ]
     },
     "execution_count": 75,
     "metadata": {},
     "output_type": "execute_result"
    },
    {
     "data": {
      "text/plain": [
       "[<matplotlib.lines.Line2D at 0x1c32a50b50>]"
      ]
     },
     "execution_count": 75,
     "metadata": {},
     "output_type": "execute_result"
    },
    {
     "data": {
      "text/plain": [
       "[<matplotlib.lines.Line2D at 0x1c32a50090>]"
      ]
     },
     "execution_count": 75,
     "metadata": {},
     "output_type": "execute_result"
    },
    {
     "data": {
      "text/plain": [
       "[<matplotlib.lines.Line2D at 0x1c32a50bd0>]"
      ]
     },
     "execution_count": 75,
     "metadata": {},
     "output_type": "execute_result"
    },
    {
     "data": {
      "text/plain": [
       "<matplotlib.lines.Line2D at 0x1c23f10b10>"
      ]
     },
     "execution_count": 75,
     "metadata": {},
     "output_type": "execute_result"
    },
    {
     "data": {
      "text/plain": [
       "<matplotlib.lines.Line2D at 0x1c23f2c1d0>"
      ]
     },
     "execution_count": 75,
     "metadata": {},
     "output_type": "execute_result"
    },
    {
     "data": {
      "text/plain": [
       "<matplotlib.lines.Line2D at 0x1c23f2c8d0>"
      ]
     },
     "execution_count": 75,
     "metadata": {},
     "output_type": "execute_result"
    },
    {
     "data": {
      "text/plain": [
       "<matplotlib.lines.Line2D at 0x1c23f2c7d0>"
      ]
     },
     "execution_count": 75,
     "metadata": {},
     "output_type": "execute_result"
    },
    {
     "data": {
      "text/plain": [
       "Text(0.5, 0, 'dN/dS')"
      ]
     },
     "execution_count": 75,
     "metadata": {},
     "output_type": "execute_result"
    },
    {
     "data": {
      "text/plain": [
       "Text(0, 0.5, 'number of genes')"
      ]
     },
     "execution_count": 75,
     "metadata": {},
     "output_type": "execute_result"
    },
    {
     "data": {
      "text/plain": [
       "<matplotlib.legend.Legend at 0x1c23f2ced0>"
      ]
     },
     "execution_count": 75,
     "metadata": {},
     "output_type": "execute_result"
    },
    {
     "data": {
      "text/plain": [
       "Text(0.5, 0.98, 'Five Celltypes Distribution of Average dN/dS Scores of Genes Related to\\ncirculatory system process')"
      ]
     },
     "execution_count": 75,
     "metadata": {},
     "output_type": "execute_result"
    },
    {
     "data": {
      "text/plain": [
       "[<matplotlib.lines.Line2D at 0x1c2cc82c10>]"
      ]
     },
     "execution_count": 75,
     "metadata": {},
     "output_type": "execute_result"
    },
    {
     "data": {
      "text/plain": [
       "[<matplotlib.lines.Line2D at 0x1c378caa50>]"
      ]
     },
     "execution_count": 75,
     "metadata": {},
     "output_type": "execute_result"
    },
    {
     "data": {
      "text/plain": [
       "[<matplotlib.lines.Line2D at 0x1c378cad10>]"
      ]
     },
     "execution_count": 75,
     "metadata": {},
     "output_type": "execute_result"
    },
    {
     "data": {
      "text/plain": [
       "[<matplotlib.lines.Line2D at 0x1c378bd890>]"
      ]
     },
     "execution_count": 75,
     "metadata": {},
     "output_type": "execute_result"
    },
    {
     "data": {
      "text/plain": [
       "[<matplotlib.lines.Line2D at 0x1c378bdd10>]"
      ]
     },
     "execution_count": 75,
     "metadata": {},
     "output_type": "execute_result"
    },
    {
     "data": {
      "text/plain": [
       "<matplotlib.lines.Line2D at 0x1c3a171c10>"
      ]
     },
     "execution_count": 75,
     "metadata": {},
     "output_type": "execute_result"
    },
    {
     "data": {
      "text/plain": [
       "<matplotlib.lines.Line2D at 0x1c3a171bd0>"
      ]
     },
     "execution_count": 75,
     "metadata": {},
     "output_type": "execute_result"
    },
    {
     "data": {
      "text/plain": [
       "<matplotlib.lines.Line2D at 0x1c3a143910>"
      ]
     },
     "execution_count": 75,
     "metadata": {},
     "output_type": "execute_result"
    },
    {
     "data": {
      "text/plain": [
       "<matplotlib.lines.Line2D at 0x1c3a143dd0>"
      ]
     },
     "execution_count": 75,
     "metadata": {},
     "output_type": "execute_result"
    },
    {
     "data": {
      "text/plain": [
       "Text(0.5, 0, 'dN/dS')"
      ]
     },
     "execution_count": 75,
     "metadata": {},
     "output_type": "execute_result"
    },
    {
     "data": {
      "text/plain": [
       "Text(0, 0.5, 'number of genes')"
      ]
     },
     "execution_count": 75,
     "metadata": {},
     "output_type": "execute_result"
    },
    {
     "data": {
      "text/plain": [
       "<matplotlib.legend.Legend at 0x1c3a143250>"
      ]
     },
     "execution_count": 75,
     "metadata": {},
     "output_type": "execute_result"
    },
    {
     "data": {
      "text/plain": [
       "Text(0.5, 0.98, 'Five Celltypes Distribution of Average dN/dS Scores of Genes Related to\\nmitochondrion organization')"
      ]
     },
     "execution_count": 75,
     "metadata": {},
     "output_type": "execute_result"
    },
    {
     "data": {
      "text/plain": [
       "[<matplotlib.lines.Line2D at 0x1c29462d10>]"
      ]
     },
     "execution_count": 75,
     "metadata": {},
     "output_type": "execute_result"
    },
    {
     "data": {
      "text/plain": [
       "[<matplotlib.lines.Line2D at 0x1c2945eb50>]"
      ]
     },
     "execution_count": 75,
     "metadata": {},
     "output_type": "execute_result"
    },
    {
     "data": {
      "text/plain": [
       "[<matplotlib.lines.Line2D at 0x1c376e8810>]"
      ]
     },
     "execution_count": 75,
     "metadata": {},
     "output_type": "execute_result"
    },
    {
     "data": {
      "text/plain": [
       "[<matplotlib.lines.Line2D at 0x1c36a9af10>]"
      ]
     },
     "execution_count": 75,
     "metadata": {},
     "output_type": "execute_result"
    },
    {
     "data": {
      "text/plain": [
       "[<matplotlib.lines.Line2D at 0x1c36a9a250>]"
      ]
     },
     "execution_count": 75,
     "metadata": {},
     "output_type": "execute_result"
    },
    {
     "data": {
      "text/plain": [
       "<matplotlib.lines.Line2D at 0x1c29471b90>"
      ]
     },
     "execution_count": 75,
     "metadata": {},
     "output_type": "execute_result"
    },
    {
     "data": {
      "text/plain": [
       "<matplotlib.lines.Line2D at 0x1c29471f90>"
      ]
     },
     "execution_count": 75,
     "metadata": {},
     "output_type": "execute_result"
    },
    {
     "data": {
      "text/plain": [
       "<matplotlib.lines.Line2D at 0x1c29471390>"
      ]
     },
     "execution_count": 75,
     "metadata": {},
     "output_type": "execute_result"
    },
    {
     "data": {
      "text/plain": [
       "<matplotlib.lines.Line2D at 0x1c29477d10>"
      ]
     },
     "execution_count": 75,
     "metadata": {},
     "output_type": "execute_result"
    },
    {
     "data": {
      "text/plain": [
       "Text(0.5, 0, 'dN/dS')"
      ]
     },
     "execution_count": 75,
     "metadata": {},
     "output_type": "execute_result"
    },
    {
     "data": {
      "text/plain": [
       "Text(0, 0.5, 'number of genes')"
      ]
     },
     "execution_count": 75,
     "metadata": {},
     "output_type": "execute_result"
    },
    {
     "data": {
      "text/plain": [
       "<matplotlib.legend.Legend at 0x1c2945ecd0>"
      ]
     },
     "execution_count": 75,
     "metadata": {},
     "output_type": "execute_result"
    },
    {
     "data": {
      "text/plain": [
       "Text(0.5, 0.98, 'Five Celltypes Distribution of Average dN/dS Scores of Genes Related to\\nmRNA processing')"
      ]
     },
     "execution_count": 75,
     "metadata": {},
     "output_type": "execute_result"
    },
    {
     "data": {
      "text/plain": [
       "[<matplotlib.lines.Line2D at 0x1c283b0310>]"
      ]
     },
     "execution_count": 75,
     "metadata": {},
     "output_type": "execute_result"
    },
    {
     "data": {
      "text/plain": [
       "[<matplotlib.lines.Line2D at 0x1c283b0bd0>]"
      ]
     },
     "execution_count": 75,
     "metadata": {},
     "output_type": "execute_result"
    },
    {
     "data": {
      "text/plain": [
       "[<matplotlib.lines.Line2D at 0x1c28391cd0>]"
      ]
     },
     "execution_count": 75,
     "metadata": {},
     "output_type": "execute_result"
    },
    {
     "data": {
      "text/plain": [
       "[<matplotlib.lines.Line2D at 0x1c28391590>]"
      ]
     },
     "execution_count": 75,
     "metadata": {},
     "output_type": "execute_result"
    },
    {
     "data": {
      "text/plain": [
       "[<matplotlib.lines.Line2D at 0x1c2a5cfd50>]"
      ]
     },
     "execution_count": 75,
     "metadata": {},
     "output_type": "execute_result"
    },
    {
     "data": {
      "text/plain": [
       "<matplotlib.lines.Line2D at 0x1c2a5df290>"
      ]
     },
     "execution_count": 75,
     "metadata": {},
     "output_type": "execute_result"
    },
    {
     "data": {
      "text/plain": [
       "<matplotlib.lines.Line2D at 0x1c2a5df990>"
      ]
     },
     "execution_count": 75,
     "metadata": {},
     "output_type": "execute_result"
    },
    {
     "data": {
      "text/plain": [
       "<matplotlib.lines.Line2D at 0x1c2a5dfb90>"
      ]
     },
     "execution_count": 75,
     "metadata": {},
     "output_type": "execute_result"
    },
    {
     "data": {
      "text/plain": [
       "<matplotlib.lines.Line2D at 0x1c2a5cf990>"
      ]
     },
     "execution_count": 75,
     "metadata": {},
     "output_type": "execute_result"
    },
    {
     "data": {
      "text/plain": [
       "Text(0.5, 0, 'dN/dS')"
      ]
     },
     "execution_count": 75,
     "metadata": {},
     "output_type": "execute_result"
    },
    {
     "data": {
      "text/plain": [
       "Text(0, 0.5, 'number of genes')"
      ]
     },
     "execution_count": 75,
     "metadata": {},
     "output_type": "execute_result"
    },
    {
     "data": {
      "text/plain": [
       "<matplotlib.legend.Legend at 0x1c2a5df950>"
      ]
     },
     "execution_count": 75,
     "metadata": {},
     "output_type": "execute_result"
    },
    {
     "data": {
      "text/plain": [
       "Text(0.5, 0.98, 'Five Celltypes Distribution of Average dN/dS Scores of Genes Related to\\nnucleobase-containing compound catabolic process')"
      ]
     },
     "execution_count": 75,
     "metadata": {},
     "output_type": "execute_result"
    },
    {
     "data": {
      "text/plain": [
       "[<matplotlib.lines.Line2D at 0x1c39954750>]"
      ]
     },
     "execution_count": 75,
     "metadata": {},
     "output_type": "execute_result"
    },
    {
     "data": {
      "text/plain": [
       "[<matplotlib.lines.Line2D at 0x1c2b1d2110>]"
      ]
     },
     "execution_count": 75,
     "metadata": {},
     "output_type": "execute_result"
    },
    {
     "data": {
      "text/plain": [
       "[<matplotlib.lines.Line2D at 0x1c39975a10>]"
      ]
     },
     "execution_count": 75,
     "metadata": {},
     "output_type": "execute_result"
    },
    {
     "data": {
      "text/plain": [
       "[<matplotlib.lines.Line2D at 0x1c39975c10>]"
      ]
     },
     "execution_count": 75,
     "metadata": {},
     "output_type": "execute_result"
    },
    {
     "data": {
      "text/plain": [
       "[<matplotlib.lines.Line2D at 0x1c266c7d50>]"
      ]
     },
     "execution_count": 75,
     "metadata": {},
     "output_type": "execute_result"
    },
    {
     "data": {
      "text/plain": [
       "<matplotlib.lines.Line2D at 0x1c266cb110>"
      ]
     },
     "execution_count": 75,
     "metadata": {},
     "output_type": "execute_result"
    },
    {
     "data": {
      "text/plain": [
       "<matplotlib.lines.Line2D at 0x1c266cb610>"
      ]
     },
     "execution_count": 75,
     "metadata": {},
     "output_type": "execute_result"
    },
    {
     "data": {
      "text/plain": [
       "<matplotlib.lines.Line2D at 0x1c266cbe10>"
      ]
     },
     "execution_count": 75,
     "metadata": {},
     "output_type": "execute_result"
    },
    {
     "data": {
      "text/plain": [
       "<matplotlib.lines.Line2D at 0x1c39949390>"
      ]
     },
     "execution_count": 75,
     "metadata": {},
     "output_type": "execute_result"
    },
    {
     "data": {
      "text/plain": [
       "Text(0.5, 0, 'dN/dS')"
      ]
     },
     "execution_count": 75,
     "metadata": {},
     "output_type": "execute_result"
    },
    {
     "data": {
      "text/plain": [
       "Text(0, 0.5, 'number of genes')"
      ]
     },
     "execution_count": 75,
     "metadata": {},
     "output_type": "execute_result"
    },
    {
     "data": {
      "text/plain": [
       "<matplotlib.legend.Legend at 0x1c266e8050>"
      ]
     },
     "execution_count": 75,
     "metadata": {},
     "output_type": "execute_result"
    },
    {
     "data": {
      "text/plain": [
       "Text(0.5, 0.98, 'Five Celltypes Distribution of Average dN/dS Scores of Genes Related to\\nautophagy')"
      ]
     },
     "execution_count": 75,
     "metadata": {},
     "output_type": "execute_result"
    },
    {
     "data": {
      "text/plain": [
       "[<matplotlib.lines.Line2D at 0x1c2d07bcd0>]"
      ]
     },
     "execution_count": 75,
     "metadata": {},
     "output_type": "execute_result"
    },
    {
     "data": {
      "text/plain": [
       "[<matplotlib.lines.Line2D at 0x1c2d0ab750>]"
      ]
     },
     "execution_count": 75,
     "metadata": {},
     "output_type": "execute_result"
    },
    {
     "data": {
      "text/plain": [
       "[<matplotlib.lines.Line2D at 0x1c272d6750>]"
      ]
     },
     "execution_count": 75,
     "metadata": {},
     "output_type": "execute_result"
    },
    {
     "data": {
      "text/plain": [
       "[<matplotlib.lines.Line2D at 0x1c2ef7bed0>]"
      ]
     },
     "execution_count": 75,
     "metadata": {},
     "output_type": "execute_result"
    },
    {
     "data": {
      "text/plain": [
       "[<matplotlib.lines.Line2D at 0x1c2ef7bf10>]"
      ]
     },
     "execution_count": 75,
     "metadata": {},
     "output_type": "execute_result"
    },
    {
     "data": {
      "text/plain": [
       "<matplotlib.lines.Line2D at 0x1c2d09db50>"
      ]
     },
     "execution_count": 75,
     "metadata": {},
     "output_type": "execute_result"
    },
    {
     "data": {
      "text/plain": [
       "<matplotlib.lines.Line2D at 0x1c2d0a3250>"
      ]
     },
     "execution_count": 75,
     "metadata": {},
     "output_type": "execute_result"
    },
    {
     "data": {
      "text/plain": [
       "<matplotlib.lines.Line2D at 0x1c2d0a3990>"
      ]
     },
     "execution_count": 75,
     "metadata": {},
     "output_type": "execute_result"
    },
    {
     "data": {
      "text/plain": [
       "<matplotlib.lines.Line2D at 0x1c2d0a30d0>"
      ]
     },
     "execution_count": 75,
     "metadata": {},
     "output_type": "execute_result"
    },
    {
     "data": {
      "text/plain": [
       "Text(0.5, 0, 'dN/dS')"
      ]
     },
     "execution_count": 75,
     "metadata": {},
     "output_type": "execute_result"
    },
    {
     "data": {
      "text/plain": [
       "Text(0, 0.5, 'number of genes')"
      ]
     },
     "execution_count": 75,
     "metadata": {},
     "output_type": "execute_result"
    },
    {
     "data": {
      "text/plain": [
       "<matplotlib.legend.Legend at 0x1c24b4aad0>"
      ]
     },
     "execution_count": 75,
     "metadata": {},
     "output_type": "execute_result"
    },
    {
     "data": {
      "text/plain": [
       "Text(0.5, 0.98, 'Five Celltypes Distribution of Average dN/dS Scores of Genes Related to\\ngeneration of precursor metabolites and energy')"
      ]
     },
     "execution_count": 75,
     "metadata": {},
     "output_type": "execute_result"
    },
    {
     "data": {
      "text/plain": [
       "[<matplotlib.lines.Line2D at 0x1c2674c810>]"
      ]
     },
     "execution_count": 75,
     "metadata": {},
     "output_type": "execute_result"
    },
    {
     "data": {
      "text/plain": [
       "[<matplotlib.lines.Line2D at 0x1c2d0abe50>]"
      ]
     },
     "execution_count": 75,
     "metadata": {},
     "output_type": "execute_result"
    },
    {
     "data": {
      "text/plain": [
       "[<matplotlib.lines.Line2D at 0x1c26758a90>]"
      ]
     },
     "execution_count": 75,
     "metadata": {},
     "output_type": "execute_result"
    },
    {
     "data": {
      "text/plain": [
       "[<matplotlib.lines.Line2D at 0x1c26751cd0>]"
      ]
     },
     "execution_count": 75,
     "metadata": {},
     "output_type": "execute_result"
    },
    {
     "data": {
      "text/plain": [
       "[<matplotlib.lines.Line2D at 0x1c26771d90>]"
      ]
     },
     "execution_count": 75,
     "metadata": {},
     "output_type": "execute_result"
    },
    {
     "data": {
      "text/plain": [
       "<matplotlib.lines.Line2D at 0x1c2e90f110>"
      ]
     },
     "execution_count": 75,
     "metadata": {},
     "output_type": "execute_result"
    },
    {
     "data": {
      "text/plain": [
       "<matplotlib.lines.Line2D at 0x1c2e90f650>"
      ]
     },
     "execution_count": 75,
     "metadata": {},
     "output_type": "execute_result"
    },
    {
     "data": {
      "text/plain": [
       "<matplotlib.lines.Line2D at 0x1c2e90fe50>"
      ]
     },
     "execution_count": 75,
     "metadata": {},
     "output_type": "execute_result"
    },
    {
     "data": {
      "text/plain": [
       "<matplotlib.lines.Line2D at 0x1c2e907210>"
      ]
     },
     "execution_count": 75,
     "metadata": {},
     "output_type": "execute_result"
    },
    {
     "data": {
      "text/plain": [
       "Text(0.5, 0, 'dN/dS')"
      ]
     },
     "execution_count": 75,
     "metadata": {},
     "output_type": "execute_result"
    },
    {
     "data": {
      "text/plain": [
       "Text(0, 0.5, 'number of genes')"
      ]
     },
     "execution_count": 75,
     "metadata": {},
     "output_type": "execute_result"
    },
    {
     "data": {
      "text/plain": [
       "<matplotlib.legend.Legend at 0x1c2e8f90d0>"
      ]
     },
     "execution_count": 75,
     "metadata": {},
     "output_type": "execute_result"
    },
    {
     "data": {
      "text/plain": [
       "Text(0.5, 0.98, 'Five Celltypes Distribution of Average dN/dS Scores of Genes Related to\\nsymbiont process')"
      ]
     },
     "execution_count": 75,
     "metadata": {},
     "output_type": "execute_result"
    },
    {
     "data": {
      "text/plain": [
       "[<matplotlib.lines.Line2D at 0x1c26751590>]"
      ]
     },
     "execution_count": 75,
     "metadata": {},
     "output_type": "execute_result"
    },
    {
     "data": {
      "text/plain": [
       "[<matplotlib.lines.Line2D at 0x1c36b20290>]"
      ]
     },
     "execution_count": 75,
     "metadata": {},
     "output_type": "execute_result"
    },
    {
     "data": {
      "text/plain": [
       "[<matplotlib.lines.Line2D at 0x1c2f5c4c50>]"
      ]
     },
     "execution_count": 75,
     "metadata": {},
     "output_type": "execute_result"
    },
    {
     "data": {
      "text/plain": [
       "[<matplotlib.lines.Line2D at 0x1c2f5c4cd0>]"
      ]
     },
     "execution_count": 75,
     "metadata": {},
     "output_type": "execute_result"
    },
    {
     "data": {
      "text/plain": [
       "[<matplotlib.lines.Line2D at 0x1c2776eed0>]"
      ]
     },
     "execution_count": 75,
     "metadata": {},
     "output_type": "execute_result"
    },
    {
     "data": {
      "text/plain": [
       "<matplotlib.lines.Line2D at 0x1c2776e9d0>"
      ]
     },
     "execution_count": 75,
     "metadata": {},
     "output_type": "execute_result"
    },
    {
     "data": {
      "text/plain": [
       "<matplotlib.lines.Line2D at 0x1c2774c790>"
      ]
     },
     "execution_count": 75,
     "metadata": {},
     "output_type": "execute_result"
    },
    {
     "data": {
      "text/plain": [
       "<matplotlib.lines.Line2D at 0x1c2f5ec250>"
      ]
     },
     "execution_count": 75,
     "metadata": {},
     "output_type": "execute_result"
    },
    {
     "data": {
      "text/plain": [
       "<matplotlib.lines.Line2D at 0x1c2f5ec090>"
      ]
     },
     "execution_count": 75,
     "metadata": {},
     "output_type": "execute_result"
    },
    {
     "data": {
      "text/plain": [
       "Text(0.5, 0, 'dN/dS')"
      ]
     },
     "execution_count": 75,
     "metadata": {},
     "output_type": "execute_result"
    },
    {
     "data": {
      "text/plain": [
       "Text(0, 0.5, 'number of genes')"
      ]
     },
     "execution_count": 75,
     "metadata": {},
     "output_type": "execute_result"
    },
    {
     "data": {
      "text/plain": [
       "<matplotlib.legend.Legend at 0x1c27753490>"
      ]
     },
     "execution_count": 75,
     "metadata": {},
     "output_type": "execute_result"
    },
    {
     "data": {
      "text/plain": [
       "Text(0.5, 0.98, 'Five Celltypes Distribution of Average dN/dS Scores of Genes Related to\\nchromosome segregation')"
      ]
     },
     "execution_count": 75,
     "metadata": {},
     "output_type": "execute_result"
    },
    {
     "data": {
      "text/plain": [
       "[<matplotlib.lines.Line2D at 0x1c26990bd0>]"
      ]
     },
     "execution_count": 75,
     "metadata": {},
     "output_type": "execute_result"
    },
    {
     "data": {
      "text/plain": [
       "[<matplotlib.lines.Line2D at 0x1c31aa17d0>]"
      ]
     },
     "execution_count": 75,
     "metadata": {},
     "output_type": "execute_result"
    },
    {
     "data": {
      "text/plain": [
       "[<matplotlib.lines.Line2D at 0x1c269a0e10>]"
      ]
     },
     "execution_count": 75,
     "metadata": {},
     "output_type": "execute_result"
    },
    {
     "data": {
      "text/plain": [
       "[<matplotlib.lines.Line2D at 0x1c269a0290>]"
      ]
     },
     "execution_count": 75,
     "metadata": {},
     "output_type": "execute_result"
    },
    {
     "data": {
      "text/plain": [
       "[<matplotlib.lines.Line2D at 0x1c26979e50>]"
      ]
     },
     "execution_count": 75,
     "metadata": {},
     "output_type": "execute_result"
    },
    {
     "data": {
      "text/plain": [
       "<matplotlib.lines.Line2D at 0x1c26979ad0>"
      ]
     },
     "execution_count": 75,
     "metadata": {},
     "output_type": "execute_result"
    },
    {
     "data": {
      "text/plain": [
       "<matplotlib.lines.Line2D at 0x1c269965d0>"
      ]
     },
     "execution_count": 75,
     "metadata": {},
     "output_type": "execute_result"
    },
    {
     "data": {
      "text/plain": [
       "<matplotlib.lines.Line2D at 0x1c26979dd0>"
      ]
     },
     "execution_count": 75,
     "metadata": {},
     "output_type": "execute_result"
    },
    {
     "data": {
      "text/plain": [
       "<matplotlib.lines.Line2D at 0x1c269ac790>"
      ]
     },
     "execution_count": 75,
     "metadata": {},
     "output_type": "execute_result"
    },
    {
     "data": {
      "text/plain": [
       "Text(0.5, 0, 'dN/dS')"
      ]
     },
     "execution_count": 75,
     "metadata": {},
     "output_type": "execute_result"
    },
    {
     "data": {
      "text/plain": [
       "Text(0, 0.5, 'number of genes')"
      ]
     },
     "execution_count": 75,
     "metadata": {},
     "output_type": "execute_result"
    },
    {
     "data": {
      "text/plain": [
       "<matplotlib.legend.Legend at 0x1c269a08d0>"
      ]
     },
     "execution_count": 75,
     "metadata": {},
     "output_type": "execute_result"
    },
    {
     "data": {
      "text/plain": [
       "Text(0.5, 0.98, 'Five Celltypes Distribution of Average dN/dS Scores of Genes Related to\\ndevelopmental maturation')"
      ]
     },
     "execution_count": 75,
     "metadata": {},
     "output_type": "execute_result"
    },
    {
     "data": {
      "text/plain": [
       "[<matplotlib.lines.Line2D at 0x1c23127dd0>]"
      ]
     },
     "execution_count": 75,
     "metadata": {},
     "output_type": "execute_result"
    },
    {
     "data": {
      "text/plain": [
       "[<matplotlib.lines.Line2D at 0x1c23914bd0>]"
      ]
     },
     "execution_count": 75,
     "metadata": {},
     "output_type": "execute_result"
    },
    {
     "data": {
      "text/plain": [
       "[<matplotlib.lines.Line2D at 0x1c23924e50>]"
      ]
     },
     "execution_count": 75,
     "metadata": {},
     "output_type": "execute_result"
    },
    {
     "data": {
      "text/plain": [
       "[<matplotlib.lines.Line2D at 0x1c239240d0>]"
      ]
     },
     "execution_count": 75,
     "metadata": {},
     "output_type": "execute_result"
    },
    {
     "data": {
      "text/plain": [
       "[<matplotlib.lines.Line2D at 0x1c23903410>]"
      ]
     },
     "execution_count": 75,
     "metadata": {},
     "output_type": "execute_result"
    },
    {
     "data": {
      "text/plain": [
       "<matplotlib.lines.Line2D at 0x1c23903d10>"
      ]
     },
     "execution_count": 75,
     "metadata": {},
     "output_type": "execute_result"
    },
    {
     "data": {
      "text/plain": [
       "<matplotlib.lines.Line2D at 0x1c23903f10>"
      ]
     },
     "execution_count": 75,
     "metadata": {},
     "output_type": "execute_result"
    },
    {
     "data": {
      "text/plain": [
       "<matplotlib.lines.Line2D at 0x1c37071590>"
      ]
     },
     "execution_count": 75,
     "metadata": {},
     "output_type": "execute_result"
    },
    {
     "data": {
      "text/plain": [
       "<matplotlib.lines.Line2D at 0x1c23903ed0>"
      ]
     },
     "execution_count": 75,
     "metadata": {},
     "output_type": "execute_result"
    },
    {
     "data": {
      "text/plain": [
       "Text(0.5, 0, 'dN/dS')"
      ]
     },
     "execution_count": 75,
     "metadata": {},
     "output_type": "execute_result"
    },
    {
     "data": {
      "text/plain": [
       "Text(0, 0.5, 'number of genes')"
      ]
     },
     "execution_count": 75,
     "metadata": {},
     "output_type": "execute_result"
    },
    {
     "data": {
      "text/plain": [
       "<matplotlib.legend.Legend at 0x1c37071410>"
      ]
     },
     "execution_count": 75,
     "metadata": {},
     "output_type": "execute_result"
    },
    {
     "data": {
      "text/plain": [
       "Text(0.5, 0.98, 'Five Celltypes Distribution of Average dN/dS Scores of Genes Related to\\nprotein maturation')"
      ]
     },
     "execution_count": 75,
     "metadata": {},
     "output_type": "execute_result"
    },
    {
     "data": {
      "text/plain": [
       "[<matplotlib.lines.Line2D at 0x1c239241d0>]"
      ]
     },
     "execution_count": 75,
     "metadata": {},
     "output_type": "execute_result"
    },
    {
     "data": {
      "text/plain": [
       "[<matplotlib.lines.Line2D at 0x1c251c5610>]"
      ]
     },
     "execution_count": 75,
     "metadata": {},
     "output_type": "execute_result"
    },
    {
     "data": {
      "text/plain": [
       "[<matplotlib.lines.Line2D at 0x1c251c5f90>]"
      ]
     },
     "execution_count": 75,
     "metadata": {},
     "output_type": "execute_result"
    },
    {
     "data": {
      "text/plain": [
       "[<matplotlib.lines.Line2D at 0x1c251e8590>]"
      ]
     },
     "execution_count": 75,
     "metadata": {},
     "output_type": "execute_result"
    },
    {
     "data": {
      "text/plain": [
       "[<matplotlib.lines.Line2D at 0x1c251e84d0>]"
      ]
     },
     "execution_count": 75,
     "metadata": {},
     "output_type": "execute_result"
    },
    {
     "data": {
      "text/plain": [
       "<matplotlib.lines.Line2D at 0x1c251c50d0>"
      ]
     },
     "execution_count": 75,
     "metadata": {},
     "output_type": "execute_result"
    },
    {
     "data": {
      "text/plain": [
       "<matplotlib.lines.Line2D at 0x1c251e8950>"
      ]
     },
     "execution_count": 75,
     "metadata": {},
     "output_type": "execute_result"
    },
    {
     "data": {
      "text/plain": [
       "<matplotlib.lines.Line2D at 0x1c251c2310>"
      ]
     },
     "execution_count": 75,
     "metadata": {},
     "output_type": "execute_result"
    },
    {
     "data": {
      "text/plain": [
       "<matplotlib.lines.Line2D at 0x1c251e6810>"
      ]
     },
     "execution_count": 75,
     "metadata": {},
     "output_type": "execute_result"
    },
    {
     "data": {
      "text/plain": [
       "Text(0.5, 0, 'dN/dS')"
      ]
     },
     "execution_count": 75,
     "metadata": {},
     "output_type": "execute_result"
    },
    {
     "data": {
      "text/plain": [
       "Text(0, 0.5, 'number of genes')"
      ]
     },
     "execution_count": 75,
     "metadata": {},
     "output_type": "execute_result"
    },
    {
     "data": {
      "text/plain": [
       "<matplotlib.legend.Legend at 0x1c251e6ad0>"
      ]
     },
     "execution_count": 75,
     "metadata": {},
     "output_type": "execute_result"
    },
    {
     "data": {
      "text/plain": [
       "Text(0.5, 0.98, 'Five Celltypes Distribution of Average dN/dS Scores of Genes Related to\\nnucleocytoplasmic transport')"
      ]
     },
     "execution_count": 75,
     "metadata": {},
     "output_type": "execute_result"
    },
    {
     "data": {
      "text/plain": [
       "[<matplotlib.lines.Line2D at 0x1c224b3e50>]"
      ]
     },
     "execution_count": 75,
     "metadata": {},
     "output_type": "execute_result"
    },
    {
     "data": {
      "text/plain": [
       "[<matplotlib.lines.Line2D at 0x1c224b3a90>]"
      ]
     },
     "execution_count": 75,
     "metadata": {},
     "output_type": "execute_result"
    },
    {
     "data": {
      "text/plain": [
       "[<matplotlib.lines.Line2D at 0x1c224afad0>]"
      ]
     },
     "execution_count": 75,
     "metadata": {},
     "output_type": "execute_result"
    },
    {
     "data": {
      "text/plain": [
       "[<matplotlib.lines.Line2D at 0x1c224c4790>]"
      ]
     },
     "execution_count": 75,
     "metadata": {},
     "output_type": "execute_result"
    },
    {
     "data": {
      "text/plain": [
       "[<matplotlib.lines.Line2D at 0x1c224c4590>]"
      ]
     },
     "execution_count": 75,
     "metadata": {},
     "output_type": "execute_result"
    },
    {
     "data": {
      "text/plain": [
       "<matplotlib.lines.Line2D at 0x1c224c4ed0>"
      ]
     },
     "execution_count": 75,
     "metadata": {},
     "output_type": "execute_result"
    },
    {
     "data": {
      "text/plain": [
       "<matplotlib.lines.Line2D at 0x1c224c4690>"
      ]
     },
     "execution_count": 75,
     "metadata": {},
     "output_type": "execute_result"
    },
    {
     "data": {
      "text/plain": [
       "<matplotlib.lines.Line2D at 0x1c224b8e10>"
      ]
     },
     "execution_count": 75,
     "metadata": {},
     "output_type": "execute_result"
    },
    {
     "data": {
      "text/plain": [
       "<matplotlib.lines.Line2D at 0x1c224b8c10>"
      ]
     },
     "execution_count": 75,
     "metadata": {},
     "output_type": "execute_result"
    },
    {
     "data": {
      "text/plain": [
       "Text(0.5, 0, 'dN/dS')"
      ]
     },
     "execution_count": 75,
     "metadata": {},
     "output_type": "execute_result"
    },
    {
     "data": {
      "text/plain": [
       "Text(0, 0.5, 'number of genes')"
      ]
     },
     "execution_count": 75,
     "metadata": {},
     "output_type": "execute_result"
    },
    {
     "data": {
      "text/plain": [
       "<matplotlib.legend.Legend at 0x1c224b8610>"
      ]
     },
     "execution_count": 75,
     "metadata": {},
     "output_type": "execute_result"
    },
    {
     "data": {
      "text/plain": [
       "Text(0.5, 0.98, 'Five Celltypes Distribution of Average dN/dS Scores of Genes Related to\\nribosome biogenesis')"
      ]
     },
     "execution_count": 75,
     "metadata": {},
     "output_type": "execute_result"
    },
    {
     "data": {
      "text/plain": [
       "[<matplotlib.lines.Line2D at 0x1c28f77e90>]"
      ]
     },
     "execution_count": 75,
     "metadata": {},
     "output_type": "execute_result"
    },
    {
     "data": {
      "text/plain": [
       "[<matplotlib.lines.Line2D at 0x1c28f55c90>]"
      ]
     },
     "execution_count": 75,
     "metadata": {},
     "output_type": "execute_result"
    },
    {
     "data": {
      "text/plain": [
       "[<matplotlib.lines.Line2D at 0x1c293c9f10>]"
      ]
     },
     "execution_count": 75,
     "metadata": {},
     "output_type": "execute_result"
    },
    {
     "name": "stderr",
     "output_type": "stream",
     "text": [
      "/Users/xulinhe/opt/anaconda3/lib/python3.7/site-packages/scipy/stats/_distn_infrastructure.py:2378: RuntimeWarning: Mean of empty slice.\n",
      "  muhat = tmp.mean()\n",
      "/Users/xulinhe/opt/anaconda3/lib/python3.7/site-packages/numpy/core/_methods.py:161: RuntimeWarning: invalid value encountered in double_scalars\n",
      "  ret = ret.dtype.type(ret / rcount)\n",
      "/Users/xulinhe/opt/anaconda3/lib/python3.7/site-packages/scipy/stats/_distn_infrastructure.py:2379: RuntimeWarning: Degrees of freedom <= 0 for slice\n",
      "  mu2hat = tmp.var()\n",
      "/Users/xulinhe/opt/anaconda3/lib/python3.7/site-packages/numpy/core/_methods.py:186: RuntimeWarning: invalid value encountered in true_divide\n",
      "  arrmean, rcount, out=arrmean, casting='unsafe', subok=False)\n",
      "/Users/xulinhe/opt/anaconda3/lib/python3.7/site-packages/numpy/core/_methods.py:209: RuntimeWarning: invalid value encountered in double_scalars\n",
      "  ret = ret.dtype.type(ret / rcount)\n"
     ]
    },
    {
     "data": {
      "text/plain": [
       "[<matplotlib.lines.Line2D at 0x1c293c9fd0>]"
      ]
     },
     "execution_count": 75,
     "metadata": {},
     "output_type": "execute_result"
    },
    {
     "data": {
      "text/plain": [
       "<matplotlib.lines.Line2D at 0x1c250a0a50>"
      ]
     },
     "execution_count": 75,
     "metadata": {},
     "output_type": "execute_result"
    },
    {
     "data": {
      "text/plain": [
       "<matplotlib.lines.Line2D at 0x1c250a0bd0>"
      ]
     },
     "execution_count": 75,
     "metadata": {},
     "output_type": "execute_result"
    },
    {
     "data": {
      "text/plain": [
       "<matplotlib.lines.Line2D at 0x1c2508f510>"
      ]
     },
     "execution_count": 75,
     "metadata": {},
     "output_type": "execute_result"
    },
    {
     "data": {
      "text/plain": [
       "<matplotlib.lines.Line2D at 0x1c2508fc90>"
      ]
     },
     "execution_count": 75,
     "metadata": {},
     "output_type": "execute_result"
    },
    {
     "data": {
      "text/plain": [
       "Text(0.5, 0, 'dN/dS')"
      ]
     },
     "execution_count": 75,
     "metadata": {},
     "output_type": "execute_result"
    },
    {
     "data": {
      "text/plain": [
       "Text(0, 0.5, 'number of genes')"
      ]
     },
     "execution_count": 75,
     "metadata": {},
     "output_type": "execute_result"
    },
    {
     "data": {
      "text/plain": [
       "<matplotlib.legend.Legend at 0x1c293c9190>"
      ]
     },
     "execution_count": 75,
     "metadata": {},
     "output_type": "execute_result"
    },
    {
     "data": {
      "text/plain": [
       "Text(0.5, 0.98, 'Five Celltypes Distribution of Average dN/dS Scores of Genes Related to\\nsulfur compound metabolic process')"
      ]
     },
     "execution_count": 75,
     "metadata": {},
     "output_type": "execute_result"
    },
    {
     "data": {
      "text/plain": [
       "[<matplotlib.lines.Line2D at 0x1c293c9210>]"
      ]
     },
     "execution_count": 75,
     "metadata": {},
     "output_type": "execute_result"
    },
    {
     "data": {
      "text/plain": [
       "[<matplotlib.lines.Line2D at 0x1c23125850>]"
      ]
     },
     "execution_count": 75,
     "metadata": {},
     "output_type": "execute_result"
    },
    {
     "data": {
      "text/plain": [
       "[<matplotlib.lines.Line2D at 0x1c266b2d90>]"
      ]
     },
     "execution_count": 75,
     "metadata": {},
     "output_type": "execute_result"
    },
    {
     "data": {
      "text/plain": [
       "[<matplotlib.lines.Line2D at 0x1c266b2190>]"
      ]
     },
     "execution_count": 75,
     "metadata": {},
     "output_type": "execute_result"
    },
    {
     "data": {
      "text/plain": [
       "[<matplotlib.lines.Line2D at 0x1c2a231d90>]"
      ]
     },
     "execution_count": 75,
     "metadata": {},
     "output_type": "execute_result"
    },
    {
     "data": {
      "text/plain": [
       "<matplotlib.lines.Line2D at 0x1c2aef0f10>"
      ]
     },
     "execution_count": 75,
     "metadata": {},
     "output_type": "execute_result"
    },
    {
     "data": {
      "text/plain": [
       "<matplotlib.lines.Line2D at 0x1c2aef0f50>"
      ]
     },
     "execution_count": 75,
     "metadata": {},
     "output_type": "execute_result"
    },
    {
     "data": {
      "text/plain": [
       "<matplotlib.lines.Line2D at 0x1c2aec4190>"
      ]
     },
     "execution_count": 75,
     "metadata": {},
     "output_type": "execute_result"
    },
    {
     "data": {
      "text/plain": [
       "<matplotlib.lines.Line2D at 0x1c2aec4710>"
      ]
     },
     "execution_count": 75,
     "metadata": {},
     "output_type": "execute_result"
    },
    {
     "data": {
      "text/plain": [
       "Text(0.5, 0, 'dN/dS')"
      ]
     },
     "execution_count": 75,
     "metadata": {},
     "output_type": "execute_result"
    },
    {
     "data": {
      "text/plain": [
       "Text(0, 0.5, 'number of genes')"
      ]
     },
     "execution_count": 75,
     "metadata": {},
     "output_type": "execute_result"
    },
    {
     "data": {
      "text/plain": [
       "<matplotlib.legend.Legend at 0x1c26696d10>"
      ]
     },
     "execution_count": 75,
     "metadata": {},
     "output_type": "execute_result"
    },
    {
     "data": {
      "text/plain": [
       "Text(0.5, 0.98, 'Five Celltypes Distribution of Average dN/dS Scores of Genes Related to\\nextracellular matrix organization')"
      ]
     },
     "execution_count": 75,
     "metadata": {},
     "output_type": "execute_result"
    },
    {
     "data": {
      "text/plain": [
       "[<matplotlib.lines.Line2D at 0x1c27e233d0>]"
      ]
     },
     "execution_count": 75,
     "metadata": {},
     "output_type": "execute_result"
    },
    {
     "data": {
      "text/plain": [
       "[<matplotlib.lines.Line2D at 0x1c357e8d50>]"
      ]
     },
     "execution_count": 75,
     "metadata": {},
     "output_type": "execute_result"
    },
    {
     "data": {
      "text/plain": [
       "[<matplotlib.lines.Line2D at 0x1c25f3ed50>]"
      ]
     },
     "execution_count": 75,
     "metadata": {},
     "output_type": "execute_result"
    },
    {
     "data": {
      "text/plain": [
       "[<matplotlib.lines.Line2D at 0x1c25f3ecd0>]"
      ]
     },
     "execution_count": 75,
     "metadata": {},
     "output_type": "execute_result"
    },
    {
     "data": {
      "text/plain": [
       "[<matplotlib.lines.Line2D at 0x1c2bf08b50>]"
      ]
     },
     "execution_count": 75,
     "metadata": {},
     "output_type": "execute_result"
    },
    {
     "data": {
      "text/plain": [
       "<matplotlib.lines.Line2D at 0x1c2bf08f50>"
      ]
     },
     "execution_count": 75,
     "metadata": {},
     "output_type": "execute_result"
    },
    {
     "data": {
      "text/plain": [
       "<matplotlib.lines.Line2D at 0x1c2bf13390>"
      ]
     },
     "execution_count": 75,
     "metadata": {},
     "output_type": "execute_result"
    },
    {
     "data": {
      "text/plain": [
       "<matplotlib.lines.Line2D at 0x1c2bf08d50>"
      ]
     },
     "execution_count": 75,
     "metadata": {},
     "output_type": "execute_result"
    },
    {
     "data": {
      "text/plain": [
       "<matplotlib.lines.Line2D at 0x1c2bf08dd0>"
      ]
     },
     "execution_count": 75,
     "metadata": {},
     "output_type": "execute_result"
    },
    {
     "data": {
      "text/plain": [
       "Text(0.5, 0, 'dN/dS')"
      ]
     },
     "execution_count": 75,
     "metadata": {},
     "output_type": "execute_result"
    },
    {
     "data": {
      "text/plain": [
       "Text(0, 0.5, 'number of genes')"
      ]
     },
     "execution_count": 75,
     "metadata": {},
     "output_type": "execute_result"
    },
    {
     "data": {
      "text/plain": [
       "<matplotlib.legend.Legend at 0x1c25f3e690>"
      ]
     },
     "execution_count": 75,
     "metadata": {},
     "output_type": "execute_result"
    },
    {
     "data": {
      "text/plain": [
       "Text(0.5, 0.98, 'Five Celltypes Distribution of Average dN/dS Scores of Genes Related to\\ncell junction organization')"
      ]
     },
     "execution_count": 75,
     "metadata": {},
     "output_type": "execute_result"
    },
    {
     "data": {
      "text/plain": [
       "[<matplotlib.lines.Line2D at 0x1c25f3e710>]"
      ]
     },
     "execution_count": 75,
     "metadata": {},
     "output_type": "execute_result"
    },
    {
     "data": {
      "text/plain": [
       "[<matplotlib.lines.Line2D at 0x1c243fa810>]"
      ]
     },
     "execution_count": 75,
     "metadata": {},
     "output_type": "execute_result"
    },
    {
     "data": {
      "text/plain": [
       "[<matplotlib.lines.Line2D at 0x1c25a27650>]"
      ]
     },
     "execution_count": 75,
     "metadata": {},
     "output_type": "execute_result"
    },
    {
     "data": {
      "text/plain": [
       "[<matplotlib.lines.Line2D at 0x1c243fac90>]"
      ]
     },
     "execution_count": 75,
     "metadata": {},
     "output_type": "execute_result"
    },
    {
     "data": {
      "text/plain": [
       "[<matplotlib.lines.Line2D at 0x1c25a27690>]"
      ]
     },
     "execution_count": 75,
     "metadata": {},
     "output_type": "execute_result"
    },
    {
     "data": {
      "text/plain": [
       "<matplotlib.lines.Line2D at 0x1c25a27f10>"
      ]
     },
     "execution_count": 75,
     "metadata": {},
     "output_type": "execute_result"
    },
    {
     "data": {
      "text/plain": [
       "<matplotlib.lines.Line2D at 0x1c25a02750>"
      ]
     },
     "execution_count": 75,
     "metadata": {},
     "output_type": "execute_result"
    },
    {
     "data": {
      "text/plain": [
       "<matplotlib.lines.Line2D at 0x1c25a02c10>"
      ]
     },
     "execution_count": 75,
     "metadata": {},
     "output_type": "execute_result"
    },
    {
     "data": {
      "text/plain": [
       "<matplotlib.lines.Line2D at 0x1c25a0e090>"
      ]
     },
     "execution_count": 75,
     "metadata": {},
     "output_type": "execute_result"
    },
    {
     "data": {
      "text/plain": [
       "Text(0.5, 0, 'dN/dS')"
      ]
     },
     "execution_count": 75,
     "metadata": {},
     "output_type": "execute_result"
    },
    {
     "data": {
      "text/plain": [
       "Text(0, 0.5, 'number of genes')"
      ]
     },
     "execution_count": 75,
     "metadata": {},
     "output_type": "execute_result"
    },
    {
     "data": {
      "text/plain": [
       "<matplotlib.legend.Legend at 0x1c25a029d0>"
      ]
     },
     "execution_count": 75,
     "metadata": {},
     "output_type": "execute_result"
    },
    {
     "data": {
      "text/plain": [
       "Text(0.5, 0.98, 'Five Celltypes Distribution of Average dN/dS Scores of Genes Related to\\nprotein targeting')"
      ]
     },
     "execution_count": 75,
     "metadata": {},
     "output_type": "execute_result"
    },
    {
     "data": {
      "text/plain": [
       "[<matplotlib.lines.Line2D at 0x1c243fa790>]"
      ]
     },
     "execution_count": 75,
     "metadata": {},
     "output_type": "execute_result"
    },
    {
     "data": {
      "text/plain": [
       "[<matplotlib.lines.Line2D at 0x1c2f4dce50>]"
      ]
     },
     "execution_count": 75,
     "metadata": {},
     "output_type": "execute_result"
    },
    {
     "data": {
      "text/plain": [
       "[<matplotlib.lines.Line2D at 0x1c2b23bd50>]"
      ]
     },
     "execution_count": 75,
     "metadata": {},
     "output_type": "execute_result"
    },
    {
     "data": {
      "text/plain": [
       "[<matplotlib.lines.Line2D at 0x1c2b23bf90>]"
      ]
     },
     "execution_count": 75,
     "metadata": {},
     "output_type": "execute_result"
    },
    {
     "data": {
      "text/plain": [
       "[<matplotlib.lines.Line2D at 0x1c340e7f10>]"
      ]
     },
     "execution_count": 75,
     "metadata": {},
     "output_type": "execute_result"
    },
    {
     "data": {
      "text/plain": [
       "<matplotlib.lines.Line2D at 0x1c340e7b10>"
      ]
     },
     "execution_count": 75,
     "metadata": {},
     "output_type": "execute_result"
    },
    {
     "data": {
      "text/plain": [
       "<matplotlib.lines.Line2D at 0x1c340e7fd0>"
      ]
     },
     "execution_count": 75,
     "metadata": {},
     "output_type": "execute_result"
    },
    {
     "data": {
      "text/plain": [
       "<matplotlib.lines.Line2D at 0x1c2b243210>"
      ]
     },
     "execution_count": 75,
     "metadata": {},
     "output_type": "execute_result"
    },
    {
     "data": {
      "text/plain": [
       "<matplotlib.lines.Line2D at 0x1c2b25fc90>"
      ]
     },
     "execution_count": 75,
     "metadata": {},
     "output_type": "execute_result"
    },
    {
     "data": {
      "text/plain": [
       "Text(0.5, 0, 'dN/dS')"
      ]
     },
     "execution_count": 75,
     "metadata": {},
     "output_type": "execute_result"
    },
    {
     "data": {
      "text/plain": [
       "Text(0, 0.5, 'number of genes')"
      ]
     },
     "execution_count": 75,
     "metadata": {},
     "output_type": "execute_result"
    },
    {
     "data": {
      "text/plain": [
       "<matplotlib.legend.Legend at 0x1c340e4450>"
      ]
     },
     "execution_count": 75,
     "metadata": {},
     "output_type": "execute_result"
    },
    {
     "data": {
      "text/plain": [
       "Text(0.5, 0.98, 'Five Celltypes Distribution of Average dN/dS Scores of Genes Related to\\nmitotic nuclear division')"
      ]
     },
     "execution_count": 75,
     "metadata": {},
     "output_type": "execute_result"
    },
    {
     "data": {
      "text/plain": [
       "[<matplotlib.lines.Line2D at 0x1c3c554c10>]"
      ]
     },
     "execution_count": 75,
     "metadata": {},
     "output_type": "execute_result"
    },
    {
     "data": {
      "text/plain": [
       "[<matplotlib.lines.Line2D at 0x1c355e8a10>]"
      ]
     },
     "execution_count": 75,
     "metadata": {},
     "output_type": "execute_result"
    },
    {
     "data": {
      "text/plain": [
       "[<matplotlib.lines.Line2D at 0x1c355f6c50>]"
      ]
     },
     "execution_count": 75,
     "metadata": {},
     "output_type": "execute_result"
    },
    {
     "data": {
      "text/plain": [
       "[<matplotlib.lines.Line2D at 0x1c355f6d50>]"
      ]
     },
     "execution_count": 75,
     "metadata": {},
     "output_type": "execute_result"
    },
    {
     "data": {
      "text/plain": [
       "[<matplotlib.lines.Line2D at 0x1c355cac50>]"
      ]
     },
     "execution_count": 75,
     "metadata": {},
     "output_type": "execute_result"
    },
    {
     "data": {
      "text/plain": [
       "<matplotlib.lines.Line2D at 0x1c3929ec10>"
      ]
     },
     "execution_count": 75,
     "metadata": {},
     "output_type": "execute_result"
    },
    {
     "data": {
      "text/plain": [
       "<matplotlib.lines.Line2D at 0x1c3929eb90>"
      ]
     },
     "execution_count": 75,
     "metadata": {},
     "output_type": "execute_result"
    },
    {
     "data": {
      "text/plain": [
       "<matplotlib.lines.Line2D at 0x1c392ac910>"
      ]
     },
     "execution_count": 75,
     "metadata": {},
     "output_type": "execute_result"
    },
    {
     "data": {
      "text/plain": [
       "<matplotlib.lines.Line2D at 0x1c392ac390>"
      ]
     },
     "execution_count": 75,
     "metadata": {},
     "output_type": "execute_result"
    },
    {
     "data": {
      "text/plain": [
       "Text(0.5, 0, 'dN/dS')"
      ]
     },
     "execution_count": 75,
     "metadata": {},
     "output_type": "execute_result"
    },
    {
     "data": {
      "text/plain": [
       "Text(0, 0.5, 'number of genes')"
      ]
     },
     "execution_count": 75,
     "metadata": {},
     "output_type": "execute_result"
    },
    {
     "data": {
      "text/plain": [
       "<matplotlib.legend.Legend at 0x1c355c9cd0>"
      ]
     },
     "execution_count": 75,
     "metadata": {},
     "output_type": "execute_result"
    },
    {
     "data": {
      "text/plain": [
       "Text(0.5, 0.98, 'Five Celltypes Distribution of Average dN/dS Scores of Genes Related to\\ncellular amino acid metabolic process')"
      ]
     },
     "execution_count": 75,
     "metadata": {},
     "output_type": "execute_result"
    },
    {
     "data": {
      "text/plain": [
       "[<matplotlib.lines.Line2D at 0x1c2c0e8bd0>]"
      ]
     },
     "execution_count": 75,
     "metadata": {},
     "output_type": "execute_result"
    },
    {
     "data": {
      "text/plain": [
       "[<matplotlib.lines.Line2D at 0x1c2828fa50>]"
      ]
     },
     "execution_count": 75,
     "metadata": {},
     "output_type": "execute_result"
    },
    {
     "data": {
      "text/plain": [
       "[<matplotlib.lines.Line2D at 0x1c2c0f5ed0>]"
      ]
     },
     "execution_count": 75,
     "metadata": {},
     "output_type": "execute_result"
    },
    {
     "data": {
      "text/plain": [
       "[<matplotlib.lines.Line2D at 0x1c2c0f5290>]"
      ]
     },
     "execution_count": 75,
     "metadata": {},
     "output_type": "execute_result"
    },
    {
     "data": {
      "text/plain": [
       "[<matplotlib.lines.Line2D at 0x1c2c0c2450>]"
      ]
     },
     "execution_count": 75,
     "metadata": {},
     "output_type": "execute_result"
    },
    {
     "data": {
      "text/plain": [
       "<matplotlib.lines.Line2D at 0x1c2c0cb790>"
      ]
     },
     "execution_count": 75,
     "metadata": {},
     "output_type": "execute_result"
    },
    {
     "data": {
      "text/plain": [
       "<matplotlib.lines.Line2D at 0x1c2c0cbad0>"
      ]
     },
     "execution_count": 75,
     "metadata": {},
     "output_type": "execute_result"
    },
    {
     "data": {
      "text/plain": [
       "<matplotlib.lines.Line2D at 0x1c2c0cbcd0>"
      ]
     },
     "execution_count": 75,
     "metadata": {},
     "output_type": "execute_result"
    },
    {
     "data": {
      "text/plain": [
       "<matplotlib.lines.Line2D at 0x1c2c0d1890>"
      ]
     },
     "execution_count": 75,
     "metadata": {},
     "output_type": "execute_result"
    },
    {
     "data": {
      "text/plain": [
       "Text(0.5, 0, 'dN/dS')"
      ]
     },
     "execution_count": 75,
     "metadata": {},
     "output_type": "execute_result"
    },
    {
     "data": {
      "text/plain": [
       "Text(0, 0.5, 'number of genes')"
      ]
     },
     "execution_count": 75,
     "metadata": {},
     "output_type": "execute_result"
    },
    {
     "data": {
      "text/plain": [
       "<matplotlib.legend.Legend at 0x1c2c0cbb10>"
      ]
     },
     "execution_count": 75,
     "metadata": {},
     "output_type": "execute_result"
    },
    {
     "data": {
      "text/plain": [
       "Text(0.5, 0.98, 'Five Celltypes Distribution of Average dN/dS Scores of Genes Related to\\nribonucleoprotein complex assembly')"
      ]
     },
     "execution_count": 75,
     "metadata": {},
     "output_type": "execute_result"
    },
    {
     "data": {
      "text/plain": [
       "[<matplotlib.lines.Line2D at 0x1c2c0f5950>]"
      ]
     },
     "execution_count": 75,
     "metadata": {},
     "output_type": "execute_result"
    },
    {
     "data": {
      "text/plain": [
       "[<matplotlib.lines.Line2D at 0x1c2ff21f10>]"
      ]
     },
     "execution_count": 75,
     "metadata": {},
     "output_type": "execute_result"
    },
    {
     "data": {
      "text/plain": [
       "[<matplotlib.lines.Line2D at 0x1c2ff29dd0>]"
      ]
     },
     "execution_count": 75,
     "metadata": {},
     "output_type": "execute_result"
    },
    {
     "data": {
      "text/plain": [
       "[<matplotlib.lines.Line2D at 0x1c2ff29d50>]"
      ]
     },
     "execution_count": 75,
     "metadata": {},
     "output_type": "execute_result"
    },
    {
     "data": {
      "text/plain": [
       "[<matplotlib.lines.Line2D at 0x1c2bc9cfd0>]"
      ]
     },
     "execution_count": 75,
     "metadata": {},
     "output_type": "execute_result"
    },
    {
     "data": {
      "text/plain": [
       "<matplotlib.lines.Line2D at 0x1c2bc9c3d0>"
      ]
     },
     "execution_count": 75,
     "metadata": {},
     "output_type": "execute_result"
    },
    {
     "data": {
      "text/plain": [
       "<matplotlib.lines.Line2D at 0x1c2bc9c610>"
      ]
     },
     "execution_count": 75,
     "metadata": {},
     "output_type": "execute_result"
    },
    {
     "data": {
      "text/plain": [
       "<matplotlib.lines.Line2D at 0x1c2bca32d0>"
      ]
     },
     "execution_count": 75,
     "metadata": {},
     "output_type": "execute_result"
    },
    {
     "data": {
      "text/plain": [
       "<matplotlib.lines.Line2D at 0x1c2bcb5ad0>"
      ]
     },
     "execution_count": 75,
     "metadata": {},
     "output_type": "execute_result"
    },
    {
     "data": {
      "text/plain": [
       "Text(0.5, 0, 'dN/dS')"
      ]
     },
     "execution_count": 75,
     "metadata": {},
     "output_type": "execute_result"
    },
    {
     "data": {
      "text/plain": [
       "Text(0, 0.5, 'number of genes')"
      ]
     },
     "execution_count": 75,
     "metadata": {},
     "output_type": "execute_result"
    },
    {
     "data": {
      "text/plain": [
       "<matplotlib.legend.Legend at 0x1c2bcb5a50>"
      ]
     },
     "execution_count": 75,
     "metadata": {},
     "output_type": "execute_result"
    },
    {
     "data": {
      "text/plain": [
       "Text(0.5, 0.98, 'Five Celltypes Distribution of Average dN/dS Scores of Genes Related to\\naging')"
      ]
     },
     "execution_count": 75,
     "metadata": {},
     "output_type": "execute_result"
    },
    {
     "data": {
      "text/plain": [
       "[<matplotlib.lines.Line2D at 0x1c3148d790>]"
      ]
     },
     "execution_count": 75,
     "metadata": {},
     "output_type": "execute_result"
    },
    {
     "data": {
      "text/plain": [
       "[<matplotlib.lines.Line2D at 0x1c314b7310>]"
      ]
     },
     "execution_count": 75,
     "metadata": {},
     "output_type": "execute_result"
    },
    {
     "data": {
      "text/plain": [
       "[<matplotlib.lines.Line2D at 0x1c2d5c4290>]"
      ]
     },
     "execution_count": 75,
     "metadata": {},
     "output_type": "execute_result"
    },
    {
     "data": {
      "text/plain": [
       "[<matplotlib.lines.Line2D at 0x1c2d5c4310>]"
      ]
     },
     "execution_count": 75,
     "metadata": {},
     "output_type": "execute_result"
    },
    {
     "data": {
      "text/plain": [
       "[<matplotlib.lines.Line2D at 0x1c2d5c4ed0>]"
      ]
     },
     "execution_count": 75,
     "metadata": {},
     "output_type": "execute_result"
    },
    {
     "data": {
      "text/plain": [
       "<matplotlib.lines.Line2D at 0x1c2d5c4f90>"
      ]
     },
     "execution_count": 75,
     "metadata": {},
     "output_type": "execute_result"
    },
    {
     "data": {
      "text/plain": [
       "<matplotlib.lines.Line2D at 0x1c314b7bd0>"
      ]
     },
     "execution_count": 75,
     "metadata": {},
     "output_type": "execute_result"
    },
    {
     "data": {
      "text/plain": [
       "<matplotlib.lines.Line2D at 0x1c2d5da950>"
      ]
     },
     "execution_count": 75,
     "metadata": {},
     "output_type": "execute_result"
    },
    {
     "data": {
      "text/plain": [
       "<matplotlib.lines.Line2D at 0x1c2d5f4390>"
      ]
     },
     "execution_count": 75,
     "metadata": {},
     "output_type": "execute_result"
    },
    {
     "data": {
      "text/plain": [
       "Text(0.5, 0, 'dN/dS')"
      ]
     },
     "execution_count": 75,
     "metadata": {},
     "output_type": "execute_result"
    },
    {
     "data": {
      "text/plain": [
       "Text(0, 0.5, 'number of genes')"
      ]
     },
     "execution_count": 75,
     "metadata": {},
     "output_type": "execute_result"
    },
    {
     "data": {
      "text/plain": [
       "<matplotlib.legend.Legend at 0x1c2d5f6150>"
      ]
     },
     "execution_count": 75,
     "metadata": {},
     "output_type": "execute_result"
    },
    {
     "data": {
      "text/plain": [
       "Text(0.5, 0.98, 'Five Celltypes Distribution of Average dN/dS Scores of Genes Related to\\ncytoskeleton-dependent intracellular transport')"
      ]
     },
     "execution_count": 75,
     "metadata": {},
     "output_type": "execute_result"
    },
    {
     "data": {
      "text/plain": [
       "[<matplotlib.lines.Line2D at 0x1c2fb09cd0>]"
      ]
     },
     "execution_count": 75,
     "metadata": {},
     "output_type": "execute_result"
    },
    {
     "data": {
      "text/plain": [
       "[<matplotlib.lines.Line2D at 0x1c368bf1d0>]"
      ]
     },
     "execution_count": 75,
     "metadata": {},
     "output_type": "execute_result"
    },
    {
     "data": {
      "text/plain": [
       "[<matplotlib.lines.Line2D at 0x1c3a64bc90>]"
      ]
     },
     "execution_count": 75,
     "metadata": {},
     "output_type": "execute_result"
    },
    {
     "data": {
      "text/plain": [
       "[<matplotlib.lines.Line2D at 0x1c3a64b050>]"
      ]
     },
     "execution_count": 75,
     "metadata": {},
     "output_type": "execute_result"
    },
    {
     "data": {
      "text/plain": [
       "[<matplotlib.lines.Line2D at 0x1c3a64b8d0>]"
      ]
     },
     "execution_count": 75,
     "metadata": {},
     "output_type": "execute_result"
    },
    {
     "data": {
      "text/plain": [
       "<matplotlib.lines.Line2D at 0x1c3a654d10>"
      ]
     },
     "execution_count": 75,
     "metadata": {},
     "output_type": "execute_result"
    },
    {
     "data": {
      "text/plain": [
       "<matplotlib.lines.Line2D at 0x1c3a654e10>"
      ]
     },
     "execution_count": 75,
     "metadata": {},
     "output_type": "execute_result"
    },
    {
     "data": {
      "text/plain": [
       "<matplotlib.lines.Line2D at 0x1c3a642a10>"
      ]
     },
     "execution_count": 75,
     "metadata": {},
     "output_type": "execute_result"
    },
    {
     "data": {
      "text/plain": [
       "<matplotlib.lines.Line2D at 0x1c3a642910>"
      ]
     },
     "execution_count": 75,
     "metadata": {},
     "output_type": "execute_result"
    },
    {
     "data": {
      "text/plain": [
       "Text(0.5, 0, 'dN/dS')"
      ]
     },
     "execution_count": 75,
     "metadata": {},
     "output_type": "execute_result"
    },
    {
     "data": {
      "text/plain": [
       "Text(0, 0.5, 'number of genes')"
      ]
     },
     "execution_count": 75,
     "metadata": {},
     "output_type": "execute_result"
    },
    {
     "data": {
      "text/plain": [
       "<matplotlib.legend.Legend at 0x1c3a642350>"
      ]
     },
     "execution_count": 75,
     "metadata": {},
     "output_type": "execute_result"
    },
    {
     "data": {
      "text/plain": [
       "Text(0.5, 0.98, 'Five Celltypes Distribution of Average dN/dS Scores of Genes Related to\\ntRNA metabolic process')"
      ]
     },
     "execution_count": 75,
     "metadata": {},
     "output_type": "execute_result"
    },
    {
     "data": {
      "text/plain": [
       "[<matplotlib.lines.Line2D at 0x1c244e7d50>]"
      ]
     },
     "execution_count": 75,
     "metadata": {},
     "output_type": "execute_result"
    },
    {
     "data": {
      "text/plain": [
       "[<matplotlib.lines.Line2D at 0x1c244f38d0>]"
      ]
     },
     "execution_count": 75,
     "metadata": {},
     "output_type": "execute_result"
    },
    {
     "data": {
      "text/plain": [
       "[<matplotlib.lines.Line2D at 0x1c244efad0>]"
      ]
     },
     "execution_count": 75,
     "metadata": {},
     "output_type": "execute_result"
    },
    {
     "name": "stderr",
     "output_type": "stream",
     "text": [
      "/Users/xulinhe/opt/anaconda3/lib/python3.7/site-packages/scipy/stats/_distn_infrastructure.py:2378: RuntimeWarning: Mean of empty slice.\n",
      "  muhat = tmp.mean()\n",
      "/Users/xulinhe/opt/anaconda3/lib/python3.7/site-packages/numpy/core/_methods.py:161: RuntimeWarning: invalid value encountered in double_scalars\n",
      "  ret = ret.dtype.type(ret / rcount)\n",
      "/Users/xulinhe/opt/anaconda3/lib/python3.7/site-packages/scipy/stats/_distn_infrastructure.py:2379: RuntimeWarning: Degrees of freedom <= 0 for slice\n",
      "  mu2hat = tmp.var()\n",
      "/Users/xulinhe/opt/anaconda3/lib/python3.7/site-packages/numpy/core/_methods.py:186: RuntimeWarning: invalid value encountered in true_divide\n",
      "  arrmean, rcount, out=arrmean, casting='unsafe', subok=False)\n",
      "/Users/xulinhe/opt/anaconda3/lib/python3.7/site-packages/numpy/core/_methods.py:209: RuntimeWarning: invalid value encountered in double_scalars\n",
      "  ret = ret.dtype.type(ret / rcount)\n"
     ]
    },
    {
     "data": {
      "text/plain": [
       "[<matplotlib.lines.Line2D at 0x1c244f5e90>]"
      ]
     },
     "execution_count": 75,
     "metadata": {},
     "output_type": "execute_result"
    },
    {
     "data": {
      "text/plain": [
       "<matplotlib.lines.Line2D at 0x1c361a87d0>"
      ]
     },
     "execution_count": 75,
     "metadata": {},
     "output_type": "execute_result"
    },
    {
     "data": {
      "text/plain": [
       "<matplotlib.lines.Line2D at 0x1c361a8f10>"
      ]
     },
     "execution_count": 75,
     "metadata": {},
     "output_type": "execute_result"
    },
    {
     "data": {
      "text/plain": [
       "<matplotlib.lines.Line2D at 0x1c2eaa2450>"
      ]
     },
     "execution_count": 75,
     "metadata": {},
     "output_type": "execute_result"
    },
    {
     "data": {
      "text/plain": [
       "<matplotlib.lines.Line2D at 0x1c3617b650>"
      ]
     },
     "execution_count": 75,
     "metadata": {},
     "output_type": "execute_result"
    },
    {
     "data": {
      "text/plain": [
       "Text(0.5, 0, 'dN/dS')"
      ]
     },
     "execution_count": 75,
     "metadata": {},
     "output_type": "execute_result"
    },
    {
     "data": {
      "text/plain": [
       "Text(0, 0.5, 'number of genes')"
      ]
     },
     "execution_count": 75,
     "metadata": {},
     "output_type": "execute_result"
    },
    {
     "data": {
      "text/plain": [
       "<matplotlib.legend.Legend at 0x1c244f3d10>"
      ]
     },
     "execution_count": 75,
     "metadata": {},
     "output_type": "execute_result"
    },
    {
     "data": {
      "text/plain": [
       "Text(0.5, 0.98, 'Five Celltypes Distribution of Average dN/dS Scores of Genes Related to\\nprotein folding')"
      ]
     },
     "execution_count": 75,
     "metadata": {},
     "output_type": "execute_result"
    },
    {
     "data": {
      "text/plain": [
       "[<matplotlib.lines.Line2D at 0x1c244f3d90>]"
      ]
     },
     "execution_count": 75,
     "metadata": {},
     "output_type": "execute_result"
    },
    {
     "data": {
      "text/plain": [
       "[<matplotlib.lines.Line2D at 0x1c3befcb90>]"
      ]
     },
     "execution_count": 75,
     "metadata": {},
     "output_type": "execute_result"
    },
    {
     "data": {
      "text/plain": [
       "[<matplotlib.lines.Line2D at 0x1c3befd950>]"
      ]
     },
     "execution_count": 75,
     "metadata": {},
     "output_type": "execute_result"
    },
    {
     "data": {
      "text/plain": [
       "[<matplotlib.lines.Line2D at 0x1c3befd090>]"
      ]
     },
     "execution_count": 75,
     "metadata": {},
     "output_type": "execute_result"
    },
    {
     "data": {
      "text/plain": [
       "[<matplotlib.lines.Line2D at 0x1c3befdf50>]"
      ]
     },
     "execution_count": 75,
     "metadata": {},
     "output_type": "execute_result"
    },
    {
     "data": {
      "text/plain": [
       "<matplotlib.lines.Line2D at 0x1c3bf0cd90>"
      ]
     },
     "execution_count": 75,
     "metadata": {},
     "output_type": "execute_result"
    },
    {
     "data": {
      "text/plain": [
       "<matplotlib.lines.Line2D at 0x1c3bf0ced0>"
      ]
     },
     "execution_count": 75,
     "metadata": {},
     "output_type": "execute_result"
    },
    {
     "data": {
      "text/plain": [
       "<matplotlib.lines.Line2D at 0x1c3bf24b90>"
      ]
     },
     "execution_count": 75,
     "metadata": {},
     "output_type": "execute_result"
    },
    {
     "data": {
      "text/plain": [
       "<matplotlib.lines.Line2D at 0x1c3bf24550>"
      ]
     },
     "execution_count": 75,
     "metadata": {},
     "output_type": "execute_result"
    },
    {
     "data": {
      "text/plain": [
       "Text(0.5, 0, 'dN/dS')"
      ]
     },
     "execution_count": 75,
     "metadata": {},
     "output_type": "execute_result"
    },
    {
     "data": {
      "text/plain": [
       "Text(0, 0.5, 'number of genes')"
      ]
     },
     "execution_count": 75,
     "metadata": {},
     "output_type": "execute_result"
    },
    {
     "data": {
      "text/plain": [
       "<matplotlib.legend.Legend at 0x1c3617b790>"
      ]
     },
     "execution_count": 75,
     "metadata": {},
     "output_type": "execute_result"
    },
    {
     "data": {
      "text/plain": [
       "Text(0.5, 0.98, 'Five Celltypes Distribution of Average dN/dS Scores of Genes Related to\\nvacuolar transport')"
      ]
     },
     "execution_count": 75,
     "metadata": {},
     "output_type": "execute_result"
    },
    {
     "data": {
      "text/plain": [
       "[<matplotlib.lines.Line2D at 0x1c21da29d0>]"
      ]
     },
     "execution_count": 75,
     "metadata": {},
     "output_type": "execute_result"
    },
    {
     "data": {
      "text/plain": [
       "[<matplotlib.lines.Line2D at 0x1c21db0590>]"
      ]
     },
     "execution_count": 75,
     "metadata": {},
     "output_type": "execute_result"
    },
    {
     "data": {
      "text/plain": [
       "[<matplotlib.lines.Line2D at 0x1c21d98b50>]"
      ]
     },
     "execution_count": 75,
     "metadata": {},
     "output_type": "execute_result"
    },
    {
     "data": {
      "text/plain": [
       "[<matplotlib.lines.Line2D at 0x1c21e7da10>]"
      ]
     },
     "execution_count": 75,
     "metadata": {},
     "output_type": "execute_result"
    },
    {
     "data": {
      "text/plain": [
       "[<matplotlib.lines.Line2D at 0x1c21e7d050>]"
      ]
     },
     "execution_count": 75,
     "metadata": {},
     "output_type": "execute_result"
    },
    {
     "data": {
      "text/plain": [
       "<matplotlib.lines.Line2D at 0x1c21dea850>"
      ]
     },
     "execution_count": 75,
     "metadata": {},
     "output_type": "execute_result"
    },
    {
     "data": {
      "text/plain": [
       "<matplotlib.lines.Line2D at 0x1c21deae50>"
      ]
     },
     "execution_count": 75,
     "metadata": {},
     "output_type": "execute_result"
    },
    {
     "data": {
      "text/plain": [
       "<matplotlib.lines.Line2D at 0x1c21dea890>"
      ]
     },
     "execution_count": 75,
     "metadata": {},
     "output_type": "execute_result"
    },
    {
     "data": {
      "text/plain": [
       "<matplotlib.lines.Line2D at 0x1c21dea9d0>"
      ]
     },
     "execution_count": 75,
     "metadata": {},
     "output_type": "execute_result"
    },
    {
     "data": {
      "text/plain": [
       "Text(0.5, 0, 'dN/dS')"
      ]
     },
     "execution_count": 75,
     "metadata": {},
     "output_type": "execute_result"
    },
    {
     "data": {
      "text/plain": [
       "Text(0, 0.5, 'number of genes')"
      ]
     },
     "execution_count": 75,
     "metadata": {},
     "output_type": "execute_result"
    },
    {
     "data": {
      "text/plain": [
       "<matplotlib.legend.Legend at 0x1c21dea210>"
      ]
     },
     "execution_count": 75,
     "metadata": {},
     "output_type": "execute_result"
    },
    {
     "data": {
      "text/plain": [
       "Text(0.5, 0.98, 'Five Celltypes Distribution of Average dN/dS Scores of Genes Related to\\nplasma membrane organization')"
      ]
     },
     "execution_count": 75,
     "metadata": {},
     "output_type": "execute_result"
    },
    {
     "data": {
      "text/plain": [
       "[<matplotlib.lines.Line2D at 0x1c238357d0>]"
      ]
     },
     "execution_count": 75,
     "metadata": {},
     "output_type": "execute_result"
    },
    {
     "data": {
      "text/plain": [
       "[<matplotlib.lines.Line2D at 0x1c236e7fd0>]"
      ]
     },
     "execution_count": 75,
     "metadata": {},
     "output_type": "execute_result"
    },
    {
     "data": {
      "text/plain": [
       "[<matplotlib.lines.Line2D at 0x1c23745ad0>]"
      ]
     },
     "execution_count": 75,
     "metadata": {},
     "output_type": "execute_result"
    },
    {
     "data": {
      "text/plain": [
       "[<matplotlib.lines.Line2D at 0x1c237450d0>]"
      ]
     },
     "execution_count": 75,
     "metadata": {},
     "output_type": "execute_result"
    },
    {
     "data": {
      "text/plain": [
       "[<matplotlib.lines.Line2D at 0x1c23751b50>]"
      ]
     },
     "execution_count": 75,
     "metadata": {},
     "output_type": "execute_result"
    },
    {
     "data": {
      "text/plain": [
       "<matplotlib.lines.Line2D at 0x1c2380a090>"
      ]
     },
     "execution_count": 75,
     "metadata": {},
     "output_type": "execute_result"
    },
    {
     "data": {
      "text/plain": [
       "<matplotlib.lines.Line2D at 0x1c2380a7d0>"
      ]
     },
     "execution_count": 75,
     "metadata": {},
     "output_type": "execute_result"
    },
    {
     "data": {
      "text/plain": [
       "<matplotlib.lines.Line2D at 0x1c2380add0>"
      ]
     },
     "execution_count": 75,
     "metadata": {},
     "output_type": "execute_result"
    },
    {
     "data": {
      "text/plain": [
       "<matplotlib.lines.Line2D at 0x1c2380f150>"
      ]
     },
     "execution_count": 75,
     "metadata": {},
     "output_type": "execute_result"
    },
    {
     "data": {
      "text/plain": [
       "Text(0.5, 0, 'dN/dS')"
      ]
     },
     "execution_count": 75,
     "metadata": {},
     "output_type": "execute_result"
    },
    {
     "data": {
      "text/plain": [
       "Text(0, 0.5, 'number of genes')"
      ]
     },
     "execution_count": 75,
     "metadata": {},
     "output_type": "execute_result"
    },
    {
     "data": {
      "text/plain": [
       "<matplotlib.legend.Legend at 0x1c237f8110>"
      ]
     },
     "execution_count": 75,
     "metadata": {},
     "output_type": "execute_result"
    },
    {
     "data": {
      "text/plain": [
       "Text(0.5, 0.98, 'Five Celltypes Distribution of Average dN/dS Scores of Genes Related to\\nregulation of cell size')"
      ]
     },
     "execution_count": 75,
     "metadata": {},
     "output_type": "execute_result"
    },
    {
     "data": {
      "text/plain": [
       "[<matplotlib.lines.Line2D at 0x1c27288dd0>]"
      ]
     },
     "execution_count": 75,
     "metadata": {},
     "output_type": "execute_result"
    },
    {
     "data": {
      "text/plain": [
       "[<matplotlib.lines.Line2D at 0x1c272558d0>]"
      ]
     },
     "execution_count": 75,
     "metadata": {},
     "output_type": "execute_result"
    },
    {
     "data": {
      "text/plain": [
       "[<matplotlib.lines.Line2D at 0x1c272a7890>]"
      ]
     },
     "execution_count": 75,
     "metadata": {},
     "output_type": "execute_result"
    },
    {
     "data": {
      "text/plain": [
       "[<matplotlib.lines.Line2D at 0x1c273023d0>]"
      ]
     },
     "execution_count": 75,
     "metadata": {},
     "output_type": "execute_result"
    },
    {
     "data": {
      "text/plain": [
       "[<matplotlib.lines.Line2D at 0x1c27302fd0>]"
      ]
     },
     "execution_count": 75,
     "metadata": {},
     "output_type": "execute_result"
    },
    {
     "data": {
      "text/plain": [
       "<matplotlib.lines.Line2D at 0x1c272ada90>"
      ]
     },
     "execution_count": 75,
     "metadata": {},
     "output_type": "execute_result"
    },
    {
     "data": {
      "text/plain": [
       "<matplotlib.lines.Line2D at 0x1c272ada50>"
      ]
     },
     "execution_count": 75,
     "metadata": {},
     "output_type": "execute_result"
    },
    {
     "data": {
      "text/plain": [
       "<matplotlib.lines.Line2D at 0x1c272b5790>"
      ]
     },
     "execution_count": 75,
     "metadata": {},
     "output_type": "execute_result"
    },
    {
     "data": {
      "text/plain": [
       "<matplotlib.lines.Line2D at 0x1c272b5650>"
      ]
     },
     "execution_count": 75,
     "metadata": {},
     "output_type": "execute_result"
    },
    {
     "data": {
      "text/plain": [
       "Text(0.5, 0, 'dN/dS')"
      ]
     },
     "execution_count": 75,
     "metadata": {},
     "output_type": "execute_result"
    },
    {
     "data": {
      "text/plain": [
       "Text(0, 0.5, 'number of genes')"
      ]
     },
     "execution_count": 75,
     "metadata": {},
     "output_type": "execute_result"
    },
    {
     "data": {
      "text/plain": [
       "<matplotlib.legend.Legend at 0x1c27302e50>"
      ]
     },
     "execution_count": 75,
     "metadata": {},
     "output_type": "execute_result"
    }
   ],
   "source": [
    "df = gene_info_df\n",
    "for GO in go_list:\n",
    "    GO_df = df.loc[df[GO] == True][['Neuron-specific','Endothelia-specific','Astrocyte-specific','Microglia-specific','Oligodendrocyte-specific','avg_dNdS']].copy(deep=True)\n",
    "\n",
    "    GO_df['Neuron-specific']=GO_df['Neuron-specific'].map({'In Neuron':1, 'NOT In Neuron':np.nan})\n",
    "    GO_df['Endothelia-specific']=GO_df['Endothelia-specific'].map({'In Endothelia':1, 'NOT In Endothelia':np.nan})\n",
    "    GO_df['Astrocyte-specific']=GO_df['Astrocyte-specific'].map({'In Astrocyte':1, 'NOT In Astrocyte':np.nan})\n",
    "    GO_df['Microglia-specific']=GO_df['Microglia-specific'].map({'In Microglia':1, 'NOT In Microglia':np.nan})\n",
    "    GO_df['Oligodendrocyte-specific']=GO_df['Oligodendrocyte-specific'].map({'In Oligodendrocyte':1, 'NOT In Oligodendrocyte':np.nan})\n",
    "\n",
    "    GO_df['Neuron-specific_dN/dS'] = GO_df['avg_dNdS']*GO_df['Neuron-specific']\n",
    "    GO_df['Endothelia-specific_dN/dS'] = GO_df['avg_dNdS']*GO_df['Endothelia-specific']\n",
    "    GO_df['Astrocyte-specific_dN/dS'] = GO_df['avg_dNdS']*GO_df['Astrocyte-specific']\n",
    "    GO_df['Microglia-specific_dN/dS'] = GO_df['avg_dNdS']*GO_df['Microglia-specific']\n",
    "    GO_df['Oligodendrocyte-specific_dN/dS'] = GO_df['avg_dNdS']*GO_df['Oligodendrocyte-specific']\n",
    "\n",
    "    GO_df.drop(GO_df.columns[0:5],axis=1,inplace=True)\n",
    "\n",
    "    GO_avg = GO_df['avg_dNdS'].mean(axis=0)\n",
    "    GO_med = GO_df['avg_dNdS'].median(axis=0)\n",
    "\n",
    "    # get numpy array of each cell type's dN/dS scores without NaN\n",
    "    N_arr = GO_df['Neuron-specific_dN/dS'].dropna().values\n",
    "    E_arr = GO_df['Endothelia-specific_dN/dS'].dropna().values\n",
    "    A_arr = GO_df['Astrocyte-specific_dN/dS'].dropna().values\n",
    "    M_arr = GO_df['Microglia-specific_dN/dS'].dropna().values\n",
    "    O_arr = GO_df['Oligodendrocyte-specific_dN/dS'].dropna().values\n",
    "\n",
    "    # Creating a figure \n",
    "    fig = plt.figure(figsize=(7.5,10)) # Size of a letter size paper\n",
    "    fig.suptitle('Five Celltypes Distribution of Average dN/dS Scores of Genes Related to'+\"\\n\"+GO, fontsize=14)\n",
    "\n",
    "    # Setting subplot space\n",
    "    grid = plt.GridSpec(nrows=15,ncols=2)\n",
    "    grid.update(wspace=0.3, hspace=0.3)\n",
    "\n",
    "    # The subplot for distribution histogram \n",
    "    distr_plot = fig.add_subplot(grid[0:4,:])\n",
    "    #distr_hist = dist_GO_df.plot(ax=distr_plot, kind='hist',alpha=0.3,bins=np.logspace(np.log10(0.001),np.log10(10), 100), logx=True, color=['royalblue','orange','lightgreen'])\n",
    "\n",
    "    # Set up the bins for log scale x-axis, and get the centers\n",
    "    bins=np.logspace(np.log10(0.001),np.log10(10), 100) # pizza\n",
    "    bins_cntr = (bins[1:] + bins[:-1]) / 2\n",
    "\n",
    "    # Distribution Histograms of the three cell types\n",
    "    countsN, bin_edgesN, ignoredN = distr_plot.hist(N_arr, bins, histtype='stepfilled', alpha=0.2, \n",
    "                                               color='tab:red')\n",
    "    countsE, bin_edgesE, ignoredE = distr_plot.hist(E_arr, bins, histtype='stepfilled', alpha=0.2, \n",
    "                                               color='tab:orange')\n",
    "    countsA, bin_edgesA, ignoredA = distr_plot.hist(A_arr, bins, histtype='stepfilled', alpha=0.2, \n",
    "                                               color='lime')\n",
    "    countsM, bin_edgesM, ignoredM = distr_plot.hist(M_arr, bins, histtype='stepfilled', alpha=0.2, \n",
    "                                               color='deepskyblue')\n",
    "    countsO, bin_edgesO, ignoredO = distr_plot.hist(O_arr, bins, histtype='stepfilled', alpha=0.2, \n",
    "                                               color='aquamarine')\n",
    "\n",
    "    \n",
    "    # Log-normal Curve for Neuron\n",
    "    try:\n",
    "        # calculate area of histograms (area under PDF should be 1)\n",
    "        area_histN = ((bin_edgesN[1:] - bin_edgesN[:-1]) * countsN).sum()\n",
    "        # Fitting log normal to cell type specific dN/dS of this GO\n",
    "        #shapeN, locN, scaleN = stats.lognorm.fit(N_arr, floc=0)\n",
    "        shapeN, locN, scaleN = stats.lognorm.fit(N_arr)\n",
    "        # pdf-values using cdf \n",
    "        N_fit_log_cntr_ = stats.lognorm.cdf(bins, shapeN, loc=locN, scale=scaleN)\n",
    "        N_fit_log_cntr = np.diff(N_fit_log_cntr_)\n",
    "        # plot fitted and scaled PDFs into histogram\n",
    "        distr_plot.plot(bins_cntr, N_fit_log_cntr * countsN.sum(),color='tab:red',ls='-', \n",
    "                        label='Neuron(med={0:.3f})'.format(np.median(N_arr)), linewidth=2)\n",
    "    except ValueError:\n",
    "        pass\n",
    "\n",
    "    # Log-normal Curve for Endothelial cells\n",
    "    try:\n",
    "        area_histE = ((bin_edgesE[1:] - bin_edgesE[:-1]) * countsE).sum()\n",
    "        #shapeE, locE, scaleE = stats.lognorm.fit(E_arr, floc=0)\n",
    "        shapeE, locE, scaleE = stats.lognorm.fit(E_arr)\n",
    "        E_fit_log_cntr_ = stats.lognorm.cdf(bins, shapeE, loc=locE, scale=scaleE)\n",
    "        E_fit_log_cntr = np.diff(E_fit_log_cntr_)\n",
    "        distr_plot.plot(bins_cntr, E_fit_log_cntr * countsE.sum(),color='tab:orange',ls='-', \n",
    "                        label='Endothelia(med={0:.3f})'.format(np.median(E_arr)), linewidth=2)\n",
    "    except ValueError:\n",
    "         pass\n",
    "\n",
    "    # Log-normal Curve for Microglia Cells\n",
    "    try: \n",
    "        area_histM = ((bin_edgesM[1:] - bin_edgesM[:-1]) * countsM).sum()\n",
    "        #shapeM, locM, scaleM = stats.lognorm.fit(M_arr, floc=0)\n",
    "        shapeM, locM, scaleM = stats.lognorm.fit(M_arr)\n",
    "        M_fit_log_cntr_ = stats.lognorm.cdf(bins, shapeM, loc=locM, scale=scaleM)\n",
    "        M_fit_log_cntr = np.diff(M_fit_log_cntr_)\n",
    "        distr_plot.plot(bins_cntr, M_fit_log_cntr * countsM.sum(),color='deepskyblue',ls='-', \n",
    "                        label='Microglia(med={0:.3f})'.format(np.median(M_arr)), linewidth=2)\n",
    "    except ValueError:\n",
    "        pass\n",
    "    \n",
    "    # Log-normal Curve for Oligodendrocyte Cells\n",
    "    try: \n",
    "        area_histO = ((bin_edgesO[1:] - bin_edgesO[:-1]) * countsO).sum()\n",
    "        #shapeO, locO, scaleO = stats.lognorm.fit(O_arr, floc=0)\n",
    "        shapeO, locO, scaleO = stats.lognorm.fit(O_arr)\n",
    "        O_fit_log_cntr_ = stats.lognorm.cdf(bins, shapeO, loc=locO, scale=scaleO)\n",
    "        O_fit_log_cntr = np.diff(O_fit_log_cntr_)\n",
    "        distr_plot.plot(bins_cntr, O_fit_log_cntr * countsO.sum(),color='aquamarine',ls='-', \n",
    "                        label='Oligodendrocyte(med={0:.3f})'.format(np.median(O_arr)), linewidth=2)\n",
    "    except ValueError:\n",
    "        pass\n",
    "    \n",
    "    # Log-normal Curve for Astrocyte Cells\n",
    "    try: \n",
    "        area_histA = ((bin_edgesA[1:] - bin_edgesA[:-1]) * countsA).sum()\n",
    "        #shapeA, locA, scaleA = stats.lognorm.fit(A_arr, floc=0)\n",
    "        shapeA, locA, scaleA = stats.lognorm.fit(A_arr)\n",
    "        A_fit_log_cntr_ = stats.lognorm.cdf(bins, shapeA, loc=locA, scale=scaleA)\n",
    "        A_fit_log_cntr = np.diff(A_fit_log_cntr_)\n",
    "        distr_plot.plot(bins_cntr, A_fit_log_cntr * countsA.sum(),color='lime',ls='-', \n",
    "                        label='Astrocyte(med={0:.3f})'.format(np.median(A_arr)), linewidth=2)\n",
    "    except ValueError:\n",
    "        pass\n",
    "\n",
    "    # # If I want to include a shadow of all genes' distribution \n",
    "    # #dist_df.plot(ax=distr_plot,kind='hist',alpha=0.2,bins=bins, logx=True, color='beige')\n",
    "\n",
    "    distr_plot.axvline(med, color='black', linestyle='-', label='All Brain Genes Median')\n",
    "    distr_plot.axvline(high_cutoff, color='silver', linestyle='--', label='Quantile Cuttoffs')\n",
    "    distr_plot.axvline(low_cutoff, color='silver', linestyle='--')\n",
    "    distr_plot.axvline(GO_med, color='chocolate', linestyle='-.', label='Median of this GO')\n",
    "\n",
    "    distr_plot.set_xlabel(xlabel='dN/dS')\n",
    "    distr_plot.set_ylabel(ylabel='number of genes')\n",
    "    distr_plot.set_xscale('log')\n",
    "    distr_plot.legend(loc='best')\n",
    "\n",
    "    # The contingency tables and the statisitcs tables \n",
    "    try:\n",
    "        tab_plot(fig,df,GO)\n",
    "#         Nchi2_num=tab_plot.Nchi2_num\n",
    "#         Nchi2_num=f\"{Nchi2_num:.3f}\"\n",
    "        Np_num=tab_plot.Np_num\n",
    "        Np_num=f\"{Np_num:.5f}\"\n",
    "    except IndexError:\n",
    "        pass\n",
    "    except ValueError:\n",
    "        pass\n",
    "    \n",
    "    plt.subplots_adjust(right=0.98)\n",
    "    fig.savefig('/Users/xulinhe/OneDrive/Herculano_Lab/Zhang_et_al_2014/Feb_17_2020_Ensembl98_contingency_analysis/'+Np_num+' '+GO+' contingency analysis.pdf')\n",
    "    plt.close()"
   ]
  },
  {
   "cell_type": "code",
   "execution_count": null,
   "metadata": {},
   "outputs": [],
   "source": []
  }
 ],
 "metadata": {
  "kernelspec": {
   "display_name": "Python 3",
   "language": "python",
   "name": "python3"
  },
  "language_info": {
   "codemirror_mode": {
    "name": "ipython",
    "version": 3
   },
   "file_extension": ".py",
   "mimetype": "text/x-python",
   "name": "python",
   "nbconvert_exporter": "python",
   "pygments_lexer": "ipython3",
   "version": "3.7.4"
  }
 },
 "nbformat": 4,
 "nbformat_minor": 2
}
