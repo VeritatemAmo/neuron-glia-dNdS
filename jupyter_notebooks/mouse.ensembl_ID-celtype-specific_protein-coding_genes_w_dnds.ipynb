{
 "cells": [
  {
   "cell_type": "markdown",
   "metadata": {},
   "source": [
    "To get promoter sequence of cell type-specific genes, I want a list of Ensembl ID for each list of cell type-specific genes"
   ]
  },
  {
   "cell_type": "code",
   "execution_count": 1,
   "metadata": {},
   "outputs": [],
   "source": [
    "import numpy as np\n",
    "import pandas as pd\n",
    "import glob"
   ]
  },
  {
   "cell_type": "code",
   "execution_count": 2,
   "metadata": {},
   "outputs": [],
   "source": [
    "from IPython.core.interactiveshell import InteractiveShell\n",
    "InteractiveShell.ast_node_interactivity = \"all\""
   ]
  },
  {
   "cell_type": "code",
   "execution_count": 3,
   "metadata": {},
   "outputs": [],
   "source": [
    "pd.set_option('display.max_rows', 10)"
   ]
  },
  {
   "cell_type": "code",
   "execution_count": 5,
   "metadata": {},
   "outputs": [],
   "source": [
    "# Pairwise dN/dS ratios of 92 mammalian species against mouse\n",
    "# dnds_df = pd.read_csv('../results/Ensembl98_mouse/mouse.92_species_dNdS.all_genes.tsv',sep='\\t',index_col=1)"
   ]
  },
  {
   "cell_type": "code",
   "execution_count": 4,
   "metadata": {},
   "outputs": [],
   "source": [
    "# Import stats on each gene for average of 92 species' dN/dS \n",
    "stats_df = pd.read_csv('../results/Ensembl98_mouse/mouse.dNdS_stats.all_genes.tsv',sep='\\t',index_col=1)"
   ]
  },
  {
   "cell_type": "code",
   "execution_count": 17,
   "metadata": {},
   "outputs": [],
   "source": [
    "for file in glob.glob('../results/mouse.celltype-specific_genes/protein-coding_w_dNdS/*.list.txt'):\n",
    "    celltype=file[63:-9]\n",
    "    df=pd.read_csv(file,names=['Gene name'],index_col=0)\n",
    "    Ensembl_ID_df=pd.merge(df,stats_df['Gene stable ID'],how='left',left_index=True,right_index=True)\n",
    "    Ensembl_ID_df.dropna(inplace=True)\n",
    "    Ensembl_ID_df.to_csv('../results/mouse.celltype-specific_genes/protein-coding_w_dNdS/Gene_Name_Ensembl_ID_'+celltype+'.tsv',sep='\\t')\n",
    "    Ensembl_ID_df['Gene stable ID'].to_csv('../results/mouse.celltype-specific_genes/protein-coding_w_dNdS/Ensembl_ID_'+celltype+'.tsv',sep='\\t',index=False,header=False)"
   ]
  },
  {
   "cell_type": "code",
   "execution_count": null,
   "metadata": {},
   "outputs": [],
   "source": []
  }
 ],
 "metadata": {
  "kernelspec": {
   "display_name": "Python 3",
   "language": "python",
   "name": "python3"
  },
  "language_info": {
   "codemirror_mode": {
    "name": "ipython",
    "version": 3
   },
   "file_extension": ".py",
   "mimetype": "text/x-python",
   "name": "python",
   "nbconvert_exporter": "python",
   "pygments_lexer": "ipython3",
   "version": "3.8.11"
  }
 },
 "nbformat": 4,
 "nbformat_minor": 4
}
