{
 "cells": [
  {
   "cell_type": "markdown",
   "metadata": {
    "tags": []
   },
   "source": [
    "Copied from mouse.phastCons_stats.ipynb"
   ]
  },
  {
   "cell_type": "code",
   "execution_count": 1,
   "metadata": {},
   "outputs": [],
   "source": [
    "import numpy as np\n",
    "import pandas as pd\n",
    "from scipy import stats"
   ]
  },
  {
   "cell_type": "code",
   "execution_count": 3,
   "metadata": {},
   "outputs": [],
   "source": [
    "celltype_list=['neuron','endothelia','glia','astrocyte','microglia','oligodendrocyte']"
   ]
  },
  {
   "cell_type": "code",
   "execution_count": 4,
   "metadata": {},
   "outputs": [],
   "source": [
    "df_dict={}\n",
    "xls = pd.ExcelFile('../results/chicken.celltype-specific_genes/protein-coding_w_dNdS/phastCons/phastcons-celltype.xlsx')\n",
    "for celltype in celltype_list:\n",
    "    df_dict[celltype]=pd.read_excel(xls, celltype, skipfooter=1)"
   ]
  },
  {
   "cell_type": "code",
   "execution_count": 12,
   "metadata": {},
   "outputs": [
    {
     "name": "stdout",
     "output_type": "stream",
     "text": [
      "(919, 12)\n",
      "393\n",
      "(625, 12)\n",
      "1219\n",
      "(759, 12)\n",
      "1553\n",
      "(597, 12)\n",
      "1363\n",
      "(612, 12)\n",
      "299\n",
      "(386, 12)\n",
      "1444\n"
     ]
    }
   ],
   "source": [
    "for celltype in celltype_list:\n",
    "    print(df_dict[celltype].shape) # making sure number of promoter is correct\n",
    "    print(df_dict[celltype].num_phastCons.min()) # making sure all promoter has data"
   ]
  },
  {
   "cell_type": "code",
   "execution_count": 20,
   "metadata": {},
   "outputs": [
    {
     "name": "stdout",
     "output_type": "stream",
     "text": [
      "neuron\n",
      "0.0907761\n",
      "endothelia\n",
      "0.0968898\n",
      "glia\n",
      "0.0954994\n",
      "astrocyte\n",
      "0.0989291\n",
      "microglia\n",
      "0.0881614\n",
      "oligodendrocyte\n",
      "0.0973445\n"
     ]
    }
   ],
   "source": [
    "for celltype in celltype_list:\n",
    "    print(celltype)\n",
    "    print(df_dict[celltype]['Avg_phastCons'].median())"
   ]
  },
  {
   "cell_type": "markdown",
   "metadata": {},
   "source": [
    "### Mann Whitney U test between pairs of cell types"
   ]
  },
  {
   "cell_type": "code",
   "execution_count": 17,
   "metadata": {},
   "outputs": [
    {
     "data": {
      "text/plain": [
       "MannwhitneyuResult(statistic=349797.0, pvalue=0.9164798979198104)"
      ]
     },
     "execution_count": 17,
     "metadata": {},
     "output_type": "execute_result"
    }
   ],
   "source": [
    "stats.mannwhitneyu(\n",
    "        df_dict['glia']['Avg_phastCons'].values,\n",
    "        df_dict['neuron']['Avg_phastCons'].values,\n",
    "        alternative=\"two-sided\")"
   ]
  },
  {
   "cell_type": "code",
   "execution_count": 18,
   "metadata": {},
   "outputs": [
    {
     "data": {
      "text/plain": [
       "MannwhitneyuResult(statistic=290129.0, pvalue=0.7323523474974584)"
      ]
     },
     "execution_count": 18,
     "metadata": {},
     "output_type": "execute_result"
    }
   ],
   "source": [
    "stats.mannwhitneyu(\n",
    "        df_dict['endothelia']['Avg_phastCons'].values,\n",
    "        df_dict['neuron']['Avg_phastCons'].values,\n",
    "        alternative=\"two-sided\")"
   ]
  },
  {
   "cell_type": "code",
   "execution_count": 19,
   "metadata": {},
   "outputs": [
    {
     "data": {
      "text/plain": [
       "MannwhitneyuResult(statistic=238941.0, pvalue=0.812725185746681)"
      ]
     },
     "execution_count": 19,
     "metadata": {},
     "output_type": "execute_result"
    }
   ],
   "source": [
    "stats.mannwhitneyu(\n",
    "        df_dict['endothelia']['Avg_phastCons'].values,\n",
    "        df_dict['glia']['Avg_phastCons'].values,\n",
    "        alternative=\"two-sided\")"
   ]
  },
  {
   "cell_type": "code",
   "execution_count": 21,
   "metadata": {},
   "outputs": [
    {
     "data": {
      "text/plain": [
       "MannwhitneyuResult(statistic=282595.0, pvalue=0.32052421041179846)"
      ]
     },
     "execution_count": 21,
     "metadata": {},
     "output_type": "execute_result"
    }
   ],
   "source": [
    "stats.mannwhitneyu(\n",
    "        df_dict['astrocyte']['Avg_phastCons'].values,\n",
    "        df_dict['neuron']['Avg_phastCons'].values,\n",
    "        alternative=\"two-sided\")"
   ]
  },
  {
   "cell_type": "code",
   "execution_count": 22,
   "metadata": {},
   "outputs": [
    {
     "data": {
      "text/plain": [
       "MannwhitneyuResult(statistic=274533.5, pvalue=0.4305077448547503)"
      ]
     },
     "execution_count": 22,
     "metadata": {},
     "output_type": "execute_result"
    }
   ],
   "source": [
    "stats.mannwhitneyu(\n",
    "        df_dict['microglia']['Avg_phastCons'].values,\n",
    "        df_dict['neuron']['Avg_phastCons'].values,\n",
    "        alternative=\"two-sided\")"
   ]
  },
  {
   "cell_type": "code",
   "execution_count": 23,
   "metadata": {},
   "outputs": [
    {
     "data": {
      "text/plain": [
       "MannwhitneyuResult(statistic=181668.0, pvalue=0.4888567725098757)"
      ]
     },
     "execution_count": 23,
     "metadata": {},
     "output_type": "execute_result"
    }
   ],
   "source": [
    "stats.mannwhitneyu(\n",
    "        df_dict['oligodendrocyte']['Avg_phastCons'].values,\n",
    "        df_dict['neuron']['Avg_phastCons'].values,\n",
    "        alternative=\"two-sided\")"
   ]
  }
 ],
 "metadata": {
  "kernelspec": {
   "display_name": "Python 3",
   "language": "python",
   "name": "python3"
  },
  "language_info": {
   "codemirror_mode": {
    "name": "ipython",
    "version": 3
   },
   "file_extension": ".py",
   "mimetype": "text/x-python",
   "name": "python",
   "nbconvert_exporter": "python",
   "pygments_lexer": "ipython3",
   "version": "3.8.11"
  }
 },
 "nbformat": 4,
 "nbformat_minor": 4
}
