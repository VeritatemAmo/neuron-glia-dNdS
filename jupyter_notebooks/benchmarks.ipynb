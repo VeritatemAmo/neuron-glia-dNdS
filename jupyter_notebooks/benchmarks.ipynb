{
 "cells": [
  {
   "cell_type": "code",
   "execution_count": 1,
   "metadata": {},
   "outputs": [],
   "source": [
    "import numpy as np\n",
    "import pandas as pd\n",
    "import glob\n",
    "from IPython.core.interactiveshell import InteractiveShell\n",
    "InteractiveShell.ast_node_interactivity = \"all\"\n",
    "pd.set_option('display.max_rows', 10)"
   ]
  },
  {
   "cell_type": "markdown",
   "metadata": {},
   "source": [
    "# Ensembl 98 mouse Averaged dN/dS"
   ]
  },
  {
   "cell_type": "code",
   "execution_count": 3,
   "metadata": {},
   "outputs": [],
   "source": [
    "# dN/dS of all protein coding genes\n",
    "dnds_df = pd.read_excel('/Users/xulinhe/OneDrive/Herculano_Lab/Ensembl98.mouse.xlsx',usecols=['Gene name','avg_dNdS'],sep='\\t',index_col=0)"
   ]
  },
  {
   "cell_type": "code",
   "execution_count": 4,
   "metadata": {},
   "outputs": [
    {
     "data": {
      "text/html": [
       "<div>\n",
       "<style scoped>\n",
       "    .dataframe tbody tr th:only-of-type {\n",
       "        vertical-align: middle;\n",
       "    }\n",
       "\n",
       "    .dataframe tbody tr th {\n",
       "        vertical-align: top;\n",
       "    }\n",
       "\n",
       "    .dataframe thead th {\n",
       "        text-align: right;\n",
       "    }\n",
       "</style>\n",
       "<table border=\"1\" class=\"dataframe\">\n",
       "  <thead>\n",
       "    <tr style=\"text-align: right;\">\n",
       "      <th></th>\n",
       "      <th>avg_dNdS</th>\n",
       "    </tr>\n",
       "    <tr>\n",
       "      <th>Gene name</th>\n",
       "      <th></th>\n",
       "    </tr>\n",
       "  </thead>\n",
       "  <tbody>\n",
       "    <tr>\n",
       "      <td>mt-Cytb</td>\n",
       "      <td>0.020620</td>\n",
       "    </tr>\n",
       "    <tr>\n",
       "      <td>mt-Nd6</td>\n",
       "      <td>0.016243</td>\n",
       "    </tr>\n",
       "    <tr>\n",
       "      <td>mt-Nd5</td>\n",
       "      <td>0.040241</td>\n",
       "    </tr>\n",
       "    <tr>\n",
       "      <td>mt-Nd4l</td>\n",
       "      <td>0.013863</td>\n",
       "    </tr>\n",
       "    <tr>\n",
       "      <td>mt-Nd3</td>\n",
       "      <td>0.037464</td>\n",
       "    </tr>\n",
       "    <tr>\n",
       "      <td>...</td>\n",
       "      <td>...</td>\n",
       "    </tr>\n",
       "    <tr>\n",
       "      <td>Kmt2b</td>\n",
       "      <td>0.131660</td>\n",
       "    </tr>\n",
       "    <tr>\n",
       "      <td>Fhl4</td>\n",
       "      <td>0.510940</td>\n",
       "    </tr>\n",
       "    <tr>\n",
       "      <td>Phc3</td>\n",
       "      <td>0.092761</td>\n",
       "    </tr>\n",
       "    <tr>\n",
       "      <td>Hspa4l</td>\n",
       "      <td>0.078639</td>\n",
       "    </tr>\n",
       "    <tr>\n",
       "      <td>Colgalt2</td>\n",
       "      <td>0.070391</td>\n",
       "    </tr>\n",
       "  </tbody>\n",
       "</table>\n",
       "<p>19388 rows × 1 columns</p>\n",
       "</div>"
      ],
      "text/plain": [
       "           avg_dNdS\n",
       "Gene name          \n",
       "mt-Cytb    0.020620\n",
       "mt-Nd6     0.016243\n",
       "mt-Nd5     0.040241\n",
       "mt-Nd4l    0.013863\n",
       "mt-Nd3     0.037464\n",
       "...             ...\n",
       "Kmt2b      0.131660\n",
       "Fhl4       0.510940\n",
       "Phc3       0.092761\n",
       "Hspa4l     0.078639\n",
       "Colgalt2   0.070391\n",
       "\n",
       "[19388 rows x 1 columns]"
      ]
     },
     "execution_count": 4,
     "metadata": {},
     "output_type": "execute_result"
    }
   ],
   "source": [
    "dnds_df"
   ]
  },
  {
   "cell_type": "markdown",
   "metadata": {},
   "source": [
    "## Bechmarks "
   ]
  },
  {
   "cell_type": "markdown",
   "metadata": {},
   "source": [
    "### House keeping genes"
   ]
  },
  {
   "cell_type": "code",
   "execution_count": 8,
   "metadata": {},
   "outputs": [],
   "source": [
    "# house-keeping genes\n",
    "hk_df = pd.read_csv('/Users/xulinhe/OneDrive/Herculano_Lab/Benchmark_Genes/Eisenberg_et_Levanon_2013/trimmed.mouse_ortholog_house_keeping_genes.tsv',sep='\\t',usecols=['Gene name'],index_col=['Gene name'])"
   ]
  },
  {
   "cell_type": "code",
   "execution_count": 10,
   "metadata": {},
   "outputs": [],
   "source": [
    "hk_df = pd.merge(hk_df,dnds_df,left_index=True, right_index=True, how='inner')"
   ]
  },
  {
   "cell_type": "code",
   "execution_count": 11,
   "metadata": {},
   "outputs": [
    {
     "data": {
      "text/html": [
       "<div>\n",
       "<style scoped>\n",
       "    .dataframe tbody tr th:only-of-type {\n",
       "        vertical-align: middle;\n",
       "    }\n",
       "\n",
       "    .dataframe tbody tr th {\n",
       "        vertical-align: top;\n",
       "    }\n",
       "\n",
       "    .dataframe thead th {\n",
       "        text-align: right;\n",
       "    }\n",
       "</style>\n",
       "<table border=\"1\" class=\"dataframe\">\n",
       "  <thead>\n",
       "    <tr style=\"text-align: right;\">\n",
       "      <th></th>\n",
       "      <th>avg_dNdS</th>\n",
       "    </tr>\n",
       "    <tr>\n",
       "      <th>Gene name</th>\n",
       "      <th></th>\n",
       "    </tr>\n",
       "  </thead>\n",
       "  <tbody>\n",
       "    <tr>\n",
       "      <td>Aaas</td>\n",
       "      <td>0.088135</td>\n",
       "    </tr>\n",
       "    <tr>\n",
       "      <td>Aagab</td>\n",
       "      <td>0.135716</td>\n",
       "    </tr>\n",
       "    <tr>\n",
       "      <td>Aamp</td>\n",
       "      <td>0.022372</td>\n",
       "    </tr>\n",
       "    <tr>\n",
       "      <td>Aar2</td>\n",
       "      <td>0.093255</td>\n",
       "    </tr>\n",
       "    <tr>\n",
       "      <td>Aars</td>\n",
       "      <td>0.047271</td>\n",
       "    </tr>\n",
       "    <tr>\n",
       "      <td>...</td>\n",
       "      <td>...</td>\n",
       "    </tr>\n",
       "    <tr>\n",
       "      <td>Zswim1</td>\n",
       "      <td>0.112086</td>\n",
       "    </tr>\n",
       "    <tr>\n",
       "      <td>Zswim7</td>\n",
       "      <td>0.211968</td>\n",
       "    </tr>\n",
       "    <tr>\n",
       "      <td>Zswim8</td>\n",
       "      <td>0.060767</td>\n",
       "    </tr>\n",
       "    <tr>\n",
       "      <td>Zw10</td>\n",
       "      <td>0.144054</td>\n",
       "    </tr>\n",
       "    <tr>\n",
       "      <td>Zzz3</td>\n",
       "      <td>0.179042</td>\n",
       "    </tr>\n",
       "  </tbody>\n",
       "</table>\n",
       "<p>3265 rows × 1 columns</p>\n",
       "</div>"
      ],
      "text/plain": [
       "           avg_dNdS\n",
       "Gene name          \n",
       "Aaas       0.088135\n",
       "Aagab      0.135716\n",
       "Aamp       0.022372\n",
       "Aar2       0.093255\n",
       "Aars       0.047271\n",
       "...             ...\n",
       "Zswim1     0.112086\n",
       "Zswim7     0.211968\n",
       "Zswim8     0.060767\n",
       "Zw10       0.144054\n",
       "Zzz3       0.179042\n",
       "\n",
       "[3265 rows x 1 columns]"
      ]
     },
     "execution_count": 11,
     "metadata": {},
     "output_type": "execute_result"
    }
   ],
   "source": [
    "hk_df"
   ]
  },
  {
   "cell_type": "markdown",
   "metadata": {},
   "source": [
    "### MHC genes"
   ]
  },
  {
   "cell_type": "code",
   "execution_count": 12,
   "metadata": {},
   "outputs": [],
   "source": [
    "# mouse MHC Genes\n",
    "mhc_df = pd.read_csv('/Users/xulinhe/OneDrive/Herculano_Lab/Benchmark_Genes/MHC/Shiina_et_al_2017/ensembl_ID.mouse.MHC_genes.tsv',sep='\\t', usecols=['Gene name'],index_col=['Gene name'])"
   ]
  },
  {
   "cell_type": "code",
   "execution_count": 13,
   "metadata": {},
   "outputs": [],
   "source": [
    "mhc_df = pd.merge(mhc_df,dnds_df,left_index=True, right_index=True, how='inner')"
   ]
  },
  {
   "cell_type": "code",
   "execution_count": 14,
   "metadata": {},
   "outputs": [
    {
     "data": {
      "text/html": [
       "<div>\n",
       "<style scoped>\n",
       "    .dataframe tbody tr th:only-of-type {\n",
       "        vertical-align: middle;\n",
       "    }\n",
       "\n",
       "    .dataframe tbody tr th {\n",
       "        vertical-align: top;\n",
       "    }\n",
       "\n",
       "    .dataframe thead th {\n",
       "        text-align: right;\n",
       "    }\n",
       "</style>\n",
       "<table border=\"1\" class=\"dataframe\">\n",
       "  <thead>\n",
       "    <tr style=\"text-align: right;\">\n",
       "      <th></th>\n",
       "      <th>avg_dNdS</th>\n",
       "    </tr>\n",
       "    <tr>\n",
       "      <th>Gene name</th>\n",
       "      <th></th>\n",
       "    </tr>\n",
       "  </thead>\n",
       "  <tbody>\n",
       "    <tr>\n",
       "      <td>H2-Aa</td>\n",
       "      <td>0.448644</td>\n",
       "    </tr>\n",
       "    <tr>\n",
       "      <td>H2-Ab1</td>\n",
       "      <td>0.254874</td>\n",
       "    </tr>\n",
       "    <tr>\n",
       "      <td>H2-DMa</td>\n",
       "      <td>0.234635</td>\n",
       "    </tr>\n",
       "    <tr>\n",
       "      <td>H2-DMb1</td>\n",
       "      <td>0.701711</td>\n",
       "    </tr>\n",
       "    <tr>\n",
       "      <td>H2-DMb2</td>\n",
       "      <td>0.519831</td>\n",
       "    </tr>\n",
       "    <tr>\n",
       "      <td>...</td>\n",
       "      <td>...</td>\n",
       "    </tr>\n",
       "    <tr>\n",
       "      <td>H2-Q1</td>\n",
       "      <td>0.304375</td>\n",
       "    </tr>\n",
       "    <tr>\n",
       "      <td>H2-Q2</td>\n",
       "      <td>0.467251</td>\n",
       "    </tr>\n",
       "    <tr>\n",
       "      <td>H2-T23</td>\n",
       "      <td>0.488723</td>\n",
       "    </tr>\n",
       "    <tr>\n",
       "      <td>H2-T24</td>\n",
       "      <td>0.304294</td>\n",
       "    </tr>\n",
       "    <tr>\n",
       "      <td>H2-T3</td>\n",
       "      <td>0.617073</td>\n",
       "    </tr>\n",
       "  </tbody>\n",
       "</table>\n",
       "<p>26 rows × 1 columns</p>\n",
       "</div>"
      ],
      "text/plain": [
       "           avg_dNdS\n",
       "Gene name          \n",
       "H2-Aa      0.448644\n",
       "H2-Ab1     0.254874\n",
       "H2-DMa     0.234635\n",
       "H2-DMb1    0.701711\n",
       "H2-DMb2    0.519831\n",
       "...             ...\n",
       "H2-Q1      0.304375\n",
       "H2-Q2      0.467251\n",
       "H2-T23     0.488723\n",
       "H2-T24     0.304294\n",
       "H2-T3      0.617073\n",
       "\n",
       "[26 rows x 1 columns]"
      ]
     },
     "execution_count": 14,
     "metadata": {},
     "output_type": "execute_result"
    }
   ],
   "source": [
    "mhc_df"
   ]
  },
  {
   "cell_type": "markdown",
   "metadata": {},
   "source": [
    "### ATPase"
   ]
  },
  {
   "cell_type": "code",
   "execution_count": 15,
   "metadata": {},
   "outputs": [],
   "source": [
    "# HGNC database, accessed Oct. 10, 2019\n",
    "atpase_df = pd.read_csv('/Users/xulinhe/OneDrive/Herculano_Lab/Benchmark_Genes/ATPase/HGNC_database/Ensembl_ID.mouse.ATPase.tsv',sep='\\t',usecols=['Gene name'],index_col=['Gene name'])"
   ]
  },
  {
   "cell_type": "code",
   "execution_count": 16,
   "metadata": {},
   "outputs": [],
   "source": [
    "atpase_df = pd.merge(atpase_df,dnds_df,left_index=True,right_index=True,how='inner')"
   ]
  },
  {
   "cell_type": "code",
   "execution_count": 17,
   "metadata": {},
   "outputs": [
    {
     "data": {
      "text/html": [
       "<div>\n",
       "<style scoped>\n",
       "    .dataframe tbody tr th:only-of-type {\n",
       "        vertical-align: middle;\n",
       "    }\n",
       "\n",
       "    .dataframe tbody tr th {\n",
       "        vertical-align: top;\n",
       "    }\n",
       "\n",
       "    .dataframe thead th {\n",
       "        text-align: right;\n",
       "    }\n",
       "</style>\n",
       "<table border=\"1\" class=\"dataframe\">\n",
       "  <thead>\n",
       "    <tr style=\"text-align: right;\">\n",
       "      <th></th>\n",
       "      <th>avg_dNdS</th>\n",
       "    </tr>\n",
       "    <tr>\n",
       "      <th>Gene name</th>\n",
       "      <th></th>\n",
       "    </tr>\n",
       "  </thead>\n",
       "  <tbody>\n",
       "    <tr>\n",
       "      <td>Afg3l2</td>\n",
       "      <td>0.054694</td>\n",
       "    </tr>\n",
       "    <tr>\n",
       "      <td>Atad1</td>\n",
       "      <td>0.017051</td>\n",
       "    </tr>\n",
       "    <tr>\n",
       "      <td>Atad2b</td>\n",
       "      <td>0.105365</td>\n",
       "    </tr>\n",
       "    <tr>\n",
       "      <td>Atad3a</td>\n",
       "      <td>0.050244</td>\n",
       "    </tr>\n",
       "    <tr>\n",
       "      <td>Atad5</td>\n",
       "      <td>0.317224</td>\n",
       "    </tr>\n",
       "    <tr>\n",
       "      <td>...</td>\n",
       "      <td>...</td>\n",
       "    </tr>\n",
       "    <tr>\n",
       "      <td>Vps4b</td>\n",
       "      <td>0.056053</td>\n",
       "    </tr>\n",
       "    <tr>\n",
       "      <td>Wrnip1</td>\n",
       "      <td>0.055883</td>\n",
       "    </tr>\n",
       "    <tr>\n",
       "      <td>Yme1l1</td>\n",
       "      <td>0.070402</td>\n",
       "    </tr>\n",
       "    <tr>\n",
       "      <td>mt-Atp6</td>\n",
       "      <td>0.022881</td>\n",
       "    </tr>\n",
       "    <tr>\n",
       "      <td>mt-Atp8</td>\n",
       "      <td>0.442088</td>\n",
       "    </tr>\n",
       "  </tbody>\n",
       "</table>\n",
       "<p>116 rows × 1 columns</p>\n",
       "</div>"
      ],
      "text/plain": [
       "           avg_dNdS\n",
       "Gene name          \n",
       "Afg3l2     0.054694\n",
       "Atad1      0.017051\n",
       "Atad2b     0.105365\n",
       "Atad3a     0.050244\n",
       "Atad5      0.317224\n",
       "...             ...\n",
       "Vps4b      0.056053\n",
       "Wrnip1     0.055883\n",
       "Yme1l1     0.070402\n",
       "mt-Atp6    0.022881\n",
       "mt-Atp8    0.442088\n",
       "\n",
       "[116 rows x 1 columns]"
      ]
     },
     "execution_count": 17,
     "metadata": {},
     "output_type": "execute_result"
    }
   ],
   "source": [
    "atpase_df"
   ]
  },
  {
   "cell_type": "markdown",
   "metadata": {},
   "source": [
    "### Genes in GO immune system from MGI database"
   ]
  },
  {
   "cell_type": "code",
   "execution_count": 20,
   "metadata": {},
   "outputs": [],
   "source": [
    "# innate immune genes from https://www.innatedb.com/annotatedGenes.do?type=innatedb, accessed Jan 22, 2020\n",
    "immune_df = pd.read_csv('/Users/xulinhe/OneDrive/Herculano_Lab/Benchmark_Genes/InnateDB_innate_immune_genes.txt',usecols=['species','name'],sep='\\t')"
   ]
  },
  {
   "cell_type": "code",
   "execution_count": 21,
   "metadata": {},
   "outputs": [
    {
     "data": {
      "text/html": [
       "<div>\n",
       "<style scoped>\n",
       "    .dataframe tbody tr th:only-of-type {\n",
       "        vertical-align: middle;\n",
       "    }\n",
       "\n",
       "    .dataframe tbody tr th {\n",
       "        vertical-align: top;\n",
       "    }\n",
       "\n",
       "    .dataframe thead th {\n",
       "        text-align: right;\n",
       "    }\n",
       "</style>\n",
       "<table border=\"1\" class=\"dataframe\">\n",
       "  <thead>\n",
       "    <tr style=\"text-align: right;\">\n",
       "      <th></th>\n",
       "      <th>species</th>\n",
       "      <th>name</th>\n",
       "    </tr>\n",
       "  </thead>\n",
       "  <tbody>\n",
       "    <tr>\n",
       "      <td>0</td>\n",
       "      <td>Mus musculus</td>\n",
       "      <td>Map3k8</td>\n",
       "    </tr>\n",
       "    <tr>\n",
       "      <td>1</td>\n",
       "      <td>Mus musculus</td>\n",
       "      <td>Rictor</td>\n",
       "    </tr>\n",
       "    <tr>\n",
       "      <td>2</td>\n",
       "      <td>Mus musculus</td>\n",
       "      <td>Lyn</td>\n",
       "    </tr>\n",
       "    <tr>\n",
       "      <td>3</td>\n",
       "      <td>Mus musculus</td>\n",
       "      <td>Unc93b1</td>\n",
       "    </tr>\n",
       "    <tr>\n",
       "      <td>4</td>\n",
       "      <td>Mus musculus</td>\n",
       "      <td>Gata6</td>\n",
       "    </tr>\n",
       "    <tr>\n",
       "      <td>...</td>\n",
       "      <td>...</td>\n",
       "      <td>...</td>\n",
       "    </tr>\n",
       "    <tr>\n",
       "      <td>2276</td>\n",
       "      <td>Bos taurus</td>\n",
       "      <td>BT.87655</td>\n",
       "    </tr>\n",
       "    <tr>\n",
       "      <td>2277</td>\n",
       "      <td>Bos taurus</td>\n",
       "      <td>LOC618985</td>\n",
       "    </tr>\n",
       "    <tr>\n",
       "      <td>2278</td>\n",
       "      <td>Bos taurus</td>\n",
       "      <td>IFNA16</td>\n",
       "    </tr>\n",
       "    <tr>\n",
       "      <td>2279</td>\n",
       "      <td>Bos taurus</td>\n",
       "      <td>BT.63938</td>\n",
       "    </tr>\n",
       "    <tr>\n",
       "      <td>2280</td>\n",
       "      <td>Bos taurus</td>\n",
       "      <td>TLR5</td>\n",
       "    </tr>\n",
       "  </tbody>\n",
       "</table>\n",
       "<p>2281 rows × 2 columns</p>\n",
       "</div>"
      ],
      "text/plain": [
       "           species       name\n",
       "0     Mus musculus     Map3k8\n",
       "1     Mus musculus     Rictor\n",
       "2     Mus musculus        Lyn\n",
       "3     Mus musculus    Unc93b1\n",
       "4     Mus musculus      Gata6\n",
       "...            ...        ...\n",
       "2276    Bos taurus   BT.87655\n",
       "2277    Bos taurus  LOC618985\n",
       "2278    Bos taurus     IFNA16\n",
       "2279    Bos taurus   BT.63938\n",
       "2280    Bos taurus       TLR5\n",
       "\n",
       "[2281 rows x 2 columns]"
      ]
     },
     "execution_count": 21,
     "metadata": {},
     "output_type": "execute_result"
    }
   ],
   "source": [
    "immune_df"
   ]
  },
  {
   "cell_type": "code",
   "execution_count": 24,
   "metadata": {},
   "outputs": [],
   "source": [
    "# trimming out all non-mouse genes\n",
    "immune_df = immune_df.loc[immune_df['species']=='Mus musculus'].copy(deep=True)"
   ]
  },
  {
   "cell_type": "code",
   "execution_count": 25,
   "metadata": {},
   "outputs": [],
   "source": [
    "immune_df.rename(columns = {'name':'Gene name'}, inplace = True)"
   ]
  },
  {
   "cell_type": "code",
   "execution_count": 26,
   "metadata": {},
   "outputs": [],
   "source": [
    "immune_df = pd.merge(immune_df,dnds_df,left_on=['Gene name'],right_index=True,how='inner')"
   ]
  },
  {
   "cell_type": "code",
   "execution_count": 27,
   "metadata": {},
   "outputs": [],
   "source": [
    "immune_df.set_index('Gene name', inplace=True)"
   ]
  },
  {
   "cell_type": "code",
   "execution_count": 30,
   "metadata": {},
   "outputs": [],
   "source": [
    "immune_df.drop(columns=['species'],inplace=True)"
   ]
  },
  {
   "cell_type": "code",
   "execution_count": 31,
   "metadata": {
    "scrolled": true
   },
   "outputs": [
    {
     "data": {
      "text/html": [
       "<div>\n",
       "<style scoped>\n",
       "    .dataframe tbody tr th:only-of-type {\n",
       "        vertical-align: middle;\n",
       "    }\n",
       "\n",
       "    .dataframe tbody tr th {\n",
       "        vertical-align: top;\n",
       "    }\n",
       "\n",
       "    .dataframe thead th {\n",
       "        text-align: right;\n",
       "    }\n",
       "</style>\n",
       "<table border=\"1\" class=\"dataframe\">\n",
       "  <thead>\n",
       "    <tr style=\"text-align: right;\">\n",
       "      <th></th>\n",
       "      <th>avg_dNdS</th>\n",
       "    </tr>\n",
       "    <tr>\n",
       "      <th>Gene name</th>\n",
       "      <th></th>\n",
       "    </tr>\n",
       "  </thead>\n",
       "  <tbody>\n",
       "    <tr>\n",
       "      <td>Map3k8</td>\n",
       "      <td>0.059851</td>\n",
       "    </tr>\n",
       "    <tr>\n",
       "      <td>Rictor</td>\n",
       "      <td>0.046778</td>\n",
       "    </tr>\n",
       "    <tr>\n",
       "      <td>Lyn</td>\n",
       "      <td>0.034117</td>\n",
       "    </tr>\n",
       "    <tr>\n",
       "      <td>Unc93b1</td>\n",
       "      <td>0.073698</td>\n",
       "    </tr>\n",
       "    <tr>\n",
       "      <td>Gata6</td>\n",
       "      <td>0.095946</td>\n",
       "    </tr>\n",
       "    <tr>\n",
       "      <td>...</td>\n",
       "      <td>...</td>\n",
       "    </tr>\n",
       "    <tr>\n",
       "      <td>Ifna2</td>\n",
       "      <td>0.433356</td>\n",
       "    </tr>\n",
       "    <tr>\n",
       "      <td>Ifna14</td>\n",
       "      <td>0.421975</td>\n",
       "    </tr>\n",
       "    <tr>\n",
       "      <td>Ifna9</td>\n",
       "      <td>0.382669</td>\n",
       "    </tr>\n",
       "    <tr>\n",
       "      <td>Ifna11</td>\n",
       "      <td>0.437736</td>\n",
       "    </tr>\n",
       "    <tr>\n",
       "      <td>Ifnab</td>\n",
       "      <td>0.687875</td>\n",
       "    </tr>\n",
       "  </tbody>\n",
       "</table>\n",
       "<p>683 rows × 1 columns</p>\n",
       "</div>"
      ],
      "text/plain": [
       "           avg_dNdS\n",
       "Gene name          \n",
       "Map3k8     0.059851\n",
       "Rictor     0.046778\n",
       "Lyn        0.034117\n",
       "Unc93b1    0.073698\n",
       "Gata6      0.095946\n",
       "...             ...\n",
       "Ifna2      0.433356\n",
       "Ifna14     0.421975\n",
       "Ifna9      0.382669\n",
       "Ifna11     0.437736\n",
       "Ifnab      0.687875\n",
       "\n",
       "[683 rows x 1 columns]"
      ]
     },
     "execution_count": 31,
     "metadata": {},
     "output_type": "execute_result"
    }
   ],
   "source": [
    "immune_df"
   ]
  },
  {
   "cell_type": "markdown",
   "metadata": {},
   "source": [
    "# Export Dataframes of Each Benchmark to a Sheet of Excel File"
   ]
  },
  {
   "cell_type": "code",
   "execution_count": 33,
   "metadata": {},
   "outputs": [],
   "source": [
    "# Create a Pandas Excel writer using XlsxWriter as the engine.\n",
    "writer = pd.ExcelWriter('/Users/xulinhe/OneDrive/Herculano_Lab/benchmarks.xlsx', engine='xlsxwriter')\n",
    "\n",
    "# Write each dataframe to a different worksheet.\n",
    "hk_df.to_excel(writer, sheet_name='House Keeping Genes')\n",
    "mhc_df.to_excel(writer, sheet_name='MHC')\n",
    "atpase_df.to_excel(writer, sheet_name='ATPase')\n",
    "immune_df.to_excel(writer, sheet_name='Immune System Genes')\n",
    "\n",
    "# Close the Pandas Excel writer and output the Excel file.\n",
    "writer.save()"
   ]
  },
  {
   "cell_type": "code",
   "execution_count": null,
   "metadata": {},
   "outputs": [],
   "source": []
  }
 ],
 "metadata": {
  "kernelspec": {
   "display_name": "Python 3",
   "language": "python",
   "name": "python3"
  },
  "language_info": {
   "codemirror_mode": {
    "name": "ipython",
    "version": 3
   },
   "file_extension": ".py",
   "mimetype": "text/x-python",
   "name": "python",
   "nbconvert_exporter": "python",
   "pygments_lexer": "ipython3",
   "version": "3.8.3"
  }
 },
 "nbformat": 4,
 "nbformat_minor": 4
}
