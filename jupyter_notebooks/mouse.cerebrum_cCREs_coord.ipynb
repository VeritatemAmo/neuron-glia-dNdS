{
 "cells": [
  {
   "cell_type": "markdown",
   "id": "02b82ba8-30d7-4618-a2db-d4fc680b7079",
   "metadata": {},
   "source": [
    "Identifying neuron and non-neuronal candidate cis-regulatory elements (cCREs) and their genome coordinates based on Li et al 2021 An Atlas of Gene Regulatory Elements in Adult Mouse Cerebrum"
   ]
  },
  {
   "cell_type": "code",
   "execution_count": 2,
   "id": "abcbee0e-2e06-4d8e-9d7c-34bf0dcb22ea",
   "metadata": {},
   "outputs": [],
   "source": [
    "import numpy as np\n",
    "import pandas as pd"
   ]
  },
  {
   "cell_type": "code",
   "execution_count": 3,
   "id": "d727c3dd-3aa7-4d8e-a855-91397d17a5c6",
   "metadata": {},
   "outputs": [],
   "source": [
    "from IPython.core.interactiveshell import InteractiveShell\n",
    "InteractiveShell.ast_node_interactivity = \"all\""
   ]
  },
  {
   "cell_type": "code",
   "execution_count": 4,
   "id": "3995c75f-4d95-483b-aca3-822360ddace9",
   "metadata": {},
   "outputs": [],
   "source": [
    "pd.set_option('display.max_rows', 10)"
   ]
  },
  {
   "cell_type": "code",
   "execution_count": 5,
   "id": "b4efcc6f-f86d-4e38-a94a-ba774aee9a08",
   "metadata": {},
   "outputs": [],
   "source": [
    "cCRE_df = pd.read_csv('../data/regulatory_elements/Li_et_al_2021/Supplementary Table 8 - Cell type assignment of cCREs.txt',sep='\\t')"
   ]
  },
  {
   "cell_type": "code",
   "execution_count": 6,
   "id": "b99f14b2-c09b-4dc8-9053-b4b1968cc161",
   "metadata": {},
   "outputs": [],
   "source": [
    "cCRE_df[['coordinate','name']]=cCRE_df['cCREs'].str.split('|',expand=True)"
   ]
  },
  {
   "cell_type": "code",
   "execution_count": 8,
   "id": "e5bc4f86-8511-49a3-baf7-165e4e745797",
   "metadata": {},
   "outputs": [],
   "source": [
    "cCRE_df[['chromosome','start-end']]=cCRE_df['coordinate'].str.split(':',expand=True)"
   ]
  },
  {
   "cell_type": "code",
   "execution_count": 10,
   "id": "37bc5c64-8220-404f-877b-234c6adeb68f",
   "metadata": {},
   "outputs": [],
   "source": [
    "cCRE_df[['start','end']]=cCRE_df['start-end'].str.split('-',expand=True)"
   ]
  },
  {
   "cell_type": "code",
   "execution_count": 11,
   "id": "7d5b8282-4ec3-4355-b417-8106a5cac9e2",
   "metadata": {},
   "outputs": [
    {
     "data": {
      "text/html": [
       "<div>\n",
       "<style scoped>\n",
       "    .dataframe tbody tr th:only-of-type {\n",
       "        vertical-align: middle;\n",
       "    }\n",
       "\n",
       "    .dataframe tbody tr th {\n",
       "        vertical-align: top;\n",
       "    }\n",
       "\n",
       "    .dataframe thead th {\n",
       "        text-align: right;\n",
       "    }\n",
       "</style>\n",
       "<table border=\"1\" class=\"dataframe\">\n",
       "  <thead>\n",
       "    <tr style=\"text-align: right;\">\n",
       "      <th></th>\n",
       "      <th>cCREs</th>\n",
       "      <th>cluster</th>\n",
       "      <th>coordinate</th>\n",
       "      <th>name</th>\n",
       "      <th>chromosome</th>\n",
       "      <th>start-end</th>\n",
       "      <th>start</th>\n",
       "      <th>end</th>\n",
       "    </tr>\n",
       "  </thead>\n",
       "  <tbody>\n",
       "    <tr>\n",
       "      <th>0</th>\n",
       "      <td>chr1:3514481-3515234|cCREs108</td>\n",
       "      <td>CNUGA</td>\n",
       "      <td>chr1:3514481-3515234</td>\n",
       "      <td>cCREs108</td>\n",
       "      <td>chr1</td>\n",
       "      <td>3514481-3515234</td>\n",
       "      <td>3514481</td>\n",
       "      <td>3515234</td>\n",
       "    </tr>\n",
       "    <tr>\n",
       "      <th>1</th>\n",
       "      <td>chr1:3670396-3672765|cCREs142</td>\n",
       "      <td>CNUGA</td>\n",
       "      <td>chr1:3670396-3672765</td>\n",
       "      <td>cCREs142</td>\n",
       "      <td>chr1</td>\n",
       "      <td>3670396-3672765</td>\n",
       "      <td>3670396</td>\n",
       "      <td>3672765</td>\n",
       "    </tr>\n",
       "    <tr>\n",
       "      <th>2</th>\n",
       "      <td>chr1:4571276-4572407|cCREs226</td>\n",
       "      <td>CNUGA</td>\n",
       "      <td>chr1:4571276-4572407</td>\n",
       "      <td>cCREs226</td>\n",
       "      <td>chr1</td>\n",
       "      <td>4571276-4572407</td>\n",
       "      <td>4571276</td>\n",
       "      <td>4572407</td>\n",
       "    </tr>\n",
       "    <tr>\n",
       "      <th>3</th>\n",
       "      <td>chr1:4722514-4723338|cCREs242</td>\n",
       "      <td>CNUGA</td>\n",
       "      <td>chr1:4722514-4723338</td>\n",
       "      <td>cCREs242</td>\n",
       "      <td>chr1</td>\n",
       "      <td>4722514-4723338</td>\n",
       "      <td>4722514</td>\n",
       "      <td>4723338</td>\n",
       "    </tr>\n",
       "    <tr>\n",
       "      <th>4</th>\n",
       "      <td>chr1:4807341-4808403|cCREs258</td>\n",
       "      <td>CNUGA</td>\n",
       "      <td>chr1:4807341-4808403</td>\n",
       "      <td>cCREs258</td>\n",
       "      <td>chr1</td>\n",
       "      <td>4807341-4808403</td>\n",
       "      <td>4807341</td>\n",
       "      <td>4808403</td>\n",
       "    </tr>\n",
       "    <tr>\n",
       "      <th>...</th>\n",
       "      <td>...</td>\n",
       "      <td>...</td>\n",
       "      <td>...</td>\n",
       "      <td>...</td>\n",
       "      <td>...</td>\n",
       "      <td>...</td>\n",
       "      <td>...</td>\n",
       "      <td>...</td>\n",
       "    </tr>\n",
       "    <tr>\n",
       "      <th>9644318</th>\n",
       "      <td>chrY:1285546-1286912|cCREs491800</td>\n",
       "      <td>VPIA3</td>\n",
       "      <td>chrY:1285546-1286912</td>\n",
       "      <td>cCREs491800</td>\n",
       "      <td>chrY</td>\n",
       "      <td>1285546-1286912</td>\n",
       "      <td>1285546</td>\n",
       "      <td>1286912</td>\n",
       "    </tr>\n",
       "    <tr>\n",
       "      <th>9644319</th>\n",
       "      <td>chrY:90740854-90745088|cCREs491807</td>\n",
       "      <td>VPIA3</td>\n",
       "      <td>chrY:90740854-90745088</td>\n",
       "      <td>cCREs491807</td>\n",
       "      <td>chrY</td>\n",
       "      <td>90740854-90745088</td>\n",
       "      <td>90740854</td>\n",
       "      <td>90745088</td>\n",
       "    </tr>\n",
       "    <tr>\n",
       "      <th>9644320</th>\n",
       "      <td>chrY:90760961-90761754|cCREs491808</td>\n",
       "      <td>VPIA3</td>\n",
       "      <td>chrY:90760961-90761754</td>\n",
       "      <td>cCREs491808</td>\n",
       "      <td>chrY</td>\n",
       "      <td>90760961-90761754</td>\n",
       "      <td>90760961</td>\n",
       "      <td>90761754</td>\n",
       "    </tr>\n",
       "    <tr>\n",
       "      <th>9644321</th>\n",
       "      <td>chrY:90808231-90809111|cCREs491815</td>\n",
       "      <td>VPIA3</td>\n",
       "      <td>chrY:90808231-90809111</td>\n",
       "      <td>cCREs491815</td>\n",
       "      <td>chrY</td>\n",
       "      <td>90808231-90809111</td>\n",
       "      <td>90808231</td>\n",
       "      <td>90809111</td>\n",
       "    </tr>\n",
       "    <tr>\n",
       "      <th>9644322</th>\n",
       "      <td>chrY:90828505-90829417|cCREs491818</td>\n",
       "      <td>VPIA3</td>\n",
       "      <td>chrY:90828505-90829417</td>\n",
       "      <td>cCREs491818</td>\n",
       "      <td>chrY</td>\n",
       "      <td>90828505-90829417</td>\n",
       "      <td>90828505</td>\n",
       "      <td>90829417</td>\n",
       "    </tr>\n",
       "  </tbody>\n",
       "</table>\n",
       "<p>9644323 rows × 8 columns</p>\n",
       "</div>"
      ],
      "text/plain": [
       "                                      cCREs cluster              coordinate  \\\n",
       "0             chr1:3514481-3515234|cCREs108   CNUGA    chr1:3514481-3515234   \n",
       "1             chr1:3670396-3672765|cCREs142   CNUGA    chr1:3670396-3672765   \n",
       "2             chr1:4571276-4572407|cCREs226   CNUGA    chr1:4571276-4572407   \n",
       "3             chr1:4722514-4723338|cCREs242   CNUGA    chr1:4722514-4723338   \n",
       "4             chr1:4807341-4808403|cCREs258   CNUGA    chr1:4807341-4808403   \n",
       "...                                     ...     ...                     ...   \n",
       "9644318    chrY:1285546-1286912|cCREs491800   VPIA3    chrY:1285546-1286912   \n",
       "9644319  chrY:90740854-90745088|cCREs491807   VPIA3  chrY:90740854-90745088   \n",
       "9644320  chrY:90760961-90761754|cCREs491808   VPIA3  chrY:90760961-90761754   \n",
       "9644321  chrY:90808231-90809111|cCREs491815   VPIA3  chrY:90808231-90809111   \n",
       "9644322  chrY:90828505-90829417|cCREs491818   VPIA3  chrY:90828505-90829417   \n",
       "\n",
       "                name chromosome          start-end     start       end  \n",
       "0           cCREs108       chr1    3514481-3515234   3514481   3515234  \n",
       "1           cCREs142       chr1    3670396-3672765   3670396   3672765  \n",
       "2           cCREs226       chr1    4571276-4572407   4571276   4572407  \n",
       "3           cCREs242       chr1    4722514-4723338   4722514   4723338  \n",
       "4           cCREs258       chr1    4807341-4808403   4807341   4808403  \n",
       "...              ...        ...                ...       ...       ...  \n",
       "9644318  cCREs491800       chrY    1285546-1286912   1285546   1286912  \n",
       "9644319  cCREs491807       chrY  90740854-90745088  90740854  90745088  \n",
       "9644320  cCREs491808       chrY  90760961-90761754  90760961  90761754  \n",
       "9644321  cCREs491815       chrY  90808231-90809111  90808231  90809111  \n",
       "9644322  cCREs491818       chrY  90828505-90829417  90828505  90829417  \n",
       "\n",
       "[9644323 rows x 8 columns]"
      ]
     },
     "execution_count": 11,
     "metadata": {},
     "output_type": "execute_result"
    }
   ],
   "source": [
    "cCRE_df"
   ]
  },
  {
   "cell_type": "code",
   "execution_count": 12,
   "id": "6141989a-9e45-4a55-ab59-49b3771128d9",
   "metadata": {},
   "outputs": [],
   "source": [
    "# renaming to match terms found in supplementary table 3\n",
    "cCRE_df[\"cluster\"].replace({\"TL5GL1\": \"ITL5GL1\", \"TL5GL2\": \"ITL5GL2\", \"TL5GL3\": \"ITL5GL3\"}, inplace=True)"
   ]
  },
  {
   "cell_type": "code",
   "execution_count": 13,
   "id": "2cec71f2-b265-4f7d-b38e-3a08ba6a4522",
   "metadata": {},
   "outputs": [],
   "source": [
    "cluster_df = pd.read_excel('../data/regulatory_elements/Li_et_al_2021/Supplementary Table 3 - Cell cluster annotation.xlsx',engine='openpyxl')"
   ]
  },
  {
   "cell_type": "code",
   "execution_count": 14,
   "id": "64bb362f-795b-4584-8fc3-cd2b6b4bc1bb",
   "metadata": {},
   "outputs": [],
   "source": [
    "subtype_df = cluster_df[['Sub types','Major Type','Class']]"
   ]
  },
  {
   "cell_type": "code",
   "execution_count": 15,
   "id": "09680b8f-fbe8-4fb8-a546-3b4c60e67b2d",
   "metadata": {},
   "outputs": [
    {
     "data": {
      "text/plain": [
       "array(['NonN', 'GABA', 'Glutamate'], dtype=object)"
      ]
     },
     "execution_count": 15,
     "metadata": {},
     "output_type": "execute_result"
    }
   ],
   "source": [
    "subtype_df.Class.unique()"
   ]
  },
  {
   "cell_type": "code",
   "execution_count": 16,
   "id": "ac45a3ce-e3f2-47ff-b0c8-34229f9e441f",
   "metadata": {},
   "outputs": [],
   "source": [
    "cCRE_class_df=pd.merge(left=cCRE_df,right=subtype_df,left_on='cluster',right_on='Sub types',how='left')"
   ]
  },
  {
   "cell_type": "code",
   "execution_count": 17,
   "id": "15482dcf-a7d5-485e-b034-2ddca47a5044",
   "metadata": {},
   "outputs": [
    {
     "data": {
      "text/plain": [
       "Series([], Name: cluster, dtype: int64)"
      ]
     },
     "execution_count": 17,
     "metadata": {},
     "output_type": "execute_result"
    }
   ],
   "source": [
    "# Making sure that everything matches\n",
    "cCRE_class_df[cCRE_class_df['Class'].isna()].cluster.value_counts()"
   ]
  },
  {
   "cell_type": "code",
   "execution_count": 18,
   "id": "23074fd9-a50f-4e4b-98bf-49de6c835f11",
   "metadata": {},
   "outputs": [
    {
     "data": {
      "text/plain": [
       "array(['GABA', 'Glutamate', 'NonN'], dtype=object)"
      ]
     },
     "execution_count": 18,
     "metadata": {},
     "output_type": "execute_result"
    }
   ],
   "source": [
    "cCRE_class_df.Class.unique()"
   ]
  },
  {
   "cell_type": "code",
   "execution_count": 19,
   "id": "04699f97-1042-4716-9824-509f2e511a83",
   "metadata": {},
   "outputs": [],
   "source": [
    "GABA_df = cCRE_class_df[cCRE_class_df['Class']=='GABA']"
   ]
  },
  {
   "cell_type": "code",
   "execution_count": 20,
   "id": "57a2ac61-69f2-444c-a660-fec6e2f6443e",
   "metadata": {},
   "outputs": [],
   "source": [
    "GABA_cCREs = set(GABA_df.name.unique())"
   ]
  },
  {
   "cell_type": "code",
   "execution_count": 21,
   "id": "bb12e798-da60-4828-8185-caafda02d034",
   "metadata": {},
   "outputs": [],
   "source": [
    "Glutamate_df = cCRE_class_df[cCRE_class_df['Class']=='Glutamate']"
   ]
  },
  {
   "cell_type": "code",
   "execution_count": 22,
   "id": "b69b44db-af51-476a-b741-1a5a58448faa",
   "metadata": {},
   "outputs": [],
   "source": [
    "Glutamate_cCREs = set(Glutamate_df.name.unique())"
   ]
  },
  {
   "cell_type": "code",
   "execution_count": 23,
   "id": "7c29f2a7-0231-4140-a8f8-e1ddad0e8bdb",
   "metadata": {},
   "outputs": [],
   "source": [
    "NonN_df = cCRE_class_df[cCRE_class_df['Class']=='NonN']"
   ]
  },
  {
   "cell_type": "code",
   "execution_count": 24,
   "id": "31faec12-82e4-444a-8fb8-4e4f75de9949",
   "metadata": {},
   "outputs": [],
   "source": [
    "NonN_cCREs = set(NonN_df.name.unique())"
   ]
  },
  {
   "cell_type": "code",
   "execution_count": 25,
   "id": "d7136825-423a-41ea-b14c-3e71645a4bd7",
   "metadata": {},
   "outputs": [],
   "source": [
    "inner_N_cCREs = Glutamate_cCREs & GABA_cCREs # intersection of excitatory and inhibitory neuronal cCREs"
   ]
  },
  {
   "cell_type": "code",
   "execution_count": 26,
   "id": "e04c8efe-c89d-40f7-8145-0da8543d412f",
   "metadata": {},
   "outputs": [],
   "source": [
    "outer_N_cCREs = Glutamate_cCREs | GABA_cCREs # All cCREs related to neuron"
   ]
  },
  {
   "cell_type": "code",
   "execution_count": 27,
   "id": "445677e9-a391-4990-9671-ae5c3cc346fd",
   "metadata": {},
   "outputs": [
    {
     "data": {
      "text/plain": [
       "326907"
      ]
     },
     "execution_count": 27,
     "metadata": {},
     "output_type": "execute_result"
    }
   ],
   "source": [
    "len(Glutamate_cCREs)"
   ]
  },
  {
   "cell_type": "code",
   "execution_count": 28,
   "id": "b0a9654d-9684-4f63-b851-a3eeea47827b",
   "metadata": {},
   "outputs": [
    {
     "data": {
      "text/plain": [
       "365518"
      ]
     },
     "execution_count": 28,
     "metadata": {},
     "output_type": "execute_result"
    }
   ],
   "source": [
    "len(GABA_cCREs)"
   ]
  },
  {
   "cell_type": "code",
   "execution_count": 29,
   "id": "dfae1a68-3dd2-4ac7-8449-20acb21ead07",
   "metadata": {},
   "outputs": [
    {
     "data": {
      "text/plain": [
       "241853"
      ]
     },
     "execution_count": 29,
     "metadata": {},
     "output_type": "execute_result"
    }
   ],
   "source": [
    "len(inner_N_cCREs)"
   ]
  },
  {
   "cell_type": "code",
   "execution_count": 30,
   "id": "8e581d3a-3494-4b9e-82ac-59ce3c4154e0",
   "metadata": {},
   "outputs": [
    {
     "data": {
      "text/plain": [
       "450572"
      ]
     },
     "execution_count": 30,
     "metadata": {},
     "output_type": "execute_result"
    }
   ],
   "source": [
    "len(outer_N_cCREs)"
   ]
  },
  {
   "cell_type": "code",
   "execution_count": 31,
   "id": "37d7d037-89d2-4723-95d2-f619cdb2e2a7",
   "metadata": {},
   "outputs": [],
   "source": [
    "strict_NonN_cCREs = NonN_cCREs - outer_N_cCREs"
   ]
  },
  {
   "cell_type": "code",
   "execution_count": 32,
   "id": "a59e700f-422a-4941-8778-bfa089d0b775",
   "metadata": {},
   "outputs": [
    {
     "data": {
      "text/plain": [
       "41246"
      ]
     },
     "execution_count": 32,
     "metadata": {},
     "output_type": "execute_result"
    }
   ],
   "source": [
    "len(strict_NonN_cCREs)"
   ]
  },
  {
   "cell_type": "code",
   "execution_count": 33,
   "id": "85960b4a-ef3e-4a99-800c-8a25ca69a4e4",
   "metadata": {},
   "outputs": [
    {
     "data": {
      "text/plain": [
       "185154"
      ]
     },
     "execution_count": 33,
     "metadata": {},
     "output_type": "execute_result"
    }
   ],
   "source": [
    "len(NonN_cCREs)"
   ]
  },
  {
   "cell_type": "code",
   "execution_count": 34,
   "id": "ab3f70c2-0342-4dac-92bf-34da27a33f45",
   "metadata": {},
   "outputs": [],
   "source": [
    "strict_neuronal_cCREs = inner_N_cCREs - NonN_cCREs"
   ]
  },
  {
   "cell_type": "code",
   "execution_count": 35,
   "id": "ea06f895-8940-45e7-94d4-ebd039edd0f3",
   "metadata": {},
   "outputs": [
    {
     "data": {
      "text/plain": [
       "141610"
      ]
     },
     "execution_count": 35,
     "metadata": {},
     "output_type": "execute_result"
    }
   ],
   "source": [
    "len(strict_neuronal_cCREs)"
   ]
  },
  {
   "cell_type": "code",
   "execution_count": 50,
   "id": "65992c2c-eda9-4623-9ce4-6054d57752d7",
   "metadata": {},
   "outputs": [],
   "source": [
    "strict_neuronal_df = cCRE_class_df[cCRE_class_df['name'].isin(strict_neuronal_cCREs)]\n",
    "strict_neuronal_df.drop(['cluster','start-end','Sub types','Major Type','Class'],axis=1,inplace=True)\n",
    "strict_neuronal_df.drop_duplicates(inplace=True)\n",
    "strict_neuronal_df.drop(['cCREs','coordinate'],axis=1,inplace=True)\n",
    "strict_neuronal_df['length']=strict_neuronal_df['end'].astype(int)-strict_neuronal_df['start'].astype(int)"
   ]
  },
  {
   "cell_type": "code",
   "execution_count": 55,
   "id": "16538736-8447-4408-9466-3631b37cd16b",
   "metadata": {},
   "outputs": [
    {
     "name": "stderr",
     "output_type": "stream",
     "text": [
      "/opt/anaconda3/lib/python3.8/site-packages/pandas/core/frame.py:4110: SettingWithCopyWarning: \n",
      "A value is trying to be set on a copy of a slice from a DataFrame\n",
      "\n",
      "See the caveats in the documentation: http://pandas.pydata.org/pandas-docs/stable/user_guide/indexing.html#returning-a-view-versus-a-copy\n",
      "  return super().drop(\n",
      "<ipython-input-55-fb0b5de4922e>:3: SettingWithCopyWarning: \n",
      "A value is trying to be set on a copy of a slice from a DataFrame\n",
      "\n",
      "See the caveats in the documentation: http://pandas.pydata.org/pandas-docs/stable/user_guide/indexing.html#returning-a-view-versus-a-copy\n",
      "  strict_NonN_df.drop_duplicates(inplace=True)\n",
      "<ipython-input-55-fb0b5de4922e>:5: SettingWithCopyWarning: \n",
      "A value is trying to be set on a copy of a slice from a DataFrame.\n",
      "Try using .loc[row_indexer,col_indexer] = value instead\n",
      "\n",
      "See the caveats in the documentation: http://pandas.pydata.org/pandas-docs/stable/user_guide/indexing.html#returning-a-view-versus-a-copy\n",
      "  strict_NonN_df['length']=strict_NonN_df['end'].astype(int)-strict_NonN_df['start'].astype(int)\n"
     ]
    }
   ],
   "source": [
    "strict_NonN_df = cCRE_class_df[cCRE_class_df['name'].isin(strict_NonN_cCREs)]\n",
    "strict_NonN_df.drop(['cluster','start-end','Sub types','Major Type','Class'],axis=1,inplace=True)\n",
    "strict_NonN_df.drop_duplicates(inplace=True)\n",
    "strict_NonN_df.drop(['cCREs','coordinate'],axis=1,inplace=True)\n",
    "strict_NonN_df['length']=strict_NonN_df['end'].astype(int)-strict_NonN_df['start'].astype(int)"
   ]
  },
  {
   "cell_type": "code",
   "execution_count": 57,
   "id": "d6d7065a-242f-4720-8825-1466f92f56be",
   "metadata": {},
   "outputs": [
    {
     "data": {
      "text/plain": [
       "501"
      ]
     },
     "execution_count": 57,
     "metadata": {},
     "output_type": "execute_result"
    }
   ],
   "source": [
    "strict_NonN_df['length'].min()"
   ]
  },
  {
   "cell_type": "code",
   "execution_count": 58,
   "id": "90a6e81a-9d7f-4d8c-bb53-3a7091262498",
   "metadata": {},
   "outputs": [],
   "source": [
    "strict_NonN_df.to_csv('../results/cCREs/strict_NonN.tsv',sep='\\t',index=False)"
   ]
  },
  {
   "cell_type": "code",
   "execution_count": 59,
   "id": "3dc53d18-aa37-430c-bd63-5e6f8bdb9cd7",
   "metadata": {},
   "outputs": [],
   "source": [
    "strict_neuronal_df.to_csv('../results/cCREs/strict_neuronal.tsv',sep='\\t',index=False)"
   ]
  },
  {
   "cell_type": "code",
   "execution_count": null,
   "id": "545b4d19-aeb7-47ab-8aa2-8f6293aa46e2",
   "metadata": {},
   "outputs": [],
   "source": []
  }
 ],
 "metadata": {
  "kernelspec": {
   "display_name": "Python 3",
   "language": "python",
   "name": "python3"
  },
  "language_info": {
   "codemirror_mode": {
    "name": "ipython",
    "version": 3
   },
   "file_extension": ".py",
   "mimetype": "text/x-python",
   "name": "python",
   "nbconvert_exporter": "python",
   "pygments_lexer": "ipython3",
   "version": "3.8.11"
  }
 },
 "nbformat": 4,
 "nbformat_minor": 5
}
